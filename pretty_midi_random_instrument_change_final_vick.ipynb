{
 "cells": [
  {
   "cell_type": "code",
   "execution_count": 59,
   "metadata": {},
   "outputs": [],
   "source": [
    "#!pip install pretty-midi\n",
    "from pathlib import Path\n",
    "import os\n",
    "from pretty_midi import PrettyMIDI, program_to_instrument_name\n",
    "import random"
   ]
  },
  {
   "cell_type": "code",
   "execution_count": 60,
   "metadata": {},
   "outputs": [],
   "source": [
    "input_midi_path = \"../../vickram_exploration/music_training_database/Pop/ABBA_-_Dancing_Queen.mid\"\n",
    "output_midi_path = \"../../vickram_exploration/output_files\"\n"
   ]
  },
  {
   "cell_type": "code",
   "execution_count": 61,
   "metadata": {},
   "outputs": [],
   "source": [
    "# Get the releative path to the MIDI file\n",
    "input_path = Path(input_midi_path)"
   ]
  },
  {
   "cell_type": "markdown",
   "metadata": {},
   "source": [
    "Randomly generate a new instrument to change your modify your midi file. "
   ]
  },
  {
   "cell_type": "code",
   "execution_count": 62,
   "metadata": {},
   "outputs": [
    {
     "name": "stdout",
     "output_type": "stream",
     "text": [
      "Random instrument: FX 4 (atmosphere) (program 99)\n"
     ]
    }
   ],
   "source": [
    "# Generate a random instrument and display it to the user\n",
    "random_program = random.randint(0, 127)\n",
    "random_instrument = program_to_instrument_name(random_program)\n",
    "print(f\"Random instrument: {random_instrument} (program {random_program})\")"
   ]
  },
  {
   "cell_type": "code",
   "execution_count": 63,
   "metadata": {},
   "outputs": [],
   "source": [
    "midi_data = PrettyMIDI(input_midi_path)"
   ]
  },
  {
   "cell_type": "code",
   "execution_count": 66,
   "metadata": {},
   "outputs": [
    {
     "name": "stdout",
     "output_type": "stream",
     "text": [
      "Folder already exists: ../../vickram_exploration/output_files\n"
     ]
    }
   ],
   "source": [
    "# Display if the output path already exisit. If not, create the folder\n",
    "if not os.path.exists(output_midi_path):\n",
    "    os.makedirs(output_midi_path, exist_ok=False)\n",
    "    print(f\"Folder created: {output_midi_path}\")\n",
    "else:\n",
    "    print(f\"Folder already exists: {output_midi_path}\")"
   ]
  },
  {
   "cell_type": "code",
   "execution_count": 64,
   "metadata": {},
   "outputs": [],
   "source": [
    "# Looping throught midi database to change the instrument program for all instruments in the MIDI file\n",
    "for instrument in midi_data.instruments:\n",
    "    instrument.program = random_program"
   ]
  },
  {
   "cell_type": "markdown",
   "metadata": {},
   "source": [
    "# Ensure the output directory exists\n",
    "os.makedirs(output_midi_path, exist_ok=False)"
   ]
  },
  {
   "cell_type": "code",
   "execution_count": 65,
   "metadata": {},
   "outputs": [
    {
     "name": "stdout",
     "output_type": "stream",
     "text": [
      "ABBA_-_Dancing_Queen\n",
      "Electric Bass (pick)\n",
      "MIDI file instrument changed successfully. Saved to: ../../vickram_exploration/output_files ABBA_-_Dancing_Queen(instrument)_FX 4 (atmosphere).mid\n"
     ]
    }
   ],
   "source": [
    "# Create output filename\n",
    "input_filename = Path(input_midi_path).stem  # Get filename without extension\n",
    "# Setting the output filename\n",
    "output_filename = f\"{input_filename}(instrument)_{random_instrument}.mid\" # Filename with new instrument program\n",
    "# Saving the file name to the output directory\n",
    "output_filepath = os.path.join(output_midi_path, output_filename)\n",
    "\n",
    "# Write to output file to the output directory\n",
    "midi_data.write(output_filepath)\n",
    "# Print the output file path\n",
    "print(input_filename)\n",
    "print(new_instrument_name)\n",
    "# Show where the modified MIDI file is saved\n",
    "print(f\"MIDI file instrument changed successfully. Saved to: {output_midi_path} {output_filename}\")"
   ]
  }
 ],
 "metadata": {
  "kernelspec": {
   "display_name": "dev",
   "language": "python",
   "name": "dev"
  },
  "language_info": {
   "codemirror_mode": {
    "name": "ipython",
    "version": 3
   },
   "file_extension": ".py",
   "mimetype": "text/x-python",
   "name": "python",
   "nbconvert_exporter": "python",
   "pygments_lexer": "ipython3",
   "version": "3.10.14"
  }
 },
 "nbformat": 4,
 "nbformat_minor": 2
}
