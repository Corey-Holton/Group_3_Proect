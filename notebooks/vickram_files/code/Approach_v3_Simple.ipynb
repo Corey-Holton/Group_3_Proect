{
  "nbformat": 4,
  "nbformat_minor": 0,
  "metadata": {
    "colab": {
      "provenance": [],
      "authorship_tag": "ABX9TyOXQWlx9p4a1nCE+CBrqrSn",
      "include_colab_link": true
    },
    "kernelspec": {
      "name": "python3",
      "display_name": "Python 3"
    },
    "language_info": {
      "name": "python"
    }
  },
  "cells": [
    {
      "cell_type": "markdown",
      "metadata": {
        "id": "view-in-github",
        "colab_type": "text"
      },
      "source": [
        "<a href=\"https://colab.research.google.com/github/Corey-Holton/Group_3_Project/blob/main/Approach_v3_Simple.ipynb\" target=\"_parent\"><img src=\"https://colab.research.google.com/assets/colab-badge.svg\" alt=\"Open In Colab\"/></a>"
      ]
    },
    {
      "cell_type": "markdown",
      "source": [
        "Step 1 - Set Environment and dependencies.\n",
        "Step 2 - Import(access) a MIDI file on Google Colab.\n",
        "Step 3 - Provide user a selection of possible instrument changes.\n",
        "Step 4 - Change the MIDI to the selected instrument.\n",
        "Step 5 - Provide the user with a new MIDI including the name of the instrument they selected in the new file name."
      ],
      "metadata": {
        "id": "Xjqb2vWNW0cc"
      }
    },
    {
      "cell_type": "code",
      "source": [
        "!pip install mido pretty_midi"
      ],
      "metadata": {
        "colab": {
          "base_uri": "https://localhost:8080/"
        },
        "id": "vB4M0k7uXter",
        "outputId": "0e335d26-7813-4d4d-d0d6-4aa80e6766d7"
      },
      "execution_count": 1,
      "outputs": [
        {
          "output_type": "stream",
          "name": "stdout",
          "text": [
            "Collecting mido\n",
            "  Downloading mido-1.3.3-py3-none-any.whl.metadata (6.4 kB)\n",
            "Collecting pretty_midi\n",
            "  Downloading pretty_midi-0.2.10.tar.gz (5.6 MB)\n",
            "\u001b[2K     \u001b[90m━━━━━━━━━━━━━━━━━━━━━━━━━━━━━━━━━━━━━━━━\u001b[0m \u001b[32m5.6/5.6 MB\u001b[0m \u001b[31m24.9 MB/s\u001b[0m eta \u001b[36m0:00:00\u001b[0m\n",
            "\u001b[?25h  Preparing metadata (setup.py) ... \u001b[?25l\u001b[?25hdone\n",
            "Requirement already satisfied: packaging in /usr/local/lib/python3.10/dist-packages (from mido) (24.2)\n",
            "Requirement already satisfied: numpy>=1.7.0 in /usr/local/lib/python3.10/dist-packages (from pretty_midi) (1.26.4)\n",
            "Requirement already satisfied: six in /usr/local/lib/python3.10/dist-packages (from pretty_midi) (1.17.0)\n",
            "Downloading mido-1.3.3-py3-none-any.whl (54 kB)\n",
            "\u001b[2K   \u001b[90m━━━━━━━━━━━━━━━━━━━━━━━━━━━━━━━━━━━━━━━━\u001b[0m \u001b[32m54.6/54.6 kB\u001b[0m \u001b[31m5.0 MB/s\u001b[0m eta \u001b[36m0:00:00\u001b[0m\n",
            "\u001b[?25hBuilding wheels for collected packages: pretty_midi\n",
            "  Building wheel for pretty_midi (setup.py) ... \u001b[?25l\u001b[?25hdone\n",
            "  Created wheel for pretty_midi: filename=pretty_midi-0.2.10-py3-none-any.whl size=5592287 sha256=ca50ff1a480620e67fa105831fb46ea68e5276e56c5b4575344c00adaf6b23f6\n",
            "  Stored in directory: /root/.cache/pip/wheels/cd/a5/30/7b8b7f58709f5150f67f98fde4b891ebf0be9ef07a8af49f25\n",
            "Successfully built pretty_midi\n",
            "Installing collected packages: mido, pretty_midi\n",
            "Successfully installed mido-1.3.3 pretty_midi-0.2.10\n"
          ]
        }
      ]
    },
    {
      "cell_type": "code",
      "execution_count": 2,
      "metadata": {
        "id": "AUNXVlKRWxBG"
      },
      "outputs": [],
      "source": [
        "import pretty_midi\n",
        "import os"
      ]
    },
    {
      "cell_type": "code",
      "source": [
        "# Mount Google Drive\n",
        "from google.colab import drive\n",
        "drive.mount('/content/drive')"
      ],
      "metadata": {
        "colab": {
          "base_uri": "https://localhost:8080/"
        },
        "id": "Ys0WyBaSXb4Z",
        "outputId": "50394b48-8331-4e23-ef98-697ecb3606b9"
      },
      "execution_count": 3,
      "outputs": [
        {
          "output_type": "stream",
          "name": "stdout",
          "text": [
            "Mounted at /content/drive\n"
          ]
        }
      ]
    },
    {
      "cell_type": "code",
      "source": [
        "# Define the input directory\n",
        "input_midi_dir = '/content/drive/MyDrive/MIDI_Dataset/Single_File_Pop'"
      ],
      "metadata": {
        "id": "VJ4k1IHtXiO7"
      },
      "execution_count": 4,
      "outputs": []
    },
    {
      "cell_type": "code",
      "source": [
        "# Choose a specific MIDI file from the directory - replace 'your_midi_file.mid' with the actual file name\n",
        "input_midi_file = os.path.join(input_midi_dir, 'ABBA_-_Dancing_Queen(single_edition).mid')"
      ],
      "metadata": {
        "id": "nQ9evspaZWSe"
      },
      "execution_count": 5,
      "outputs": []
    },
    {
      "cell_type": "code",
      "source": [
        "midi_data = pretty_midi.PrettyMIDI(input_midi_file)"
      ],
      "metadata": {
        "id": "FhmgAuBTXx-Y"
      },
      "execution_count": 6,
      "outputs": []
    },
    {
      "cell_type": "code",
      "source": [
        "# Instruments\n",
        "print(\"Select an instrument:\")\n",
        "print(\"1. Acoustic Grand Piano\")\n",
        "print(\"2. Acoustic Guitar (nylon)\")\n",
        "print(\"3. Violin\")\n",
        "print(\"4. Flute\")\n",
        "print(\"5. Electric Bass (finger)\")\n",
        "print(\"6. Drum Kit\")"
      ],
      "metadata": {
        "colab": {
          "base_uri": "https://localhost:8080/"
        },
        "id": "w-28J2A1Z5AH",
        "outputId": "33ed844f-9673-436b-8879-a1aa5e18c6d6"
      },
      "execution_count": 7,
      "outputs": [
        {
          "output_type": "stream",
          "name": "stdout",
          "text": [
            "Select an instrument:\n",
            "1. Acoustic Grand Piano\n",
            "2. Acoustic Guitar (nylon)\n",
            "3. Violin\n",
            "4. Flute\n",
            "5. Electric Bass (finger)\n",
            "6. Drum Kit\n"
          ]
        }
      ]
    },
    {
      "cell_type": "code",
      "source": [
        "# User provides instrument choice\n",
        "\n",
        "instrument_selection = int(input(\"Enter the number associated with the instrument: \"))\n",
        "\n",
        "if instrument_selection == 1:\n",
        "    target_instrument = \"Acoustic Grand Piano\"\n",
        "elif instrument_selection == 2:\n",
        "    target_instrument = \"Acoustic Guitar (nylon)\"\n",
        "elif instrument_selection == 3:\n",
        "    target_instrument = \"Violin\"\n",
        "elif instrument_selection == 4:\n",
        "    target_instrument = \"Flute\"\n",
        "elif instrument_selection == 5:\n",
        "    target_instrument = \"Electric Bass (finger)\"\n",
        "elif instrument_selection == 6:\n",
        "    target_instrument = \"Drum Kit\"\n",
        "\n",
        "print(f\"You selected: {target_instrument}\")"
      ],
      "metadata": {
        "colab": {
          "base_uri": "https://localhost:8080/"
        },
        "id": "M5CqzGX6hJrS",
        "outputId": "6762d2e1-1d5c-4460-ba69-85ab32d1dbb0"
      },
      "execution_count": 8,
      "outputs": [
        {
          "output_type": "stream",
          "name": "stdout",
          "text": [
            "Enter the number associated with the instrument: 1\n",
            "You selected: Acoustic Grand Piano\n"
          ]
        }
      ]
    },
    {
      "cell_type": "code",
      "source": [
        "# Get the program number for the target instrument\n",
        "target_instrument = pretty_midi.instrument_name_to_program(target_instrument)\n",
        "print(target_instrument)\n",
        "\n"
      ],
      "metadata": {
        "colab": {
          "base_uri": "https://localhost:8080/"
        },
        "id": "pEnlMDUfhr-g",
        "outputId": "242c43e1-51ba-47db-9d62-a1a45c54b288"
      },
      "execution_count": 9,
      "outputs": [
        {
          "output_type": "stream",
          "name": "stdout",
          "text": [
            "0\n"
          ]
        }
      ]
    },
    {
      "cell_type": "code",
      "source": [
        "# Taking user instrument selection and converting midi file\n",
        "for instrument in midi_data.instruments:\n",
        "    if instrument.name == target_instrument:\n",
        "        instrument.program = target_instrument\n",
        "        break"
      ],
      "metadata": {
        "id": "QlKxG_5Dt9hv"
      },
      "execution_count": 10,
      "outputs": []
    },
    {
      "cell_type": "code",
      "source": [
        "# Creating new MIDI file after instrument change\n",
        "output_midi_file = os.path.join(input_midi_dir, f'ABBA_-_Dancing_Queen(single_edition)_{target_instrument}.mid')\n"
      ],
      "metadata": {
        "id": "lfuh0TMKslo_"
      },
      "execution_count": 11,
      "outputs": []
    },
    {
      "cell_type": "code",
      "source": [
        "# Saving new MIDI file\n",
        "midi_data.write(output_midi_file)"
      ],
      "metadata": {
        "id": "Ak7ql-LFuUgD"
      },
      "execution_count": 12,
      "outputs": []
    }
  ]
}