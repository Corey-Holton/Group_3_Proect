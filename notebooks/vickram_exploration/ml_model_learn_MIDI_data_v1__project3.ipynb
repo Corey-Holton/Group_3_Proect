{
  "nbformat": 4,
  "nbformat_minor": 0,
  "metadata": {
    "colab": {
      "provenance": [],
      "authorship_tag": "ABX9TyPRLUTqXzv0kAQn6qKANd3p",
      "include_colab_link": true
    },
    "kernelspec": {
      "name": "python3",
      "display_name": "Python 3"
    },
    "language_info": {
      "name": "python"
    }
  },
  "cells": [
    {
      "cell_type": "markdown",
      "metadata": {
        "id": "view-in-github",
        "colab_type": "text"
      },
      "source": [
        "<a href=\"https://colab.research.google.com/github/Corey-Holton/Group_3_Project/blob/main/ML_Model_Learn_MIDI_data_v1__Project3.ipynb\" target=\"_parent\"><img src=\"https://colab.research.google.com/assets/colab-badge.svg\" alt=\"Open In Colab\"/></a>"
      ]
    },
    {
      "cell_type": "code",
      "execution_count": null,
      "metadata": {
        "colab": {
          "base_uri": "https://localhost:8080/"
        },
        "id": "Y54-EG4OWh5q",
        "outputId": "a8d5242a-aee8-4c70-e8a9-98b0ef5038bb"
      },
      "outputs": [
        {
          "output_type": "stream",
          "name": "stdout",
          "text": [
            "Requirement already satisfied: music21 in /usr/local/lib/python3.10/dist-packages (9.3.0)\n",
            "Collecting mido\n",
            "  Downloading mido-1.3.3-py3-none-any.whl.metadata (6.4 kB)\n",
            "Requirement already satisfied: chardet in /usr/local/lib/python3.10/dist-packages (from music21) (5.2.0)\n",
            "Requirement already satisfied: joblib in /usr/local/lib/python3.10/dist-packages (from music21) (1.4.2)\n",
            "Requirement already satisfied: jsonpickle in /usr/local/lib/python3.10/dist-packages (from music21) (4.0.0)\n",
            "Requirement already satisfied: matplotlib in /usr/local/lib/python3.10/dist-packages (from music21) (3.8.0)\n",
            "Requirement already satisfied: more-itertools in /usr/local/lib/python3.10/dist-packages (from music21) (10.5.0)\n",
            "Requirement already satisfied: numpy in /usr/local/lib/python3.10/dist-packages (from music21) (1.26.4)\n",
            "Requirement already satisfied: requests in /usr/local/lib/python3.10/dist-packages (from music21) (2.32.3)\n",
            "Requirement already satisfied: webcolors>=1.5 in /usr/local/lib/python3.10/dist-packages (from music21) (24.11.1)\n",
            "Requirement already satisfied: packaging in /usr/local/lib/python3.10/dist-packages (from mido) (24.2)\n",
            "Requirement already satisfied: contourpy>=1.0.1 in /usr/local/lib/python3.10/dist-packages (from matplotlib->music21) (1.3.1)\n",
            "Requirement already satisfied: cycler>=0.10 in /usr/local/lib/python3.10/dist-packages (from matplotlib->music21) (0.12.1)\n",
            "Requirement already satisfied: fonttools>=4.22.0 in /usr/local/lib/python3.10/dist-packages (from matplotlib->music21) (4.55.3)\n",
            "Requirement already satisfied: kiwisolver>=1.0.1 in /usr/local/lib/python3.10/dist-packages (from matplotlib->music21) (1.4.7)\n",
            "Requirement already satisfied: pillow>=6.2.0 in /usr/local/lib/python3.10/dist-packages (from matplotlib->music21) (11.0.0)\n",
            "Requirement already satisfied: pyparsing>=2.3.1 in /usr/local/lib/python3.10/dist-packages (from matplotlib->music21) (3.2.0)\n",
            "Requirement already satisfied: python-dateutil>=2.7 in /usr/local/lib/python3.10/dist-packages (from matplotlib->music21) (2.8.2)\n",
            "Requirement already satisfied: charset-normalizer<4,>=2 in /usr/local/lib/python3.10/dist-packages (from requests->music21) (3.4.0)\n",
            "Requirement already satisfied: idna<4,>=2.5 in /usr/local/lib/python3.10/dist-packages (from requests->music21) (3.10)\n",
            "Requirement already satisfied: urllib3<3,>=1.21.1 in /usr/local/lib/python3.10/dist-packages (from requests->music21) (2.2.3)\n",
            "Requirement already satisfied: certifi>=2017.4.17 in /usr/local/lib/python3.10/dist-packages (from requests->music21) (2024.8.30)\n",
            "Requirement already satisfied: six>=1.5 in /usr/local/lib/python3.10/dist-packages (from python-dateutil>=2.7->matplotlib->music21) (1.17.0)\n",
            "Downloading mido-1.3.3-py3-none-any.whl (54 kB)\n",
            "\u001b[2K   \u001b[90m━━━━━━━━━━━━━━━━━━━━━━━━━━━━━━━━━━━━━━━━\u001b[0m \u001b[32m54.6/54.6 kB\u001b[0m \u001b[31m3.4 MB/s\u001b[0m eta \u001b[36m0:00:00\u001b[0m\n",
            "\u001b[?25hInstalling collected packages: mido\n",
            "Successfully installed mido-1.3.3\n"
          ]
        }
      ],
      "source": [
        "!pip install music21 mido"
      ]
    },
    {
      "cell_type": "code",
      "source": [
        "# Importing Libraries for working with MIDI files\n",
        "import music21\n",
        "from music21 import converter, stream, instrument, note, chord\n",
        "import mido\n",
        "import numpy as np\n",
        "import os"
      ],
      "metadata": {
        "id": "Ac7Rvo2gWrQX"
      },
      "execution_count": null,
      "outputs": []
    },
    {
      "cell_type": "code",
      "source": [
        "# Mount Google Drive\n",
        "from google.colab import drive\n",
        "drive.mount('/content/drive')"
      ],
      "metadata": {
        "colab": {
          "base_uri": "https://localhost:8080/"
        },
        "id": "RtB_EjwUud4c",
        "outputId": "bea8aeb5-e0de-4c70-f6cd-ad29a9debb53"
      },
      "execution_count": null,
      "outputs": [
        {
          "output_type": "stream",
          "name": "stdout",
          "text": [
            "Mounted at /content/drive\n"
          ]
        }
      ]
    },
    {
      "cell_type": "code",
      "source": [
        "# Specify the File Path\n",
        "base_path = '/content/drive/MyDrive/MIDI_Dataset/music_training_database'\n",
        "midi_files = []"
      ],
      "metadata": {
        "id": "hj5XaQ6vu7Th"
      },
      "execution_count": null,
      "outputs": []
    },
    {
      "cell_type": "code",
      "source": [
        "print(base_path)"
      ],
      "metadata": {
        "colab": {
          "base_uri": "https://localhost:8080/"
        },
        "id": "Ga6IET8QyL0q",
        "outputId": "deb1a342-7cd5-4bb1-c974-755bfeae3616"
      },
      "execution_count": null,
      "outputs": [
        {
          "output_type": "stream",
          "name": "stdout",
          "text": [
            "/content/drive/MyDrive/MIDI_Dataset/music_training_database\n"
          ]
        }
      ]
    },
    {
      "cell_type": "code",
      "source": [
        "# Locating all MIDI files within a specified folder on Google Drive\n",
        "# Then parse the files with music21\n",
        "\n",
        "for genre_folder in os.listdir(base_path):\n",
        "  genre_path = os.path.join(base_path, genre_folder)\n",
        "  if os.path.isdir(genre_path): # check if it's a directory\n",
        "    for filename in os.listdir(genre_path):\n",
        "      if filename.endswith(\".mid\") or filename.endswith(\".midi\"):\n",
        "        filepath = os.path.join(genre_path, filename)\n",
        "\n",
        "        print(f\"Parsing {filepath}\")\n",
        "        try:\n",
        "            midi_file = converter.parse(filepath)\n",
        "            midi_files.append(midi_file)  # Add parsed data to the list\n",
        "            print(f\"Successfully parsed: {filepath}\")\n",
        "        except Exception as e:\n",
        "            print(f\"Error parsing {filename}: {e}\")\n",
        "\n",
        "\n",
        "# Now you have a list 'midi_files' containing parsed MIDI data"
      ],
      "metadata": {
        "id": "RCk8PZlMIfJ4",
        "colab": {
          "base_uri": "https://localhost:8080/"
        },
        "outputId": "b02fd6cf-1b1b-4d4c-c281-f1ea70373971"
      },
      "execution_count": null,
      "outputs": [
        {
          "output_type": "stream",
          "name": "stdout",
          "text": [
            "Parsing /content/drive/MyDrive/MIDI_Dataset/music_training_database/Rock/Al_Stewart_-_Time_Passages.mid\n",
            "Successfully parsed: /content/drive/MyDrive/MIDI_Dataset/music_training_database/Rock/Al_Stewart_-_Time_Passages.mid\n",
            "Parsing /content/drive/MyDrive/MIDI_Dataset/music_training_database/Rock/Boomtown_Rats_-_I_Dont_Like_Mondays.mid\n",
            "Successfully parsed: /content/drive/MyDrive/MIDI_Dataset/music_training_database/Rock/Boomtown_Rats_-_I_Dont_Like_Mondays.mid\n",
            "Parsing /content/drive/MyDrive/MIDI_Dataset/music_training_database/Rock/Bread_-_Everything_I_Own.mid\n",
            "Successfully parsed: /content/drive/MyDrive/MIDI_Dataset/music_training_database/Rock/Bread_-_Everything_I_Own.mid\n",
            "Parsing /content/drive/MyDrive/MIDI_Dataset/music_training_database/Rock/Dave_Mason_-_We_Just_Disagree.mid\n",
            "Successfully parsed: /content/drive/MyDrive/MIDI_Dataset/music_training_database/Rock/Dave_Mason_-_We_Just_Disagree.mid\n",
            "Parsing /content/drive/MyDrive/MIDI_Dataset/music_training_database/Rock/The_Hollies_-_The_Air_That_I_Breathe.mid\n",
            "Successfully parsed: /content/drive/MyDrive/MIDI_Dataset/music_training_database/Rock/The_Hollies_-_The_Air_That_I_Breathe.mid\n",
            "Parsing /content/drive/MyDrive/MIDI_Dataset/music_training_database/Classical/Arcadelt_Jacob_-_La_Ingratitud.mid\n",
            "Successfully parsed: /content/drive/MyDrive/MIDI_Dataset/music_training_database/Classical/Arcadelt_Jacob_-_La_Ingratitud.mid\n",
            "Parsing /content/drive/MyDrive/MIDI_Dataset/music_training_database/Classical/Johann_Pachelbel_-_Canon_in_E_flat_(Easy_Version).mid\n",
            "Successfully parsed: /content/drive/MyDrive/MIDI_Dataset/music_training_database/Classical/Johann_Pachelbel_-_Canon_in_E_flat_(Easy_Version).mid\n",
            "Parsing /content/drive/MyDrive/MIDI_Dataset/music_training_database/Classical/Nicolas_Drweski_-_Fugue.mid\n",
            "Successfully parsed: /content/drive/MyDrive/MIDI_Dataset/music_training_database/Classical/Nicolas_Drweski_-_Fugue.mid\n",
            "Parsing /content/drive/MyDrive/MIDI_Dataset/music_training_database/Classical/Elmer_Bernstein_-_The_Ten_Commandments_midi_1956_-_theme.mid\n",
            "Successfully parsed: /content/drive/MyDrive/MIDI_Dataset/music_training_database/Classical/Elmer_Bernstein_-_The_Ten_Commandments_midi_1956_-_theme.mid\n",
            "Parsing /content/drive/MyDrive/MIDI_Dataset/music_training_database/Classical/Hatzidakis_Manos_-_Imittos.mid\n"
          ]
        },
        {
          "output_type": "stream",
          "name": "stderr",
          "text": [
            "/usr/local/lib/python3.10/dist-packages/music21/midi/translate.py:874: TranslateWarning: Unable to determine instrument from <music21.midi.MidiEvent SEQUENCE_TRACK_NAME, track=0, channel=None, data=b'\\xd5\\xcc\\xc7\\xd4\\xd4\\xcf\\xd3'>; getting generic Instrument\n",
            "  warnings.warn(\n"
          ]
        },
        {
          "output_type": "stream",
          "name": "stdout",
          "text": [
            "Successfully parsed: /content/drive/MyDrive/MIDI_Dataset/music_training_database/Classical/Hatzidakis_Manos_-_Imittos.mid\n",
            "Parsing /content/drive/MyDrive/MIDI_Dataset/music_training_database/Jazz/Cameron_Lee_Simpson_-_My_Family_Foxtrot.mid\n",
            "Successfully parsed: /content/drive/MyDrive/MIDI_Dataset/music_training_database/Jazz/Cameron_Lee_Simpson_-_My_Family_Foxtrot.mid\n",
            "Parsing /content/drive/MyDrive/MIDI_Dataset/music_training_database/Jazz/VeggieTales_-_Take_Me_To_VeggieTown.mid\n",
            "Successfully parsed: /content/drive/MyDrive/MIDI_Dataset/music_training_database/Jazz/VeggieTales_-_Take_Me_To_VeggieTown.mid\n",
            "Parsing /content/drive/MyDrive/MIDI_Dataset/music_training_database/Jazz/Cameron_Lee_Simpson_-_Imperfection_Rag.mid\n",
            "Successfully parsed: /content/drive/MyDrive/MIDI_Dataset/music_training_database/Jazz/Cameron_Lee_Simpson_-_Imperfection_Rag.mid\n",
            "Parsing /content/drive/MyDrive/MIDI_Dataset/music_training_database/Jazz/Cameron_Lee_Simpson_-_Watermelon_Rag.mid\n",
            "Successfully parsed: /content/drive/MyDrive/MIDI_Dataset/music_training_database/Jazz/Cameron_Lee_Simpson_-_Watermelon_Rag.mid\n",
            "Parsing /content/drive/MyDrive/MIDI_Dataset/music_training_database/Jazz/Cameron_Lee_Simpson_-_Zapmodik.mid\n",
            "Successfully parsed: /content/drive/MyDrive/MIDI_Dataset/music_training_database/Jazz/Cameron_Lee_Simpson_-_Zapmodik.mid\n",
            "Parsing /content/drive/MyDrive/MIDI_Dataset/music_training_database/Pop/5ive_-_Slam_Dunk_Da_Funk.mid\n",
            "Successfully parsed: /content/drive/MyDrive/MIDI_Dataset/music_training_database/Pop/5ive_-_Slam_Dunk_Da_Funk.mid\n",
            "Parsing /content/drive/MyDrive/MIDI_Dataset/music_training_database/Pop/5ive_-_Until_The_Time_Is_Through.mid\n",
            "Successfully parsed: /content/drive/MyDrive/MIDI_Dataset/music_training_database/Pop/5ive_-_Until_The_Time_Is_Through.mid\n",
            "Parsing /content/drive/MyDrive/MIDI_Dataset/music_training_database/Pop/702_-_Where_My_Girls_At.mid\n"
          ]
        },
        {
          "output_type": "stream",
          "name": "stderr",
          "text": [
            "/usr/local/lib/python3.10/dist-packages/music21/midi/translate.py:874: TranslateWarning: Unable to determine instrument from <music21.midi.MidiEvent SEQUENCE_TRACK_NAME, track=0, channel=None, data=b'By Nokio-Copyrighted \\xae'>; getting generic Instrument\n",
            "  warnings.warn(\n"
          ]
        },
        {
          "output_type": "stream",
          "name": "stdout",
          "text": [
            "Successfully parsed: /content/drive/MyDrive/MIDI_Dataset/music_training_database/Pop/702_-_Where_My_Girls_At.mid\n",
            "Parsing /content/drive/MyDrive/MIDI_Dataset/music_training_database/Pop/ABBA_-_Dancing_Queen.mid\n",
            "Successfully parsed: /content/drive/MyDrive/MIDI_Dataset/music_training_database/Pop/ABBA_-_Dancing_Queen.mid\n",
            "Parsing /content/drive/MyDrive/MIDI_Dataset/music_training_database/Pop/Billy_Joel_-_Big_Shot.mid\n",
            "Successfully parsed: /content/drive/MyDrive/MIDI_Dataset/music_training_database/Pop/Billy_Joel_-_Big_Shot.mid\n",
            "Parsing /content/drive/MyDrive/MIDI_Dataset/music_training_database/Country/Bluegrass_-_Red_River_Valley.mid\n",
            "Successfully parsed: /content/drive/MyDrive/MIDI_Dataset/music_training_database/Country/Bluegrass_-_Red_River_Valley.mid\n",
            "Parsing /content/drive/MyDrive/MIDI_Dataset/music_training_database/Country/Patsy_Cline_-_Sweet_Dreams.mid\n",
            "Successfully parsed: /content/drive/MyDrive/MIDI_Dataset/music_training_database/Country/Patsy_Cline_-_Sweet_Dreams.mid\n",
            "Parsing /content/drive/MyDrive/MIDI_Dataset/music_training_database/Country/Willie_Nelson_-_Always_On_My_Mind.mid\n",
            "Successfully parsed: /content/drive/MyDrive/MIDI_Dataset/music_training_database/Country/Willie_Nelson_-_Always_On_My_Mind.mid\n",
            "Parsing /content/drive/MyDrive/MIDI_Dataset/music_training_database/Country/Dave_Dudley_-_Six_Days_on_the_Road.mid\n",
            "Successfully parsed: /content/drive/MyDrive/MIDI_Dataset/music_training_database/Country/Dave_Dudley_-_Six_Days_on_the_Road.mid\n",
            "Parsing /content/drive/MyDrive/MIDI_Dataset/music_training_database/Country/Garth_Brooks_-_Friends_In_Low_Places.mid\n",
            "Successfully parsed: /content/drive/MyDrive/MIDI_Dataset/music_training_database/Country/Garth_Brooks_-_Friends_In_Low_Places.mid\n"
          ]
        }
      ]
    },
    {
      "cell_type": "code",
      "source": [
        "print(f\"Total MIDI files found: {len(midi_files)}\")"
      ],
      "metadata": {
        "colab": {
          "base_uri": "https://localhost:8080/"
        },
        "id": "6OLnyePRiVRf",
        "outputId": "b242feed-dd8d-46b8-c16d-207b9e6f273a"
      },
      "execution_count": null,
      "outputs": [
        {
          "output_type": "stream",
          "name": "stdout",
          "text": [
            "Total MIDI files found: 25\n"
          ]
        }
      ]
    },
    {
      "cell_type": "code",
      "source": [
        "# Feature Extraction\n",
        "\n",
        "def extract_features(midi_file):\n",
        "    notes = []\n",
        "    for element in midi_file.flat.notesAndRests:\n",
        "        if isinstance(element, note.Note):\n",
        "            notes.append([element.pitch.midi, element.duration.quarterLength])\n",
        "        elif isinstance(element, chord.Chord):\n",
        "             # Represent chords with a fixed-size list, e.g., always using 3 pitches\n",
        "            # If a chord has fewer than 3 pitches, pad it with zeros\n",
        "            chord_pitches = [note.pitch.midi for note in element.notes]\n",
        "            chord_pitches = chord_pitches + [0] * (3 - len(chord_pitches))  # Pad with zeros\n",
        "            notes.append(chord_pitches + [element.duration.quarterLength])  # Add duration\n",
        "    return notes\n",
        "\n",
        "\n",
        "\n",
        "# # Extract features from all MIDI files\n",
        "# features = []\n",
        "# for midi_file in midi_files:\n",
        "#   features.append(extract_features(midi_file))\n",
        "#   # Now you have a list 'features' containing extracted features from all MIDI files\n"
      ],
      "metadata": {
        "id": "uwlhPzykHOVD"
      },
      "execution_count": null,
      "outputs": []
    },
    {
      "cell_type": "code",
      "source": [
        "def extract_features(midi_file):\n",
        "    notes = []\n",
        "    for element in midi_file.flat.notesAndRests:\n",
        "        if isinstance(element, note.Note):\n",
        "            notes.append([element.pitch.midi, element.duration.quarterLength, 0, 0, 0]) # 5 features: pitch, duration, 3 empty slots for chords\n",
        "        elif isinstance(element, chord.Chord):\n",
        "            chord_pitches = [note.pitch.midi for note in element.notes]\n",
        "            # Limit to 3 pitches, pad if less, truncate if more\n",
        "            chord_pitches = chord_pitches[:3] + [0] * (3 - len(chord_pitches))\n",
        "            notes.append(chord_pitches + [element.duration.quarterLength, 0])  # 5 features: 3 pitches, duration, 1 empty slot\n",
        "    return notes\n",
        "\n",
        "def create_sequences(features, sequence_length):\n",
        "    sequences = []\n",
        "    for feature_set in features:\n",
        "        for i in range(len(feature_set) - sequence_length):\n",
        "            sequence = feature_set[i:i + sequence_length]\n",
        "            # Pad the sequence if it's shorter than the desired length\n",
        "            if len(sequence) < sequence_length:\n",
        "                sequence = np.pad(sequence, ((0, sequence_length - len(sequence)), (0, 0)), 'constant')\n",
        "            sequences.append(sequence)\n",
        "    return sequences\n",
        "\n",
        "# Create sequences\n",
        "sequences = create_sequences(features, sequence_length=100)\n",
        "\n",
        "# Convert sequences to NumPy array\n",
        "X = np.array(sequences)\n",
        "\n"
      ],
      "metadata": {
        "colab": {
          "base_uri": "https://localhost:8080/",
          "height": 258
        },
        "id": "uz5oJIHt9Aeq",
        "outputId": "00db739d-7d6c-411c-9a97-f1f69ff41fc7"
      },
      "execution_count": null,
      "outputs": [
        {
          "output_type": "error",
          "ename": "ValueError",
          "evalue": "setting an array element with a sequence. The requested array has an inhomogeneous shape after 2 dimensions. The detected shape was (31081, 100) + inhomogeneous part.",
          "traceback": [
            "\u001b[0;31m---------------------------------------------------------------------------\u001b[0m",
            "\u001b[0;31mValueError\u001b[0m                                Traceback (most recent call last)",
            "\u001b[0;32m<ipython-input-20-90c948ef710e>\u001b[0m in \u001b[0;36m<cell line: 28>\u001b[0;34m()\u001b[0m\n\u001b[1;32m     26\u001b[0m \u001b[0;34m\u001b[0m\u001b[0m\n\u001b[1;32m     27\u001b[0m \u001b[0;31m# Convert sequences to NumPy array\u001b[0m\u001b[0;34m\u001b[0m\u001b[0;34m\u001b[0m\u001b[0m\n\u001b[0;32m---> 28\u001b[0;31m \u001b[0mX\u001b[0m \u001b[0;34m=\u001b[0m \u001b[0mnp\u001b[0m\u001b[0;34m.\u001b[0m\u001b[0marray\u001b[0m\u001b[0;34m(\u001b[0m\u001b[0msequences\u001b[0m\u001b[0;34m)\u001b[0m\u001b[0;34m\u001b[0m\u001b[0;34m\u001b[0m\u001b[0m\n\u001b[0m\u001b[1;32m     29\u001b[0m \u001b[0;34m\u001b[0m\u001b[0m\n",
            "\u001b[0;31mValueError\u001b[0m: setting an array element with a sequence. The requested array has an inhomogeneous shape after 2 dimensions. The detected shape was (31081, 100) + inhomogeneous part."
          ]
        }
      ]
    },
    {
      "cell_type": "markdown",
      "source": [
        "**Below this Line the code is out of sync with new code above. **"
      ],
      "metadata": {
        "id": "J8X-CLcphyqI"
      }
    },
    {
      "cell_type": "code",
      "source": [
        "# Print number of features\n",
        "print(f\"Number of features sets: {len(features)}\")\n",
        "if features: # Check if features is not empty\n",
        "  print(f\"Number of notes in the first set: {len(features[0])}\")\n",
        "  print(f\"Number of notes in the second set: {features[1][0:10]}\") # Print first 10 elements\n",
        "else:\n",
        "  print(\"Features list is empty.\")"
      ],
      "metadata": {
        "colab": {
          "base_uri": "https://localhost:8080/"
        },
        "id": "UJHMYGgng1WQ",
        "outputId": "570a4624-75b9-43a4-b43f-bd280292e005"
      },
      "execution_count": null,
      "outputs": [
        {
          "output_type": "stream",
          "name": "stdout",
          "text": [
            "Number of features sets: 0\n",
            "Features list is empty.\n"
          ]
        }
      ]
    },
    {
      "cell_type": "code",
      "source": [
        "# Creating Numerical Sequence\n",
        "def create_sequences(features, sequence_length):\n",
        "    sequences = []\n",
        "    for feature_set in features:\n",
        "        for i in range(len(feature_set) - sequence_length):\n",
        "            sequence = feature_set[i:i+sequence_length]\n",
        "            sequences.append(sequence)\n",
        "    return sequences\n",
        "\n",
        "# Create sequences\n",
        "sequences = create_sequences(features, sequence_length=100)\n",
        "\n",
        "# Convert sequences to NumPy array\n",
        "X = np.array(sequences)\n",
        "\n",
        "# Normalize the data (optional)\n",
        "# ... (normalization code)"
      ],
      "metadata": {
        "id": "zgDlMUUTSUvS"
      },
      "execution_count": null,
      "outputs": []
    },
    {
      "cell_type": "code",
      "source": [
        "import tensorflow as tf\n",
        "from tensorflow.keras.models import Sequential\n",
        "from tensorflow.keras.layers import LSTM, Dense, Dropout"
      ],
      "metadata": {
        "id": "FdMLOnIVfOWg"
      },
      "execution_count": null,
      "outputs": []
    },
    {
      "cell_type": "code",
      "source": [
        "# Reshape data fro LSTM input\n",
        "X = np.reshape(X, (X.shape[0], X.shape[1],1))\n",
        "\n",
        "# Create the model\n",
        "model = Sequential()\n",
        "model.add(LSTM(512, input_shape=(X.shape[1], X.shape[2])))\n",
        "model.add(Dropout(0.3))\n",
        "model.add(Dense(256))\n",
        "model.add(Dropout(0.3))\n",
        "model.add(Dense(X.shape[2]))\n",
        "model.compile(loss='mean_squared_error', optimizer='adam')\n",
        "\n"
      ],
      "metadata": {
        "colab": {
          "base_uri": "https://localhost:8080/",
          "height": 241
        },
        "id": "t6MEQzKpfdsK",
        "outputId": "3dfc2a6f-e922-40d8-e41f-40469abd1e76"
      },
      "execution_count": null,
      "outputs": [
        {
          "output_type": "error",
          "ename": "IndexError",
          "evalue": "tuple index out of range",
          "traceback": [
            "\u001b[0;31m---------------------------------------------------------------------------\u001b[0m",
            "\u001b[0;31mIndexError\u001b[0m                                Traceback (most recent call last)",
            "\u001b[0;32m<ipython-input-13-889f2b6e4e91>\u001b[0m in \u001b[0;36m<cell line: 2>\u001b[0;34m()\u001b[0m\n\u001b[1;32m      1\u001b[0m \u001b[0;31m# Reshape data fro LSTM input\u001b[0m\u001b[0;34m\u001b[0m\u001b[0;34m\u001b[0m\u001b[0m\n\u001b[0;32m----> 2\u001b[0;31m \u001b[0mX\u001b[0m \u001b[0;34m=\u001b[0m \u001b[0mnp\u001b[0m\u001b[0;34m.\u001b[0m\u001b[0mreshape\u001b[0m\u001b[0;34m(\u001b[0m\u001b[0mX\u001b[0m\u001b[0;34m,\u001b[0m \u001b[0;34m(\u001b[0m\u001b[0mX\u001b[0m\u001b[0;34m.\u001b[0m\u001b[0mshape\u001b[0m\u001b[0;34m[\u001b[0m\u001b[0;36m0\u001b[0m\u001b[0;34m]\u001b[0m\u001b[0;34m,\u001b[0m \u001b[0mX\u001b[0m\u001b[0;34m.\u001b[0m\u001b[0mshape\u001b[0m\u001b[0;34m[\u001b[0m\u001b[0;36m1\u001b[0m\u001b[0;34m]\u001b[0m\u001b[0;34m,\u001b[0m\u001b[0;36m1\u001b[0m\u001b[0;34m)\u001b[0m\u001b[0;34m)\u001b[0m\u001b[0;34m\u001b[0m\u001b[0;34m\u001b[0m\u001b[0m\n\u001b[0m\u001b[1;32m      3\u001b[0m \u001b[0;34m\u001b[0m\u001b[0m\n\u001b[1;32m      4\u001b[0m \u001b[0;31m# Create the model\u001b[0m\u001b[0;34m\u001b[0m\u001b[0;34m\u001b[0m\u001b[0m\n\u001b[1;32m      5\u001b[0m \u001b[0mmodel\u001b[0m \u001b[0;34m=\u001b[0m \u001b[0mSequential\u001b[0m\u001b[0;34m(\u001b[0m\u001b[0;34m)\u001b[0m\u001b[0;34m\u001b[0m\u001b[0;34m\u001b[0m\u001b[0m\n",
            "\u001b[0;31mIndexError\u001b[0m: tuple index out of range"
          ]
        }
      ]
    }
  ]
}