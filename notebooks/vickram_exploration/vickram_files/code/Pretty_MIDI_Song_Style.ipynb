{
 "cells": [
  {
   "cell_type": "code",
   "execution_count": 34,
   "metadata": {},
   "outputs": [],
   "source": [
    "#!pip install pretty-midi\n",
    "from pathlib import Path\n",
    "import os\n",
    "from pretty_midi import PrettyMIDI, program_to_instrument_name"
   ]
  },
  {
   "cell_type": "code",
   "execution_count": 35,
   "metadata": {},
   "outputs": [],
   "source": [
    "input_midi_path = \"../../vickram_exploration/music_training_database/Pop/ABBA_-_Dancing_Queen.mid\"\n",
    "output_midi_path = \"../../vickram_exploration/output_files\"\n"
   ]
  },
  {
   "cell_type": "code",
   "execution_count": 36,
   "metadata": {},
   "outputs": [],
   "source": [
    "# Use pathlib for robust path manipulation\n",
    "input_path = Path(input_midi_path)\n"
   ]
  },
  {
   "cell_type": "code",
   "execution_count": 37,
   "metadata": {},
   "outputs": [
    {
     "name": "stdout",
     "output_type": "stream",
     "text": [
      "New instrument: Acoustic Grand Piano\n"
     ]
    }
   ],
   "source": [
    "# Get the desired instrument program (e.g., Piano: 0)\n",
    "new_instrument = int(input(\"Enter the new instrument program (e.g., Piano: 0): \"))\n",
    "new_instrument_name = program_to_instrument_name(new_instrument)    \n",
    "print(f\"New instrument: {new_instrument_name}\")"
   ]
  },
  {
   "cell_type": "code",
   "execution_count": 42,
   "metadata": {},
   "outputs": [],
   "source": [
    "def change_midi_instrument(input_midi_path, output_midi_path, new_instrument):\n",
    "    \"\"\"\n",
    "    Changes the instrument of a MIDI file.\n",
    "\n",
    "    Args:\n",
    "        input_midi_path (str): Path to the input MIDI file.\n",
    "        output_midi_path (str): Path to the output MIDI file.\n",
    "        new_instrument (int): Pretty MIDI Instrument number.\n",
    "    \"\"\"\n",
    "\n",
    "# Get the absolute path to the current directory (repository root)\n",
    "    midi_data = PrettyMIDI(input_midi_path)\n",
    "# Change the instrument program for all instruments in the MIDI file\n",
    "    for instrument in midi_data.instruments:\n",
    "        instrument.program = new_instrument\n",
    "\n",
    "    # Use pathlib for robust path manipulation\n",
    "    input_path = Path(input_midi_path)\n",
    "    output_filename = f\"{input_path.stem}(single_edition)_{new_instrument_name}.mid\"\n",
    "    output_path = output_midi_path / output_filename  # Use / for path joining with Path objects\n",
    "    midi_data.write(str(output_path)) # write needs a string\n",
    "# Write the modified MIDI file to the output path\n",
    "    midi_data.write(os.path.join(input_midi_path, f'ABBA_-_Dancing_Queen(single_edition)_{new_instrument_name}.mid'))\n",
    "    print(f\"MIDI file instrument changed successfully. Saved to: {output_path}\")"
   ]
  },
  {
   "cell_type": "code",
   "execution_count": 43,
   "metadata": {},
   "outputs": [],
   "source": [
    "# Ensure the output directory exists\n",
    "os.makedirs(output_midi_path, exist_ok=True)"
   ]
  },
  {
   "cell_type": "code",
   "execution_count": 44,
   "metadata": {},
   "outputs": [
    {
     "name": "stdout",
     "output_type": "stream",
     "text": [
      "MIDI file instrument changed successfully. Saved to: ../../vickram_exploration/output_files\n"
     ]
    }
   ],
   "source": [
    "# Show where the modified MIDI file is saved\n",
    "print(f\"MIDI file instrument changed successfully. Saved to: {output_midi_path}\")"
   ]
  },
  {
   "cell_type": "markdown",
   "metadata": {},
   "source": [
    "# This section of code allows you to display the midi instruments and the instrument number. \n",
    "def display_instruments():\n",
    "    \"\"\" Displays available instruments with their program number. \"\"\"\n",
    "    print(\"Available instruments:\")\n",
    "    for program_number in range(128): # MIDI program numbers range from 0 to 127\n",
    "        instrument_name = program_to_instrument_name(program_number)\n",
    "        print(f\"{program_number}: {instrument_name}\")\n",
    "\n",
    "# Comment Display the instrument list to the user** display_instruments()"
   ]
  },
  {
   "cell_type": "markdown",
   "metadata": {},
   "source": [
    "# Get the desired instrument program number with error handling\n",
    "while True:\n",
    "    try:\n",
    "        new_instrument = int(input(\"Enter the desired instrument program number: \"))\n",
    "        if 0 <= new_instrument <= 127:\n",
    "            break\n",
    "        else:\n",
    "            print(\"Invalid instrument number. Please enter a number between 0 and 127.\")\n",
    "    except ValueError:\n",
    "        print(\"Invalid input. Please enter a valid integer.\")\n",
    "\n",
    "# Change the instrument\n",
    "change_midi_instrument(input_midi_path, output_midi_path, new_instrument)"
   ]
  }
 ],
 "metadata": {
  "kernelspec": {
   "display_name": "dev",
   "language": "python",
   "name": "dev"
  },
  "language_info": {
   "codemirror_mode": {
    "name": "ipython",
    "version": 3
   },
   "file_extension": ".py",
   "mimetype": "text/x-python",
   "name": "python",
   "nbconvert_exporter": "python",
   "pygments_lexer": "ipython3",
   "version": "3.10.14"
  }
 },
 "nbformat": 4,
 "nbformat_minor": 2
}
