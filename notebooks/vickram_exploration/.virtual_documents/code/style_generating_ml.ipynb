pip install pretty_midi numpy matplotlib torch



import pretty_midi
import numpy as np 
import torch
import matplotlib.pyplot as plt


# input and output file locations. 
input_midi_path = "../../vickram_exploration/music_training_database/Pop/ABBA_-_Dancing_Queen.mid"
output_midi_path = "../../vickram_exploration/output_files"


input_midi_data = pretty_midi.PrettyMIDI(input_midi_path)


# Inspecting Instruments used in the midi files. 
print("Instruments in MIDI file:", len(input_midi_data.instruments))
for i, instrument in enumerate(input_midi_data.instruments):
    print(f"Instrument {i}: {pretty_midi.program_to_instrument_name(instrument.program)}")


# Extracting Notes, Velocities, and Timing 


# Extracting Notes 
notes = []
for instrument in input_midi_data.instruments:
    for note in instrument.notes:
        # Notes: [start_time, end_time, pitch, velocity]
        notes.append([note.start, note.end, note.pitch, note.velocity])
        
# Convert the list to a numpy array 
note = np.array(notes)

# Inspect the first few notes
print("First few notes:", notes[:5])



# Normalize velocities to [0, 1]

max_velocity = 127 # Standard MIDI velocity range
note[:, 3] = note[:, 3] / max_velocity # Max velocity in MIDI is 127


#Verification verlocity normalization
print(note[:5]) 


# Convert to Event Sequence (Note-On, Note-Off) 
events = [] 

for note in notes: 
    # Note-On event (start time, 'Note-On', pitch, velocity)
    note_on = [note[0], 'Note-On', int(note[2]), note[3]]
    events.append(note_on)
    # Note-Off event (end time, 'Note-Off', pitch)
    note_off =  [note[1], 'Note-Off', int(note[2]),(0.0)]
    # Add a placeholder for velocity (if necessary) 
    events.append(note_off)

# Chekcing for inconsistent element length
for i, event in enumerate(events): 
    if len(event) != 4:
        print(f"Warrning: Inconsistent element found: {event}")
        events[i] = [event[0], event[2], 0.0]
# Sort events by time
events.sort(key=lambda x: x[0])

# Convert to numpy array for easier handling 
events = np.array(events)

# Verify the frist frew events 
print("First few events:", events[5])


# Visualizing the data using matplotlib

def plot_piano_roll(events, start_time=0, end_time=None, pitch_range=(21, 108)):
    # Create a time range for visualization (using normalized start/end times)
    if end_time is None:
        end_time = max(events[:, 0]) # Use the last note's end time as the endpoint

    time_steps = np.linspace(start_time, end_time, num500)
    piano_roll = np.zeros((len(time_steps), pitch_range[1] - pitch_range[0]))

    for event in events:
        event_time = event[0]
        if event[1] == 'Note-On': # Note-On event 
            pitch_idx = int(event[2]) - pitch_range[0]
            start_idx = np.argmax(time_steps >= event_time)
            piano_roll[start_idx:, pitch_idx] = event[3] # Mark note's velocity from start to end
        elif event[1] == 'Note-Off': # Note-Off event
            pitch_idx = np.argmax(time_steps >= event_time)
            piano_roll[:end_idx, pitch_idx] = 0 # End note 

    # Plot the piano roll
    plt.figure(figsize=(12, 8))
    plt.imshow(piano_roll.T, origin='lower', aspect='auto', cmap='Greys', extent=[start_time, end_time, pitch_range[0], pitch_range[1]])
    plt.ylable('MIDI Pitch')
    plt.xlable('Time (s)')
    plt.title("Piano Roll Visualization")
    plt.show()

# Plot the first 10 seconds of the MIDI events
plot_piano_roll(events, start_time=0, end_time=10)








