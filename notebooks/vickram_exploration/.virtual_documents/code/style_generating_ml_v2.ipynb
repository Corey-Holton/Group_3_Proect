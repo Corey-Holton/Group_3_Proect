import pretty_midi
import numpy as np
import matplotlib.pyplot as plt


def load_midi(file_path):
    """Load MIDI file using PrettyMIDI."""
    try:
        midi_data = pretty_midi.PrettyMIDI(file_path)
        print(f"Loaded MIDI file: {file_path}")
        return midi_data
    except Exception as e:
        print(f"Error loading MIDI file: {e}")
        return None


def extract_notes(midi_data):
    """Extract notes, velocities, and timing from a MIDI file."""
    notes = []
    for instrument in midi_data.instruments:
        for note in instrument.notes:
            # Notes: [start_time, end_time, pitch, velocity]
            notes.append([note.start, note.end, note.pitch, note.velocity])
    return np.array(notes)


def normalize_notes(notes):
    """Normalize note velocities and timing."""
    max_velocity = 127  # Standard MIDI velocity range
    notes[:, 3] = notes[:, 3] / max_velocity  # Normalize velocity to [0, 1]
    return notes


def convert_to_events(notes):
    """Convert notes to a sequence of events (Note-On, Note-Off)."""
    events = []
    for note in notes:
        # Note-On event (start time, 'Note-On', pitch, velocity)
        events.append([note[0], 'Note-On', int(note[2]), note[3]])
        # Note-Off event (end time, 'Note-Off', pitch, velocity=0.0)
        events.append([note[1], 'Note-Off', int(note[2]), 0.0])
    # Sort events by time
    events.sort(key=lambda x: (x[0], x[1]))
    return np.array(events)


def visualize_notes(notes):
    """Visualize pitch vs. time and velocity vs. time."""
    plt.figure(figsize=(12, 6))
    plt.subplot(2, 1, 1)
    plt.scatter(notes[:, 0], notes[:, 2], c=notes[:, 3], cmap='viridis', s=10)
    plt.colorbar(label='Velocity')
    plt.title('Pitch vs. Time')
    plt.xlabel('Time (s)')
    plt.ylabel('Pitch')

    plt.subplot(2, 1, 2)
    plt.hist(notes[:, 3], bins=20, color='blue', alpha=0.7)
    plt.title('Velocity Distribution')
    plt.xlabel('Normalized Velocity')
    plt.ylabel('Count')

    plt.tight_layout()
    plt.show()


# Main Execution
input_midi_path = "../../vickram_exploration/music_training_database/Pop/ABBA_-_Dancing_Queen.mid"

# Step 1: Load MIDI file
midi_data = load_midi(input_midi_path)
if midi_data:
    # Step 2: Extract and preprocess notes
    notes = extract_notes(midi_data)
    notes = normalize_notes(notes)

    # Step 3: Convert to events
    events = convert_to_events(notes)

    # Step 4: Visualize data
    visualize_notes(notes)

    # Inspect data
    print("First few notes (normalized):", notes[:5])
    print("First few events:", events[:5])

