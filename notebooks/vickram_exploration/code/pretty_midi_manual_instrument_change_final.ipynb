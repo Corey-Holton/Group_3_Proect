{
 "cells": [
  {
   "cell_type": "code",
   "execution_count": 1,
   "metadata": {},
   "outputs": [],
   "source": [
    "#!pip install pretty-midi\n",
    "from pathlib import Path\n",
    "import os\n",
    "from pretty_midi import PrettyMIDI, program_to_instrument_name"
   ]
  },
  {
   "cell_type": "code",
   "execution_count": 2,
   "metadata": {},
   "outputs": [],
   "source": [
    "input_midi_path = \"../../vickram_exploration/music_training_database/Pop/ABBA_-_Dancing_Queen.mid\"\n",
    "output_midi_path = \"../../vickram_exploration/output_files\"\n"
   ]
  },
  {
   "cell_type": "code",
   "execution_count": 3,
   "metadata": {},
   "outputs": [],
   "source": [
    "# Get the releative path to the MIDI file\n",
    "input_path = Path(input_midi_path)"
   ]
  },
  {
   "cell_type": "markdown",
   "metadata": {},
   "source": [
    "Here is a list off all the instruments available to select from. "
   ]
  },
  {
   "cell_type": "code",
   "execution_count": 9,
   "metadata": {},
   "outputs": [
    {
     "name": "stdout",
     "output_type": "stream",
     "text": [
      "Available instruments:\n",
      "0: Acoustic Grand Piano\n",
      "1: Bright Acoustic Piano\n",
      "2: Electric Grand Piano\n",
      "3: Honky-tonk Piano\n",
      "4: Electric Piano 1\n",
      "5: Electric Piano 2\n",
      "6: Harpsichord\n",
      "7: Clavinet\n",
      "8: Celesta\n",
      "9: Glockenspiel\n",
      "10: Music Box\n",
      "11: Vibraphone\n",
      "12: Marimba\n",
      "13: Xylophone\n",
      "14: Tubular Bells\n",
      "15: Dulcimer\n",
      "16: Drawbar Organ\n",
      "17: Percussive Organ\n",
      "18: Rock Organ\n",
      "19: Church Organ\n",
      "20: Reed Organ\n",
      "21: Accordion\n",
      "22: Harmonica\n",
      "23: Tango Accordion\n",
      "24: Acoustic Guitar (nylon)\n",
      "25: Acoustic Guitar (steel)\n",
      "26: Electric Guitar (jazz)\n",
      "27: Electric Guitar (clean)\n",
      "28: Electric Guitar (muted)\n",
      "29: Overdriven Guitar\n",
      "30: Distortion Guitar\n",
      "31: Guitar Harmonics\n",
      "32: Acoustic Bass\n",
      "33: Electric Bass (finger)\n",
      "34: Electric Bass (pick)\n",
      "35: Fretless Bass\n",
      "36: Slap Bass 1\n",
      "37: Slap Bass 2\n",
      "38: Synth Bass 1\n",
      "39: Synth Bass 2\n",
      "40: Violin\n",
      "41: Viola\n",
      "42: Cello\n",
      "43: Contrabass\n",
      "44: Tremolo Strings\n",
      "45: Pizzicato Strings\n",
      "46: Orchestral Harp\n",
      "47: Timpani\n",
      "48: String Ensemble 1\n",
      "49: String Ensemble 2\n",
      "50: Synth Strings 1\n",
      "51: Synth Strings 2\n",
      "52: Choir Aahs\n",
      "53: Voice Oohs\n",
      "54: Synth Choir\n",
      "55: Orchestra Hit\n",
      "56: Trumpet\n",
      "57: Trombone\n",
      "58: Tuba\n",
      "59: Muted Trumpet\n",
      "60: French Horn\n",
      "61: Brass Section\n",
      "62: Synth Brass 1\n",
      "63: Synth Brass 2\n",
      "64: Soprano Sax\n",
      "65: Alto Sax\n",
      "66: Tenor Sax\n",
      "67: Baritone Sax\n",
      "68: Oboe\n",
      "69: English Horn\n",
      "70: Bassoon\n",
      "71: Clarinet\n",
      "72: Piccolo\n",
      "73: Flute\n",
      "74: Recorder\n",
      "75: Pan Flute\n",
      "76: Blown bottle\n",
      "77: Shakuhachi\n",
      "78: Whistle\n",
      "79: Ocarina\n",
      "80: Lead 1 (square)\n",
      "81: Lead 2 (sawtooth)\n",
      "82: Lead 3 (calliope)\n",
      "83: Lead 4 chiff\n",
      "84: Lead 5 (charang)\n",
      "85: Lead 6 (voice)\n",
      "86: Lead 7 (fifths)\n",
      "87: Lead 8 (bass + lead)\n",
      "88: Pad 1 (new age)\n",
      "89: Pad 2 (warm)\n",
      "90: Pad 3 (polysynth)\n",
      "91: Pad 4 (choir)\n",
      "92: Pad 5 (bowed)\n",
      "93: Pad 6 (metallic)\n",
      "94: Pad 7 (halo)\n",
      "95: Pad 8 (sweep)\n",
      "96: FX 1 (rain)\n",
      "97: FX 2 (soundtrack)\n",
      "98: FX 3 (crystal)\n",
      "99: FX 4 (atmosphere)\n",
      "100: FX 5 (brightness)\n",
      "101: FX 6 (goblins)\n",
      "102: FX 7 (echoes)\n",
      "103: FX 8 (sci-fi)\n",
      "104: Sitar\n",
      "105: Banjo\n",
      "106: Shamisen\n",
      "107: Koto\n",
      "108: Kalimba\n",
      "109: Bagpipe\n",
      "110: Fiddle\n",
      "111: Shanai\n",
      "112: Tinkle Bell\n",
      "113: Agogo\n",
      "114: Steel Drums\n",
      "115: Woodblock\n",
      "116: Taiko Drum\n",
      "117: Melodic Tom\n",
      "118: Synth Drum\n",
      "119: Reverse Cymbal\n",
      "120: Guitar Fret Noise\n",
      "121: Breath Noise\n",
      "122: Seashore\n",
      "123: Bird Tweet\n",
      "124: Telephone Ring\n",
      "125: Helicopter\n",
      "126: Applause\n",
      "127: Gunshot\n"
     ]
    }
   ],
   "source": [
    "# This section of code allows you to display the midi instruments and the instrument number. \n",
    "def display_instruments():\n",
    "    \"\"\" Displays available instruments with their program number. \"\"\"\n",
    "    print(\"Available instruments:\")\n",
    "    for program_number in range(128): # MIDI program numbers range from 0 to 127\n",
    "        instrument_name = program_to_instrument_name(program_number)\n",
    "        print(f\"{program_number}: {instrument_name}\")\n",
    "\n",
    "# Comment Display the instrument list to the user** \n",
    "display_instruments()"
   ]
  },
  {
   "cell_type": "code",
   "execution_count": 10,
   "metadata": {},
   "outputs": [
    {
     "name": "stdout",
     "output_type": "stream",
     "text": [
      "New instrument: Dulcimer\n"
     ]
    }
   ],
   "source": [
    "# Get the desired instrument program (e.g., Piano: 0)\n",
    "new_instrument = int(input(\"Enter the new instrument program (e.g., Piano: 0): \"))\n",
    "new_instrument_name = program_to_instrument_name(new_instrument)    \n",
    "print(f\"New instrument: {new_instrument_name}\")"
   ]
  },
  {
   "cell_type": "code",
   "execution_count": 5,
   "metadata": {},
   "outputs": [],
   "source": [
    "midi_data = PrettyMIDI(input_midi_path)"
   ]
  },
  {
   "cell_type": "code",
   "execution_count": 6,
   "metadata": {},
   "outputs": [],
   "source": [
    "# Looping throught midi database to change the instrument program for all instruments in the MIDI file\n",
    "for instrument in midi_data.instruments:\n",
    "    instrument.program = new_instrument"
   ]
  },
  {
   "cell_type": "code",
   "execution_count": null,
   "metadata": {},
   "outputs": [],
   "source": [
    "# Display if the output path already exisit. If not, create the folder\n",
    "if not os.path.exists(output_midi_path):\n",
    "    os.makedirs(output_midi_path, exist_ok=False)\n",
    "    print(f\"Folder created: {output_midi_path}\")\n",
    "else:\n",
    "    print(f\"Folder already exists: {output_midi_path}\")"
   ]
  },
  {
   "cell_type": "markdown",
   "metadata": {},
   "source": [
    "Save the new midi file in a desiginated folder and update the file name to include the new instrument.  "
   ]
  },
  {
   "cell_type": "code",
   "execution_count": 8,
   "metadata": {},
   "outputs": [
    {
     "name": "stdout",
     "output_type": "stream",
     "text": [
      "ABBA_-_Dancing_Queen\n",
      "Tubular Bells\n",
      "MIDI file instrument changed successfully. Saved to: ../../vickram_exploration/output_files ABBA_-_Dancing_Queen(instrument)_Tubular Bells.mid\n"
     ]
    }
   ],
   "source": [
    "# Create output filename\n",
    "input_filename = Path(input_midi_path).stem  # Get filename without extension\n",
    "# Setting the output filename\n",
    "output_filename = f\"{input_filename}(instrument)_{new_instrument_name}.mid\" # Filename with new instrument program\n",
    "# Saving the file name to the output directory\n",
    "output_filepath = os.path.join(output_midi_path, output_filename)\n",
    "\n",
    "# Write to output file to the output directory\n",
    "midi_data.write(output_filepath)\n",
    "# Print the output file path\n",
    "print(input_filename)\n",
    "print(new_instrument_name)\n",
    "# Show where the modified MIDI file is saved\n",
    "print(f\"MIDI file instrument changed successfully. Saved to: {output_midi_path} {output_filename}\")"
   ]
  }
 ],
 "metadata": {
  "kernelspec": {
   "display_name": "dev",
   "language": "python",
   "name": "dev"
  },
  "language_info": {
   "codemirror_mode": {
    "name": "ipython",
    "version": 3
   },
   "file_extension": ".py",
   "mimetype": "text/x-python",
   "name": "python",
   "nbconvert_exporter": "python",
   "pygments_lexer": "ipython3",
   "version": "3.10.14"
  }
 },
 "nbformat": 4,
 "nbformat_minor": 2
}
