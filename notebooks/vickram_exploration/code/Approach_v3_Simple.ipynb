{
 "cells": [
  {
   "cell_type": "markdown",
   "metadata": {
    "colab_type": "text",
    "id": "view-in-github"
   },
   "source": [
    "<a href=\"https://colab.research.google.com/github/Corey-Holton/Group_3_Project/blob/main/Approach_v3_Simple.ipynb\" target=\"_parent\"><img src=\"https://colab.research.google.com/assets/colab-badge.svg\" alt=\"Open In Colab\"/></a>"
   ]
  },
  {
   "cell_type": "markdown",
   "metadata": {
    "id": "Xjqb2vWNW0cc"
   },
   "source": [
    "Step 1 - Set Environment and dependencies.\n",
    "Step 2 - Import(access) a MIDI file on Google Colab.\n",
    "Step 3 - Provide user a selection of possible instrument changes.\n",
    "Step 4 - Change the MIDI to the selected instrument.\n",
    "Step 5 - Provide the user with a new MIDI including the name of the instrument they selected in the new file name."
   ]
  },
  {
   "cell_type": "code",
   "execution_count": 1,
   "metadata": {
    "colab": {
     "base_uri": "https://localhost:8080/"
    },
    "id": "vB4M0k7uXter",
    "outputId": "0e335d26-7813-4d4d-d0d6-4aa80e6766d7"
   },
   "outputs": [
    {
     "name": "stdout",
     "output_type": "stream",
     "text": [
      "Collecting mido\n",
      "  Using cached mido-1.3.3-py3-none-any.whl.metadata (6.4 kB)\n",
      "Collecting pretty_midi\n",
      "  Using cached pretty_midi-0.2.10.tar.gz (5.6 MB)\n",
      "  Preparing metadata (setup.py) ... \u001b[?25ldone\n",
      "\u001b[?25hRequirement already satisfied: packaging in /Users/montredavis/.local/lib/python3.12/site-packages (from mido) (24.2)\n",
      "Requirement already satisfied: numpy>=1.7.0 in /opt/anaconda3/lib/python3.12/site-packages (from pretty_midi) (1.26.4)\n",
      "Requirement already satisfied: six in /Users/montredavis/.local/lib/python3.12/site-packages (from pretty_midi) (1.16.0)\n",
      "Using cached mido-1.3.3-py3-none-any.whl (54 kB)\n",
      "Building wheels for collected packages: pretty_midi\n",
      "  Building wheel for pretty_midi (setup.py) ... \u001b[?25ldone\n",
      "\u001b[?25h  Created wheel for pretty_midi: filename=pretty_midi-0.2.10-py3-none-any.whl size=5592288 sha256=4539c5534320bacbfe92dcda94b9526882b2300842e5d13df02fe801a2ac1332\n",
      "  Stored in directory: /Users/montredavis/Library/Caches/pip/wheels/a4/f9/9e/08350c27e386558df0ae234e28a8facd145ba45506ddd1b989\n",
      "Successfully built pretty_midi\n",
      "Installing collected packages: mido, pretty_midi\n",
      "Successfully installed mido-1.3.3 pretty_midi-0.2.10\n"
     ]
    }
   ],
   "source": [
    "!pip install mido pretty_midi"
   ]
  },
  {
   "cell_type": "code",
   "execution_count": 2,
   "metadata": {
    "id": "AUNXVlKRWxBG"
   },
   "outputs": [],
   "source": [
    "import pretty_midi\n",
    "import os"
   ]
  },
  {
   "cell_type": "code",
   "execution_count": null,
   "metadata": {
    "colab": {
     "base_uri": "https://localhost:8080/"
    },
    "id": "Ys0WyBaSXb4Z",
    "outputId": "50394b48-8331-4e23-ef98-697ecb3606b9"
   },
   "outputs": [
    {
     "ename": "ModuleNotFoundError",
     "evalue": "No module named 'google.colab'",
     "output_type": "error",
     "traceback": [
      "\u001b[0;31m---------------------------------------------------------------------------\u001b[0m",
      "\u001b[0;31mModuleNotFoundError\u001b[0m                       Traceback (most recent call last)",
      "Cell \u001b[0;32mIn[3], line 2\u001b[0m\n\u001b[1;32m      1\u001b[0m \u001b[38;5;66;03m# Mount Google Drive\u001b[39;00m\n\u001b[0;32m----> 2\u001b[0m \u001b[38;5;28;01mfrom\u001b[39;00m \u001b[38;5;21;01mgoogle\u001b[39;00m\u001b[38;5;21;01m.\u001b[39;00m\u001b[38;5;21;01mcolab\u001b[39;00m \u001b[38;5;28;01mimport\u001b[39;00m drive\n\u001b[1;32m      3\u001b[0m drive\u001b[38;5;241m.\u001b[39mmount(\u001b[38;5;124m'\u001b[39m\u001b[38;5;124m/content/drive\u001b[39m\u001b[38;5;124m'\u001b[39m)\n",
      "\u001b[0;31mModuleNotFoundError\u001b[0m: No module named 'google.colab'"
     ]
    }
   ],
   "source": [
    "# Mount Google Drive\n",
    "# from google.colab import drive\n",
    "# drive.mount('/content/drive')"
   ]
  },
  {
   "cell_type": "code",
   "execution_count": null,
   "metadata": {
    "id": "VJ4k1IHtXiO7"
   },
   "outputs": [],
   "source": [
    "# Define the input directory\n",
    "# input_midi_dir = '/content/drive/MyDrive/MIDI_Dataset/Single_File_Pop'\n",
    "input_midi_dir_local = '/content/drive/MyDrive/MIDI_Dataset/Single_File_Pop'"
   ]
  },
  {
   "cell_type": "code",
   "execution_count": null,
   "metadata": {
    "id": "nQ9evspaZWSe"
   },
   "outputs": [],
   "source": [
    "# Choose a specific MIDI file from the directory - replace 'your_midi_file.mid' with the actual file name\n",
    "input_midi_file = os.path.join(input_midi_dir, 'ABBA_-_Dancing_Queen(single_edition).mid')"
   ]
  },
  {
   "cell_type": "code",
   "execution_count": null,
   "metadata": {
    "id": "FhmgAuBTXx-Y"
   },
   "outputs": [],
   "source": [
    "midi_data = pretty_midi.PrettyMIDI(input_midi_file)"
   ]
  },
  {
   "cell_type": "code",
   "execution_count": null,
   "metadata": {
    "colab": {
     "base_uri": "https://localhost:8080/"
    },
    "id": "w-28J2A1Z5AH",
    "outputId": "33ed844f-9673-436b-8879-a1aa5e18c6d6"
   },
   "outputs": [
    {
     "name": "stdout",
     "output_type": "stream",
     "text": [
      "Select an instrument:\n",
      "1. Acoustic Grand Piano\n",
      "2. Acoustic Guitar (nylon)\n",
      "3. Violin\n",
      "4. Flute\n",
      "5. Electric Bass (finger)\n",
      "6. Drum Kit\n"
     ]
    }
   ],
   "source": [
    "# Instruments\n",
    "print(\"Select an instrument:\")\n",
    "print(\"1. Acoustic Grand Piano\")\n",
    "print(\"2. Acoustic Guitar (nylon)\")\n",
    "print(\"3. Violin\")\n",
    "print(\"4. Flute\")\n",
    "print(\"5. Electric Bass (finger)\")\n",
    "print(\"6. Drum Kit\")"
   ]
  },
  {
   "cell_type": "code",
   "execution_count": null,
   "metadata": {
    "colab": {
     "base_uri": "https://localhost:8080/"
    },
    "id": "M5CqzGX6hJrS",
    "outputId": "6762d2e1-1d5c-4460-ba69-85ab32d1dbb0"
   },
   "outputs": [
    {
     "name": "stdout",
     "output_type": "stream",
     "text": [
      "Enter the number associated with the instrument: 1\n",
      "You selected: Acoustic Grand Piano\n"
     ]
    }
   ],
   "source": [
    "# User provides instrument choice\n",
    "\n",
    "instrument_selection = int(input(\"Enter the number associated with the instrument: \"))\n",
    "\n",
    "if instrument_selection == 1:\n",
    "    target_instrument = \"Acoustic Grand Piano\"\n",
    "elif instrument_selection == 2:\n",
    "    target_instrument = \"Acoustic Guitar (nylon)\"\n",
    "elif instrument_selection == 3:\n",
    "    target_instrument = \"Violin\"\n",
    "elif instrument_selection == 4:\n",
    "    target_instrument = \"Flute\"\n",
    "elif instrument_selection == 5:\n",
    "    target_instrument = \"Electric Bass (finger)\"\n",
    "elif instrument_selection == 6:\n",
    "    target_instrument = \"Drum Kit\"\n",
    "\n",
    "print(f\"You selected: {target_instrument}\")"
   ]
  },
  {
   "cell_type": "code",
   "execution_count": null,
   "metadata": {
    "colab": {
     "base_uri": "https://localhost:8080/"
    },
    "id": "pEnlMDUfhr-g",
    "outputId": "242c43e1-51ba-47db-9d62-a1a45c54b288"
   },
   "outputs": [
    {
     "name": "stdout",
     "output_type": "stream",
     "text": [
      "0\n"
     ]
    }
   ],
   "source": [
    "# Get the program number for the target instrument\n",
    "target_instrument = pretty_midi.instrument_name_to_program(target_instrument)\n",
    "print(target_instrument)\n",
    "\n"
   ]
  },
  {
   "cell_type": "code",
   "execution_count": null,
   "metadata": {
    "id": "QlKxG_5Dt9hv"
   },
   "outputs": [],
   "source": [
    "# Taking user instrument selection and converting midi file\n",
    "for instrument in midi_data.instruments:\n",
    "    if instrument.name == target_instrument:\n",
    "        instrument.program = target_instrument\n",
    "        break"
   ]
  },
  {
   "cell_type": "code",
   "execution_count": null,
   "metadata": {
    "id": "lfuh0TMKslo_"
   },
   "outputs": [],
   "source": [
    "# Creating new MIDI file after instrument change\n",
    "output_midi_file = os.path.join(input_midi_dir_local, f'ABBA_-_Dancing_Queen(single_edition)_{target_instrument}.mid')\n"
   ]
  },
  {
   "cell_type": "code",
   "execution_count": null,
   "metadata": {
    "id": "Ak7ql-LFuUgD"
   },
   "outputs": [],
   "source": [
    "# Saving new MIDI file\n",
    "midi_data.write(output_midi_file)"
   ]
  }
 ],
 "metadata": {
  "colab": {
   "authorship_tag": "ABX9TyOXQWlx9p4a1nCE+CBrqrSn",
   "include_colab_link": true,
   "provenance": []
  },
  "kernelspec": {
   "display_name": "base",
   "language": "python",
   "name": "python3"
  },
  "language_info": {
   "codemirror_mode": {
    "name": "ipython",
    "version": 3
   },
   "file_extension": ".py",
   "mimetype": "text/x-python",
   "name": "python",
   "nbconvert_exporter": "python",
   "pygments_lexer": "ipython3",
   "version": "3.12.4"
  }
 },
 "nbformat": 4,
 "nbformat_minor": 0
}
