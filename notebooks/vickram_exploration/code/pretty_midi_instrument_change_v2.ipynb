{
 "cells": [
  {
   "cell_type": "code",
   "execution_count": 31,
   "metadata": {},
   "outputs": [
    {
     "name": "stdout",
     "output_type": "stream",
     "text": [
      "Requirement already satisfied: pretty-midi in /opt/anaconda3/envs/dev/lib/python3.10/site-packages (0.2.10)\n",
      "Requirement already satisfied: numpy>=1.7.0 in /opt/anaconda3/envs/dev/lib/python3.10/site-packages (from pretty-midi) (1.26.4)\n",
      "Requirement already satisfied: mido>=1.1.16 in /opt/anaconda3/envs/dev/lib/python3.10/site-packages (from pretty-midi) (1.3.3)\n",
      "Requirement already satisfied: six in /opt/anaconda3/envs/dev/lib/python3.10/site-packages (from pretty-midi) (1.16.0)\n",
      "Requirement already satisfied: packaging in /opt/anaconda3/envs/dev/lib/python3.10/site-packages (from mido>=1.1.16->pretty-midi) (23.2)\n"
     ]
    }
   ],
   "source": [
    "#!pip install pretty-midi\n",
    "from pathlib import Path\n",
    "import os\n",
    "from pretty_midi import PrettyMIDI, program_to_instrument_name"
   ]
  },
  {
   "cell_type": "code",
   "execution_count": 32,
   "metadata": {},
   "outputs": [],
   "source": [
    "input_midi_path = \"../../vickram_exploration/music_training_database/Pop/ABBA_-_Dancing_Queen.mid\"\n",
    "output_midi_path = \"../../vickram_exploration/output_files\"\n"
   ]
  },
  {
   "cell_type": "code",
   "execution_count": 33,
   "metadata": {},
   "outputs": [],
   "source": [
    "# Get the absolute path to the MIDI file\n",
    "input_midi_path = os.path.abspath(input_midi_path)"
   ]
  },
  {
   "cell_type": "code",
   "execution_count": 34,
   "metadata": {},
   "outputs": [
    {
     "name": "stdout",
     "output_type": "stream",
     "text": [
      "New instrument: Acoustic Grand Piano\n"
     ]
    }
   ],
   "source": [
    "# Get the desired instrument program (e.g., Piano: 0)\n",
    "new_instrument = int(input(\"Enter the new instrument program (e.g., Piano: 0): \"))\n",
    "new_instrument_name = program_to_instrument_name(new_instrument)    \n",
    "print(f\"New instrument: {new_instrument_name}\")"
   ]
  },
  {
   "cell_type": "code",
   "execution_count": 35,
   "metadata": {},
   "outputs": [],
   "source": [
    "midi_data = PrettyMIDI(input_midi_path)"
   ]
  },
  {
   "cell_type": "code",
   "execution_count": 36,
   "metadata": {},
   "outputs": [],
   "source": [
    "# Looping throught midi database to change the instrument program for all instruments in the MIDI file\n",
    "for instrument in midi_data.instruments:\n",
    "    instrument.program = new_instrument"
   ]
  },
  {
   "cell_type": "code",
   "execution_count": 37,
   "metadata": {},
   "outputs": [],
   "source": [
    "# Ensure the output directory exists\n",
    "os.makedirs(output_midi_path, exist_ok=True)"
   ]
  },
  {
   "cell_type": "code",
   "execution_count": 42,
   "metadata": {},
   "outputs": [
    {
     "name": "stdout",
     "output_type": "stream",
     "text": [
      "ABBA_-_Dancing_Queen\n",
      "Acoustic Grand Piano\n",
      "MIDI file instrument changed successfully. Saved to: ../../vickram_exploration/output_files ABBA_-_Dancing_Queen(instrument)_Acoustic Grand Piano.mid\n"
     ]
    }
   ],
   "source": [
    "# Create output filename\n",
    "input_filename = Path(input_midi_path).stem  # Get filename without extension\n",
    "# Setting the output filename\n",
    "output_filename = f\"{input_filename}(instrument)_{new_instrument_name}.mid\" # Filename with new instrument program\n",
    "# Saving the file name to the output directory\n",
    "output_filepath = os.path.join(output_midi_path, output_filename)\n",
    "\n",
    "# Write to output file to the output directory\n",
    "midi_data.write(output_filepath)\n",
    "# Print the output file path\n",
    "print(input_filename)\n",
    "print(new_instrument_name)\n",
    "# Show where the modified MIDI file is saved\n",
    "print(f\"MIDI file instrument changed successfully. Saved to: {output_midi_path} {output_filename}\")"
   ]
  },
  {
   "cell_type": "markdown",
   "metadata": {},
   "source": [
    "# This section of code allows you to display the midi instruments and the instrument number. \n",
    "def display_instruments():\n",
    "    \"\"\" Displays available instruments with their program number. \"\"\"\n",
    "    print(\"Available instruments:\")\n",
    "    for program_number in range(128): # MIDI program numbers range from 0 to 127\n",
    "        instrument_name = program_to_instrument_name(program_number)\n",
    "        print(f\"{program_number}: {instrument_name}\")\n",
    "\n",
    "# Comment Display the instrument list to the user** display_instruments()"
   ]
  },
  {
   "cell_type": "markdown",
   "metadata": {},
   "source": [
    "# Get the desired instrument program number with error handling\n",
    "while True:\n",
    "    try:\n",
    "        new_instrument = int(input(\"Enter the desired instrument program number: \"))\n",
    "        if 0 <= new_instrument <= 127:\n",
    "            break\n",
    "        else:\n",
    "            print(\"Invalid instrument number. Please enter a number between 0 and 127.\")\n",
    "    except ValueError:\n",
    "        print(\"Invalid input. Please enter a valid integer.\")\n",
    "\n",
    "# Change the instrument\n",
    "change_midi_instrument(input_midi_path, output_midi_path, new_instrument)"
   ]
  }
 ],
 "metadata": {
  "kernelspec": {
   "display_name": "dev",
   "language": "python",
   "name": "dev"
  },
  "language_info": {
   "codemirror_mode": {
    "name": "ipython",
    "version": 3
   },
   "file_extension": ".py",
   "mimetype": "text/x-python",
   "name": "python",
   "nbconvert_exporter": "python",
   "pygments_lexer": "ipython3",
   "version": "3.10.14"
  }
 },
 "nbformat": 4,
 "nbformat_minor": 2
}
