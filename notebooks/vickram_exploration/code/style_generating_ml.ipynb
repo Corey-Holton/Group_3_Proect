{
 "cells": [
  {
   "cell_type": "code",
   "execution_count": 1,
   "id": "dc95da0b-a2bb-4df6-9056-d10bd90b3010",
   "metadata": {},
   "outputs": [
    {
     "name": "stdout",
     "output_type": "stream",
     "text": [
      "Requirement already satisfied: pretty_midi in /opt/anaconda3/envs/dev/lib/python3.10/site-packages (0.2.10)\n",
      "Requirement already satisfied: numpy in /opt/anaconda3/envs/dev/lib/python3.10/site-packages (1.26.4)\n",
      "Requirement already satisfied: matplotlib in /opt/anaconda3/envs/dev/lib/python3.10/site-packages (3.8.4)\n",
      "Requirement already satisfied: torch in /opt/anaconda3/envs/dev/lib/python3.10/site-packages (2.5.1)\n",
      "Requirement already satisfied: mido>=1.1.16 in /opt/anaconda3/envs/dev/lib/python3.10/site-packages (from pretty_midi) (1.3.3)\n",
      "Requirement already satisfied: six in /opt/anaconda3/envs/dev/lib/python3.10/site-packages (from pretty_midi) (1.16.0)\n",
      "Requirement already satisfied: contourpy>=1.0.1 in /opt/anaconda3/envs/dev/lib/python3.10/site-packages (from matplotlib) (1.2.0)\n",
      "Requirement already satisfied: cycler>=0.10 in /opt/anaconda3/envs/dev/lib/python3.10/site-packages (from matplotlib) (0.11.0)\n",
      "Requirement already satisfied: fonttools>=4.22.0 in /opt/anaconda3/envs/dev/lib/python3.10/site-packages (from matplotlib) (4.51.0)\n",
      "Requirement already satisfied: kiwisolver>=1.3.1 in /opt/anaconda3/envs/dev/lib/python3.10/site-packages (from matplotlib) (1.4.4)\n",
      "Requirement already satisfied: packaging>=20.0 in /opt/anaconda3/envs/dev/lib/python3.10/site-packages (from matplotlib) (23.2)\n",
      "Requirement already satisfied: pillow>=8 in /opt/anaconda3/envs/dev/lib/python3.10/site-packages (from matplotlib) (10.3.0)\n",
      "Requirement already satisfied: pyparsing>=2.3.1 in /opt/anaconda3/envs/dev/lib/python3.10/site-packages (from matplotlib) (3.0.9)\n",
      "Requirement already satisfied: python-dateutil>=2.7 in /opt/anaconda3/envs/dev/lib/python3.10/site-packages (from matplotlib) (2.9.0.post0)\n",
      "Requirement already satisfied: filelock in /opt/anaconda3/envs/dev/lib/python3.10/site-packages (from torch) (3.13.1)\n",
      "Requirement already satisfied: typing-extensions>=4.8.0 in /opt/anaconda3/envs/dev/lib/python3.10/site-packages (from torch) (4.12.2)\n",
      "Requirement already satisfied: networkx in /opt/anaconda3/envs/dev/lib/python3.10/site-packages (from torch) (3.2.1)\n",
      "Requirement already satisfied: jinja2 in /opt/anaconda3/envs/dev/lib/python3.10/site-packages (from torch) (3.1.4)\n",
      "Requirement already satisfied: fsspec in /opt/anaconda3/envs/dev/lib/python3.10/site-packages (from torch) (2024.3.1)\n",
      "Requirement already satisfied: sympy==1.13.1 in /opt/anaconda3/envs/dev/lib/python3.10/site-packages (from torch) (1.13.1)\n",
      "Requirement already satisfied: mpmath<1.4,>=1.1.0 in /opt/anaconda3/envs/dev/lib/python3.10/site-packages (from sympy==1.13.1->torch) (1.3.0)\n",
      "Requirement already satisfied: MarkupSafe>=2.0 in /opt/anaconda3/envs/dev/lib/python3.10/site-packages (from jinja2->torch) (2.1.3)\n",
      "Note: you may need to restart the kernel to use updated packages.\n"
     ]
    }
   ],
   "source": [
    "pip install pretty_midi numpy matplotlib torch\n"
   ]
  },
  {
   "cell_type": "code",
   "execution_count": 2,
   "id": "fc239adb-1830-474f-a1d0-5dcfef15bbef",
   "metadata": {},
   "outputs": [],
   "source": [
    "import pretty_midi\n",
    "import numpy as np \n",
    "import torch\n",
    "import matplotlib.pyplot as plt"
   ]
  },
  {
   "cell_type": "code",
   "execution_count": 3,
   "id": "8faf3f07-9326-48e5-b6f5-fa92e0c140eb",
   "metadata": {},
   "outputs": [],
   "source": [
    "# input and output file locations. \n",
    "input_midi_path = \"../../vickram_exploration/music_training_database/Pop/ABBA_-_Dancing_Queen.mid\"\n",
    "output_midi_path = \"../../vickram_exploration/output_files\""
   ]
  },
  {
   "cell_type": "code",
   "execution_count": 4,
   "id": "ae0fb9f4-0d8c-4b8c-9978-65dd4fae836e",
   "metadata": {},
   "outputs": [],
   "source": [
    "input_midi_data = pretty_midi.PrettyMIDI(input_midi_path)"
   ]
  },
  {
   "cell_type": "code",
   "execution_count": 5,
   "id": "2d9af8f5-9e24-4e42-bddc-1fbda97b72dd",
   "metadata": {},
   "outputs": [
    {
     "name": "stdout",
     "output_type": "stream",
     "text": [
      "Instruments in MIDI file: 10\n",
      "Instrument 0: Acoustic Grand Piano\n",
      "Instrument 1: Bright Acoustic Piano\n",
      "Instrument 2: Electric Bass (finger)\n",
      "Instrument 3: Pad 7 (halo)\n",
      "Instrument 4: Choir Aahs\n",
      "Instrument 5: Pad 3 (polysynth)\n",
      "Instrument 6: Bright Acoustic Piano\n",
      "Instrument 7: Pad 7 (halo)\n",
      "Instrument 8: Banjo\n",
      "Instrument 9: String Ensemble 1\n"
     ]
    }
   ],
   "source": [
    "# Inspecting Instruments used in the midi files. \n",
    "print(\"Instruments in MIDI file:\", len(input_midi_data.instruments))\n",
    "for i, instrument in enumerate(input_midi_data.instruments):\n",
    "    print(f\"Instrument {i}: {pretty_midi.program_to_instrument_name(instrument.program)}\")"
   ]
  },
  {
   "cell_type": "code",
   "execution_count": 6,
   "id": "6389a5c8-fcfe-400d-b958-992d488c100b",
   "metadata": {},
   "outputs": [],
   "source": [
    "# Extracting Notes, Velocities, and Timing "
   ]
  },
  {
   "cell_type": "code",
   "execution_count": 7,
   "id": "00a4fe54-4df2-4b2d-8c45-fd9a8008fb67",
   "metadata": {},
   "outputs": [
    {
     "name": "stdout",
     "output_type": "stream",
     "text": [
      "First few notes: [[2.39044, 2.4091153125, 42, 75], [2.98805, 3.0067253124999995, 42, 75], [3.58566, 3.6043353124999995, 42, 75], [4.183269999999999, 4.2019453124999995, 42, 75], [4.78088, 4.7995553125, 42, 75]]\n"
     ]
    }
   ],
   "source": [
    "# Extracting Notes \n",
    "notes = []\n",
    "for instrument in input_midi_data.instruments:\n",
    "    for note in instrument.notes:\n",
    "        # Notes: [start_time, end_time, pitch, velocity]\n",
    "        notes.append([note.start, note.end, note.pitch, note.velocity])\n",
    "        \n",
    "# Convert the list to a numpy array \n",
    "note = np.array(notes)\n",
    "\n",
    "# Inspect the first few notes\n",
    "print(\"First few notes:\", notes[:5])\n"
   ]
  },
  {
   "cell_type": "code",
   "execution_count": 8,
   "id": "34323198-2a92-4ebb-8b3c-8767b58a815f",
   "metadata": {},
   "outputs": [],
   "source": [
    "# Normalize velocities to [0, 1]\n",
    "\n",
    "max_velocity = 127 # Standard MIDI velocity range\n",
    "note[:, 3] = note[:, 3] / max_velocity # Max velocity in MIDI is 127"
   ]
  },
  {
   "cell_type": "code",
   "execution_count": 9,
   "id": "98e600f8-3abf-4a4a-b196-3321d2f73a4c",
   "metadata": {},
   "outputs": [
    {
     "name": "stdout",
     "output_type": "stream",
     "text": [
      "[[ 2.39044     2.40911531 42.          0.59055118]\n",
      " [ 2.98805     3.00672531 42.          0.59055118]\n",
      " [ 3.58566     3.60433531 42.          0.59055118]\n",
      " [ 4.18327     4.20194531 42.          0.59055118]\n",
      " [ 4.78088     4.79955531 42.          0.59055118]]\n"
     ]
    }
   ],
   "source": [
    "#Verification verlocity normalization\n",
    "print(note[:5]) "
   ]
  },
  {
   "cell_type": "code",
   "execution_count": 10,
   "id": "4b13df4a-d606-4e45-9f0f-6de63cd046e2",
   "metadata": {},
   "outputs": [
    {
     "name": "stdout",
     "output_type": "stream",
     "text": [
      "First few events: ['3.6043353124999995' 'Note-Off' '42' '0.0']\n"
     ]
    }
   ],
   "source": [
    "# Convert to Event Sequence (Note-On, Note-Off) \n",
    "events = [] \n",
    "\n",
    "for note in notes: \n",
    "    # Note-On event (start time, 'Note-On', pitch, velocity)\n",
    "    note_on = [note[0], 'Note-On', int(note[2]), note[3]]\n",
    "    events.append(note_on)\n",
    "    # Note-Off event (end time, 'Note-Off', pitch)\n",
    "    note_off =  [note[1], 'Note-Off', int(note[2]),(0.0)]\n",
    "    # Add a placeholder for velocity (if necessary) \n",
    "    events.append(note_off)\n",
    "\n",
    "# Chekcing for inconsistent element length\n",
    "for i, event in enumerate(events): \n",
    "    if len(event) != 4:\n",
    "        print(f\"Warrning: Inconsistent element found: {event}\")\n",
    "        events[i] = [event[0], event[2], 0.0]\n",
    "# Sort events by time\n",
    "events.sort(key=lambda x: x[0])\n",
    "\n",
    "# Convert to numpy array for easier handling \n",
    "events = np.array(events)\n",
    "\n",
    "# Verify the frist frew events \n",
    "print(\"First few events:\", events[5])"
   ]
  },
  {
   "cell_type": "code",
   "execution_count": 12,
   "id": "cfdafdf1-b032-4150-a639-dfbe21169295",
   "metadata": {},
   "outputs": [
    {
     "ename": "UFuncTypeError",
     "evalue": "ufunc 'greater_equal' did not contain a loop with signature matching types (<class 'numpy.dtypes.Float64DType'>, <class 'numpy.dtypes.StrDType'>) -> None",
     "output_type": "error",
     "traceback": [
      "\u001b[0;31m---------------------------------------------------------------------------\u001b[0m",
      "\u001b[0;31mUFuncTypeError\u001b[0m                            Traceback (most recent call last)",
      "Cell \u001b[0;32mIn[12], line 30\u001b[0m\n\u001b[1;32m     27\u001b[0m     plt\u001b[38;5;241m.\u001b[39mshow()\n\u001b[1;32m     29\u001b[0m \u001b[38;5;66;03m# Plot the first 10 seconds of the MIDI events\u001b[39;00m\n\u001b[0;32m---> 30\u001b[0m \u001b[43mplot_piano_roll\u001b[49m\u001b[43m(\u001b[49m\u001b[43mevents\u001b[49m\u001b[43m,\u001b[49m\u001b[43m \u001b[49m\u001b[43mstart_time\u001b[49m\u001b[38;5;241;43m=\u001b[39;49m\u001b[38;5;241;43m0\u001b[39;49m\u001b[43m,\u001b[49m\u001b[43m \u001b[49m\u001b[43mend_time\u001b[49m\u001b[38;5;241;43m=\u001b[39;49m\u001b[38;5;241;43m10\u001b[39;49m\u001b[43m)\u001b[49m\n",
      "Cell \u001b[0;32mIn[12], line 15\u001b[0m, in \u001b[0;36mplot_piano_roll\u001b[0;34m(events, start_time, end_time, pitch_range)\u001b[0m\n\u001b[1;32m     13\u001b[0m \u001b[38;5;28;01mif\u001b[39;00m event[\u001b[38;5;241m1\u001b[39m] \u001b[38;5;241m==\u001b[39m \u001b[38;5;124m'\u001b[39m\u001b[38;5;124mNote-On\u001b[39m\u001b[38;5;124m'\u001b[39m: \u001b[38;5;66;03m# Note-On event \u001b[39;00m\n\u001b[1;32m     14\u001b[0m     pitch_idx \u001b[38;5;241m=\u001b[39m \u001b[38;5;28mint\u001b[39m(event[\u001b[38;5;241m2\u001b[39m]) \u001b[38;5;241m-\u001b[39m pitch_range[\u001b[38;5;241m0\u001b[39m]\n\u001b[0;32m---> 15\u001b[0m     start_idx \u001b[38;5;241m=\u001b[39m np\u001b[38;5;241m.\u001b[39margmax(\u001b[43mtime_steps\u001b[49m\u001b[43m \u001b[49m\u001b[38;5;241;43m>\u001b[39;49m\u001b[38;5;241;43m=\u001b[39;49m\u001b[43m \u001b[49m\u001b[43mevent_time\u001b[49m)\n\u001b[1;32m     16\u001b[0m     piano_roll[start_idx:, pitch_idx] \u001b[38;5;241m=\u001b[39m event[\u001b[38;5;241m3\u001b[39m] \u001b[38;5;66;03m# Mark note's velocity from start to end\u001b[39;00m\n\u001b[1;32m     17\u001b[0m \u001b[38;5;28;01melif\u001b[39;00m event[\u001b[38;5;241m1\u001b[39m] \u001b[38;5;241m==\u001b[39m \u001b[38;5;124m'\u001b[39m\u001b[38;5;124mNote-Off\u001b[39m\u001b[38;5;124m'\u001b[39m: \u001b[38;5;66;03m# Note-Off event\u001b[39;00m\n",
      "\u001b[0;31mUFuncTypeError\u001b[0m: ufunc 'greater_equal' did not contain a loop with signature matching types (<class 'numpy.dtypes.Float64DType'>, <class 'numpy.dtypes.StrDType'>) -> None"
     ]
    }
   ],
   "source": [
    "# Visualizing the data using matplotlib\n",
    "\n",
    "def plot_piano_roll(events, start_time=0, end_time=None, pitch_range=(21, 108)):\n",
    "    # Create a time range for visualization (using normalized start/end times)\n",
    "    if end_time is None:\n",
    "        end_time = max(events[:, 0]) # Use the last note's end time as the endpoint\n",
    "\n",
    "    time_steps = np.linspace(start_time, end_time, 500)\n",
    "    piano_roll = np.zeros((len(time_steps), pitch_range[1] - pitch_range[0]))\n",
    "\n",
    "    for event in events:\n",
    "        event_time = event[0]\n",
    "        if event[1] == 'Note-On': # Note-On event \n",
    "            pitch_idx = int(event[2]) - pitch_range[0]\n",
    "            start_idx = np.argmax(time_steps >= event_time)\n",
    "            piano_roll[start_idx:, pitch_idx] = event[3] # Mark note's velocity from start to end\n",
    "        elif event[1] == 'Note-Off': # Note-Off event\n",
    "            pitch_idx = np.argmax(time_steps >= event_time)\n",
    "            piano_roll[:end_idx, pitch_idx] = 0 # End note \n",
    "\n",
    "    # Plot the piano roll\n",
    "    plt.figure(figsize=(12, 8))\n",
    "    plt.imshow(piano_roll.T, origin='lower', aspect='auto', cmap='Greys', extent=[start_time, end_time, pitch_range[0], pitch_range[1]])\n",
    "    plt.ylable('MIDI Pitch')\n",
    "    plt.xlable('Time (s)')\n",
    "    plt.title(\"Piano Roll Visualization\")\n",
    "    plt.show()\n",
    "\n",
    "# Plot the first 10 seconds of the MIDI events\n",
    "plot_piano_roll(events, start_time=0, end_time=10)\n",
    "\n"
   ]
  },
  {
   "cell_type": "code",
   "execution_count": null,
   "id": "07a2801e-66f6-4b39-b00d-f54e044f4517",
   "metadata": {},
   "outputs": [],
   "source": [
    "\n",
    "\n",
    "\n"
   ]
  }
 ],
 "metadata": {
  "kernelspec": {
   "display_name": "dev",
   "language": "python",
   "name": "python3"
  },
  "language_info": {
   "codemirror_mode": {
    "name": "ipython",
    "version": 3
   },
   "file_extension": ".py",
   "mimetype": "text/x-python",
   "name": "python",
   "nbconvert_exporter": "python",
   "pygments_lexer": "ipython3",
   "version": "3.10.14"
  }
 },
 "nbformat": 4,
 "nbformat_minor": 5
}
