{
  "cells": [
    {
      "cell_type": "markdown",
      "metadata": {
        "colab_type": "text",
        "id": "view-in-github"
      },
      "source": [
        "<a href=\"https://colab.research.google.com/github/Corey-Holton/Group_3_Project/blob/main/ML_Model_Learn_MIDI_data_v1__Project3.ipynb\" target=\"_parent\"><img src=\"https://colab.research.google.com/assets/colab-badge.svg\" alt=\"Open In Colab\"/></a>"
      ]
    },
    {
      "cell_type": "code",
      "execution_count": 6,
      "metadata": {
        "colab": {
          "base_uri": "https://localhost:8080/"
        },
        "id": "Y54-EG4OWh5q",
        "outputId": "a8d5242a-aee8-4c70-e8a9-98b0ef5038bb"
      },
      "outputs": [],
      "source": [
        "#!pip install music21 mido"
      ]
    },
    {
      "cell_type": "code",
      "execution_count": 7,
      "metadata": {
        "id": "Ac7Rvo2gWrQX"
      },
      "outputs": [],
      "source": [
        "# Importing Libraries for working with MIDI files\n",
        "import music21\n",
        "from music21 import converter, stream, instrument, note, chord\n",
        "import mido\n",
        "import numpy as np\n",
        "import os"
      ]
    },
    {
      "cell_type": "code",
      "execution_count": 8,
      "metadata": {
        "colab": {
          "base_uri": "https://localhost:8080/"
        },
        "id": "RtB_EjwUud4c",
        "outputId": "bea8aeb5-e0de-4c70-f6cd-ad29a9debb53"
      },
      "outputs": [],
      "source": [
        "# Mount Google Drive\n",
        "# from google.colab import drive\n",
        "# drive.mount('/content/drive')"
      ]
    },
    {
      "cell_type": "code",
      "execution_count": 15,
      "metadata": {
        "id": "hj5XaQ6vu7Th"
      },
      "outputs": [],
      "source": [
        "# Specify the File Path\n",
        "base_path = '../../vickram_exploration/music_training_database'\n",
        "midi_files = []"
      ]
    },
    {
      "cell_type": "code",
      "execution_count": 16,
      "metadata": {
        "colab": {
          "base_uri": "https://localhost:8080/"
        },
        "id": "Ga6IET8QyL0q",
        "outputId": "deb1a342-7cd5-4bb1-c974-755bfeae3616"
      },
      "outputs": [
        {
          "name": "stdout",
          "output_type": "stream",
          "text": [
            "../../vickram_exploration/music_training_database\n"
          ]
        }
      ],
      "source": [
        "print(base_path)"
      ]
    },
    {
      "cell_type": "code",
      "execution_count": 19,
      "metadata": {
        "colab": {
          "base_uri": "https://localhost:8080/"
        },
        "id": "RCk8PZlMIfJ4",
        "outputId": "b02fd6cf-1b1b-4d4c-c281-f1ea70373971"
      },
      "outputs": [
        {
          "ename": "FileNotFoundError",
          "evalue": "[Errno 2] No such file or directory: '../../vickram_exploration/music_training_database'",
          "output_type": "error",
          "traceback": [
            "\u001b[0;31m---------------------------------------------------------------------------\u001b[0m",
            "\u001b[0;31mFileNotFoundError\u001b[0m                         Traceback (most recent call last)",
            "Cell \u001b[0;32mIn[19], line 4\u001b[0m\n\u001b[1;32m      1\u001b[0m \u001b[38;5;66;03m# Locating all MIDI files within a specified folder on Google Drive\u001b[39;00m\n\u001b[1;32m      2\u001b[0m \u001b[38;5;66;03m# Then parse the files with music21\u001b[39;00m\n\u001b[0;32m----> 4\u001b[0m \u001b[38;5;28;01mfor\u001b[39;00m genre_folder \u001b[38;5;129;01min\u001b[39;00m \u001b[43mos\u001b[49m\u001b[38;5;241;43m.\u001b[39;49m\u001b[43mlistdir\u001b[49m\u001b[43m(\u001b[49m\u001b[43mbase_path\u001b[49m\u001b[43m)\u001b[49m:\n\u001b[1;32m      5\u001b[0m   genre_path \u001b[38;5;241m=\u001b[39m os\u001b[38;5;241m.\u001b[39mpath\u001b[38;5;241m.\u001b[39mjoin(base_path, genre_folder)\n\u001b[1;32m      6\u001b[0m   \u001b[38;5;28;01mif\u001b[39;00m os\u001b[38;5;241m.\u001b[39mpath\u001b[38;5;241m.\u001b[39misdir(genre_path): \u001b[38;5;66;03m# check if it's a directory\u001b[39;00m\n",
            "\u001b[0;31mFileNotFoundError\u001b[0m: [Errno 2] No such file or directory: '../../vickram_exploration/music_training_database'"
          ]
        }
      ],
      "source": [
        "# Locating all MIDI files within a specified folder on Google Drive\n",
        "# Then parse the files with music21\n",
        "\n",
        "for genre_folder in os.listdir(base_path):\n",
        "  genre_path = os.path.join(base_path, genre_folder)\n",
        "  if os.path.isdir(genre_path): # check if it's a directory\n",
        "    for filename in os.listdir(genre_path):\n",
        "      if filename.endswith(\".mid\") or filename.endswith(\".midi\"):\n",
        "        filepath = os.path.join(genre_path, filename)\n",
        "\n",
        "        print(f\"Parsing {filepath}\")\n",
        "        try:\n",
        "            midi_file = converter.parse(filepath)\n",
        "            midi_files.append(midi_file)  # Add parsed data to the list\n",
        "            print(f\"Successfully parsed: {filepath}\")\n",
        "        except Exception as e:\n",
        "            print(f\"Error parsing {filename}: {e}\")\n",
        "\n",
        "\n",
        "# Now you have a list 'midi_files' containing parsed MIDI data"
      ]
    },
    {
      "cell_type": "code",
      "execution_count": null,
      "metadata": {
        "colab": {
          "base_uri": "https://localhost:8080/"
        },
        "id": "6OLnyePRiVRf",
        "outputId": "b242feed-dd8d-46b8-c16d-207b9e6f273a"
      },
      "outputs": [
        {
          "name": "stdout",
          "output_type": "stream",
          "text": [
            "Total MIDI files found: 25\n"
          ]
        }
      ],
      "source": [
        "print(f\"Total MIDI files found: {len(midi_files)}\")"
      ]
    },
    {
      "cell_type": "code",
      "execution_count": null,
      "metadata": {
        "id": "uwlhPzykHOVD"
      },
      "outputs": [],
      "source": [
        "# Feature Extraction\n",
        "\n",
        "def extract_features(midi_file):\n",
        "    notes = []\n",
        "    for element in midi_file.flat.notesAndRests:\n",
        "        if isinstance(element, note.Note):\n",
        "            notes.append([element.pitch.midi, element.duration.quarterLength])\n",
        "        elif isinstance(element, chord.Chord):\n",
        "             # Represent chords with a fixed-size list, e.g., always using 3 pitches\n",
        "            # If a chord has fewer than 3 pitches, pad it with zeros\n",
        "            chord_pitches = [note.pitch.midi for note in element.notes]\n",
        "            chord_pitches = chord_pitches + [0] * (3 - len(chord_pitches))  # Pad with zeros\n",
        "            notes.append(chord_pitches + [element.duration.quarterLength])  # Add duration\n",
        "    return notes\n",
        "\n",
        "\n",
        "\n",
        "# # Extract features from all MIDI files\n",
        "# features = []\n",
        "# for midi_file in midi_files:\n",
        "#   features.append(extract_features(midi_file))\n",
        "#   # Now you have a list 'features' containing extracted features from all MIDI files\n"
      ]
    },
    {
      "cell_type": "code",
      "execution_count": null,
      "metadata": {
        "colab": {
          "base_uri": "https://localhost:8080/",
          "height": 258
        },
        "id": "uz5oJIHt9Aeq",
        "outputId": "00db739d-7d6c-411c-9a97-f1f69ff41fc7"
      },
      "outputs": [
        {
          "ename": "ValueError",
          "evalue": "setting an array element with a sequence. The requested array has an inhomogeneous shape after 2 dimensions. The detected shape was (31081, 100) + inhomogeneous part.",
          "output_type": "error",
          "traceback": [
            "\u001b[0;31m---------------------------------------------------------------------------\u001b[0m",
            "\u001b[0;31mValueError\u001b[0m                                Traceback (most recent call last)",
            "\u001b[0;32m<ipython-input-20-90c948ef710e>\u001b[0m in \u001b[0;36m<cell line: 28>\u001b[0;34m()\u001b[0m\n\u001b[1;32m     26\u001b[0m \u001b[0;34m\u001b[0m\u001b[0m\n\u001b[1;32m     27\u001b[0m \u001b[0;31m# Convert sequences to NumPy array\u001b[0m\u001b[0;34m\u001b[0m\u001b[0;34m\u001b[0m\u001b[0m\n\u001b[0;32m---> 28\u001b[0;31m \u001b[0mX\u001b[0m \u001b[0;34m=\u001b[0m \u001b[0mnp\u001b[0m\u001b[0;34m.\u001b[0m\u001b[0marray\u001b[0m\u001b[0;34m(\u001b[0m\u001b[0msequences\u001b[0m\u001b[0;34m)\u001b[0m\u001b[0;34m\u001b[0m\u001b[0;34m\u001b[0m\u001b[0m\n\u001b[0m\u001b[1;32m     29\u001b[0m \u001b[0;34m\u001b[0m\u001b[0m\n",
            "\u001b[0;31mValueError\u001b[0m: setting an array element with a sequence. The requested array has an inhomogeneous shape after 2 dimensions. The detected shape was (31081, 100) + inhomogeneous part."
          ]
        }
      ],
      "source": [
        "def extract_features(midi_file):\n",
        "    notes = []\n",
        "    for element in midi_file.flat.notesAndRests:\n",
        "        if isinstance(element, note.Note):\n",
        "            notes.append([element.pitch.midi, element.duration.quarterLength, 0, 0, 0]) # 5 features: pitch, duration, 3 empty slots for chords\n",
        "        elif isinstance(element, chord.Chord):\n",
        "            chord_pitches = [note.pitch.midi for note in element.notes]\n",
        "            # Limit to 3 pitches, pad if less, truncate if more\n",
        "            chord_pitches = chord_pitches[:3] + [0] * (3 - len(chord_pitches))\n",
        "            notes.append(chord_pitches + [element.duration.quarterLength, 0])  # 5 features: 3 pitches, duration, 1 empty slot\n",
        "    return notes\n",
        "\n",
        "def create_sequences(features, sequence_length):\n",
        "    sequences = []\n",
        "    for feature_set in features:\n",
        "        for i in range(len(feature_set) - sequence_length):\n",
        "            sequence = feature_set[i:i + sequence_length]\n",
        "            # Pad the sequence if it's shorter than the desired length\n",
        "            if len(sequence) < sequence_length:\n",
        "                sequence = np.pad(sequence, ((0, sequence_length - len(sequence)), (0, 0)), 'constant')\n",
        "            sequences.append(sequence)\n",
        "    return sequences\n",
        "\n",
        "# Create sequences\n",
        "sequences = create_sequences(features, sequence_length=100)\n",
        "\n",
        "# Convert sequences to NumPy array\n",
        "X = np.array(sequences)\n",
        "\n"
      ]
    },
    {
      "cell_type": "markdown",
      "metadata": {
        "id": "J8X-CLcphyqI"
      },
      "source": [
        "**Below this Line the code is out of sync with new code above. **"
      ]
    },
    {
      "cell_type": "code",
      "execution_count": null,
      "metadata": {
        "colab": {
          "base_uri": "https://localhost:8080/"
        },
        "id": "UJHMYGgng1WQ",
        "outputId": "570a4624-75b9-43a4-b43f-bd280292e005"
      },
      "outputs": [
        {
          "name": "stdout",
          "output_type": "stream",
          "text": [
            "Number of features sets: 0\n",
            "Features list is empty.\n"
          ]
        }
      ],
      "source": [
        "# Print number of features\n",
        "print(f\"Number of features sets: {len(features)}\")\n",
        "if features: # Check if features is not empty\n",
        "  print(f\"Number of notes in the first set: {len(features[0])}\")\n",
        "  print(f\"Number of notes in the second set: {features[1][0:10]}\") # Print first 10 elements\n",
        "else:\n",
        "  print(\"Features list is empty.\")"
      ]
    },
    {
      "cell_type": "code",
      "execution_count": null,
      "metadata": {
        "id": "zgDlMUUTSUvS"
      },
      "outputs": [],
      "source": [
        "# Creating Numerical Sequence\n",
        "def create_sequences(features, sequence_length):\n",
        "    sequences = []\n",
        "    for feature_set in features:\n",
        "        for i in range(len(feature_set) - sequence_length):\n",
        "            sequence = feature_set[i:i+sequence_length]\n",
        "            sequences.append(sequence)\n",
        "    return sequences\n",
        "\n",
        "# Create sequences\n",
        "sequences = create_sequences(features, sequence_length=100)\n",
        "\n",
        "# Convert sequences to NumPy array\n",
        "X = np.array(sequences)\n",
        "\n",
        "# Normalize the data (optional)\n",
        "# ... (normalization code)"
      ]
    },
    {
      "cell_type": "code",
      "execution_count": null,
      "metadata": {
        "id": "FdMLOnIVfOWg"
      },
      "outputs": [],
      "source": [
        "import tensorflow as tf\n",
        "from tensorflow.keras.models import Sequential\n",
        "from tensorflow.keras.layers import LSTM, Dense, Dropout"
      ]
    },
    {
      "cell_type": "code",
      "execution_count": null,
      "metadata": {
        "colab": {
          "base_uri": "https://localhost:8080/",
          "height": 241
        },
        "id": "t6MEQzKpfdsK",
        "outputId": "3dfc2a6f-e922-40d8-e41f-40469abd1e76"
      },
      "outputs": [
        {
          "ename": "IndexError",
          "evalue": "tuple index out of range",
          "output_type": "error",
          "traceback": [
            "\u001b[0;31m---------------------------------------------------------------------------\u001b[0m",
            "\u001b[0;31mIndexError\u001b[0m                                Traceback (most recent call last)",
            "\u001b[0;32m<ipython-input-13-889f2b6e4e91>\u001b[0m in \u001b[0;36m<cell line: 2>\u001b[0;34m()\u001b[0m\n\u001b[1;32m      1\u001b[0m \u001b[0;31m# Reshape data fro LSTM input\u001b[0m\u001b[0;34m\u001b[0m\u001b[0;34m\u001b[0m\u001b[0m\n\u001b[0;32m----> 2\u001b[0;31m \u001b[0mX\u001b[0m \u001b[0;34m=\u001b[0m \u001b[0mnp\u001b[0m\u001b[0;34m.\u001b[0m\u001b[0mreshape\u001b[0m\u001b[0;34m(\u001b[0m\u001b[0mX\u001b[0m\u001b[0;34m,\u001b[0m \u001b[0;34m(\u001b[0m\u001b[0mX\u001b[0m\u001b[0;34m.\u001b[0m\u001b[0mshape\u001b[0m\u001b[0;34m[\u001b[0m\u001b[0;36m0\u001b[0m\u001b[0;34m]\u001b[0m\u001b[0;34m,\u001b[0m \u001b[0mX\u001b[0m\u001b[0;34m.\u001b[0m\u001b[0mshape\u001b[0m\u001b[0;34m[\u001b[0m\u001b[0;36m1\u001b[0m\u001b[0;34m]\u001b[0m\u001b[0;34m,\u001b[0m\u001b[0;36m1\u001b[0m\u001b[0;34m)\u001b[0m\u001b[0;34m)\u001b[0m\u001b[0;34m\u001b[0m\u001b[0;34m\u001b[0m\u001b[0m\n\u001b[0m\u001b[1;32m      3\u001b[0m \u001b[0;34m\u001b[0m\u001b[0m\n\u001b[1;32m      4\u001b[0m \u001b[0;31m# Create the model\u001b[0m\u001b[0;34m\u001b[0m\u001b[0;34m\u001b[0m\u001b[0m\n\u001b[1;32m      5\u001b[0m \u001b[0mmodel\u001b[0m \u001b[0;34m=\u001b[0m \u001b[0mSequential\u001b[0m\u001b[0;34m(\u001b[0m\u001b[0;34m)\u001b[0m\u001b[0;34m\u001b[0m\u001b[0;34m\u001b[0m\u001b[0m\n",
            "\u001b[0;31mIndexError\u001b[0m: tuple index out of range"
          ]
        }
      ],
      "source": [
        "# Reshape data fro LSTM input\n",
        "X = np.reshape(X, (X.shape[0], X.shape[1],1))\n",
        "\n",
        "# Create the model\n",
        "model = Sequential()\n",
        "model.add(LSTM(512, input_shape=(X.shape[1], X.shape[2])))\n",
        "model.add(Dropout(0.3))\n",
        "model.add(Dense(256))\n",
        "model.add(Dropout(0.3))\n",
        "model.add(Dense(X.shape[2]))\n",
        "model.compile(loss='mean_squared_error', optimizer='adam')\n",
        "\n"
      ]
    }
  ],
  "metadata": {
    "colab": {
      "authorship_tag": "ABX9TyPRLUTqXzv0kAQn6qKANd3p",
      "include_colab_link": true,
      "provenance": []
    },
    "kernelspec": {
      "display_name": "dev",
      "language": "python",
      "name": "python3"
    },
    "language_info": {
      "codemirror_mode": {
        "name": "ipython",
        "version": 3
      },
      "file_extension": ".py",
      "mimetype": "text/x-python",
      "name": "python",
      "nbconvert_exporter": "python",
      "pygments_lexer": "ipython3",
      "version": "3.10.14"
    }
  },
  "nbformat": 4,
  "nbformat_minor": 0
}
