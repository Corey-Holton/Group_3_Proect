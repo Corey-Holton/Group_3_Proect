{
  "nbformat": 4,
  "nbformat_minor": 0,
  "metadata": {
    "colab": {
      "provenance": [],
      "authorship_tag": "ABX9TyM0ynSs0QMTfO6RM/CCj/oe",
      "include_colab_link": true
    },
    "kernelspec": {
      "name": "python3",
      "display_name": "Python 3"
    },
    "language_info": {
      "name": "python"
    }
  },
  "cells": [
    {
      "cell_type": "markdown",
      "metadata": {
        "id": "view-in-github",
        "colab_type": "text"
      },
      "source": [
        "<a href=\"https://colab.research.google.com/github/Corey-Holton/Group_3_Project/blob/main/Approach_v4_1_Simple.ipynb\" target=\"_parent\"><img src=\"https://colab.research.google.com/assets/colab-badge.svg\" alt=\"Open In Colab\"/></a>"
      ]
    },
    {
      "cell_type": "code",
      "execution_count": 1,
      "metadata": {
        "colab": {
          "base_uri": "https://localhost:8080/"
        },
        "id": "zu9AFtURu4vQ",
        "outputId": "5b7b7288-22f6-4ddf-b651-48f586299a85"
      },
      "outputs": [
        {
          "output_type": "stream",
          "name": "stdout",
          "text": [
            "Requirement already satisfied: mido in /usr/local/lib/python3.10/dist-packages (1.3.3)\n",
            "Requirement already satisfied: pretty_midi in /usr/local/lib/python3.10/dist-packages (0.2.10)\n",
            "Requirement already satisfied: packaging in /usr/local/lib/python3.10/dist-packages (from mido) (24.2)\n",
            "Requirement already satisfied: numpy>=1.7.0 in /usr/local/lib/python3.10/dist-packages (from pretty_midi) (1.26.4)\n",
            "Requirement already satisfied: six in /usr/local/lib/python3.10/dist-packages (from pretty_midi) (1.17.0)\n"
          ]
        }
      ],
      "source": [
        "!pip install mido pretty_midi"
      ]
    },
    {
      "cell_type": "code",
      "source": [
        "import pretty_midi\n",
        "import os"
      ],
      "metadata": {
        "id": "SlN5oZTQvHxS"
      },
      "execution_count": 2,
      "outputs": []
    },
    {
      "cell_type": "code",
      "source": [
        "# Moount Google Drive\n",
        "from google.colab import drive\n",
        "drive.mount('/content/drive')"
      ],
      "metadata": {
        "id": "pjlfpaVGouje",
        "outputId": "bc1595a8-6088-4378-e476-905d57a7e63b",
        "colab": {
          "base_uri": "https://localhost:8080/"
        }
      },
      "execution_count": 3,
      "outputs": [
        {
          "output_type": "stream",
          "name": "stdout",
          "text": [
            "Drive already mounted at /content/drive; to attempt to forcibly remount, call drive.mount(\"/content/drive\", force_remount=True).\n"
          ]
        }
      ]
    },
    {
      "cell_type": "code",
      "source": [
        "# Define the input directory\n",
        "input_midi_dir = '/content/drive/MyDrive/MIDI_Dataset/Single_File_Pop'"
      ],
      "metadata": {
        "id": "_IcQe6lrvK3Y"
      },
      "execution_count": 4,
      "outputs": []
    },
    {
      "cell_type": "code",
      "source": [
        "# Choose a specific MIDI file from the directory - replace 'your_midi_file.mid' with the actual file name\n",
        "input_midi_file = os.path.join(input_midi_dir, 'ABBA_-_Dancing_Queen(single_edition).mid')"
      ],
      "metadata": {
        "id": "z8XXnCkOvN3L"
      },
      "execution_count": 13,
      "outputs": []
    },
    {
      "cell_type": "code",
      "source": [
        "midi_data = pretty_midi.PrettyMIDI(input_midi_file)"
      ],
      "metadata": {
        "id": "quFxhh4UvQLr"
      },
      "execution_count": 14,
      "outputs": []
    },
    {
      "cell_type": "code",
      "source": [
        "def list_all_instruments():\n",
        "    instrument_classes = pretty_midi.INSTRUMENT_CLASSES\n",
        "    all_instruments = {}\n",
        "\n",
        "    for i, instrument_class in enumerate(instrument_classes):\n",
        "        all_instruments[instrument_class] = [\n",
        "            pretty_midi.program_to_instrument_name(program)\n",
        "            for program in range(i * 8, (i + 1) * 8)\n",
        "        ]\n",
        "\n",
        "    return all_instruments\n",
        "\n",
        "list_all_instruments()"
      ],
      "metadata": {
        "id": "GAu-HS67r6vA",
        "outputId": "cbfae1eb-bde4-443a-ecbb-f984e7f6f70e",
        "colab": {
          "base_uri": "https://localhost:8080/"
        }
      },
      "execution_count": 32,
      "outputs": [
        {
          "output_type": "execute_result",
          "data": {
            "text/plain": [
              "{'Piano': ['Acoustic Grand Piano',\n",
              "  'Bright Acoustic Piano',\n",
              "  'Electric Grand Piano',\n",
              "  'Honky-tonk Piano',\n",
              "  'Electric Piano 1',\n",
              "  'Electric Piano 2',\n",
              "  'Harpsichord',\n",
              "  'Clavinet'],\n",
              " 'Chromatic Percussion': ['Celesta',\n",
              "  'Glockenspiel',\n",
              "  'Music Box',\n",
              "  'Vibraphone',\n",
              "  'Marimba',\n",
              "  'Xylophone',\n",
              "  'Tubular Bells',\n",
              "  'Dulcimer'],\n",
              " 'Organ': ['Drawbar Organ',\n",
              "  'Percussive Organ',\n",
              "  'Rock Organ',\n",
              "  'Church Organ',\n",
              "  'Reed Organ',\n",
              "  'Accordion',\n",
              "  'Harmonica',\n",
              "  'Tango Accordion'],\n",
              " 'Guitar': ['Acoustic Guitar (nylon)',\n",
              "  'Acoustic Guitar (steel)',\n",
              "  'Electric Guitar (jazz)',\n",
              "  'Electric Guitar (clean)',\n",
              "  'Electric Guitar (muted)',\n",
              "  'Overdriven Guitar',\n",
              "  'Distortion Guitar',\n",
              "  'Guitar Harmonics'],\n",
              " 'Bass': ['Acoustic Bass',\n",
              "  'Electric Bass (finger)',\n",
              "  'Electric Bass (pick)',\n",
              "  'Fretless Bass',\n",
              "  'Slap Bass 1',\n",
              "  'Slap Bass 2',\n",
              "  'Synth Bass 1',\n",
              "  'Synth Bass 2'],\n",
              " 'Strings': ['Violin',\n",
              "  'Viola',\n",
              "  'Cello',\n",
              "  'Contrabass',\n",
              "  'Tremolo Strings',\n",
              "  'Pizzicato Strings',\n",
              "  'Orchestral Harp',\n",
              "  'Timpani'],\n",
              " 'Ensemble': ['String Ensemble 1',\n",
              "  'String Ensemble 2',\n",
              "  'Synth Strings 1',\n",
              "  'Synth Strings 2',\n",
              "  'Choir Aahs',\n",
              "  'Voice Oohs',\n",
              "  'Synth Choir',\n",
              "  'Orchestra Hit'],\n",
              " 'Brass': ['Trumpet',\n",
              "  'Trombone',\n",
              "  'Tuba',\n",
              "  'Muted Trumpet',\n",
              "  'French Horn',\n",
              "  'Brass Section',\n",
              "  'Synth Brass 1',\n",
              "  'Synth Brass 2'],\n",
              " 'Reed': ['Soprano Sax',\n",
              "  'Alto Sax',\n",
              "  'Tenor Sax',\n",
              "  'Baritone Sax',\n",
              "  'Oboe',\n",
              "  'English Horn',\n",
              "  'Bassoon',\n",
              "  'Clarinet'],\n",
              " 'Pipe': ['Piccolo',\n",
              "  'Flute',\n",
              "  'Recorder',\n",
              "  'Pan Flute',\n",
              "  'Blown bottle',\n",
              "  'Shakuhachi',\n",
              "  'Whistle',\n",
              "  'Ocarina'],\n",
              " 'Synth Lead': ['Lead 1 (square)',\n",
              "  'Lead 2 (sawtooth)',\n",
              "  'Lead 3 (calliope)',\n",
              "  'Lead 4 chiff',\n",
              "  'Lead 5 (charang)',\n",
              "  'Lead 6 (voice)',\n",
              "  'Lead 7 (fifths)',\n",
              "  'Lead 8 (bass + lead)'],\n",
              " 'Synth Pad': ['Pad 1 (new age)',\n",
              "  'Pad 2 (warm)',\n",
              "  'Pad 3 (polysynth)',\n",
              "  'Pad 4 (choir)',\n",
              "  'Pad 5 (bowed)',\n",
              "  'Pad 6 (metallic)',\n",
              "  'Pad 7 (halo)',\n",
              "  'Pad 8 (sweep)'],\n",
              " 'Synth Effects': ['FX 1 (rain)',\n",
              "  'FX 2 (soundtrack)',\n",
              "  'FX 3 (crystal)',\n",
              "  'FX 4 (atmosphere)',\n",
              "  'FX 5 (brightness)',\n",
              "  'FX 6 (goblins)',\n",
              "  'FX 7 (echoes)',\n",
              "  'FX 8 (sci-fi)'],\n",
              " 'Ethnic': ['Sitar',\n",
              "  'Banjo',\n",
              "  'Shamisen',\n",
              "  'Koto',\n",
              "  'Kalimba',\n",
              "  'Bagpipe',\n",
              "  'Fiddle',\n",
              "  'Shanai'],\n",
              " 'Percussive': ['Tinkle Bell',\n",
              "  'Agogo',\n",
              "  'Steel Drums',\n",
              "  'Woodblock',\n",
              "  'Taiko Drum',\n",
              "  'Melodic Tom',\n",
              "  'Synth Drum',\n",
              "  'Reverse Cymbal'],\n",
              " 'Sound Effects': ['Guitar Fret Noise',\n",
              "  'Breath Noise',\n",
              "  'Seashore',\n",
              "  'Bird Tweet',\n",
              "  'Telephone Ring',\n",
              "  'Helicopter',\n",
              "  'Applause',\n",
              "  'Gunshot']}"
            ]
          },
          "metadata": {},
          "execution_count": 32
        }
      ]
    },
    {
      "cell_type": "code",
      "source": [
        "# Define a dictionary mapping instrument names to program numbers\n",
        "instrument_map = {\n",
        "     1 : 'Acoustic Grand Piano',\n",
        "    25 : 'Electric Grand Piano',\n",
        "    26 : 'Acoustic Guitar (nylon)',\n",
        "    27 : 'Acoustic Guitar (steel)',\n",
        "    28 : 'Electric Guitar (jazz)',\n",
        "    29 : 'Electric Guitar (clean)',\n",
        "    30 : 'Electric Guitar (muted)',\n",
        "    31 : 'Overdriven Guitar',\n",
        "    32 : 'Distortion Guitar',\n",
        "    33 :'Guitar Harmonics',\n",
        "\n",
        "}\n",
        "\n",
        "# Prompt user to select an instrument\n",
        "print(\"Available instruments:\")\n",
        "for instrument, program in instrument_map.items():\n",
        "  print(f\"(Program number: {instrument}) {program}\")\n",
        "\n",
        "selected_instrument = input(\"Please select an instrument: \")\n",
        "print(selected_instrument)"
      ],
      "metadata": {
        "colab": {
          "base_uri": "https://localhost:8080/"
        },
        "id": "LOFRLLn22XAX",
        "outputId": "307bbf02-c49b-4cde-96ba-a39bdbd1fb23"
      },
      "execution_count": 20,
      "outputs": [
        {
          "output_type": "stream",
          "name": "stdout",
          "text": [
            "Available instruments:\n",
            "(Program number: 1) Acoustic Grand Piano\n",
            "(Program number: 25) Electric Grand Piano\n",
            "(Program number: 26) Acoustic Guitar (nylon)\n",
            "(Program number: 27) Acoustic Guitar (steel)\n",
            "(Program number: 28) Electric Guitar (jazz)\n",
            "(Program number: 29) Electric Guitar (clean)\n",
            "(Program number: 30) Electric Guitar (muted)\n",
            "(Program number: 31) Overdriven Guitar\n",
            "(Program number: 32) Distortion Guitar\n",
            "(Program number: 33) Guitar Harmonics\n",
            "Please select an instrument: 25\n",
            "25\n"
          ]
        }
      ]
    },
    {
      "cell_type": "code",
      "source": [
        "# Get the program number for the selected instrument\n",
        "new_instrument_program = instrument_map.get(selected_instrument)\n",
        "print(new_instrument_program)"
      ],
      "metadata": {
        "colab": {
          "base_uri": "https://localhost:8080/"
        },
        "id": "0J_PPsP63BCm",
        "outputId": "3a094abb-426c-4cd6-d9cd-cc37fbe00dd6"
      },
      "execution_count": 21,
      "outputs": [
        {
          "output_type": "stream",
          "name": "stdout",
          "text": [
            "None\n"
          ]
        }
      ]
    },
    {
      "cell_type": "code",
      "source": [
        "# Define the desired instrument program number (e.g., 0 for Acoustic Grand Piano, 40 for Violin)\n",
        "# new_instrument_program = 40  # Violin\n",
        "\n",
        "\n",
        "# for instrument in midi_data.instruments:\n",
        "#   if instrument.is_drum != True:\n",
        "#     instrument.program = new_instrument_program"
      ],
      "metadata": {
        "id": "iyyJDi2jy0XX"
      },
      "execution_count": 10,
      "outputs": []
    },
    {
      "cell_type": "code",
      "source": [
        "\n",
        "# Define the output directory (modify as needed)\n",
        "output_midi_dir = '/content/drive/MyDrive/MIDI_Dataset/Output_Files'\n",
        "\n",
        "# Create the output directory if it doesn't exist\n",
        "os.makedirs(output_midi_dir, exist_ok=True)\n"
      ],
      "metadata": {
        "id": "ljeBM8tRyC_h"
      },
      "execution_count": 22,
      "outputs": []
    },
    {
      "cell_type": "code",
      "source": [],
      "metadata": {
        "id": "wZcsUD2GqjTU"
      },
      "execution_count": 11,
      "outputs": []
    },
    {
      "cell_type": "code",
      "source": [
        "input_midi_file_name = 'ABBA_-_Dancing_Queen(single_edition).mid'\n",
        "\n",
        "# Define the output file name\n",
        "output_midi_file = os.path.join(output_midi_dir, 'instrument_' + selected_instrument +'_'+ input_midi_file_name)\n",
        "print(output_midi_file)\n",
        "# Write the modified MIDI data to the new file\n",
        "midi_data.write(output_midi_file)\n",
        "\n",
        "print(f\"Modified MIDI file saved to: {output_midi_file}\")"
      ],
      "metadata": {
        "colab": {
          "base_uri": "https://localhost:8080/"
        },
        "id": "Uu6hfeBuzPpK",
        "outputId": "36dedd1b-50aa-40b2-91ed-769aee086074"
      },
      "execution_count": 28,
      "outputs": [
        {
          "output_type": "stream",
          "name": "stdout",
          "text": [
            "/content/drive/MyDrive/MIDI_Dataset/Output_Files/instrument_25_ABBA_-_Dancing_Queen(single_edition).mid\n",
            "Modified MIDI file saved to: /content/drive/MyDrive/MIDI_Dataset/Output_Files/instrument_25_ABBA_-_Dancing_Queen(single_edition).mid\n"
          ]
        }
      ]
    },
    {
      "cell_type": "code",
      "source": [],
      "metadata": {
        "id": "3YDRWKIVv5EM"
      },
      "execution_count": null,
      "outputs": []
    }
  ]
}