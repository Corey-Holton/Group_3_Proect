{
 "cells": [
  {
   "cell_type": "code",
   "execution_count": 1,
   "metadata": {},
   "outputs": [
    {
     "name": "stdout",
     "output_type": "stream",
     "text": [
      "Requirement already satisfied: pretty-midi in /opt/anaconda3/envs/dev/lib/python3.10/site-packages (0.2.10)\n",
      "Requirement already satisfied: numpy>=1.7.0 in /opt/anaconda3/envs/dev/lib/python3.10/site-packages (from pretty-midi) (1.26.4)\n",
      "Requirement already satisfied: mido>=1.1.16 in /opt/anaconda3/envs/dev/lib/python3.10/site-packages (from pretty-midi) (1.3.3)\n",
      "Requirement already satisfied: six in /opt/anaconda3/envs/dev/lib/python3.10/site-packages (from pretty-midi) (1.16.0)\n",
      "Requirement already satisfied: packaging in /opt/anaconda3/envs/dev/lib/python3.10/site-packages (from mido>=1.1.16->pretty-midi) (23.2)\n"
     ]
    }
   ],
   "source": [
    "!pip install pretty-midi"
   ]
  },
  {
   "cell_type": "code",
   "execution_count": 2,
   "metadata": {},
   "outputs": [],
   "source": [
    "from pretty_midi import PrettyMIDI"
   ]
  },
  {
   "cell_type": "code",
   "execution_count": null,
   "metadata": {},
   "outputs": [],
   "source": []
  }
 ],
 "metadata": {
  "kernelspec": {
   "display_name": "dev",
   "language": "python",
   "name": "dev"
  },
  "language_info": {
   "codemirror_mode": {
    "name": "ipython",
    "version": 3
   },
   "file_extension": ".py",
   "mimetype": "text/x-python",
   "name": "python",
   "nbconvert_exporter": "python",
   "pygments_lexer": "ipython3",
   "version": "3.10.14"
  }
 },
 "nbformat": 4,
 "nbformat_minor": 2
}
