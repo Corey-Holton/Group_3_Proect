{
 "cells": [
  {
   "cell_type": "code",
   "execution_count": 13,
   "id": "fe351e34",
   "metadata": {},
   "outputs": [],
   "source": [
    "!pip install faster-whisper -q"
   ]
  },
  {
   "cell_type": "code",
   "execution_count": 14,
   "id": "2c88655f",
   "metadata": {},
   "outputs": [],
   "source": [
    "from faster_whisper import WhisperModel\n",
    "import torch"
   ]
  },
  {
   "cell_type": "code",
   "execution_count": 17,
   "id": "73f90fa4",
   "metadata": {},
   "outputs": [],
   "source": [
    "audio_file = \"../../Resources/audio_files/vocals.mp3\"\n",
    "device = \"cuda\" if torch.cuda.is_available() else \"cpu\"\n",
    "compute_type = \"int8_float16\" if device == \"cuda\" else \"int8\"\n",
    "model_size = \"large-v3\"\n",
    "\n",
    "model = WhisperModel(model_size, device=device, compute_type=compute_type)"
   ]
  },
  {
   "cell_type": "code",
   "execution_count": 18,
   "id": "25268a05-8b73-44e2-8a50-52b43737b510",
   "metadata": {},
   "outputs": [
    {
     "name": "stderr",
     "output_type": "stream",
     "text": [
      "INFO:faster_whisper:Processing audio with duration 04:39.536\n",
      "INFO:faster_whisper:Detected language 'en' with probability 0.92\n"
     ]
    },
    {
     "name": "stdout",
     "output_type": "stream",
     "text": [
      "Detected language 'en' with probability 0.920605\n",
      "[0.00s -> 9.74s]  When I saw you again, you were on the run, fleeing danger and pain\n",
      "[9.74s -> 17.16s]  I had no choice but to follow you, though your beauty could have been my pain\n",
      "[17.16s -> 24.50s]  With only foes inside, you came to me and stood true by my side\n",
      "[24.50s -> 31.80s]  May we two never part, always, when gathering storms and mighty galas\n",
      "[31.80s -> 36.88s]  But in this mad world where the only law is gold, murder is a crown\n",
      "[36.88s -> 42.44s]  And wise women are burned in a world so full of fear that we tremble and hide\n",
      "[42.44s -> 49.00s]  It is time for the dragon to rise\n",
      "[49.00s -> 54.00s]  You are the fire in this brightest of nights\n",
      "[54.50s -> 57.22s]  I'm blinded, blinded by the light\n",
      "[57.22s -> 62.56s]  I can't believe you ain't so bright\n",
      "[62.56s -> 64.72s]  With the dawn of many days\n",
      "[64.72s -> 70.08s]  No more haunted by the shadows\n",
      "[70.08s -> 71.98s]  The past will visit tonight\n",
      "[71.98s -> 76.80s]  In this fire they must fade\n",
      "[84.50s -> 96.36s]  My hand I gave to thee\n",
      "[96.36s -> 100.78s]  And I vote my blade to protect our dream\n",
      "[100.78s -> 105.82s]  But it's us against the might of the king\n",
      "[105.82s -> 107.94s]  And this army of knights\n",
      "[107.94s -> 111.68s]  Our love can never die\n",
      "[111.68s -> 114.48s]  Walk with me through fire and fire\n",
      "[114.50s -> 119.02s]  Tonight, the storms will make the ocean turn\n",
      "[119.02s -> 122.44s]  Just one spark and all the land will burn\n",
      "[122.44s -> 127.78s]  But in this mad world where the only law is gold, murder is a crown\n",
      "[127.78s -> 133.36s]  And wise women are burned in a world so full of fear that we tremble and hide\n",
      "[133.36s -> 139.92s]  It is time for the dragon to rise\n",
      "[139.92s -> 144.48s]  You are the fire in this brightest of nights\n",
      "[144.50s -> 146.48s]  You are the fire in this brightest of nights\n",
      "[146.48s -> 148.30s]  I'm blinded, blinded by the light\n",
      "[148.30s -> 152.84s]  I can't believe you ain't so bright\n",
      "[152.84s -> 155.74s]  With the dawn of many days\n",
      "[155.74s -> 161.08s]  No more haunted by the shadows\n",
      "[161.08s -> 163.02s]  The past will visit tonight\n",
      "[163.02s -> 170.38s]  In this fire they must fade\n",
      "[174.50s -> 188.34s]  Where the fire-aged mere embers now remain\n",
      "[188.34s -> 195.36s]  The ashes drift up to heaven high\n",
      "[198.74s -> 203.14s]  Sparks fly like rising rain\n",
      "[203.14s -> 210.30s]  And like the stars, they are shining in the sky\n",
      "[210.30s -> 217.40s]  As fire takes from flame will be regained\n",
      "[217.40s -> 224.56s]  We sing farewell as we begin again\n",
      "[227.36s -> 232.56s]  And in these brightest nights\n",
      "[233.14s -> 239.92s]  With the dragons, a queen came to rise\n",
      "[239.92s -> 243.54s]  You wanted fire\n",
      "[243.54s -> 247.94s]  In these brightest of nights\n",
      "[247.94s -> 255.38s]  I can only flame so bright\n",
      "[255.38s -> 262.38s]  No more haunted by the shadows\n",
      "[263.14s -> 264.94s]  As long as it's night\n",
      "[264.94s -> 272.36s]  In this fire, they must fade\n",
      "[272.36s -> 275.36s]  Subtitles by the Amara.org community\n"
     ]
    }
   ],
   "source": [
    "segments, info = model.transcribe(audio_file, beam_size=5)\n",
    "\n",
    "print(\"Detected language '%s' with probability %f\" % (info.language, info.language_probability))\n",
    "\n",
    "for segment in segments:\n",
    "  print(\"[%.2fs -> %.2fs] %s\" % (segment.start, segment.end, segment.text))"
   ]
  }
 ],
 "metadata": {
  "kernelspec": {
   "display_name": "py310",
   "language": "python",
   "name": "python3"
  },
  "language_info": {
   "codemirror_mode": {
    "name": "ipython",
    "version": 3
   },
   "file_extension": ".py",
   "mimetype": "text/x-python",
   "name": "python",
   "nbconvert_exporter": "python",
   "pygments_lexer": "ipython3",
   "version": "3.10.14"
  }
 },
 "nbformat": 4,
 "nbformat_minor": 5
}
