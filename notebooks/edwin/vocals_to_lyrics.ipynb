{
 "cells": [
  {
   "cell_type": "code",
   "execution_count": 1,
   "id": "fe351e34",
   "metadata": {},
   "outputs": [],
   "source": [
    "!pip install faster-whisper -q"
   ]
  },
  {
   "cell_type": "code",
   "execution_count": 2,
   "id": "2c88655f",
   "metadata": {},
   "outputs": [],
   "source": [
    "from faster_whisper import WhisperModel\n",
    "import torch"
   ]
  },
  {
   "cell_type": "code",
   "execution_count": 3,
   "id": "73f90fa4",
   "metadata": {},
   "outputs": [
    {
     "data": {
      "application/vnd.jupyter.widget-view+json": {
       "model_id": "3e16138de7ec4cc3b29571276da52f5c",
       "version_major": 2,
       "version_minor": 0
      },
      "text/plain": [
       "config.json:   0%|          | 0.00/2.39k [00:00<?, ?B/s]"
      ]
     },
     "metadata": {},
     "output_type": "display_data"
    },
    {
     "data": {
      "application/vnd.jupyter.widget-view+json": {
       "model_id": "f3e68a27c35a4f4a88f5b2a5c21f99ab",
       "version_major": 2,
       "version_minor": 0
      },
      "text/plain": [
       "preprocessor_config.json:   0%|          | 0.00/340 [00:00<?, ?B/s]"
      ]
     },
     "metadata": {},
     "output_type": "display_data"
    },
    {
     "data": {
      "application/vnd.jupyter.widget-view+json": {
       "model_id": "4723f921105e4b8598f7b7e1c305e3ac",
       "version_major": 2,
       "version_minor": 0
      },
      "text/plain": [
       "vocabulary.json:   0%|          | 0.00/1.07M [00:00<?, ?B/s]"
      ]
     },
     "metadata": {},
     "output_type": "display_data"
    },
    {
     "data": {
      "application/vnd.jupyter.widget-view+json": {
       "model_id": "9e4f4aacc4ee4f8e840416dec5cdf3a9",
       "version_major": 2,
       "version_minor": 0
      },
      "text/plain": [
       "tokenizer.json:   0%|          | 0.00/2.48M [00:00<?, ?B/s]"
      ]
     },
     "metadata": {},
     "output_type": "display_data"
    },
    {
     "data": {
      "application/vnd.jupyter.widget-view+json": {
       "model_id": "459b2b86c4f64555903f7e04e9c82706",
       "version_major": 2,
       "version_minor": 0
      },
      "text/plain": [
       "model.bin:   0%|          | 0.00/3.09G [00:00<?, ?B/s]"
      ]
     },
     "metadata": {},
     "output_type": "display_data"
    }
   ],
   "source": [
    "audio_file = \"../../Resources/audio_files/dancing_queen.mp3\"\n",
    "device = \"cuda\" if torch.cuda.is_available() else \"cpu\"\n",
    "compute_type = \"int8_float16\" if device == \"cuda\" else \"int8\"\n",
    "model_size = \"large-v3\"\n",
    "\n",
    "model = WhisperModel(model_size, device=device, compute_type=compute_type)"
   ]
  },
  {
   "cell_type": "code",
   "execution_count": 4,
   "id": "25268a05-8b73-44e2-8a50-52b43737b510",
   "metadata": {},
   "outputs": [
    {
     "name": "stdout",
     "output_type": "stream",
     "text": [
      "Detected language 'en' with probability 0.233811\n",
      "[0.00s -> 26.00s]  You can dance, you can jive\n",
      "[26.00s -> 29.60s]  Having the time of your life\n",
      "[29.60s -> 34.88s]  See that girl, watch that scene\n",
      "[34.88s -> 37.56s]  Dig it, the dancing queen\n",
      "[37.56s -> 48.58s]  Friday night and the lights are low\n",
      "[48.58s -> 54.10s]  Looking out for a place to go\n",
      "[54.10s -> 55.98s]  Where the play, the right play\n",
      "[55.98s -> 56.00s]  Where the play, the right play\n",
      "[56.00s -> 58.56s]  Rock music, getting in the swing\n",
      "[58.56s -> 61.54s]  You come to look for a king\n",
      "[61.54s -> 68.04s]  Anybody could be that guy\n",
      "[68.04s -> 72.42s]  Night is young and the music's high\n",
      "[72.42s -> 75.70s]  With a bit of rock music\n",
      "[75.70s -> 77.72s]  Everything's fine\n",
      "[77.72s -> 81.18s]  Throw in the moon for a dance\n",
      "[81.18s -> 85.36s]  And when you get the chance\n",
      "[85.36s -> 85.98s]  You can dance, you can jive\n",
      "[85.98s -> 89.54s]  You are the dancing queen\n",
      "[89.54s -> 93.92s]  Young and sweet, only 17\n",
      "[93.92s -> 99.68s]  Dancing queen\n",
      "[99.68s -> 104.34s]  Feel the beat from the tambourine\n",
      "[104.34s -> 111.94s]  You can dance, you can jive\n",
      "[111.94s -> 115.52s]  Having the time of your life\n",
      "[115.52s -> 115.96s]  See that girl, watch that scene\n",
      "[115.96s -> 119.52s]  Dig it, the dancing queen\n",
      "[119.52s -> 120.82s]  See that girl, watch that scene\n",
      "[120.82s -> 122.42s]  Dig it, the dancing queen\n",
      "[122.42s -> 136.52s]  You're a teen, so you're turning on\n",
      "[136.52s -> 139.52s]  Leave them burning and then you're gone\n",
      "[139.52s -> 140.52s]  Looking out for a place to go\n",
      "[140.52s -> 141.52s]  Having the time of your life\n",
      "[141.52s -> 142.52s]  See that girl, watch that scene\n",
      "[142.52s -> 143.52s]  Dig it, the dancing queen\n",
      "[143.52s -> 144.52s]  See that girl, watch that scene\n",
      "[144.52s -> 146.92s]  Looking out for another\n",
      "[146.92s -> 149.04s]  Anyone will do\n",
      "[149.04s -> 152.06s]  Throw in the moon for a dance\n",
      "[152.06s -> 157.70s]  And when you get the chance\n",
      "[157.70s -> 160.90s]  You are the dancing queen\n",
      "[160.90s -> 165.38s]  Young and sweet, only 17\n",
      "[165.38s -> 170.78s]  Dancing queen\n",
      "[170.78s -> 173.88s]  Feel the beat from the tambourine\n",
      "[173.88s -> 187.72s]  Oh, yeah, oh, yeah, oh, yeah\n",
      "[187.72s -> 189.28s]  You can dance, you can jive\n",
      "[189.28s -> 190.28s]  Having the time of your life\n",
      "[190.28s -> 191.28s]  Ooh-ooh, see that girl\n",
      "[191.28s -> 192.28s]  Watch that scene\n",
      "[192.28s -> 193.28s]  Dig it, the dancing queen\n",
      "[193.28s -> 194.28s]  Dig it, the dancing queen\n",
      "[194.28s -> 202.28s]  Bigger than the dancing queen\n",
      "[202.28s -> 203.28s]  Bigger than the dancing queen\n",
      "[203.28s -> 203.32s]  Bigger than the dancing queen\n",
      "[203.32s -> 203.82s]  Queen.\n"
     ]
    }
   ],
   "source": [
    "segments, info = model.transcribe(audio_file, beam_size=5)\n",
    "\n",
    "print(\"Detected language '%s' with probability %f\" % (info.language, info.language_probability))\n",
    "\n",
    "for segment in segments:\n",
    "  print(\"[%.2fs -> %.2fs] %s\" % (segment.start, segment.end, segment.text))"
   ]
  }
 ],
 "metadata": {
  "kernelspec": {
   "display_name": "base",
   "language": "python",
   "name": "python3"
  },
  "language_info": {
   "codemirror_mode": {
    "name": "ipython",
    "version": 3
   },
   "file_extension": ".py",
   "mimetype": "text/x-python",
   "name": "python",
   "nbconvert_exporter": "python",
   "pygments_lexer": "ipython3",
   "version": "3.12.4"
  }
 },
 "nbformat": 4,
 "nbformat_minor": 5
}
