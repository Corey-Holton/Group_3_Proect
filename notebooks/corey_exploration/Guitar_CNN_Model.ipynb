{
 "cells": [
  {
   "cell_type": "code",
   "execution_count": 1,
   "id": "2b296afd-f835-4592-82b7-590b40aeb573",
   "metadata": {},
   "outputs": [],
   "source": [
    "# Dependencies\n",
    "import librosa\n",
    "import librosa.display\n",
    "import tensorflow as tf\n",
    "from tensorflow.keras.layers import Dense, LSTM, Dropout\n",
    "import numpy as np\n",
    "import os\n",
    "import pandas as pd\n",
    "from sklearn.preprocessing import StandardScaler, LabelEncoder, OneHotEncoder\n",
    "from sklearn.model_selection import train_test_split\n",
    "import keras\n",
    "from keras.models import Sequential\n",
    "from keras.layers import Dense, Conv1D, MaxPooling1D, Flatten, Dropout, Activation, Input\n",
    "from keras.optimizers import Adam\n",
    "import matplotlib.pyplot as plt\n",
    "import IPython.display as ipd\n",
    "from glob import glob\n",
    "color_pal = plt.rcParams[\"axes.prop_cycle\"].by_key()[\"color\"]\n",
    "from IPython.display import Audio\n",
    "from keras.models import load_model\n",
    "import librosa\n",
    "import numpy as np\n",
    "import pandas as pd\n",
    "from sklearn.preprocessing import StandardScaler, OneHotEncoder\n",
    "from sklearn.model_selection import train_test_split\n",
    "import keras\n",
    "from keras.models import Sequential, load_model\n",
    "from keras.layers import Dense, Conv1D, MaxPooling1D, Flatten, Dropout, Input\n",
    "import matplotlib.pyplot as plt\n",
    "import music21\n",
    "from pydub import AudioSegment\n",
    "import json\n",
    "from IPython.display import HTML, Javascript, display\n",
    "import joblib"
   ]
  },
  {
   "cell_type": "code",
   "execution_count": 2,
   "id": "48aa5f06-0917-4533-bf8e-d1315af7b4a9",
   "metadata": {},
   "outputs": [],
   "source": [
    "# Load audio file and extract chroma features\n",
    "audio_files = glob(r'C:\\Users\\CJHx6\\OneDrive\\AI_Class\\GIT\\Group_3_Project\\Resources\\guitar-notes\\Notes Datasets\\*\\*.wav')\n"
   ]
  },
  {
   "cell_type": "code",
   "execution_count": 3,
   "id": "b94961b3-fa27-48ab-956f-12f975fe8b4d",
   "metadata": {},
   "outputs": [],
   "source": [
    "# Load and preprocess the audio data\n",
    "def add_white_noise(data, noise_level=0.005):\n",
    "    max_amplitude = np.max(np.abs(data))\n",
    "    noise_amp = noise_level * max_amplitude\n",
    "    white_noise = noise_amp * np.random.normal(size=len(data))\n",
    "    noisy_data = data + white_noise\n",
    "    return noisy_data\n",
    "\n",
    "def time_stretch(data, rate=0.8):\n",
    "    return librosa.effects.time_stretch(data, rate=rate)\n",
    "\n",
    "def time_shift(data, max_shift_ms=50):\n",
    "    shift_range = int(np.random.uniform(low=-max_shift_ms, high=max_shift_ms) * 1000)\n",
    "    return np.roll(data, shift_range)\n",
    "\n",
    "def random_pitch_shift(data, sr, pitch_range=(-2, 2)):\n",
    "    pitch_shift_semitones = np.random.uniform(*pitch_range)\n",
    "    pitch_factor = 2 ** (pitch_shift_semitones / 12.0)\n",
    "    return librosa.effects.pitch_shift(data, sr=sr, n_steps=pitch_factor)"
   ]
  },
  {
   "cell_type": "code",
   "execution_count": 4,
   "id": "3b67dc7a-433e-495a-a5cf-039476af4dd8",
   "metadata": {},
   "outputs": [],
   "source": [
    "# Extract features from audio\n",
    "def extract_features(file_path, num_mfcc=13, n_fft=2048, hop_length=512, mfcc_len=100):\n",
    "    audio, sr = librosa.load(file_path, sr=None)    \n",
    "    audio = add_white_noise(audio)\n",
    "    audio = time_stretch(audio)\n",
    "    audio = time_shift(audio)\n",
    "    audio = random_pitch_shift(audio, sr)\n",
    "    \n",
    "    mfccs = librosa.feature.mfcc(y=audio, sr=sr, n_mfcc=num_mfcc, n_fft=n_fft, hop_length=hop_length)\n",
    "    mel_spectrogram = librosa.feature.melspectrogram(y=audio, sr=sr, n_fft=n_fft, hop_length=hop_length)\n",
    "    chroma = librosa.feature.chroma_stft(y=audio, sr=sr, n_fft=n_fft, hop_length=hop_length)\n",
    "    contrast = librosa.feature.spectral_contrast(y=audio, sr=sr, n_fft=n_fft, hop_length=hop_length)\n",
    "    \n",
    "    if mfccs.shape[1] < mfcc_len:\n",
    "        mfccs = np.pad(mfccs, ((0, 0), (0, mfcc_len - mfccs.shape[1])), mode='constant')\n",
    "        mel_spectrogram = np.pad(mel_spectrogram, ((0, 0), (0, mfcc_len - mel_spectrogram.shape[1])), mode='constant')\n",
    "        chroma = np.pad(chroma, ((0, 0), (0, mfcc_len - chroma.shape[1])), mode='constant')\n",
    "        contrast = np.pad(contrast, ((0, 0), (0, mfcc_len - contrast.shape[1])), mode='constant')\n",
    "    else:\n",
    "        mfccs = mfccs[:, :mfcc_len]\n",
    "        mel_spectrogram = mel_spectrogram[:, :mfcc_len]\n",
    "        chroma = chroma[:, :mfcc_len]\n",
    "        contrast = contrast[:, :mfcc_len]\n",
    "    \n",
    "    features = np.vstack((mfccs, mel_spectrogram, chroma, contrast))\n",
    "    label = os.path.basename(os.path.dirname(file_path)).split('. ')[1]\n",
    "    \n",
    "    return features, label"
   ]
  },
  {
   "cell_type": "code",
   "execution_count": 5,
   "id": "3be552b0-64e0-4cbd-a883-8a13547ac8f1",
   "metadata": {},
   "outputs": [],
   "source": [
    "# Function to process the entire dataset\n",
    "def process_dataset(dataset_path, mfcc_len=100):\n",
    "    data = []\n",
    "    labels = []\n",
    "    for root, dirs, files in os.walk(dataset_path):\n",
    "        for file in files:\n",
    "            if file.endswith('.wav'):\n",
    "                file_path = os.path.join(root, file)\n",
    "                features, label = extract_features(file_path, mfcc_len=mfcc_len)\n",
    "                data.append(features)\n",
    "                labels.append(label)\n",
    "    return data, labels"
   ]
  },
  {
   "cell_type": "code",
   "execution_count": 6,
   "id": "de6c15f2-20ba-439d-8bd4-99182bafdb3f",
   "metadata": {},
   "outputs": [
    {
     "name": "stderr",
     "output_type": "stream",
     "text": [
      "C:\\Users\\CJHx6\\anaconda3\\Lib\\site-packages\\librosa\\core\\pitch.py:101: UserWarning: Trying to estimate tuning from empty frequency set.\n",
      "  return pitch_tuning(\n"
     ]
    }
   ],
   "source": [
    "# Process the entire dataset\n",
    "dataset_path = r'C:\\Users\\CJHx6\\OneDrive\\AI_Class\\GIT\\Group_3_Project\\Resources\\guitar-notes\\Notes Datasets'\n",
    "data, labels = process_dataset(dataset_path)"
   ]
  },
  {
   "cell_type": "code",
   "execution_count": 7,
   "id": "56d22e87-8e7a-419c-bffa-3628027cfb86",
   "metadata": {},
   "outputs": [],
   "source": [
    "# Converting data to a DataFrame\n",
    "data = np.array(data)\n",
    "data_flat = np.array([d.flatten() for d in data])\n",
    "df = pd.DataFrame(data_flat)\n",
    "df['label'] = labels\n",
    "df = df.sample(frac=1).reset_index(drop=True)"
   ]
  },
  {
   "cell_type": "code",
   "execution_count": 8,
   "id": "0d772d58-9b1d-4705-9c41-3305e093ef54",
   "metadata": {},
   "outputs": [],
   "source": [
    "# Split the data into training, validation, and testing sets\n",
    "X = df.iloc[: ,:-1].values\n",
    "Y = df['label'].values\n",
    "encoder = OneHotEncoder()\n",
    "Y = encoder.fit_transform(np.array(Y).reshape(-1,1)).toarray()\n",
    "\n",
    "x_train, x_test, y_train, y_test = train_test_split(X, Y, test_size=0.2, random_state=42, shuffle=True)\n",
    "x_val, x_test, y_val, y_test = train_test_split(x_test, y_test, test_size=0.7, random_state=42, shuffle=True)"
   ]
  },
  {
   "cell_type": "code",
   "execution_count": 9,
   "id": "badf1a61-6e98-49fe-86d4-0678d690243c",
   "metadata": {},
   "outputs": [],
   "source": [
    "# Normalize the data\n",
    "scaler = StandardScaler()\n",
    "x_train = scaler.fit_transform(x_train)\n",
    "x_test = scaler.transform(x_test)\n",
    "x_val = scaler.transform(x_val)\n",
    "x_train = np.expand_dims(x_train, axis=-1)\n",
    "x_test = np.expand_dims(x_test, axis=-1)\n",
    "x_val = np.expand_dims(x_val, axis=-1)"
   ]
  },
  {
   "cell_type": "code",
   "execution_count": 10,
   "id": "11c77837-cef0-4330-a490-5e45193a06d8",
   "metadata": {},
   "outputs": [],
   "source": [
    "from keras.layers import Input\n",
    "\n",
    "# Build and compile the CNN model\n",
    "model = Sequential()\n",
    "model.add(Input(shape=(x_train.shape[1], 1)))\n",
    "model.add(Conv1D(64, kernel_size=3, activation='relu'))\n",
    "model.add(MaxPooling1D(pool_size=2))\n",
    "model.add(Conv1D(128, kernel_size=3, activation='relu'))\n",
    "model.add(MaxPooling1D(pool_size=2))\n",
    "model.add(Conv1D(256, kernel_size=3, activation='relu'))\n",
    "model.add(MaxPooling1D(pool_size=2))\n",
    "model.add(Flatten())\n",
    "model.add(Dense(256, activation='relu'))\n",
    "model.add(Dropout(0.5))\n",
    "model.add(Dense(128, activation='relu'))\n",
    "model.add(Dropout(0.5))\n",
    "model.add(Dense(len(encoder.categories_[0]), activation='softmax'))\n",
    "\n",
    "model.compile(optimizer='adam', loss='categorical_crossentropy', metrics=['accuracy'])"
   ]
  },
  {
   "cell_type": "code",
   "execution_count": 11,
   "id": "7862e5e3-e3b3-4c04-89d1-f7ee57340b45",
   "metadata": {},
   "outputs": [
    {
     "name": "stdout",
     "output_type": "stream",
     "text": [
      "Epoch 1/45\n",
      "\u001b[1m29/29\u001b[0m \u001b[32m━━━━━━━━━━━━━━━━━━━━\u001b[0m\u001b[37m\u001b[0m \u001b[1m30s\u001b[0m 978ms/step - accuracy: 0.0341 - loss: 5.1434 - val_accuracy: 0.3529 - val_loss: 3.0516\n",
      "Epoch 2/45\n",
      "\u001b[1m29/29\u001b[0m \u001b[32m━━━━━━━━━━━━━━━━━━━━\u001b[0m\u001b[37m\u001b[0m \u001b[1m28s\u001b[0m 979ms/step - accuracy: 0.2252 - loss: 2.9982 - val_accuracy: 0.6103 - val_loss: 1.8303\n",
      "Epoch 3/45\n",
      "\u001b[1m29/29\u001b[0m \u001b[32m━━━━━━━━━━━━━━━━━━━━\u001b[0m\u001b[37m\u001b[0m \u001b[1m30s\u001b[0m 1s/step - accuracy: 0.4102 - loss: 2.2137 - val_accuracy: 0.8824 - val_loss: 0.8695\n",
      "Epoch 4/45\n",
      "\u001b[1m29/29\u001b[0m \u001b[32m━━━━━━━━━━━━━━━━━━━━\u001b[0m\u001b[37m\u001b[0m \u001b[1m30s\u001b[0m 1s/step - accuracy: 0.5947 - loss: 1.5387 - val_accuracy: 0.9265 - val_loss: 0.5062\n",
      "Epoch 5/45\n",
      "\u001b[1m29/29\u001b[0m \u001b[32m━━━━━━━━━━━━━━━━━━━━\u001b[0m\u001b[37m\u001b[0m \u001b[1m29s\u001b[0m 994ms/step - accuracy: 0.6857 - loss: 1.0942 - val_accuracy: 0.9632 - val_loss: 0.2625\n",
      "Epoch 6/45\n",
      "\u001b[1m29/29\u001b[0m \u001b[32m━━━━━━━━━━━━━━━━━━━━\u001b[0m\u001b[37m\u001b[0m \u001b[1m29s\u001b[0m 990ms/step - accuracy: 0.7726 - loss: 0.7889 - val_accuracy: 0.9779 - val_loss: 0.2339\n",
      "Epoch 7/45\n",
      "\u001b[1m29/29\u001b[0m \u001b[32m━━━━━━━━━━━━━━━━━━━━\u001b[0m\u001b[37m\u001b[0m \u001b[1m29s\u001b[0m 998ms/step - accuracy: 0.7932 - loss: 0.6986 - val_accuracy: 0.9632 - val_loss: 0.1568\n",
      "Epoch 8/45\n",
      "\u001b[1m29/29\u001b[0m \u001b[32m━━━━━━━━━━━━━━━━━━━━\u001b[0m\u001b[37m\u001b[0m \u001b[1m29s\u001b[0m 1s/step - accuracy: 0.8262 - loss: 0.6043 - val_accuracy: 0.9559 - val_loss: 0.1575\n",
      "Epoch 9/45\n",
      "\u001b[1m29/29\u001b[0m \u001b[32m━━━━━━━━━━━━━━━━━━━━\u001b[0m\u001b[37m\u001b[0m \u001b[1m29s\u001b[0m 1s/step - accuracy: 0.8716 - loss: 0.4817 - val_accuracy: 0.9559 - val_loss: 0.1354\n",
      "Epoch 10/45\n",
      "\u001b[1m29/29\u001b[0m \u001b[32m━━━━━━━━━━━━━━━━━━━━\u001b[0m\u001b[37m\u001b[0m \u001b[1m29s\u001b[0m 983ms/step - accuracy: 0.8597 - loss: 0.4580 - val_accuracy: 0.9853 - val_loss: 0.0877\n",
      "Epoch 11/45\n",
      "\u001b[1m29/29\u001b[0m \u001b[32m━━━━━━━━━━━━━━━━━━━━\u001b[0m\u001b[37m\u001b[0m \u001b[1m29s\u001b[0m 990ms/step - accuracy: 0.8993 - loss: 0.3295 - val_accuracy: 0.9706 - val_loss: 0.1104\n",
      "Epoch 12/45\n",
      "\u001b[1m29/29\u001b[0m \u001b[32m━━━━━━━━━━━━━━━━━━━━\u001b[0m\u001b[37m\u001b[0m \u001b[1m29s\u001b[0m 991ms/step - accuracy: 0.9034 - loss: 0.3122 - val_accuracy: 0.9706 - val_loss: 0.0960\n",
      "Epoch 13/45\n",
      "\u001b[1m29/29\u001b[0m \u001b[32m━━━━━━━━━━━━━━━━━━━━\u001b[0m\u001b[37m\u001b[0m \u001b[1m29s\u001b[0m 1s/step - accuracy: 0.9180 - loss: 0.2990 - val_accuracy: 0.9779 - val_loss: 0.0590\n",
      "Epoch 14/45\n",
      "\u001b[1m29/29\u001b[0m \u001b[32m━━━━━━━━━━━━━━━━━━━━\u001b[0m\u001b[37m\u001b[0m \u001b[1m29s\u001b[0m 1s/step - accuracy: 0.9228 - loss: 0.2458 - val_accuracy: 0.9779 - val_loss: 0.0783\n",
      "Epoch 15/45\n",
      "\u001b[1m29/29\u001b[0m \u001b[32m━━━━━━━━━━━━━━━━━━━━\u001b[0m\u001b[37m\u001b[0m \u001b[1m29s\u001b[0m 1000ms/step - accuracy: 0.9244 - loss: 0.2480 - val_accuracy: 0.9706 - val_loss: 0.0799\n",
      "Epoch 16/45\n",
      "\u001b[1m29/29\u001b[0m \u001b[32m━━━━━━━━━━━━━━━━━━━━\u001b[0m\u001b[37m\u001b[0m \u001b[1m29s\u001b[0m 994ms/step - accuracy: 0.9394 - loss: 0.2456 - val_accuracy: 0.9779 - val_loss: 0.0424\n",
      "Epoch 17/45\n",
      "\u001b[1m29/29\u001b[0m \u001b[32m━━━━━━━━━━━━━━━━━━━━\u001b[0m\u001b[37m\u001b[0m \u001b[1m29s\u001b[0m 1s/step - accuracy: 0.9393 - loss: 0.1905 - val_accuracy: 0.9926 - val_loss: 0.0496\n",
      "Epoch 18/45\n",
      "\u001b[1m29/29\u001b[0m \u001b[32m━━━━━━━━━━━━━━━━━━━━\u001b[0m\u001b[37m\u001b[0m \u001b[1m29s\u001b[0m 1s/step - accuracy: 0.9474 - loss: 0.1822 - val_accuracy: 0.9779 - val_loss: 0.0707\n",
      "Epoch 19/45\n",
      "\u001b[1m29/29\u001b[0m \u001b[32m━━━━━━━━━━━━━━━━━━━━\u001b[0m\u001b[37m\u001b[0m \u001b[1m28s\u001b[0m 982ms/step - accuracy: 0.9380 - loss: 0.1813 - val_accuracy: 0.9926 - val_loss: 0.0409\n",
      "Epoch 20/45\n",
      "\u001b[1m29/29\u001b[0m \u001b[32m━━━━━━━━━━━━━━━━━━━━\u001b[0m\u001b[37m\u001b[0m \u001b[1m29s\u001b[0m 988ms/step - accuracy: 0.9564 - loss: 0.1266 - val_accuracy: 0.9779 - val_loss: 0.0632\n",
      "Epoch 21/45\n",
      "\u001b[1m29/29\u001b[0m \u001b[32m━━━━━━━━━━━━━━━━━━━━\u001b[0m\u001b[37m\u001b[0m \u001b[1m29s\u001b[0m 991ms/step - accuracy: 0.9501 - loss: 0.1314 - val_accuracy: 0.9853 - val_loss: 0.0554\n",
      "Epoch 22/45\n",
      "\u001b[1m29/29\u001b[0m \u001b[32m━━━━━━━━━━━━━━━━━━━━\u001b[0m\u001b[37m\u001b[0m \u001b[1m29s\u001b[0m 998ms/step - accuracy: 0.9573 - loss: 0.1209 - val_accuracy: 0.9779 - val_loss: 0.0564\n",
      "Epoch 23/45\n",
      "\u001b[1m29/29\u001b[0m \u001b[32m━━━━━━━━━━━━━━━━━━━━\u001b[0m\u001b[37m\u001b[0m \u001b[1m29s\u001b[0m 1s/step - accuracy: 0.9665 - loss: 0.1000 - val_accuracy: 0.9853 - val_loss: 0.0401\n",
      "Epoch 24/45\n",
      "\u001b[1m29/29\u001b[0m \u001b[32m━━━━━━━━━━━━━━━━━━━━\u001b[0m\u001b[37m\u001b[0m \u001b[1m29s\u001b[0m 1s/step - accuracy: 0.9716 - loss: 0.0910 - val_accuracy: 0.9853 - val_loss: 0.0555\n",
      "Epoch 25/45\n",
      "\u001b[1m29/29\u001b[0m \u001b[32m━━━━━━━━━━━━━━━━━━━━\u001b[0m\u001b[37m\u001b[0m \u001b[1m30s\u001b[0m 1s/step - accuracy: 0.9597 - loss: 0.1221 - val_accuracy: 0.9853 - val_loss: 0.0517\n",
      "Epoch 26/45\n",
      "\u001b[1m29/29\u001b[0m \u001b[32m━━━━━━━━━━━━━━━━━━━━\u001b[0m\u001b[37m\u001b[0m \u001b[1m30s\u001b[0m 1s/step - accuracy: 0.9744 - loss: 0.0962 - val_accuracy: 0.9779 - val_loss: 0.0590\n",
      "Epoch 27/45\n",
      "\u001b[1m29/29\u001b[0m \u001b[32m━━━━━━━━━━━━━━━━━━━━\u001b[0m\u001b[37m\u001b[0m \u001b[1m29s\u001b[0m 994ms/step - accuracy: 0.9620 - loss: 0.1389 - val_accuracy: 0.9853 - val_loss: 0.0559\n",
      "Epoch 28/45\n",
      "\u001b[1m29/29\u001b[0m \u001b[32m━━━━━━━━━━━━━━━━━━━━\u001b[0m\u001b[37m\u001b[0m \u001b[1m29s\u001b[0m 1s/step - accuracy: 0.9747 - loss: 0.0771 - val_accuracy: 0.9853 - val_loss: 0.0457\n",
      "Epoch 29/45\n",
      "\u001b[1m29/29\u001b[0m \u001b[32m━━━━━━━━━━━━━━━━━━━━\u001b[0m\u001b[37m\u001b[0m \u001b[1m30s\u001b[0m 1s/step - accuracy: 0.9712 - loss: 0.0855 - val_accuracy: 0.9926 - val_loss: 0.0410\n",
      "Epoch 30/45\n",
      "\u001b[1m29/29\u001b[0m \u001b[32m━━━━━━━━━━━━━━━━━━━━\u001b[0m\u001b[37m\u001b[0m \u001b[1m29s\u001b[0m 994ms/step - accuracy: 0.9744 - loss: 0.0822 - val_accuracy: 0.9853 - val_loss: 0.0488\n",
      "Epoch 31/45\n",
      "\u001b[1m29/29\u001b[0m \u001b[32m━━━━━━━━━━━━━━━━━━━━\u001b[0m\u001b[37m\u001b[0m \u001b[1m28s\u001b[0m 974ms/step - accuracy: 0.9691 - loss: 0.0870 - val_accuracy: 0.9779 - val_loss: 0.0486\n",
      "Epoch 32/45\n",
      "\u001b[1m29/29\u001b[0m \u001b[32m━━━━━━━━━━━━━━━━━━━━\u001b[0m\u001b[37m\u001b[0m \u001b[1m28s\u001b[0m 961ms/step - accuracy: 0.9766 - loss: 0.0831 - val_accuracy: 0.9853 - val_loss: 0.0496\n",
      "Epoch 33/45\n",
      "\u001b[1m29/29\u001b[0m \u001b[32m━━━━━━━━━━━━━━━━━━━━\u001b[0m\u001b[37m\u001b[0m \u001b[1m28s\u001b[0m 949ms/step - accuracy: 0.9786 - loss: 0.0723 - val_accuracy: 0.9926 - val_loss: 0.0397\n",
      "Epoch 34/45\n",
      "\u001b[1m29/29\u001b[0m \u001b[32m━━━━━━━━━━━━━━━━━━━━\u001b[0m\u001b[37m\u001b[0m \u001b[1m28s\u001b[0m 964ms/step - accuracy: 0.9786 - loss: 0.0622 - val_accuracy: 0.9853 - val_loss: 0.0478\n",
      "Epoch 35/45\n",
      "\u001b[1m29/29\u001b[0m \u001b[32m━━━━━━━━━━━━━━━━━━━━\u001b[0m\u001b[37m\u001b[0m \u001b[1m28s\u001b[0m 953ms/step - accuracy: 0.9761 - loss: 0.0773 - val_accuracy: 0.9779 - val_loss: 0.0642\n",
      "Epoch 36/45\n",
      "\u001b[1m29/29\u001b[0m \u001b[32m━━━━━━━━━━━━━━━━━━━━\u001b[0m\u001b[37m\u001b[0m \u001b[1m28s\u001b[0m 952ms/step - accuracy: 0.9852 - loss: 0.0589 - val_accuracy: 0.9853 - val_loss: 0.0521\n",
      "Epoch 37/45\n",
      "\u001b[1m29/29\u001b[0m \u001b[32m━━━━━━━━━━━━━━━━━━━━\u001b[0m\u001b[37m\u001b[0m \u001b[1m28s\u001b[0m 958ms/step - accuracy: 0.9809 - loss: 0.0588 - val_accuracy: 0.9853 - val_loss: 0.0497\n",
      "Epoch 38/45\n",
      "\u001b[1m29/29\u001b[0m \u001b[32m━━━━━━━━━━━━━━━━━━━━\u001b[0m\u001b[37m\u001b[0m \u001b[1m28s\u001b[0m 979ms/step - accuracy: 0.9853 - loss: 0.0532 - val_accuracy: 0.9779 - val_loss: 0.0440\n",
      "Epoch 39/45\n",
      "\u001b[1m29/29\u001b[0m \u001b[32m━━━━━━━━━━━━━━━━━━━━\u001b[0m\u001b[37m\u001b[0m \u001b[1m29s\u001b[0m 985ms/step - accuracy: 0.9843 - loss: 0.0482 - val_accuracy: 0.9853 - val_loss: 0.0600\n",
      "Epoch 40/45\n",
      "\u001b[1m29/29\u001b[0m \u001b[32m━━━━━━━━━━━━━━━━━━━━\u001b[0m\u001b[37m\u001b[0m \u001b[1m29s\u001b[0m 986ms/step - accuracy: 0.9860 - loss: 0.0401 - val_accuracy: 0.9926 - val_loss: 0.0497\n",
      "Epoch 41/45\n",
      "\u001b[1m29/29\u001b[0m \u001b[32m━━━━━━━━━━━━━━━━━━━━\u001b[0m\u001b[37m\u001b[0m \u001b[1m29s\u001b[0m 994ms/step - accuracy: 0.9872 - loss: 0.0437 - val_accuracy: 0.9706 - val_loss: 0.0919\n",
      "Epoch 42/45\n",
      "\u001b[1m29/29\u001b[0m \u001b[32m━━━━━━━━━━━━━━━━━━━━\u001b[0m\u001b[37m\u001b[0m \u001b[1m30s\u001b[0m 1s/step - accuracy: 0.9829 - loss: 0.0585 - val_accuracy: 0.9926 - val_loss: 0.0429\n",
      "Epoch 43/45\n",
      "\u001b[1m29/29\u001b[0m \u001b[32m━━━━━━━━━━━━━━━━━━━━\u001b[0m\u001b[37m\u001b[0m \u001b[1m29s\u001b[0m 1s/step - accuracy: 0.9807 - loss: 0.0516 - val_accuracy: 0.9853 - val_loss: 0.0594\n",
      "Epoch 44/45\n",
      "\u001b[1m29/29\u001b[0m \u001b[32m━━━━━━━━━━━━━━━━━━━━\u001b[0m\u001b[37m\u001b[0m \u001b[1m29s\u001b[0m 993ms/step - accuracy: 0.9764 - loss: 0.0691 - val_accuracy: 0.9926 - val_loss: 0.0382\n",
      "Epoch 45/45\n",
      "\u001b[1m29/29\u001b[0m \u001b[32m━━━━━━━━━━━━━━━━━━━━\u001b[0m\u001b[37m\u001b[0m \u001b[1m28s\u001b[0m 950ms/step - accuracy: 0.9873 - loss: 0.0502 - val_accuracy: 0.9853 - val_loss: 0.0502\n"
     ]
    }
   ],
   "source": [
    "# Train the model\n",
    "history = model.fit(x_train, y_train, epochs=45, batch_size=64, validation_data=(x_val, y_val), verbose=1)"
   ]
  },
  {
   "cell_type": "code",
   "execution_count": 12,
   "id": "6693a7e6-3cbd-4657-892e-08af16e195dc",
   "metadata": {},
   "outputs": [
    {
     "name": "stdout",
     "output_type": "stream",
     "text": [
      "\u001b[1m5/5\u001b[0m \u001b[32m━━━━━━━━━━━━━━━━━━━━\u001b[0m\u001b[37m\u001b[0m \u001b[1m0s\u001b[0m 83ms/step - accuracy: 0.9882 - loss: 0.0405  \n",
      "Validation Loss: 0.050\n",
      "Validation Accuracy: 0.985\n"
     ]
    }
   ],
   "source": [
    "# Evaluate the model\n",
    "loss, accuracy = model.evaluate(x_val, y_val)\n",
    "print(f'Validation Loss: {loss:.3f}')\n",
    "print(f'Validation Accuracy: {accuracy:.3f}')"
   ]
  },
  {
   "cell_type": "code",
   "execution_count": 13,
   "id": "77e4a516-be5e-4bda-b917-08b551b8310a",
   "metadata": {},
   "outputs": [
    {
     "name": "stdout",
     "output_type": "stream",
     "text": [
      "Model saved successfully.\n"
     ]
    },
    {
     "data": {
      "text/plain": [
       "['scaler.pkl']"
      ]
     },
     "execution_count": 13,
     "metadata": {},
     "output_type": "execute_result"
    }
   ],
   "source": [
    "# Save the trained model\n",
    "model.save('guitar_chord_recognition_model.keras', include_optimizer=False)\n",
    "print(\"Model saved successfully.\")\n",
    "\n",
    "joblib.dump(encoder, 'encoder.pkl') \n",
    "joblib.dump(scaler, 'scaler.pkl')"
   ]
  },
  {
   "cell_type": "code",
   "execution_count": 14,
   "id": "b6ee17b7-feed-4228-af09-a0b18f8e6971",
   "metadata": {},
   "outputs": [
    {
     "data": {
      "image/png": "[encoded data removed]",
      "text/plain": [
       "<Figure size 640x480 with 1 Axes>"
      ]
     },
     "metadata": {
      "image/png": {
       "height": 454,
       "width": 554
      }
     },
     "output_type": "display_data"
    }
   ],
   "source": [
    "# Plot the training history\n",
    "plt.plot(history.history['loss'])\n",
    "plt.plot(history.history['val_loss'])\n",
    "plt.title('Model Loss')\n",
    "plt.ylabel('Loss')\n",
    "plt.xlabel('Epoch')\n",
    "plt.legend(['Train', 'Validation'], loc='upper left')\n",
    "plt.show()"
   ]
  },
  {
   "cell_type": "code",
   "execution_count": 15,
   "id": "c41718cc-4f4b-47b7-a3f8-90079494fc96",
   "metadata": {},
   "outputs": [
    {
     "name": "stdout",
     "output_type": "stream",
     "text": [
      "Model loaded successfully.\n",
      "Model recompiled successfully.\n"
     ]
    }
   ],
   "source": [
    "# Load the trained model\n",
    "model = load_model('guitar_chord_recognition_model.keras')\n",
    "print(\"Model loaded successfully.\")\n",
    "\n",
    "# Recompile the model with the same optimizer and loss function\n",
    "model.compile(optimizer='adam', loss='categorical_crossentropy', metrics=['accuracy'])\n",
    "print(\"Model recompiled successfully.\")\n"
   ]
  },
  {
   "cell_type": "code",
   "execution_count": 16,
   "id": "e60e8b51-a8f5-49fd-83d7-479431be93ce",
   "metadata": {},
   "outputs": [],
   "source": [
    "# Function to convert MP3 to WAV \n",
    "def convert_mp3_to_wav(mp3_file_path, wav_file_path='converted_audio_file.wav'): \n",
    "    audio = AudioSegment.from_mp3(mp3_file_path) \n",
    "    audio = audio.set_frame_rate(16000).set_channels(1) \n",
    "    audio.export(wav_file_path, format=\"wav\") \n",
    "    return wav_file_path\n"
   ]
  },
  {
   "cell_type": "code",
   "execution_count": 17,
   "id": "2d69d9ce-e5f6-4300-aa8c-b57dc6564d58",
   "metadata": {},
   "outputs": [],
   "source": [
    "# Function to split audio into chunks\n",
    "def split_audio(file_path, chunk_duration=3): # 3 seconds per chunk \n",
    "    y, sr = librosa.load(file_path, sr=None) \n",
    "    total_duration = librosa.get_duration(y=y, sr=sr) \n",
    "    chunks = [] \n",
    "    for i in range(0, int(total_duration), chunk_duration): \n",
    "        start_sample = i * sr \n",
    "        end_sample = start_sample + chunk_duration * sr \n",
    "        chunks.append(y[start_sample:end_sample]) \n",
    "        return chunks, sr"
   ]
  },
  {
   "cell_type": "code",
   "execution_count": 18,
   "id": "1fd0f930-dfbf-4292-a790-61e78ebb9c46",
   "metadata": {},
   "outputs": [],
   "source": [
    "# Function to extract features from chunk\n",
    "def extract_features_from_chunk(chunk, sr, mfcc_len=100): \n",
    "    if np.mean(np.abs(chunk)) < 0.01: \n",
    "        return None # Skip silent chunks \n",
    "    mfccs = librosa.feature.mfcc(y=chunk, sr=sr, n_mfcc=13, n_fft=2048, hop_length=512) \n",
    "    mel_spectrogram = librosa.feature.melspectrogram(y=chunk, sr=sr, n_fft=2048, hop_length=512) \n",
    "    chroma = librosa.feature.chroma_stft(y=chunk, sr=sr, n_fft=2048, hop_length=512) \n",
    "    contrast = librosa.feature.spectral_contrast(y=chunk, sr=sr, n_fft=2048, hop_length=512) \n",
    "    if mfccs.shape[1] < mfcc_len: \n",
    "        mfccs = np.pad(mfccs, ((0, 0), (0, mfcc_len - mfccs.shape[1])), mode='constant') \n",
    "        mel_spectrogram = np.pad(mel_spectrogram, ((0, 0), (0, mfcc_len - mel_spectrogram.shape[1])), mode='constant') \n",
    "        chroma = np.pad(chroma, ((0, 0), (0, mfcc_len - chroma.shape[1])), mode='constant') \n",
    "        contrast = np.pad(contrast, ((0, 0), (0, mfcc_len - contrast.shape[1])), mode='constant') \n",
    "    else: \n",
    "        mfccs = mfccs[:, :mfcc_len] \n",
    "        mel_spectrogram = mel_spectrogram[:, :mfcc_len] \n",
    "        chroma = chroma[:, :mfcc_len] \n",
    "        contrast = contrast[:, :mfcc_len] \n",
    "    features = np.vstack((mfccs, mel_spectrogram, chroma, contrast)) \n",
    "    return features"
   ]
  },
  {
   "cell_type": "code",
   "execution_count": 19,
   "id": "6a0fefce-e2e3-463e-a20c-c18260e14033",
   "metadata": {},
   "outputs": [],
   "source": [
    "# Function to predict chords for chunks\n",
    "def predict_chords_for_chunks(chunks, sr, model, encoder, scaler, mfcc_len=100):\n",
    "    predicted_chords = []\n",
    "    for chunk in chunks:\n",
    "        # Extract features\n",
    "        features = extract_features_from_chunk(chunk, sr, mfcc_len)\n",
    "        if features is None:\n",
    "            continue\n",
    "        features_flat = features.flatten().reshape(1, -1)\n",
    "        features_scaled = scaler.transform(features_flat)\n",
    "        features_scaled = np.expand_dims(features_scaled, axis=-1)\n",
    "        prediction = model.predict(features_scaled)\n",
    "        predicted_label_index = np.argmax(prediction)\n",
    "        predicted_label = encoder.inverse_transform(np.array([np.eye(len(encoder.categories_[0]))[predicted_label_index]])).reshape(-1)\n",
    "        predicted_chords.append(predicted_label[0])\n",
    "    return predicted_chords"
   ]
  },
  {
   "cell_type": "code",
   "execution_count": 20,
   "id": "4e46466c-2253-48c4-bd73-a6de7d3d57f0",
   "metadata": {},
   "outputs": [],
   "source": [
    "# Function to validate chord names\n",
    "def is_valid_chord(chord_name):\n",
    "    try:\n",
    "        music21.chord.Chord(chord_name)\n",
    "        return True\n",
    "    except music21.pitch.AccidentalException:\n",
    "        return False\n",
    "    except music21.pitch.PitchException:\n",
    "        return False\n",
    "\n",
    "# Function to generate sheet music\n",
    "def generate_sheet_music(predicted_chords):\n",
    "    sc = music21.stream.Score()\n",
    "    bpm = 120  # Example BPM\n",
    "    a = music21.tempo.MetronomeMark(number=bpm)\n",
    "    sc.insert(0, a)\n",
    "    for chord in predicted_chords:\n",
    "        d = 'half'  # Example duration\n",
    "        if chord == 'Rest':\n",
    "            sc.append(music21.note.Rest(type=d))\n",
    "        else:\n",
    "            if is_valid_chord(chord):\n",
    "                sc.append(music21.chord.Chord(chord, type=d))\n",
    "            else:\n",
    "                print(f\"Invalid chord detected: {chord}. Skipping or replacing with default.\")\n",
    "                # Replace invalid chords with a default valid chord (e.g., C major)\n",
    "                sc.append(music21.chord.Chord('C', type=d))\n",
    "    return sc\n",
    "\n",
    "def show_score(score):\n",
    "    xml = open(score.write('musicxml')).read()\n",
    "    show_music_xml(xml)\n",
    "\n",
    "def show_music_xml(xml):\n",
    "    DIV_ID = \"OSMD_div\"\n",
    "    display(HTML('<div id=\"'+DIV_ID+'\">loading OpenSheetMusicDisplay</div>'))\n",
    "    script = \"\"\"\n",
    "    var div_id = %%DIV_ID%%;\n",
    "    function loadOSMD() { \n",
    "        return new Promise(function(resolve, reject){\n",
    "            if (window.opensheetmusicdisplay) {\n",
    "                return resolve(window.opensheetmusicdisplay)\n",
    "            }\n",
    "            // OSMD script has a 'define' call which conflicts with requirejs\n",
    "            var _define = window.define // save the define object \n",
    "            window.define = undefined // now the loaded script will ignore requirejs\n",
    "            var s = document.createElement( 'script' );\n",
    "            s.setAttribute( 'src', \"https://cdn.jsdelivr.net/npm/opensheetmusicdisplay@0.7.6/build/opensheetmusicdisplay.min.js\" );\n",
    "            s.onload=function(){\n",
    "                window.define = _define\n",
    "                resolve(opensheetmusicdisplay);\n",
    "            };\n",
    "            document.body.appendChild( s ); // browser will try to load the new script tag\n",
    "        }) \n",
    "    }\n",
    "    loadOSMD().then((OSMD)=>{\n",
    "        window.openSheetMusicDisplay = new OSMD.OpenSheetMusicDisplay(div_id, {\n",
    "          drawingParameters: \"compacttight\"\n",
    "        });\n",
    "        openSheetMusicDisplay\n",
    "            .load(%%data%%)\n",
    "            .then(\n",
    "              function() {\n",
    "                openSheetMusicDisplay.render();\n",
    "              }\n",
    "            );\n",
    "    })\n",
    "    \"\"\".replace('%%DIV_ID%%',DIV_ID).replace('%%data%%',json.dumps(xml))\n",
    "    display(Javascript(script))\n",
    "    return\n"
   ]
  },
  {
   "cell_type": "code",
   "execution_count": 21,
   "id": "76d10832-d7fd-4bc2-8ee1-7dd0531e9fc7",
   "metadata": {},
   "outputs": [
    {
     "name": "stderr",
     "output_type": "stream",
     "text": [
      "C:\\Users\\CJHx6\\anaconda3\\Lib\\site-packages\\pydub\\utils.py:300: SyntaxWarning: invalid escape sequence '\\('\n",
      "  m = re.match('([su]([0-9]{1,2})p?) \\(([0-9]{1,2}) bit\\)$', token)\n",
      "C:\\Users\\CJHx6\\anaconda3\\Lib\\site-packages\\pydub\\utils.py:301: SyntaxWarning: invalid escape sequence '\\('\n",
      "  m2 = re.match('([su]([0-9]{1,2})p?)( \\(default\\))?$', token)\n",
      "C:\\Users\\CJHx6\\anaconda3\\Lib\\site-packages\\pydub\\utils.py:310: SyntaxWarning: invalid escape sequence '\\('\n",
      "  elif re.match('(flt)p?( \\(default\\))?$', token):\n",
      "C:\\Users\\CJHx6\\anaconda3\\Lib\\site-packages\\pydub\\utils.py:314: SyntaxWarning: invalid escape sequence '\\('\n",
      "  elif re.match('(dbl)p?( \\(default\\))?$', token):\n"
     ]
    },
    {
     "ename": "FileNotFoundError",
     "evalue": "[Errno 2] No such file or directory: 'C:\\\\Users\\\\CJHx6\\\\OneDrive\\\\AI_Class\\\\GIT\\\\Group_3_Project\\\\notebooks\\\\corey_exploration\\\\Skillet - Hero.mp3'",
     "output_type": "error",
     "traceback": [
      "\u001b[1;31m---------------------------------------------------------------------------\u001b[0m",
      "\u001b[1;31mFileNotFoundError\u001b[0m                         Traceback (most recent call last)",
      "Cell \u001b[1;32mIn[21], line 3\u001b[0m\n\u001b[0;32m      1\u001b[0m \u001b[38;5;66;03m# Example usage\u001b[39;00m\n\u001b[0;32m      2\u001b[0m mp3_file_path \u001b[38;5;241m=\u001b[39m \u001b[38;5;124mr\u001b[39m\u001b[38;5;124m'\u001b[39m\u001b[38;5;124mC:\u001b[39m\u001b[38;5;124m\\\u001b[39m\u001b[38;5;124mUsers\u001b[39m\u001b[38;5;124m\\\u001b[39m\u001b[38;5;124mCJHx6\u001b[39m\u001b[38;5;124m\\\u001b[39m\u001b[38;5;124mOneDrive\u001b[39m\u001b[38;5;124m\\\u001b[39m\u001b[38;5;124mAI_Class\u001b[39m\u001b[38;5;124m\\\u001b[39m\u001b[38;5;124mGIT\u001b[39m\u001b[38;5;124m\\\u001b[39m\u001b[38;5;124mGroup_3_Project\u001b[39m\u001b[38;5;124m\\\u001b[39m\u001b[38;5;124mnotebooks\u001b[39m\u001b[38;5;124m\\\u001b[39m\u001b[38;5;124mcorey_exploration\u001b[39m\u001b[38;5;124m\\\u001b[39m\u001b[38;5;124mSkillet - Hero.mp3\u001b[39m\u001b[38;5;124m'\u001b[39m\n\u001b[1;32m----> 3\u001b[0m wav_file_path \u001b[38;5;241m=\u001b[39m convert_mp3_to_wav(mp3_file_path)\n\u001b[0;32m      4\u001b[0m chunks, sr \u001b[38;5;241m=\u001b[39m split_audio(wav_file_path)\n\u001b[0;32m      5\u001b[0m predicted_chords \u001b[38;5;241m=\u001b[39m predict_chords_for_chunks(chunks, sr, model, encoder, scaler)\n",
      "Cell \u001b[1;32mIn[16], line 3\u001b[0m, in \u001b[0;36mconvert_mp3_to_wav\u001b[1;34m(mp3_file_path, wav_file_path)\u001b[0m\n\u001b[0;32m      2\u001b[0m \u001b[38;5;28;01mdef\u001b[39;00m \u001b[38;5;21mconvert_mp3_to_wav\u001b[39m(mp3_file_path, wav_file_path\u001b[38;5;241m=\u001b[39m\u001b[38;5;124m'\u001b[39m\u001b[38;5;124mconverted_audio_file.wav\u001b[39m\u001b[38;5;124m'\u001b[39m): \n\u001b[1;32m----> 3\u001b[0m     audio \u001b[38;5;241m=\u001b[39m AudioSegment\u001b[38;5;241m.\u001b[39mfrom_mp3(mp3_file_path) \n\u001b[0;32m      4\u001b[0m     audio \u001b[38;5;241m=\u001b[39m audio\u001b[38;5;241m.\u001b[39mset_frame_rate(\u001b[38;5;241m16000\u001b[39m)\u001b[38;5;241m.\u001b[39mset_channels(\u001b[38;5;241m1\u001b[39m) \n\u001b[0;32m      5\u001b[0m     audio\u001b[38;5;241m.\u001b[39mexport(wav_file_path, \u001b[38;5;28mformat\u001b[39m\u001b[38;5;241m=\u001b[39m\u001b[38;5;124m\"\u001b[39m\u001b[38;5;124mwav\u001b[39m\u001b[38;5;124m\"\u001b[39m) \n",
      "File \u001b[1;32m~\\anaconda3\\Lib\\site-packages\\pydub\\audio_segment.py:796\u001b[0m, in \u001b[0;36mAudioSegment.from_mp3\u001b[1;34m(cls, file, parameters)\u001b[0m\n\u001b[0;32m    794\u001b[0m \u001b[38;5;129m@classmethod\u001b[39m\n\u001b[0;32m    795\u001b[0m \u001b[38;5;28;01mdef\u001b[39;00m \u001b[38;5;21mfrom_mp3\u001b[39m(\u001b[38;5;28mcls\u001b[39m, file, parameters\u001b[38;5;241m=\u001b[39m\u001b[38;5;28;01mNone\u001b[39;00m):\n\u001b[1;32m--> 796\u001b[0m     \u001b[38;5;28;01mreturn\u001b[39;00m \u001b[38;5;28mcls\u001b[39m\u001b[38;5;241m.\u001b[39mfrom_file(file, \u001b[38;5;124m'\u001b[39m\u001b[38;5;124mmp3\u001b[39m\u001b[38;5;124m'\u001b[39m, parameters\u001b[38;5;241m=\u001b[39mparameters)\n",
      "File \u001b[1;32m~\\anaconda3\\Lib\\site-packages\\pydub\\audio_segment.py:651\u001b[0m, in \u001b[0;36mAudioSegment.from_file\u001b[1;34m(cls, file, format, codec, parameters, start_second, duration, **kwargs)\u001b[0m\n\u001b[0;32m    649\u001b[0m \u001b[38;5;28;01mexcept\u001b[39;00m \u001b[38;5;167;01mTypeError\u001b[39;00m:\n\u001b[0;32m    650\u001b[0m     filename \u001b[38;5;241m=\u001b[39m \u001b[38;5;28;01mNone\u001b[39;00m\n\u001b[1;32m--> 651\u001b[0m file, close_file \u001b[38;5;241m=\u001b[39m _fd_or_path_or_tempfile(file, \u001b[38;5;124m'\u001b[39m\u001b[38;5;124mrb\u001b[39m\u001b[38;5;124m'\u001b[39m, tempfile\u001b[38;5;241m=\u001b[39m\u001b[38;5;28;01mFalse\u001b[39;00m)\n\u001b[0;32m    653\u001b[0m \u001b[38;5;28;01mif\u001b[39;00m \u001b[38;5;28mformat\u001b[39m:\n\u001b[0;32m    654\u001b[0m     \u001b[38;5;28mformat\u001b[39m \u001b[38;5;241m=\u001b[39m \u001b[38;5;28mformat\u001b[39m\u001b[38;5;241m.\u001b[39mlower()\n",
      "File \u001b[1;32m~\\anaconda3\\Lib\\site-packages\\pydub\\utils.py:60\u001b[0m, in \u001b[0;36m_fd_or_path_or_tempfile\u001b[1;34m(fd, mode, tempfile)\u001b[0m\n\u001b[0;32m     57\u001b[0m     close_fd \u001b[38;5;241m=\u001b[39m \u001b[38;5;28;01mTrue\u001b[39;00m\n\u001b[0;32m     59\u001b[0m \u001b[38;5;28;01mif\u001b[39;00m \u001b[38;5;28misinstance\u001b[39m(fd, basestring):\n\u001b[1;32m---> 60\u001b[0m     fd \u001b[38;5;241m=\u001b[39m \u001b[38;5;28mopen\u001b[39m(fd, mode\u001b[38;5;241m=\u001b[39mmode)\n\u001b[0;32m     61\u001b[0m     close_fd \u001b[38;5;241m=\u001b[39m \u001b[38;5;28;01mTrue\u001b[39;00m\n\u001b[0;32m     63\u001b[0m \u001b[38;5;28;01mtry\u001b[39;00m:\n",
      "\u001b[1;31mFileNotFoundError\u001b[0m: [Errno 2] No such file or directory: 'C:\\\\Users\\\\CJHx6\\\\OneDrive\\\\AI_Class\\\\GIT\\\\Group_3_Project\\\\notebooks\\\\corey_exploration\\\\Skillet - Hero.mp3'"
     ]
    }
   ],
   "source": [
    "# Example usage\n",
    "mp3_file_path = r'C:\\Users\\CJHx6\\OneDrive\\AI_Class\\GIT\\Group_3_Project\\notebooks\\corey_exploration\\Skillet - Hero.mp3'\n",
    "wav_file_path = convert_mp3_to_wav(mp3_file_path)\n",
    "chunks, sr = split_audio(wav_file_path)\n",
    "predicted_chords = predict_chords_for_chunks(chunks, sr, model, encoder, scaler)\n",
    "score = generate_sheet_music(predicted_chords)\n",
    "show_score(score)"
   ]
  },
  {
   "cell_type": "code",
   "execution_count": null,
   "id": "8ae7156e-9025-48f5-a68c-dea0d5165518",
   "metadata": {},
   "outputs": [],
   "source": [
    "# GENERATING SHEET MUSIC (USING music21)\n",
    "from music21 import stream, note, chord, duration\n",
    "\n",
    "def generate_sheet_music(chord_predictions, output_path=\"sheet_music.xml\"):\n",
    "    music_stream = stream.Stream()\n",
    "    for chord_name, start_time, end_time in chord_predictions:\n",
    "        n = note.TextChordSymbol()\n",
    "        n.addChordStep(chord_name)\n",
    "        n.quarterLength = (end_time - start_time) * 4  # Adjust based on your tempo\n",
    "        music_stream.append(n)\n",
    "    music_stream.write('musicxml', fp=output_path)"
   ]
  },
  {
   "cell_type": "code",
   "execution_count": null,
   "id": "a6f2f526-c724-45aa-a92b-4893e2349961",
   "metadata": {},
   "outputs": [],
   "source": [
    "# Example Usage\n",
    "# Assuming predict_chords returns a list of chords, one for each segment\n",
    "example_chords = [\"C\", \"G\", \"Am\", \"F\"]\n",
    "generate_sheet_music(example_chords)"
   ]
  },
  {
   "cell_type": "code",
   "execution_count": null,
   "id": "ff86d1e4-0adf-45ba-95f7-a2e670344d64",
   "metadata": {},
   "outputs": [],
   "source": [
    "# FUNCTION FOR LOADING SAVED MODEL\n",
    "def load_model():\n",
    "    return tf.keras.models.load_model(\"guitar_chord_recognition_model.keras\")"
   ]
  },
  {
   "cell_type": "code",
   "execution_count": null,
   "id": "ca6fddd4-3e97-4a1d-8a3b-cf092aa079b2",
   "metadata": {},
   "outputs": [],
   "source": [
    "# FUNCTION TO PROCESS NEW SONG\n",
    "def process_new_song(audio_path):\n",
    "    y, sr = librosa.load(audio_path)\n",
    "    # Extracting features (e.g., MFCCs, chroma)\n",
    "    mfccs = librosa.feature.mfcc(y=y, sr=sr, n_mfcc=13)\n",
    "    mfccs_mean = np.mean(mfccs.T, axis=0)\n",
    "    return mfccs_mean.reshape(1, -1)  # Reshape for prediction"
   ]
  },
  {
   "cell_type": "code",
   "execution_count": null,
   "id": "68e9891c-e434-4282-adfa-0c98d6da7538",
   "metadata": {},
   "outputs": [],
   "source": [
    "# FUNCTION TO PREDICT CHORDS\n",
    "def predict_chords(audio_path):\n",
    "    model = load_model()\n",
    "    features = process_new_song(audio_path)\n",
    "    prediction = model.predict(features)\n",
    "    predicted_label = encoder.inverse_transform([np.argmax(prediction)])\n",
    "    return predicted_label"
   ]
  },
  {
   "cell_type": "code",
   "execution_count": null,
   "id": "16d8949d-a52e-431a-b22e-2637e492b9ca",
   "metadata": {},
   "outputs": [],
   "source": [
    "# TESTING THE NEW SONG FUNCTION\n",
    "new_audio_path = r'C:\\Users\\CJHx6\\OneDrive\\AI_Class\\GIT\\Group_3_Project\\notebooks\\corey_exploration\\converted_audio_file.wav'\n",
    "print(\"Predicted chord for the new song:\", predict_chords(new_audio_path))\n"
   ]
  },
  {
   "cell_type": "code",
   "execution_count": null,
   "id": "5fcf6dd8-186b-4217-b8a4-9c3061e74ee8",
   "metadata": {},
   "outputs": [],
   "source": []
  },
  {
   "cell_type": "code",
   "execution_count": null,
   "id": "f9ddbede-64a6-46c4-b4cd-1aeb303a0ea7",
   "metadata": {},
   "outputs": [],
   "source": []
  }
 ],
 "metadata": {
  "kernelspec": {
   "display_name": "Python 3 (ipykernel)",
   "language": "python",
   "name": "python3"
  },
  "language_info": {
   "codemirror_mode": {
    "name": "ipython",
    "version": 3
   },
   "file_extension": ".py",
   "mimetype": "text/x-python",
   "name": "python",
   "nbconvert_exporter": "python",
   "pygments_lexer": "ipython3",
   "version": "3.12.3"
  }
 },
 "nbformat": 4,
 "nbformat_minor": 5
}
