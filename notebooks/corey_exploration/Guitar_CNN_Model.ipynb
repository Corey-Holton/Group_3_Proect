{
 "cells": [
  {
   "cell_type": "code",
   "execution_count": 1,
   "id": "2b296afd-f835-4592-82b7-590b40aeb573",
   "metadata": {},
   "outputs": [],
   "source": [
    "# Dependencies\n",
    "import librosa\n",
    "import librosa.display\n",
    "import tensorflow as tf\n",
    "from tensorflow.keras.layers import Dense, LSTM, Dropout\n",
    "import numpy as np\n",
    "import os\n",
    "import pandas as pd\n",
    "from sklearn.preprocessing import StandardScaler, LabelEncoder, OneHotEncoder\n",
    "from sklearn.model_selection import train_test_split\n",
    "import keras\n",
    "from keras.models import Sequential\n",
    "from keras.layers import Dense, Conv1D, MaxPooling1D, Flatten, Dropout, Activation, Input\n",
    "from keras.optimizers import Adam\n",
    "import matplotlib.pyplot as plt\n",
    "import IPython.display as ipd\n",
    "from glob import glob\n",
    "color_pal = plt.rcParams[\"axes.prop_cycle\"].by_key()[\"color\"]\n",
    "from IPython.display import Audio\n",
    "from keras.models import load_model\n",
    "import librosa\n",
    "import numpy as np\n",
    "import pandas as pd\n",
    "from sklearn.preprocessing import StandardScaler, OneHotEncoder\n",
    "from sklearn.model_selection import train_test_split\n",
    "import keras\n",
    "from keras.models import Sequential, load_model\n",
    "from keras.layers import Dense, Conv1D, MaxPooling1D, Flatten, Dropout, Input\n",
    "import matplotlib.pyplot as plt\n",
    "import music21\n",
    "from pydub import AudioSegment\n",
    "import json\n",
    "from IPython.display import HTML, Javascript, display\n",
    "import joblib"
   ]
  },
  {
   "cell_type": "code",
   "execution_count": 2,
   "id": "48aa5f06-0917-4533-bf8e-d1315af7b4a9",
   "metadata": {},
   "outputs": [],
   "source": [
    "# Load audio file and extract chroma features\n",
    "audio_files = glob(r'C:\\Users\\CJHx6\\OneDrive\\AI_Class\\GIT\\Group_3_Project\\Resources\\guitar-notes\\Notes Datasets\\*\\*.wav')\n"
   ]
  },
  {
   "cell_type": "code",
   "execution_count": 3,
   "id": "b94961b3-fa27-48ab-956f-12f975fe8b4d",
   "metadata": {},
   "outputs": [],
   "source": [
    "# Load and preprocess the audio data\n",
    "def add_white_noise(data, noise_level=0.005):\n",
    "    max_amplitude = np.max(np.abs(data))\n",
    "    noise_amp = noise_level * max_amplitude\n",
    "    white_noise = noise_amp * np.random.normal(size=len(data))\n",
    "    noisy_data = data + white_noise\n",
    "    return noisy_data\n",
    "\n",
    "def time_stretch(data, rate=0.8):\n",
    "    return librosa.effects.time_stretch(data, rate=rate)\n",
    "\n",
    "def time_shift(data, max_shift_ms=50):\n",
    "    shift_range = int(np.random.uniform(low=-max_shift_ms, high=max_shift_ms) * 1000)\n",
    "    return np.roll(data, shift_range)\n",
    "\n",
    "def random_pitch_shift(data, sr, pitch_range=(-2, 2)):\n",
    "    pitch_shift_semitones = np.random.uniform(*pitch_range)\n",
    "    pitch_factor = 2 ** (pitch_shift_semitones / 12.0)\n",
    "    return librosa.effects.pitch_shift(data, sr=sr, n_steps=pitch_factor)"
   ]
  },
  {
   "cell_type": "code",
   "execution_count": 4,
   "id": "3b67dc7a-433e-495a-a5cf-039476af4dd8",
   "metadata": {},
   "outputs": [],
   "source": [
    "# Extract features from audio\n",
    "def extract_features(file_path, num_mfcc=13, n_fft=2048, hop_length=512, mfcc_len=100):\n",
    "    audio, sr = librosa.load(file_path, sr=None)    \n",
    "    audio = add_white_noise(audio)\n",
    "    audio = time_stretch(audio)\n",
    "    audio = time_shift(audio)\n",
    "    audio = random_pitch_shift(audio, sr)\n",
    "    \n",
    "    mfccs = librosa.feature.mfcc(y=audio, sr=sr, n_mfcc=num_mfcc, n_fft=n_fft, hop_length=hop_length)\n",
    "    mel_spectrogram = librosa.feature.melspectrogram(y=audio, sr=sr, n_fft=n_fft, hop_length=hop_length)\n",
    "    chroma = librosa.feature.chroma_stft(y=audio, sr=sr, n_fft=n_fft, hop_length=hop_length)\n",
    "    contrast = librosa.feature.spectral_contrast(y=audio, sr=sr, n_fft=n_fft, hop_length=hop_length)\n",
    "    \n",
    "    if mfccs.shape[1] < mfcc_len:\n",
    "        mfccs = np.pad(mfccs, ((0, 0), (0, mfcc_len - mfccs.shape[1])), mode='constant')\n",
    "        mel_spectrogram = np.pad(mel_spectrogram, ((0, 0), (0, mfcc_len - mel_spectrogram.shape[1])), mode='constant')\n",
    "        chroma = np.pad(chroma, ((0, 0), (0, mfcc_len - chroma.shape[1])), mode='constant')\n",
    "        contrast = np.pad(contrast, ((0, 0), (0, mfcc_len - contrast.shape[1])), mode='constant')\n",
    "    else:\n",
    "        mfccs = mfccs[:, :mfcc_len]\n",
    "        mel_spectrogram = mel_spectrogram[:, :mfcc_len]\n",
    "        chroma = chroma[:, :mfcc_len]\n",
    "        contrast = contrast[:, :mfcc_len]\n",
    "    \n",
    "    features = np.vstack((mfccs, mel_spectrogram, chroma, contrast))\n",
    "    label = os.path.basename(os.path.dirname(file_path)).split('. ')[1]\n",
    "    \n",
    "    return features, label"
   ]
  },
  {
   "cell_type": "code",
   "execution_count": 5,
   "id": "3be552b0-64e0-4cbd-a883-8a13547ac8f1",
   "metadata": {},
   "outputs": [],
   "source": [
    "# Function to process the entire dataset\n",
    "def process_dataset(dataset_path, mfcc_len=100):\n",
    "    data = []\n",
    "    labels = []\n",
    "    for root, dirs, files in os.walk(dataset_path):\n",
    "        for file in files:\n",
    "            if file.endswith('.wav'):\n",
    "                file_path = os.path.join(root, file)\n",
    "                features, label = extract_features(file_path, mfcc_len=mfcc_len)\n",
    "                data.append(features)\n",
    "                labels.append(label)\n",
    "    return data, labels"
   ]
  },
  {
   "cell_type": "code",
   "execution_count": 6,
   "id": "de6c15f2-20ba-439d-8bd4-99182bafdb3f",
   "metadata": {},
   "outputs": [
    {
     "name": "stderr",
     "output_type": "stream",
     "text": [
      "C:\\Users\\CJHx6\\anaconda3\\Lib\\site-packages\\librosa\\core\\pitch.py:101: UserWarning: Trying to estimate tuning from empty frequency set.\n",
      "  return pitch_tuning(\n"
     ]
    }
   ],
   "source": [
    "# Process the entire dataset\n",
    "dataset_path = r'C:\\Users\\CJHx6\\OneDrive\\AI_Class\\GIT\\Group_3_Project\\Resources\\guitar-notes\\Notes Datasets'\n",
    "data, labels = process_dataset(dataset_path)"
   ]
  },
  {
   "cell_type": "code",
   "execution_count": 7,
   "id": "56d22e87-8e7a-419c-bffa-3628027cfb86",
   "metadata": {},
   "outputs": [],
   "source": [
    "# Converting data to a DataFrame\n",
    "data = np.array(data)\n",
    "data_flat = np.array([d.flatten() for d in data])\n",
    "df = pd.DataFrame(data_flat)\n",
    "df['label'] = labels\n",
    "df = df.sample(frac=1).reset_index(drop=True)"
   ]
  },
  {
   "cell_type": "code",
   "execution_count": 8,
   "id": "0d772d58-9b1d-4705-9c41-3305e093ef54",
   "metadata": {},
   "outputs": [],
   "source": [
    "# Split the data into training, validation, and testing sets\n",
    "X = df.iloc[: ,:-1].values\n",
    "Y = df['label'].values\n",
    "encoder = OneHotEncoder()\n",
    "Y = encoder.fit_transform(np.array(Y).reshape(-1,1)).toarray()\n",
    "\n",
    "x_train, x_test, y_train, y_test = train_test_split(X, Y, test_size=0.2, random_state=42, shuffle=True)\n",
    "x_val, x_test, y_val, y_test = train_test_split(x_test, y_test, test_size=0.7, random_state=42, shuffle=True)"
   ]
  },
  {
   "cell_type": "code",
   "execution_count": 9,
   "id": "badf1a61-6e98-49fe-86d4-0678d690243c",
   "metadata": {},
   "outputs": [],
   "source": [
    "# Normalize the data\n",
    "scaler = StandardScaler()\n",
    "x_train = scaler.fit_transform(x_train)\n",
    "x_test = scaler.transform(x_test)\n",
    "x_val = scaler.transform(x_val)\n",
    "x_train = np.expand_dims(x_train, axis=-1)\n",
    "x_test = np.expand_dims(x_test, axis=-1)\n",
    "x_val = np.expand_dims(x_val, axis=-1)"
   ]
  },
  {
   "cell_type": "code",
   "execution_count": 10,
   "id": "11c77837-cef0-4330-a490-5e45193a06d8",
   "metadata": {},
   "outputs": [],
   "source": [
    "from keras.layers import Input\n",
    "\n",
    "# Build and compile the CNN model\n",
    "model = Sequential()\n",
    "model.add(Input(shape=(x_train.shape[1], 1)))\n",
    "model.add(Conv1D(64, kernel_size=3, activation='relu'))\n",
    "model.add(MaxPooling1D(pool_size=2))\n",
    "model.add(Conv1D(128, kernel_size=3, activation='relu'))\n",
    "model.add(MaxPooling1D(pool_size=2))\n",
    "model.add(Conv1D(256, kernel_size=3, activation='relu'))\n",
    "model.add(MaxPooling1D(pool_size=2))\n",
    "model.add(Flatten())\n",
    "model.add(Dense(256, activation='relu'))\n",
    "model.add(Dropout(0.5))\n",
    "model.add(Dense(128, activation='relu'))\n",
    "model.add(Dropout(0.5))\n",
    "model.add(Dense(len(encoder.categories_[0]), activation='softmax'))\n",
    "\n",
    "model.compile(optimizer='adam', loss='categorical_crossentropy', metrics=['accuracy'])"
   ]
  },
  {
   "cell_type": "code",
   "execution_count": 11,
   "id": "7862e5e3-e3b3-4c04-89d1-f7ee57340b45",
   "metadata": {},
   "outputs": [
    {
     "name": "stdout",
     "output_type": "stream",
     "text": [
      "Epoch 1/80\n",
      "\u001b[1m29/29\u001b[0m \u001b[32m━━━━━━━━━━━━━━━━━━━━\u001b[0m\u001b[37m\u001b[0m \u001b[1m30s\u001b[0m 983ms/step - accuracy: 0.0476 - loss: 5.1158 - val_accuracy: 0.3382 - val_loss: 3.3314\n",
      "Epoch 2/80\n",
      "\u001b[1m29/29\u001b[0m \u001b[32m━━━━━━━━━━━━━━━━━━━━\u001b[0m\u001b[37m\u001b[0m \u001b[1m28s\u001b[0m 963ms/step - accuracy: 0.1788 - loss: 3.2299 - val_accuracy: 0.6765 - val_loss: 1.8957\n",
      "Epoch 3/80\n",
      "\u001b[1m29/29\u001b[0m \u001b[32m━━━━━━━━━━━━━━━━━━━━\u001b[0m\u001b[37m\u001b[0m \u001b[1m28s\u001b[0m 973ms/step - accuracy: 0.3998 - loss: 2.2215 - val_accuracy: 0.8382 - val_loss: 1.0136\n",
      "Epoch 4/80\n",
      "\u001b[1m29/29\u001b[0m \u001b[32m━━━━━━━━━━━━━━━━━━━━\u001b[0m\u001b[37m\u001b[0m \u001b[1m28s\u001b[0m 956ms/step - accuracy: 0.5909 - loss: 1.5120 - val_accuracy: 0.8971 - val_loss: 0.7227\n",
      "Epoch 5/80\n",
      "\u001b[1m29/29\u001b[0m \u001b[32m━━━━━━━━━━━━━━━━━━━━\u001b[0m\u001b[37m\u001b[0m \u001b[1m28s\u001b[0m 957ms/step - accuracy: 0.7031 - loss: 1.0732 - val_accuracy: 0.8971 - val_loss: 0.5128\n",
      "Epoch 6/80\n",
      "\u001b[1m29/29\u001b[0m \u001b[32m━━━━━━━━━━━━━━━━━━━━\u001b[0m\u001b[37m\u001b[0m \u001b[1m28s\u001b[0m 952ms/step - accuracy: 0.7511 - loss: 0.8357 - val_accuracy: 0.8971 - val_loss: 0.3717\n",
      "Epoch 7/80\n",
      "\u001b[1m29/29\u001b[0m \u001b[32m━━━━━━━━━━━━━━━━━━━━\u001b[0m\u001b[37m\u001b[0m \u001b[1m28s\u001b[0m 965ms/step - accuracy: 0.8081 - loss: 0.6870 - val_accuracy: 0.9044 - val_loss: 0.4848\n",
      "Epoch 8/80\n",
      "\u001b[1m29/29\u001b[0m \u001b[32m━━━━━━━━━━━━━━━━━━━━\u001b[0m\u001b[37m\u001b[0m \u001b[1m28s\u001b[0m 967ms/step - accuracy: 0.8337 - loss: 0.5947 - val_accuracy: 0.9191 - val_loss: 0.2979\n",
      "Epoch 9/80\n",
      "\u001b[1m29/29\u001b[0m \u001b[32m━━━━━━━━━━━━━━━━━━━━\u001b[0m\u001b[37m\u001b[0m \u001b[1m28s\u001b[0m 952ms/step - accuracy: 0.8422 - loss: 0.4868 - val_accuracy: 0.9265 - val_loss: 0.2685\n",
      "Epoch 10/80\n",
      "\u001b[1m29/29\u001b[0m \u001b[32m━━━━━━━━━━━━━━━━━━━━\u001b[0m\u001b[37m\u001b[0m \u001b[1m28s\u001b[0m 962ms/step - accuracy: 0.8793 - loss: 0.3978 - val_accuracy: 0.9412 - val_loss: 0.1931\n",
      "Epoch 11/80\n",
      "\u001b[1m29/29\u001b[0m \u001b[32m━━━━━━━━━━━━━━━━━━━━\u001b[0m\u001b[37m\u001b[0m \u001b[1m28s\u001b[0m 972ms/step - accuracy: 0.9070 - loss: 0.3214 - val_accuracy: 0.9338 - val_loss: 0.3386\n",
      "Epoch 12/80\n",
      "\u001b[1m29/29\u001b[0m \u001b[32m━━━━━━━━━━━━━━━━━━━━\u001b[0m\u001b[37m\u001b[0m \u001b[1m28s\u001b[0m 981ms/step - accuracy: 0.9076 - loss: 0.3145 - val_accuracy: 0.9265 - val_loss: 0.3380\n",
      "Epoch 13/80\n",
      "\u001b[1m29/29\u001b[0m \u001b[32m━━━━━━━━━━━━━━━━━━━━\u001b[0m\u001b[37m\u001b[0m \u001b[1m28s\u001b[0m 946ms/step - accuracy: 0.9136 - loss: 0.2857 - val_accuracy: 0.9412 - val_loss: 0.2389\n",
      "Epoch 14/80\n",
      "\u001b[1m29/29\u001b[0m \u001b[32m━━━━━━━━━━━━━━━━━━━━\u001b[0m\u001b[37m\u001b[0m \u001b[1m28s\u001b[0m 956ms/step - accuracy: 0.9217 - loss: 0.2489 - val_accuracy: 0.9485 - val_loss: 0.2515\n",
      "Epoch 15/80\n",
      "\u001b[1m29/29\u001b[0m \u001b[32m━━━━━━━━━━━━━━━━━━━━\u001b[0m\u001b[37m\u001b[0m \u001b[1m28s\u001b[0m 960ms/step - accuracy: 0.9362 - loss: 0.2194 - val_accuracy: 0.9559 - val_loss: 0.2792\n",
      "Epoch 16/80\n",
      "\u001b[1m29/29\u001b[0m \u001b[32m━━━━━━━━━━━━━━━━━━━━\u001b[0m\u001b[37m\u001b[0m \u001b[1m28s\u001b[0m 962ms/step - accuracy: 0.9401 - loss: 0.1750 - val_accuracy: 0.9559 - val_loss: 0.2325\n",
      "Epoch 17/80\n",
      "\u001b[1m29/29\u001b[0m \u001b[32m━━━━━━━━━━━━━━━━━━━━\u001b[0m\u001b[37m\u001b[0m \u001b[1m28s\u001b[0m 950ms/step - accuracy: 0.9444 - loss: 0.1635 - val_accuracy: 0.9485 - val_loss: 0.2633\n",
      "Epoch 18/80\n",
      "\u001b[1m29/29\u001b[0m \u001b[32m━━━━━━━━━━━━━━━━━━━━\u001b[0m\u001b[37m\u001b[0m \u001b[1m27s\u001b[0m 946ms/step - accuracy: 0.9490 - loss: 0.1466 - val_accuracy: 0.9632 - val_loss: 0.2794\n",
      "Epoch 19/80\n",
      "\u001b[1m29/29\u001b[0m \u001b[32m━━━━━━━━━━━━━━━━━━━━\u001b[0m\u001b[37m\u001b[0m \u001b[1m28s\u001b[0m 955ms/step - accuracy: 0.9468 - loss: 0.1596 - val_accuracy: 0.9632 - val_loss: 0.2968\n",
      "Epoch 20/80\n",
      "\u001b[1m29/29\u001b[0m \u001b[32m━━━━━━━━━━━━━━━━━━━━\u001b[0m\u001b[37m\u001b[0m \u001b[1m28s\u001b[0m 974ms/step - accuracy: 0.9541 - loss: 0.1349 - val_accuracy: 0.9559 - val_loss: 0.1289\n",
      "Epoch 21/80\n",
      "\u001b[1m29/29\u001b[0m \u001b[32m━━━━━━━━━━━━━━━━━━━━\u001b[0m\u001b[37m\u001b[0m \u001b[1m28s\u001b[0m 968ms/step - accuracy: 0.9673 - loss: 0.1103 - val_accuracy: 0.9485 - val_loss: 0.2028\n",
      "Epoch 22/80\n",
      "\u001b[1m29/29\u001b[0m \u001b[32m━━━━━━━━━━━━━━━━━━━━\u001b[0m\u001b[37m\u001b[0m \u001b[1m28s\u001b[0m 948ms/step - accuracy: 0.9664 - loss: 0.1195 - val_accuracy: 0.9485 - val_loss: 0.2738\n",
      "Epoch 23/80\n",
      "\u001b[1m29/29\u001b[0m \u001b[32m━━━━━━━━━━━━━━━━━━━━\u001b[0m\u001b[37m\u001b[0m \u001b[1m28s\u001b[0m 951ms/step - accuracy: 0.9624 - loss: 0.1526 - val_accuracy: 0.9559 - val_loss: 0.3375\n",
      "Epoch 24/80\n",
      "\u001b[1m29/29\u001b[0m \u001b[32m━━━━━━━━━━━━━━━━━━━━\u001b[0m\u001b[37m\u001b[0m \u001b[1m28s\u001b[0m 958ms/step - accuracy: 0.9588 - loss: 0.1597 - val_accuracy: 0.9338 - val_loss: 0.2287\n",
      "Epoch 25/80\n",
      "\u001b[1m29/29\u001b[0m \u001b[32m━━━━━━━━━━━━━━━━━━━━\u001b[0m\u001b[37m\u001b[0m \u001b[1m28s\u001b[0m 953ms/step - accuracy: 0.9705 - loss: 0.0964 - val_accuracy: 0.9338 - val_loss: 0.3934\n",
      "Epoch 26/80\n",
      "\u001b[1m29/29\u001b[0m \u001b[32m━━━━━━━━━━━━━━━━━━━━\u001b[0m\u001b[37m\u001b[0m \u001b[1m27s\u001b[0m 943ms/step - accuracy: 0.9679 - loss: 0.0906 - val_accuracy: 0.9338 - val_loss: 0.5567\n",
      "Epoch 27/80\n",
      "\u001b[1m29/29\u001b[0m \u001b[32m━━━━━━━━━━━━━━━━━━━━\u001b[0m\u001b[37m\u001b[0m \u001b[1m28s\u001b[0m 968ms/step - accuracy: 0.9716 - loss: 0.1053 - val_accuracy: 0.9191 - val_loss: 0.3820\n",
      "Epoch 28/80\n",
      "\u001b[1m29/29\u001b[0m \u001b[32m━━━━━━━━━━━━━━━━━━━━\u001b[0m\u001b[37m\u001b[0m \u001b[1m28s\u001b[0m 949ms/step - accuracy: 0.9591 - loss: 0.1088 - val_accuracy: 0.9412 - val_loss: 0.3685\n",
      "Epoch 29/80\n",
      "\u001b[1m29/29\u001b[0m \u001b[32m━━━━━━━━━━━━━━━━━━━━\u001b[0m\u001b[37m\u001b[0m \u001b[1m28s\u001b[0m 958ms/step - accuracy: 0.9747 - loss: 0.0634 - val_accuracy: 0.9485 - val_loss: 0.2903\n",
      "Epoch 30/80\n",
      "\u001b[1m29/29\u001b[0m \u001b[32m━━━━━━━━━━━━━━━━━━━━\u001b[0m\u001b[37m\u001b[0m \u001b[1m28s\u001b[0m 959ms/step - accuracy: 0.9663 - loss: 0.1229 - val_accuracy: 0.9485 - val_loss: 0.2425\n",
      "Epoch 31/80\n",
      "\u001b[1m29/29\u001b[0m \u001b[32m━━━━━━━━━━━━━━━━━━━━\u001b[0m\u001b[37m\u001b[0m \u001b[1m27s\u001b[0m 945ms/step - accuracy: 0.9747 - loss: 0.0786 - val_accuracy: 0.9485 - val_loss: 0.2576\n",
      "Epoch 32/80\n",
      "\u001b[1m29/29\u001b[0m \u001b[32m━━━━━━━━━━━━━━━━━━━━\u001b[0m\u001b[37m\u001b[0m \u001b[1m27s\u001b[0m 943ms/step - accuracy: 0.9782 - loss: 0.0562 - val_accuracy: 0.9485 - val_loss: 0.2841\n",
      "Epoch 33/80\n",
      "\u001b[1m29/29\u001b[0m \u001b[32m━━━━━━━━━━━━━━━━━━━━\u001b[0m\u001b[37m\u001b[0m \u001b[1m28s\u001b[0m 949ms/step - accuracy: 0.9742 - loss: 0.0753 - val_accuracy: 0.9485 - val_loss: 0.2759\n",
      "Epoch 34/80\n",
      "\u001b[1m29/29\u001b[0m \u001b[32m━━━━━━━━━━━━━━━━━━━━\u001b[0m\u001b[37m\u001b[0m \u001b[1m28s\u001b[0m 953ms/step - accuracy: 0.9786 - loss: 0.0789 - val_accuracy: 0.9412 - val_loss: 0.4742\n",
      "Epoch 35/80\n",
      "\u001b[1m29/29\u001b[0m \u001b[32m━━━━━━━━━━━━━━━━━━━━\u001b[0m\u001b[37m\u001b[0m \u001b[1m27s\u001b[0m 948ms/step - accuracy: 0.9775 - loss: 0.0726 - val_accuracy: 0.9485 - val_loss: 0.4008\n",
      "Epoch 36/80\n",
      "\u001b[1m29/29\u001b[0m \u001b[32m━━━━━━━━━━━━━━━━━━━━\u001b[0m\u001b[37m\u001b[0m \u001b[1m27s\u001b[0m 939ms/step - accuracy: 0.9732 - loss: 0.0831 - val_accuracy: 0.9485 - val_loss: 0.2607\n",
      "Epoch 37/80\n",
      "\u001b[1m29/29\u001b[0m \u001b[32m━━━━━━━━━━━━━━━━━━━━\u001b[0m\u001b[37m\u001b[0m \u001b[1m28s\u001b[0m 958ms/step - accuracy: 0.9847 - loss: 0.0522 - val_accuracy: 0.9485 - val_loss: 0.5049\n",
      "Epoch 38/80\n",
      "\u001b[1m29/29\u001b[0m \u001b[32m━━━━━━━━━━━━━━━━━━━━\u001b[0m\u001b[37m\u001b[0m \u001b[1m28s\u001b[0m 964ms/step - accuracy: 0.9817 - loss: 0.0608 - val_accuracy: 0.9412 - val_loss: 0.3713\n",
      "Epoch 39/80\n",
      "\u001b[1m29/29\u001b[0m \u001b[32m━━━━━━━━━━━━━━━━━━━━\u001b[0m\u001b[37m\u001b[0m \u001b[1m28s\u001b[0m 948ms/step - accuracy: 0.9759 - loss: 0.0683 - val_accuracy: 0.9338 - val_loss: 0.4932\n",
      "Epoch 40/80\n",
      "\u001b[1m29/29\u001b[0m \u001b[32m━━━━━━━━━━━━━━━━━━━━\u001b[0m\u001b[37m\u001b[0m \u001b[1m28s\u001b[0m 951ms/step - accuracy: 0.9769 - loss: 0.0824 - val_accuracy: 0.9559 - val_loss: 0.2404\n",
      "Epoch 41/80\n",
      "\u001b[1m29/29\u001b[0m \u001b[32m━━━━━━━━━━━━━━━━━━━━\u001b[0m\u001b[37m\u001b[0m \u001b[1m27s\u001b[0m 948ms/step - accuracy: 0.9801 - loss: 0.0611 - val_accuracy: 0.9559 - val_loss: 0.1630\n",
      "Epoch 42/80\n",
      "\u001b[1m29/29\u001b[0m \u001b[32m━━━━━━━━━━━━━━━━━━━━\u001b[0m\u001b[37m\u001b[0m \u001b[1m28s\u001b[0m 959ms/step - accuracy: 0.9828 - loss: 0.0526 - val_accuracy: 0.9706 - val_loss: 0.1801\n",
      "Epoch 43/80\n",
      "\u001b[1m29/29\u001b[0m \u001b[32m━━━━━━━━━━━━━━━━━━━━\u001b[0m\u001b[37m\u001b[0m \u001b[1m27s\u001b[0m 943ms/step - accuracy: 0.9794 - loss: 0.0628 - val_accuracy: 0.9559 - val_loss: 0.2645\n",
      "Epoch 44/80\n",
      "\u001b[1m29/29\u001b[0m \u001b[32m━━━━━━━━━━━━━━━━━━━━\u001b[0m\u001b[37m\u001b[0m \u001b[1m28s\u001b[0m 948ms/step - accuracy: 0.9860 - loss: 0.0535 - val_accuracy: 0.9412 - val_loss: 0.1173\n",
      "Epoch 45/80\n",
      "\u001b[1m29/29\u001b[0m \u001b[32m━━━━━━━━━━━━━━━━━━━━\u001b[0m\u001b[37m\u001b[0m \u001b[1m28s\u001b[0m 967ms/step - accuracy: 0.9853 - loss: 0.0637 - val_accuracy: 0.9632 - val_loss: 0.1085\n",
      "Epoch 46/80\n",
      "\u001b[1m29/29\u001b[0m \u001b[32m━━━━━━━━━━━━━━━━━━━━\u001b[0m\u001b[37m\u001b[0m \u001b[1m28s\u001b[0m 953ms/step - accuracy: 0.9817 - loss: 0.0544 - val_accuracy: 0.9706 - val_loss: 0.0839\n",
      "Epoch 47/80\n",
      "\u001b[1m29/29\u001b[0m \u001b[32m━━━━━━━━━━━━━━━━━━━━\u001b[0m\u001b[37m\u001b[0m \u001b[1m28s\u001b[0m 950ms/step - accuracy: 0.9861 - loss: 0.0425 - val_accuracy: 0.9485 - val_loss: 0.1635\n",
      "Epoch 48/80\n",
      "\u001b[1m29/29\u001b[0m \u001b[32m━━━━━━━━━━━━━━━━━━━━\u001b[0m\u001b[37m\u001b[0m \u001b[1m28s\u001b[0m 963ms/step - accuracy: 0.9881 - loss: 0.0343 - val_accuracy: 0.9559 - val_loss: 0.1155\n",
      "Epoch 49/80\n",
      "\u001b[1m29/29\u001b[0m \u001b[32m━━━━━━━━━━━━━━━━━━━━\u001b[0m\u001b[37m\u001b[0m \u001b[1m28s\u001b[0m 962ms/step - accuracy: 0.9868 - loss: 0.0467 - val_accuracy: 0.9559 - val_loss: 0.1802\n",
      "Epoch 50/80\n",
      "\u001b[1m29/29\u001b[0m \u001b[32m━━━━━━━━━━━━━━━━━━━━\u001b[0m\u001b[37m\u001b[0m \u001b[1m28s\u001b[0m 959ms/step - accuracy: 0.9889 - loss: 0.0343 - val_accuracy: 0.9559 - val_loss: 0.1473\n",
      "Epoch 51/80\n",
      "\u001b[1m29/29\u001b[0m \u001b[32m━━━━━━━━━━━━━━━━━━━━\u001b[0m\u001b[37m\u001b[0m \u001b[1m28s\u001b[0m 954ms/step - accuracy: 0.9901 - loss: 0.0299 - val_accuracy: 0.9632 - val_loss: 0.0955\n",
      "Epoch 52/80\n",
      "\u001b[1m29/29\u001b[0m \u001b[32m━━━━━━━━━━━━━━━━━━━━\u001b[0m\u001b[37m\u001b[0m \u001b[1m28s\u001b[0m 970ms/step - accuracy: 0.9880 - loss: 0.0376 - val_accuracy: 0.9632 - val_loss: 0.2566\n",
      "Epoch 53/80\n",
      "\u001b[1m29/29\u001b[0m \u001b[32m━━━━━━━━━━━━━━━━━━━━\u001b[0m\u001b[37m\u001b[0m \u001b[1m28s\u001b[0m 957ms/step - accuracy: 0.9787 - loss: 0.0646 - val_accuracy: 0.9706 - val_loss: 0.1058\n",
      "Epoch 54/80\n",
      "\u001b[1m29/29\u001b[0m \u001b[32m━━━━━━━━━━━━━━━━━━━━\u001b[0m\u001b[37m\u001b[0m \u001b[1m28s\u001b[0m 949ms/step - accuracy: 0.9833 - loss: 0.0673 - val_accuracy: 0.9412 - val_loss: 0.3979\n",
      "Epoch 55/80\n",
      "\u001b[1m29/29\u001b[0m \u001b[32m━━━━━━━━━━━━━━━━━━━━\u001b[0m\u001b[37m\u001b[0m \u001b[1m28s\u001b[0m 958ms/step - accuracy: 0.9887 - loss: 0.0459 - val_accuracy: 0.9632 - val_loss: 0.1199\n",
      "Epoch 56/80\n",
      "\u001b[1m29/29\u001b[0m \u001b[32m━━━━━━━━━━━━━━━━━━━━\u001b[0m\u001b[37m\u001b[0m \u001b[1m28s\u001b[0m 960ms/step - accuracy: 0.9888 - loss: 0.0444 - val_accuracy: 0.9559 - val_loss: 0.2959\n",
      "Epoch 57/80\n",
      "\u001b[1m29/29\u001b[0m \u001b[32m━━━━━━━━━━━━━━━━━━━━\u001b[0m\u001b[37m\u001b[0m \u001b[1m28s\u001b[0m 953ms/step - accuracy: 0.9878 - loss: 0.0306 - val_accuracy: 0.9485 - val_loss: 0.3243\n",
      "Epoch 58/80\n",
      "\u001b[1m29/29\u001b[0m \u001b[32m━━━━━━━━━━━━━━━━━━━━\u001b[0m\u001b[37m\u001b[0m \u001b[1m28s\u001b[0m 952ms/step - accuracy: 0.9904 - loss: 0.0310 - val_accuracy: 0.9632 - val_loss: 0.2917\n",
      "Epoch 59/80\n",
      "\u001b[1m29/29\u001b[0m \u001b[32m━━━━━━━━━━━━━━━━━━━━\u001b[0m\u001b[37m\u001b[0m \u001b[1m28s\u001b[0m 981ms/step - accuracy: 0.9921 - loss: 0.0269 - val_accuracy: 0.9559 - val_loss: 0.3858\n",
      "Epoch 60/80\n",
      "\u001b[1m29/29\u001b[0m \u001b[32m━━━━━━━━━━━━━━━━━━━━\u001b[0m\u001b[37m\u001b[0m \u001b[1m28s\u001b[0m 973ms/step - accuracy: 0.9893 - loss: 0.0348 - val_accuracy: 0.9559 - val_loss: 0.2095\n",
      "Epoch 61/80\n",
      "\u001b[1m29/29\u001b[0m \u001b[32m━━━━━━━━━━━━━━━━━━━━\u001b[0m\u001b[37m\u001b[0m \u001b[1m28s\u001b[0m 949ms/step - accuracy: 0.9916 - loss: 0.0282 - val_accuracy: 0.9559 - val_loss: 0.3011\n",
      "Epoch 62/80\n",
      "\u001b[1m29/29\u001b[0m \u001b[32m━━━━━━━━━━━━━━━━━━━━\u001b[0m\u001b[37m\u001b[0m \u001b[1m27s\u001b[0m 941ms/step - accuracy: 0.9873 - loss: 0.0416 - val_accuracy: 0.9559 - val_loss: 0.3886\n",
      "Epoch 63/80\n",
      "\u001b[1m29/29\u001b[0m \u001b[32m━━━━━━━━━━━━━━━━━━━━\u001b[0m\u001b[37m\u001b[0m \u001b[1m28s\u001b[0m 955ms/step - accuracy: 0.9906 - loss: 0.0290 - val_accuracy: 0.9559 - val_loss: 0.4201\n",
      "Epoch 64/80\n",
      "\u001b[1m29/29\u001b[0m \u001b[32m━━━━━━━━━━━━━━━━━━━━\u001b[0m\u001b[37m\u001b[0m \u001b[1m28s\u001b[0m 963ms/step - accuracy: 0.9887 - loss: 0.0406 - val_accuracy: 0.9485 - val_loss: 0.3382\n",
      "Epoch 65/80\n",
      "\u001b[1m29/29\u001b[0m \u001b[32m━━━━━━━━━━━━━━━━━━━━\u001b[0m\u001b[37m\u001b[0m \u001b[1m28s\u001b[0m 958ms/step - accuracy: 0.9929 - loss: 0.0273 - val_accuracy: 0.9485 - val_loss: 0.3706\n",
      "Epoch 66/80\n",
      "\u001b[1m29/29\u001b[0m \u001b[32m━━━━━━━━━━━━━━━━━━━━\u001b[0m\u001b[37m\u001b[0m \u001b[1m27s\u001b[0m 942ms/step - accuracy: 0.9861 - loss: 0.0451 - val_accuracy: 0.9706 - val_loss: 0.2526\n",
      "Epoch 67/80\n",
      "\u001b[1m29/29\u001b[0m \u001b[32m━━━━━━━━━━━━━━━━━━━━\u001b[0m\u001b[37m\u001b[0m \u001b[1m28s\u001b[0m 958ms/step - accuracy: 0.9927 - loss: 0.0201 - val_accuracy: 0.9485 - val_loss: 0.3446\n",
      "Epoch 68/80\n",
      "\u001b[1m29/29\u001b[0m \u001b[32m━━━━━━━━━━━━━━━━━━━━\u001b[0m\u001b[37m\u001b[0m \u001b[1m28s\u001b[0m 964ms/step - accuracy: 0.9870 - loss: 0.0355 - val_accuracy: 0.9632 - val_loss: 0.1096\n",
      "Epoch 69/80\n",
      "\u001b[1m29/29\u001b[0m \u001b[32m━━━━━━━━━━━━━━━━━━━━\u001b[0m\u001b[37m\u001b[0m \u001b[1m28s\u001b[0m 949ms/step - accuracy: 0.9905 - loss: 0.0256 - val_accuracy: 0.9485 - val_loss: 0.2868\n",
      "Epoch 70/80\n",
      "\u001b[1m29/29\u001b[0m \u001b[32m━━━━━━━━━━━━━━━━━━━━\u001b[0m\u001b[37m\u001b[0m \u001b[1m27s\u001b[0m 943ms/step - accuracy: 0.9894 - loss: 0.0412 - val_accuracy: 0.9632 - val_loss: 0.2977\n",
      "Epoch 71/80\n",
      "\u001b[1m29/29\u001b[0m \u001b[32m━━━━━━━━━━━━━━━━━━━━\u001b[0m\u001b[37m\u001b[0m \u001b[1m28s\u001b[0m 950ms/step - accuracy: 0.9945 - loss: 0.0227 - val_accuracy: 0.9559 - val_loss: 0.3593\n",
      "Epoch 72/80\n",
      "\u001b[1m29/29\u001b[0m \u001b[32m━━━━━━━━━━━━━━━━━━━━\u001b[0m\u001b[37m\u001b[0m \u001b[1m27s\u001b[0m 947ms/step - accuracy: 0.9935 - loss: 0.0351 - val_accuracy: 0.9559 - val_loss: 0.3712\n",
      "Epoch 73/80\n",
      "\u001b[1m29/29\u001b[0m \u001b[32m━━━━━━━━━━━━━━━━━━━━\u001b[0m\u001b[37m\u001b[0m \u001b[1m28s\u001b[0m 962ms/step - accuracy: 0.9946 - loss: 0.0227 - val_accuracy: 0.9191 - val_loss: 0.9699\n",
      "Epoch 74/80\n",
      "\u001b[1m29/29\u001b[0m \u001b[32m━━━━━━━━━━━━━━━━━━━━\u001b[0m\u001b[37m\u001b[0m \u001b[1m27s\u001b[0m 939ms/step - accuracy: 0.9881 - loss: 0.0478 - val_accuracy: 0.9559 - val_loss: 0.5692\n",
      "Epoch 75/80\n",
      "\u001b[1m29/29\u001b[0m \u001b[32m━━━━━━━━━━━━━━━━━━━━\u001b[0m\u001b[37m\u001b[0m \u001b[1m27s\u001b[0m 937ms/step - accuracy: 0.9885 - loss: 0.0405 - val_accuracy: 0.9559 - val_loss: 0.3605\n",
      "Epoch 76/80\n",
      "\u001b[1m29/29\u001b[0m \u001b[32m━━━━━━━━━━━━━━━━━━━━\u001b[0m\u001b[37m\u001b[0m \u001b[1m27s\u001b[0m 945ms/step - accuracy: 0.9901 - loss: 0.0270 - val_accuracy: 0.9559 - val_loss: 0.3608\n",
      "Epoch 77/80\n",
      "\u001b[1m29/29\u001b[0m \u001b[32m━━━━━━━━━━━━━━━━━━━━\u001b[0m\u001b[37m\u001b[0m \u001b[1m28s\u001b[0m 958ms/step - accuracy: 0.9908 - loss: 0.0259 - val_accuracy: 0.9706 - val_loss: 0.3487\n",
      "Epoch 78/80\n",
      "\u001b[1m29/29\u001b[0m \u001b[32m━━━━━━━━━━━━━━━━━━━━\u001b[0m\u001b[37m\u001b[0m \u001b[1m28s\u001b[0m 956ms/step - accuracy: 0.9943 - loss: 0.0275 - val_accuracy: 0.9412 - val_loss: 0.7615\n",
      "Epoch 79/80\n",
      "\u001b[1m29/29\u001b[0m \u001b[32m━━━━━━━━━━━━━━━━━━━━\u001b[0m\u001b[37m\u001b[0m \u001b[1m28s\u001b[0m 951ms/step - accuracy: 0.9942 - loss: 0.0124 - val_accuracy: 0.9485 - val_loss: 0.5608\n",
      "Epoch 80/80\n",
      "\u001b[1m29/29\u001b[0m \u001b[32m━━━━━━━━━━━━━━━━━━━━\u001b[0m\u001b[37m\u001b[0m \u001b[1m28s\u001b[0m 955ms/step - accuracy: 0.9920 - loss: 0.0288 - val_accuracy: 0.9485 - val_loss: 0.3881\n"
     ]
    }
   ],
   "source": [
    "# Train the model\n",
    "history = model.fit(x_train, y_train, epochs=80, batch_size=64, validation_data=(x_val, y_val), verbose=1)"
   ]
  },
  {
   "cell_type": "code",
   "execution_count": 12,
   "id": "6693a7e6-3cbd-4657-892e-08af16e195dc",
   "metadata": {},
   "outputs": [
    {
     "name": "stdout",
     "output_type": "stream",
     "text": [
      "\u001b[1m5/5\u001b[0m \u001b[32m━━━━━━━━━━━━━━━━━━━━\u001b[0m\u001b[37m\u001b[0m \u001b[1m0s\u001b[0m 80ms/step - accuracy: 0.9629 - loss: 0.2692\n",
      "Validation Loss: 0.388\n",
      "Validation Accuracy: 0.949\n"
     ]
    }
   ],
   "source": [
    "# Evaluate the model\n",
    "loss, accuracy = model.evaluate(x_val, y_val)\n",
    "print(f'Validation Loss: {loss:.3f}')\n",
    "print(f'Validation Accuracy: {accuracy:.3f}')"
   ]
  },
  {
   "cell_type": "code",
   "execution_count": 13,
   "id": "77e4a516-be5e-4bda-b917-08b551b8310a",
   "metadata": {},
   "outputs": [
    {
     "name": "stdout",
     "output_type": "stream",
     "text": [
      "Model saved successfully.\n"
     ]
    },
    {
     "data": {
      "text/plain": [
       "['scaler.pkl']"
      ]
     },
     "execution_count": 13,
     "metadata": {},
     "output_type": "execute_result"
    }
   ],
   "source": [
    "# Save the trained model\n",
    "model.save('guitar_chord_recognition_model.keras', include_optimizer=False)\n",
    "print(\"Model saved successfully.\")\n",
    "\n",
    "joblib.dump(encoder, 'encoder.pkl') \n",
    "joblib.dump(scaler, 'scaler.pkl')"
   ]
  },
  {
   "cell_type": "code",
   "execution_count": 14,
   "id": "b6ee17b7-feed-4228-af09-a0b18f8e6971",
   "metadata": {},
   "outputs": [
    {
     "data": {
      "image/png": "[encoded data removed]",
      "text/plain": [
       "<Figure size 640x480 with 1 Axes>"
      ]
     },
     "metadata": {
      "image/png": {
       "height": 454,
       "width": 554
      }
     },
     "output_type": "display_data"
    }
   ],
   "source": [
    "# Plot the training history\n",
    "plt.plot(history.history['loss'])\n",
    "plt.plot(history.history['val_loss'])\n",
    "plt.title('Model Loss')\n",
    "plt.ylabel('Loss')\n",
    "plt.xlabel('Epoch')\n",
    "plt.legend(['Train', 'Validation'], loc='upper left')\n",
    "plt.show()"
   ]
  },
  {
   "cell_type": "code",
   "execution_count": 15,
   "id": "c41718cc-4f4b-47b7-a3f8-90079494fc96",
   "metadata": {},
   "outputs": [
    {
     "name": "stdout",
     "output_type": "stream",
     "text": [
      "Model loaded successfully.\n",
      "Model recompiled successfully.\n"
     ]
    }
   ],
   "source": [
    "# Load the trained model\n",
    "model = load_model('guitar_chord_recognition_model.keras')\n",
    "print(\"Model loaded successfully.\")\n",
    "\n",
    "# Recompile the model with the same optimizer and loss function\n",
    "model.compile(optimizer='adam', loss='categorical_crossentropy', metrics=['accuracy'])\n",
    "print(\"Model recompiled successfully.\")\n"
   ]
  },
  {
   "cell_type": "code",
   "execution_count": 16,
   "id": "e60e8b51-a8f5-49fd-83d7-479431be93ce",
   "metadata": {},
   "outputs": [],
   "source": [
    "# Function to convert MP3 to WAV \n",
    "def convert_mp3_to_wav(mp3_file_path, wav_file_path='converted_audio_file.wav'): \n",
    "    audio = AudioSegment.from_mp3(mp3_file_path) \n",
    "    audio = audio.set_frame_rate(16000).set_channels(1) \n",
    "    audio.export(wav_file_path, format=\"wav\") \n",
    "    return wav_file_path\n"
   ]
  },
  {
   "cell_type": "code",
   "execution_count": 17,
   "id": "2d69d9ce-e5f6-4300-aa8c-b57dc6564d58",
   "metadata": {},
   "outputs": [],
   "source": [
    "# Function to split audio into chunks\n",
    "def split_audio(file_path, chunk_duration=3): # 3 seconds per chunk \n",
    "    y, sr = librosa.load(file_path, sr=None) \n",
    "    total_duration = librosa.get_duration(y=y, sr=sr) \n",
    "    chunks = [] \n",
    "    for i in range(0, int(total_duration), chunk_duration): \n",
    "        start_sample = i * sr \n",
    "        end_sample = start_sample + chunk_duration * sr \n",
    "        chunks.append(y[start_sample:end_sample]) \n",
    "        return chunks, sr"
   ]
  },
  {
   "cell_type": "code",
   "execution_count": 18,
   "id": "1fd0f930-dfbf-4292-a790-61e78ebb9c46",
   "metadata": {},
   "outputs": [],
   "source": [
    "# Function to extract features from chunk\n",
    "def extract_features_from_chunk(chunk, sr, mfcc_len=100): \n",
    "    if np.mean(np.abs(chunk)) < 0.01: \n",
    "        return None # Skip silent chunks \n",
    "    mfccs = librosa.feature.mfcc(y=chunk, sr=sr, n_mfcc=13, n_fft=2048, hop_length=512) \n",
    "    mel_spectrogram = librosa.feature.melspectrogram(y=chunk, sr=sr, n_fft=2048, hop_length=512) \n",
    "    chroma = librosa.feature.chroma_stft(y=chunk, sr=sr, n_fft=2048, hop_length=512) \n",
    "    contrast = librosa.feature.spectral_contrast(y=chunk, sr=sr, n_fft=2048, hop_length=512) \n",
    "    if mfccs.shape[1] < mfcc_len: \n",
    "        mfccs = np.pad(mfccs, ((0, 0), (0, mfcc_len - mfccs.shape[1])), mode='constant') \n",
    "        mel_spectrogram = np.pad(mel_spectrogram, ((0, 0), (0, mfcc_len - mel_spectrogram.shape[1])), mode='constant') \n",
    "        chroma = np.pad(chroma, ((0, 0), (0, mfcc_len - chroma.shape[1])), mode='constant') \n",
    "        contrast = np.pad(contrast, ((0, 0), (0, mfcc_len - contrast.shape[1])), mode='constant') \n",
    "    else: \n",
    "        mfccs = mfccs[:, :mfcc_len] \n",
    "        mel_spectrogram = mel_spectrogram[:, :mfcc_len] \n",
    "        chroma = chroma[:, :mfcc_len] \n",
    "        contrast = contrast[:, :mfcc_len] \n",
    "    features = np.vstack((mfccs, mel_spectrogram, chroma, contrast)) \n",
    "    return features"
   ]
  },
  {
   "cell_type": "code",
   "execution_count": 19,
   "id": "6a0fefce-e2e3-463e-a20c-c18260e14033",
   "metadata": {},
   "outputs": [],
   "source": [
    "# Function to predict chords for chunks\n",
    "def predict_chords_for_chunks(chunks, sr, model, encoder, scaler, mfcc_len=100):\n",
    "    predicted_chords = []\n",
    "    for chunk in chunks:\n",
    "        # Extract features\n",
    "        features = extract_features_from_chunk(chunk, sr, mfcc_len)\n",
    "        if features is None:\n",
    "            continue\n",
    "        features_flat = features.flatten().reshape(1, -1)\n",
    "        features_scaled = scaler.transform(features_flat)\n",
    "        features_scaled = np.expand_dims(features_scaled, axis=-1)\n",
    "        prediction = model.predict(features_scaled)\n",
    "        predicted_label_index = np.argmax(prediction)\n",
    "        predicted_label = encoder.inverse_transform(np.array([np.eye(len(encoder.categories_[0]))[predicted_label_index]])).reshape(-1)\n",
    "        predicted_chords.append(predicted_label[0])\n",
    "    return predicted_chords"
   ]
  },
  {
   "cell_type": "code",
   "execution_count": 22,
   "id": "4e46466c-2253-48c4-bd73-a6de7d3d57f0",
   "metadata": {},
   "outputs": [],
   "source": [
    "# Function to validate chord names\n",
    "def is_valid_chord(chord_name):\n",
    "    try:\n",
    "        music21.chord.Chord(chord_name)\n",
    "        return True\n",
    "    except music21.pitch.AccidentalException:\n",
    "        return False\n",
    "    except music21.pitch.PitchException:\n",
    "        return False\n",
    "\n",
    "# Function to generate sheet music\n",
    "def generate_sheet_music(predicted_chords):\n",
    "    sc = music21.stream.Score()\n",
    "    bpm = 120  # Example BPM\n",
    "    a = music21.tempo.MetronomeMark(number=bpm)\n",
    "    sc.insert(0, a)\n",
    "    for chord in predicted_chords:\n",
    "        d = 'half'  # Example duration\n",
    "        if chord == 'Rest':\n",
    "            sc.append(music21.note.Rest(type=d))\n",
    "        else:\n",
    "            if is_valid_chord(chord):\n",
    "                sc.append(music21.chord.Chord(chord, type=d))\n",
    "            else:\n",
    "                print(f\"Invalid chord detected: {chord}. Skipping or replacing with default.\")\n",
    "                # Replace invalid chords with a default valid chord (e.g., C major)\n",
    "                sc.append(music21.chord.Chord('C', type=d))\n",
    "    return sc\n",
    "\n",
    "def show_score(score):\n",
    "    xml = open(score.write('musicxml')).read()\n",
    "    show_music_xml(xml)\n",
    "\n",
    "def show_music_xml(xml):\n",
    "    DIV_ID = \"OSMD_div\"\n",
    "    display(HTML('<div id=\"'+DIV_ID+'\">loading OpenSheetMusicDisplay</div>'))\n",
    "    script = \"\"\"\n",
    "    var div_id = %%DIV_ID%%;\n",
    "    function loadOSMD() { \n",
    "        return new Promise(function(resolve, reject){\n",
    "            if (window.opensheetmusicdisplay) {\n",
    "                return resolve(window.opensheetmusicdisplay)\n",
    "            }\n",
    "            // OSMD script has a 'define' call which conflicts with requirejs\n",
    "            var _define = window.define // save the define object \n",
    "            window.define = undefined // now the loaded script will ignore requirejs\n",
    "            var s = document.createElement( 'script' );\n",
    "            s.setAttribute( 'src', \"https://cdn.jsdelivr.net/npm/opensheetmusicdisplay@0.7.6/build/opensheetmusicdisplay.min.js\" );\n",
    "            s.onload=function(){\n",
    "                window.define = _define\n",
    "                resolve(opensheetmusicdisplay);\n",
    "            };\n",
    "            document.body.appendChild( s ); // browser will try to load the new script tag\n",
    "        }) \n",
    "    }\n",
    "    loadOSMD().then((OSMD)=>{\n",
    "        window.openSheetMusicDisplay = new OSMD.OpenSheetMusicDisplay(div_id, {\n",
    "          drawingParameters: \"compacttight\"\n",
    "        });\n",
    "        openSheetMusicDisplay\n",
    "            .load(%%data%%)\n",
    "            .then(\n",
    "              function() {\n",
    "                openSheetMusicDisplay.render();\n",
    "              }\n",
    "            );\n",
    "    })\n",
    "    \"\"\".replace('%%DIV_ID%%',DIV_ID).replace('%%data%%',json.dumps(xml))\n",
    "    display(Javascript(script))\n",
    "    return\n"
   ]
  },
  {
   "cell_type": "code",
   "execution_count": 24,
   "id": "76d10832-d7fd-4bc2-8ee1-7dd0531e9fc7",
   "metadata": {},
   "outputs": [
    {
     "name": "stdout",
     "output_type": "stream",
     "text": [
      "\u001b[1m1/1\u001b[0m \u001b[32m━━━━━━━━━━━━━━━━━━━━\u001b[0m\u001b[37m\u001b[0m \u001b[1m0s\u001b[0m 32ms/step\n",
      "Invalid chord detected: D-sharp. Skipping or replacing with default.\n"
     ]
    },
    {
     "name": "stderr",
     "output_type": "stream",
     "text": [
      "C:\\Users\\CJHx6\\anaconda3\\Lib\\site-packages\\music21\\musicxml\\m21ToXml.py:427: MusicXMLWarning: <music21.stream.Score 0x2ad689fc2c0> is not well-formed; see isWellFormedNotation()\n",
      "  warnings.warn(f'{sc} is not well-formed; see isWellFormedNotation()',\n"
     ]
    },
    {
     "data": {
      "text/html": [
       "<div id=\"OSMD_div\">loading OpenSheetMusicDisplay</div>"
      ],
      "text/plain": [
       "<IPython.core.display.HTML object>"
      ]
     },
     "metadata": {},
     "output_type": "display_data"
    },
    {
     "data": {
      "application/javascript": [
       "\n",
       "    var div_id = OSMD_div;\n",
       "    function loadOSMD() { \n",
       "        return new Promise(function(resolve, reject){\n",
       "            if (window.opensheetmusicdisplay) {\n",
       "                return resolve(window.opensheetmusicdisplay)\n",
       "            }\n",
       "            // OSMD script has a 'define' call which conflicts with requirejs\n",
       "            var _define = window.define // save the define object \n",
       "            window.define = undefined // now the loaded script will ignore requirejs\n",
       "            var s = document.createElement( 'script' );\n",
       "            s.setAttribute( 'src', \"https://cdn.jsdelivr.net/npm/opensheetmusicdisplay@0.7.6/build/opensheetmusicdisplay.min.js\" );\n",
       "            s.onload=function(){\n",
       "                window.define = _define\n",
       "                resolve(opensheetmusicdisplay);\n",
       "            };\n",
       "            document.body.appendChild( s ); // browser will try to load the new script tag\n",
       "        }) \n",
       "    }\n",
       "    loadOSMD().then((OSMD)=>{\n",
       "        window.openSheetMusicDisplay = new OSMD.OpenSheetMusicDisplay(div_id, {\n",
       "          drawingParameters: \"compacttight\"\n",
       "        });\n",
       "        openSheetMusicDisplay\n",
       "            .load(\"<?xml version=\\\"1.0\\\" encoding=\\\"utf-8\\\"?>\\n<!DOCTYPE score-partwise  PUBLIC \\\"-//Recordare//DTD MusicXML 4.0 Partwise//EN\\\" \\\"http://www.musicxml.org/dtds/partwise.dtd\\\">\\n<score-partwise version=\\\"4.0\\\">\\n  <movement-title>Music21 Fragment</movement-title>\\n  <identification>\\n    <creator type=\\\"composer\\\">Music21</creator>\\n    <encoding>\\n      <encoding-date>2024-12-30</encoding-date>\\n      <software>music21 v.9.3.0</software>\\n    </encoding>\\n  </identification>\\n  <defaults>\\n    <scaling>\\n      <millimeters>7</millimeters>\\n      <tenths>40</tenths>\\n    </scaling>\\n  </defaults>\\n  <part-list>\\n    <score-part id=\\\"Pf2b9e85ff7e851fb856c9879a7649dc4\\\">\\n      <part-name />\\n    </score-part>\\n  </part-list>\\n  <!--=========================== Part 1 ===========================-->\\n  <part id=\\\"Pf2b9e85ff7e851fb856c9879a7649dc4\\\">\\n    <!--========================= Measure 1 ==========================-->\\n    <measure implicit=\\\"no\\\" number=\\\"1\\\">\\n      <attributes>\\n        <divisions>10080</divisions>\\n        <time>\\n          <beats>4</beats>\\n          <beat-type>4</beat-type>\\n        </time>\\n        <clef>\\n          <sign>G</sign>\\n          <line>2</line>\\n        </clef>\\n      </attributes>\\n      <direction>\\n        <direction-type>\\n          <metronome parentheses=\\\"no\\\">\\n            <beat-unit>quarter</beat-unit>\\n            <per-minute>120</per-minute>\\n          </metronome>\\n        </direction-type>\\n        <sound tempo=\\\"120\\\" />\\n      </direction>\\n      <note>\\n        <pitch>\\n          <step>C</step>\\n          <octave>4</octave>\\n        </pitch>\\n        <duration>20160</duration>\\n        <type>half</type>\\n      </note>\\n      <barline location=\\\"right\\\">\\n        <bar-style>light-heavy</bar-style>\\n      </barline>\\n    </measure>\\n  </part>\\n</score-partwise>\")\n",
       "            .then(\n",
       "              function() {\n",
       "                openSheetMusicDisplay.render();\n",
       "              }\n",
       "            );\n",
       "    })\n",
       "    "
      ],
      "text/plain": [
       "<IPython.core.display.Javascript object>"
      ]
     },
     "metadata": {},
     "output_type": "display_data"
    }
   ],
   "source": [
    "# Example usage\n",
    "mp3_file_path = r'C:\\Users\\CJHx6\\OneDrive\\AI_Class\\GIT\\Group_3_Project\\notebooks\\corey_exploration\\Skillet - Hero.mp3'\n",
    "wav_file_path = convert_mp3_to_wav(mp3_file_path)\n",
    "chunks, sr = split_audio(wav_file_path)\n",
    "predicted_chords = predict_chords_for_chunks(chunks, sr, model, encoder, scaler)\n",
    "score = generate_sheet_music(predicted_chords)\n",
    "show_score(score)"
   ]
  },
  {
   "cell_type": "code",
   "execution_count": 26,
   "id": "8ae7156e-9025-48f5-a68c-dea0d5165518",
   "metadata": {},
   "outputs": [],
   "source": [
    "# GENERATING SHEET MUSIC (USING music21)\n",
    "from music21 import stream, note, chord, duration\n",
    "\n",
    "def generate_sheet_music(chord_predictions, output_path=\"sheet_music.xml\"):\n",
    "    music_stream = stream.Stream()\n",
    "    for chord_name, start_time, end_time in chord_predictions:\n",
    "        n = note.TextChordSymbol()\n",
    "        n.addChordStep(chord_name)\n",
    "        n.quarterLength = (end_time - start_time) * 4  # Adjust based on your tempo\n",
    "        music_stream.append(n)\n",
    "    music_stream.write('musicxml', fp=output_path)"
   ]
  },
  {
   "cell_type": "code",
   "execution_count": 28,
   "id": "a6f2f526-c724-45aa-a92b-4893e2349961",
   "metadata": {},
   "outputs": [
    {
     "ename": "ValueError",
     "evalue": "not enough values to unpack (expected 3, got 1)",
     "output_type": "error",
     "traceback": [
      "\u001b[1;31m---------------------------------------------------------------------------\u001b[0m",
      "\u001b[1;31mValueError\u001b[0m                                Traceback (most recent call last)",
      "Cell \u001b[1;32mIn[28], line 4\u001b[0m\n\u001b[0;32m      1\u001b[0m \u001b[38;5;66;03m# Example Usage\u001b[39;00m\n\u001b[0;32m      2\u001b[0m \u001b[38;5;66;03m# Assuming predict_chords returns a list of chords, one for each segment\u001b[39;00m\n\u001b[0;32m      3\u001b[0m example_chords \u001b[38;5;241m=\u001b[39m [\u001b[38;5;124m\"\u001b[39m\u001b[38;5;124mC\u001b[39m\u001b[38;5;124m\"\u001b[39m, \u001b[38;5;124m\"\u001b[39m\u001b[38;5;124mG\u001b[39m\u001b[38;5;124m\"\u001b[39m, \u001b[38;5;124m\"\u001b[39m\u001b[38;5;124mAm\u001b[39m\u001b[38;5;124m\"\u001b[39m, \u001b[38;5;124m\"\u001b[39m\u001b[38;5;124mF\u001b[39m\u001b[38;5;124m\"\u001b[39m]\n\u001b[1;32m----> 4\u001b[0m generate_sheet_music(example_chords)\n",
      "Cell \u001b[1;32mIn[26], line 6\u001b[0m, in \u001b[0;36mgenerate_sheet_music\u001b[1;34m(chord_predictions, output_path)\u001b[0m\n\u001b[0;32m      4\u001b[0m \u001b[38;5;28;01mdef\u001b[39;00m \u001b[38;5;21mgenerate_sheet_music\u001b[39m(chord_predictions, output_path\u001b[38;5;241m=\u001b[39m\u001b[38;5;124m\"\u001b[39m\u001b[38;5;124msheet_music.xml\u001b[39m\u001b[38;5;124m\"\u001b[39m):\n\u001b[0;32m      5\u001b[0m     music_stream \u001b[38;5;241m=\u001b[39m stream\u001b[38;5;241m.\u001b[39mStream()\n\u001b[1;32m----> 6\u001b[0m     \u001b[38;5;28;01mfor\u001b[39;00m chord_name, start_time, end_time \u001b[38;5;129;01min\u001b[39;00m chord_predictions:\n\u001b[0;32m      7\u001b[0m         n \u001b[38;5;241m=\u001b[39m note\u001b[38;5;241m.\u001b[39mTextChordSymbol()\n\u001b[0;32m      8\u001b[0m         n\u001b[38;5;241m.\u001b[39maddChordStep(chord_name)\n",
      "\u001b[1;31mValueError\u001b[0m: not enough values to unpack (expected 3, got 1)"
     ]
    }
   ],
   "source": [
    "# Example Usage\n",
    "# Assuming predict_chords returns a list of chords, one for each segment\n",
    "example_chords = [\"C\", \"G\", \"Am\", \"F\"]\n",
    "generate_sheet_music(example_chords)"
   ]
  },
  {
   "cell_type": "code",
   "execution_count": 30,
   "id": "ff86d1e4-0adf-45ba-95f7-a2e670344d64",
   "metadata": {},
   "outputs": [],
   "source": [
    "# FUNCTION FOR LOADING SAVED MODEL\n",
    "def load_model():\n",
    "    return tf.keras.models.load_model(\"guitar_chord_recognition_model.keras\")"
   ]
  },
  {
   "cell_type": "code",
   "execution_count": 32,
   "id": "ca6fddd4-3e97-4a1d-8a3b-cf092aa079b2",
   "metadata": {},
   "outputs": [],
   "source": [
    "# FUNCTION TO PROCESS NEW SONG\n",
    "def process_new_song(audio_path):\n",
    "    y, sr = librosa.load(audio_path)\n",
    "    # Extracting features (e.g., MFCCs, chroma)\n",
    "    mfccs = librosa.feature.mfcc(y=y, sr=sr, n_mfcc=13)\n",
    "    mfccs_mean = np.mean(mfccs.T, axis=0)\n",
    "    return mfccs_mean.reshape(1, -1)  # Reshape for prediction"
   ]
  },
  {
   "cell_type": "code",
   "execution_count": 34,
   "id": "68e9891c-e434-4282-adfa-0c98d6da7538",
   "metadata": {},
   "outputs": [],
   "source": [
    "# FUNCTION TO PREDICT CHORDS\n",
    "def predict_chords(audio_path):\n",
    "    model = load_model()\n",
    "    features = process_new_song(audio_path)\n",
    "    prediction = model.predict(features)\n",
    "    predicted_label = encoder.inverse_transform([np.argmax(prediction)])\n",
    "    return predicted_label"
   ]
  },
  {
   "cell_type": "code",
   "execution_count": 36,
   "id": "16d8949d-a52e-431a-b22e-2637e492b9ca",
   "metadata": {},
   "outputs": [
    {
     "ename": "ValueError",
     "evalue": "Exception encountered when calling Conv1D.call().\n\n\u001b[1mNegative dimension size caused by subtracting 3 from 1 for '{{node sequential_1/conv1d_2_1/convolution}} = Conv2D[T=DT_FLOAT, data_format=\"NHWC\", dilations=[1, 1, 1, 1], explicit_paddings=[], padding=\"VALID\", strides=[1, 1, 1, 1], use_cudnn_on_gpu=true](sequential_1/conv1d_2_1/convolution/ExpandDims, sequential_1/conv1d_2_1/convolution/ExpandDims_1)' with input shapes: [1,1,1,128], [1,3,128,256].\u001b[0m\n\nArguments received by Conv1D.call():\n  • inputs=tf.Tensor(shape=(1, 1, 128), dtype=float32)",
     "output_type": "error",
     "traceback": [
      "\u001b[1;31m---------------------------------------------------------------------------\u001b[0m",
      "\u001b[1;31mValueError\u001b[0m                                Traceback (most recent call last)",
      "Cell \u001b[1;32mIn[36], line 3\u001b[0m\n\u001b[0;32m      1\u001b[0m \u001b[38;5;66;03m# TESTING THE NEW SONG FUNCTION\u001b[39;00m\n\u001b[0;32m      2\u001b[0m new_audio_path \u001b[38;5;241m=\u001b[39m \u001b[38;5;124mr\u001b[39m\u001b[38;5;124m'\u001b[39m\u001b[38;5;124mC:\u001b[39m\u001b[38;5;124m\\\u001b[39m\u001b[38;5;124mUsers\u001b[39m\u001b[38;5;124m\\\u001b[39m\u001b[38;5;124mCJHx6\u001b[39m\u001b[38;5;124m\\\u001b[39m\u001b[38;5;124mOneDrive\u001b[39m\u001b[38;5;124m\\\u001b[39m\u001b[38;5;124mAI_Class\u001b[39m\u001b[38;5;124m\\\u001b[39m\u001b[38;5;124mGIT\u001b[39m\u001b[38;5;124m\\\u001b[39m\u001b[38;5;124mGroup_3_Project\u001b[39m\u001b[38;5;124m\\\u001b[39m\u001b[38;5;124mnotebooks\u001b[39m\u001b[38;5;124m\\\u001b[39m\u001b[38;5;124mcorey_exploration\u001b[39m\u001b[38;5;124m\\\u001b[39m\u001b[38;5;124mconverted_audio_file.wav\u001b[39m\u001b[38;5;124m'\u001b[39m\n\u001b[1;32m----> 3\u001b[0m \u001b[38;5;28mprint\u001b[39m(\u001b[38;5;124m\"\u001b[39m\u001b[38;5;124mPredicted chord for the new song:\u001b[39m\u001b[38;5;124m\"\u001b[39m, predict_chords(new_audio_path))\n",
      "Cell \u001b[1;32mIn[34], line 5\u001b[0m, in \u001b[0;36mpredict_chords\u001b[1;34m(audio_path)\u001b[0m\n\u001b[0;32m      3\u001b[0m model \u001b[38;5;241m=\u001b[39m load_model()\n\u001b[0;32m      4\u001b[0m features \u001b[38;5;241m=\u001b[39m process_new_song(audio_path)\n\u001b[1;32m----> 5\u001b[0m prediction \u001b[38;5;241m=\u001b[39m model\u001b[38;5;241m.\u001b[39mpredict(features)\n\u001b[0;32m      6\u001b[0m predicted_label \u001b[38;5;241m=\u001b[39m encoder\u001b[38;5;241m.\u001b[39minverse_transform([np\u001b[38;5;241m.\u001b[39margmax(prediction)])\n\u001b[0;32m      7\u001b[0m \u001b[38;5;28;01mreturn\u001b[39;00m predicted_label\n",
      "File \u001b[1;32m~\\anaconda3\\Lib\\site-packages\\keras\\src\\utils\\traceback_utils.py:122\u001b[0m, in \u001b[0;36mfilter_traceback.<locals>.error_handler\u001b[1;34m(*args, **kwargs)\u001b[0m\n\u001b[0;32m    119\u001b[0m     filtered_tb \u001b[38;5;241m=\u001b[39m _process_traceback_frames(e\u001b[38;5;241m.\u001b[39m__traceback__)\n\u001b[0;32m    120\u001b[0m     \u001b[38;5;66;03m# To get the full stack trace, call:\u001b[39;00m\n\u001b[0;32m    121\u001b[0m     \u001b[38;5;66;03m# `keras.config.disable_traceback_filtering()`\u001b[39;00m\n\u001b[1;32m--> 122\u001b[0m     \u001b[38;5;28;01mraise\u001b[39;00m e\u001b[38;5;241m.\u001b[39mwith_traceback(filtered_tb) \u001b[38;5;28;01mfrom\u001b[39;00m \u001b[38;5;28;01mNone\u001b[39;00m\n\u001b[0;32m    123\u001b[0m \u001b[38;5;28;01mfinally\u001b[39;00m:\n\u001b[0;32m    124\u001b[0m     \u001b[38;5;28;01mdel\u001b[39;00m filtered_tb\n",
      "File \u001b[1;32m~\\anaconda3\\Lib\\site-packages\\keras\\src\\utils\\traceback_utils.py:122\u001b[0m, in \u001b[0;36mfilter_traceback.<locals>.error_handler\u001b[1;34m(*args, **kwargs)\u001b[0m\n\u001b[0;32m    119\u001b[0m     filtered_tb \u001b[38;5;241m=\u001b[39m _process_traceback_frames(e\u001b[38;5;241m.\u001b[39m__traceback__)\n\u001b[0;32m    120\u001b[0m     \u001b[38;5;66;03m# To get the full stack trace, call:\u001b[39;00m\n\u001b[0;32m    121\u001b[0m     \u001b[38;5;66;03m# `keras.config.disable_traceback_filtering()`\u001b[39;00m\n\u001b[1;32m--> 122\u001b[0m     \u001b[38;5;28;01mraise\u001b[39;00m e\u001b[38;5;241m.\u001b[39mwith_traceback(filtered_tb) \u001b[38;5;28;01mfrom\u001b[39;00m \u001b[38;5;28;01mNone\u001b[39;00m\n\u001b[0;32m    123\u001b[0m \u001b[38;5;28;01mfinally\u001b[39;00m:\n\u001b[0;32m    124\u001b[0m     \u001b[38;5;28;01mdel\u001b[39;00m filtered_tb\n",
      "\u001b[1;31mValueError\u001b[0m: Exception encountered when calling Conv1D.call().\n\n\u001b[1mNegative dimension size caused by subtracting 3 from 1 for '{{node sequential_1/conv1d_2_1/convolution}} = Conv2D[T=DT_FLOAT, data_format=\"NHWC\", dilations=[1, 1, 1, 1], explicit_paddings=[], padding=\"VALID\", strides=[1, 1, 1, 1], use_cudnn_on_gpu=true](sequential_1/conv1d_2_1/convolution/ExpandDims, sequential_1/conv1d_2_1/convolution/ExpandDims_1)' with input shapes: [1,1,1,128], [1,3,128,256].\u001b[0m\n\nArguments received by Conv1D.call():\n  • inputs=tf.Tensor(shape=(1, 1, 128), dtype=float32)"
     ]
    }
   ],
   "source": [
    "# TESTING THE NEW SONG FUNCTION\n",
    "new_audio_path = r'C:\\Users\\CJHx6\\OneDrive\\AI_Class\\GIT\\Group_3_Project\\notebooks\\corey_exploration\\converted_audio_file.wav'\n",
    "print(\"Predicted chord for the new song:\", predict_chords(new_audio_path))\n"
   ]
  },
  {
   "cell_type": "code",
   "execution_count": null,
   "id": "5fcf6dd8-186b-4217-b8a4-9c3061e74ee8",
   "metadata": {},
   "outputs": [],
   "source": []
  },
  {
   "cell_type": "code",
   "execution_count": null,
   "id": "f9ddbede-64a6-46c4-b4cd-1aeb303a0ea7",
   "metadata": {},
   "outputs": [],
   "source": []
  }
 ],
 "metadata": {
  "kernelspec": {
   "display_name": "Python 3 (ipykernel)",
   "language": "python",
   "name": "python3"
  },
  "language_info": {
   "codemirror_mode": {
    "name": "ipython",
    "version": 3
   },
   "file_extension": ".py",
   "mimetype": "text/x-python",
   "name": "python",
   "nbconvert_exporter": "python",
   "pygments_lexer": "ipython3",
   "version": "3.12.3"
  }
 },
 "nbformat": 4,
 "nbformat_minor": 5
}
