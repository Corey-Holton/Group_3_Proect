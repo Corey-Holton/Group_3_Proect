{
 "cells": [
  {
   "cell_type": "code",
   "execution_count": 108,
   "id": "2b296afd-f835-4592-82b7-590b40aeb573",
   "metadata": {},
   "outputs": [],
   "source": [
    "# Dependencies\n",
    "import librosa\n",
    "import librosa.display\n",
    "import tensorflow as tf\n",
    "from tensorflow.keras.layers import Dense, LSTM, Dropout\n",
    "import numpy as np\n",
    "import os\n",
    "import pandas as pd\n",
    "from sklearn.preprocessing import StandardScaler, LabelEncoder, OneHotEncoder\n",
    "from sklearn.model_selection import train_test_split\n",
    "import keras\n",
    "from keras.models import Sequential\n",
    "from keras.layers import Dense, Conv1D, MaxPooling1D, Flatten, Dropout, Activation\n",
    "from keras.optimizers import Adam\n",
    "import matplotlib.pyplot as plt\n",
    "import IPython.display as ipd\n",
    "from glob import glob\n",
    "color_pal = plt.rcParams[\"axes.prop_cycle\"].by_key()[\"color\"]\n",
    "from IPython.display import Audio\n",
    "from keras.models import load_model"
   ]
  },
  {
   "cell_type": "code",
   "execution_count": 64,
   "id": "48aa5f06-0917-4533-bf8e-d1315af7b4a9",
   "metadata": {},
   "outputs": [],
   "source": [
    "# Load audio file and extract chroma features\n",
    "audio_files = glob(r'C:\\Users\\CJHx6\\OneDrive\\AI_Class\\GIT\\Group_3_Project\\Resources\\guitar-notes\\Notes Datasets\\*\\*.wav')\n"
   ]
  },
  {
   "cell_type": "code",
   "execution_count": 74,
   "id": "b94961b3-fa27-48ab-956f-12f975fe8b4d",
   "metadata": {},
   "outputs": [],
   "source": [
    "# Load and preprocess the audio data\n",
    "def add_white_noise(data, noise_level=0.005):\n",
    "    max_amplitude = np.max(np.abs(data))\n",
    "    noise_amp = noise_level * max_amplitude\n",
    "    white_noise = noise_amp * np.random.normal(size=len(data))\n",
    "    noisy_data = data + white_noise\n",
    "    return noisy_data\n",
    "\n",
    "def time_stretch(data, rate=0.8):\n",
    "    return librosa.effects.time_stretch(data, rate=rate)\n",
    "\n",
    "def time_shift(data, max_shift_ms=50):\n",
    "    shift_range = int(np.random.uniform(low=-max_shift_ms, high=max_shift_ms) * 1000)\n",
    "    return np.roll(data, shift_range)\n",
    "\n",
    "def random_pitch_shift(data, sr, pitch_range=(-2, 2)):\n",
    "    pitch_shift_semitones = np.random.uniform(*pitch_range)\n",
    "    pitch_factor = 2 ** (pitch_shift_semitones / 12.0)\n",
    "    return librosa.effects.pitch_shift(data, sr=sr, n_steps=pitch_factor)"
   ]
  },
  {
   "cell_type": "code",
   "execution_count": 76,
   "id": "3b67dc7a-433e-495a-a5cf-039476af4dd8",
   "metadata": {},
   "outputs": [],
   "source": [
    "# Extract features from audio\n",
    "def extract_features(file_path, num_mfcc=13, n_fft=2048, hop_length=512, mfcc_len=100):\n",
    "    audio, sr = librosa.load(file_path, sr=None)    \n",
    "    audio = add_white_noise(audio)\n",
    "    audio = time_stretch(audio)\n",
    "    audio = time_shift(audio)\n",
    "    audio = random_pitch_shift(audio, sr)\n",
    "    \n",
    "    mfccs = librosa.feature.mfcc(y=audio, sr=sr, n_mfcc=num_mfcc, n_fft=n_fft, hop_length=hop_length)\n",
    "    mel_spectrogram = librosa.feature.melspectrogram(y=audio, sr=sr, n_fft=n_fft, hop_length=hop_length)\n",
    "    chroma = librosa.feature.chroma_stft(y=audio, sr=sr, n_fft=n_fft, hop_length=hop_length)\n",
    "    contrast = librosa.feature.spectral_contrast(y=audio, sr=sr, n_fft=n_fft, hop_length=hop_length)\n",
    "    \n",
    "    if mfccs.shape[1] < mfcc_len:\n",
    "        mfccs = np.pad(mfccs, ((0, 0), (0, mfcc_len - mfccs.shape[1])), mode='constant')\n",
    "        mel_spectrogram = np.pad(mel_spectrogram, ((0, 0), (0, mfcc_len - mel_spectrogram.shape[1])), mode='constant')\n",
    "        chroma = np.pad(chroma, ((0, 0), (0, mfcc_len - chroma.shape[1])), mode='constant')\n",
    "        contrast = np.pad(contrast, ((0, 0), (0, mfcc_len - contrast.shape[1])), mode='constant')\n",
    "    else:\n",
    "        mfccs = mfccs[:, :mfcc_len]\n",
    "        mel_spectrogram = mel_spectrogram[:, :mfcc_len]\n",
    "        chroma = chroma[:, :mfcc_len]\n",
    "        contrast = contrast[:, :mfcc_len]\n",
    "    \n",
    "    features = np.vstack((mfccs, mel_spectrogram, chroma, contrast))\n",
    "    label = os.path.basename(os.path.dirname(file_path)).split('. ')[1]\n",
    "    \n",
    "    return features, label"
   ]
  },
  {
   "cell_type": "code",
   "execution_count": 78,
   "id": "3be552b0-64e0-4cbd-a883-8a13547ac8f1",
   "metadata": {},
   "outputs": [],
   "source": [
    "# Function to process the entire dataset\n",
    "def process_dataset(dataset_path, mfcc_len=100):\n",
    "    data = []\n",
    "    labels = []\n",
    "    for root, dirs, files in os.walk(dataset_path):\n",
    "        for file in files:\n",
    "            if file.endswith('.wav'):\n",
    "                file_path = os.path.join(root, file)\n",
    "                features, label = extract_features(file_path, mfcc_len=mfcc_len)\n",
    "                data.append(features)\n",
    "                labels.append(label)\n",
    "    return data, labels"
   ]
  },
  {
   "cell_type": "code",
   "execution_count": 80,
   "id": "de6c15f2-20ba-439d-8bd4-99182bafdb3f",
   "metadata": {},
   "outputs": [
    {
     "name": "stderr",
     "output_type": "stream",
     "text": [
      "C:\\Users\\CJHx6\\anaconda3\\Lib\\site-packages\\librosa\\core\\pitch.py:101: UserWarning: Trying to estimate tuning from empty frequency set.\n",
      "  return pitch_tuning(\n"
     ]
    }
   ],
   "source": [
    "# Process the entire dataset\n",
    "dataset_path = r'C:\\Users\\CJHx6\\OneDrive\\AI_Class\\GIT\\Group_3_Project\\Resources\\guitar-notes\\Notes Datasets'\n",
    "data, labels = process_dataset(dataset_path)"
   ]
  },
  {
   "cell_type": "code",
   "execution_count": 81,
   "id": "56d22e87-8e7a-419c-bffa-3628027cfb86",
   "metadata": {},
   "outputs": [],
   "source": [
    "# Converting data to a DataFrame\n",
    "data = np.array(data)\n",
    "data_flat = np.array([d.flatten() for d in data])\n",
    "df = pd.DataFrame(data_flat)\n",
    "df['label'] = labels\n",
    "df = df.sample(frac=1).reset_index(drop=True)"
   ]
  },
  {
   "cell_type": "code",
   "execution_count": 82,
   "id": "0d772d58-9b1d-4705-9c41-3305e093ef54",
   "metadata": {},
   "outputs": [],
   "source": [
    "# Split the data into training, validation, and testing sets\n",
    "X = df.iloc[: ,:-1].values\n",
    "Y = df['label'].values\n",
    "encoder = OneHotEncoder()\n",
    "Y = encoder.fit_transform(np.array(Y).reshape(-1,1)).toarray()\n",
    "\n",
    "x_train, x_test, y_train, y_test = train_test_split(X, Y, test_size=0.2, random_state=42, shuffle=True)\n",
    "x_val, x_test, y_val, y_test = train_test_split(x_test, y_test, test_size=0.7, random_state=42, shuffle=True)"
   ]
  },
  {
   "cell_type": "code",
   "execution_count": 83,
   "id": "badf1a61-6e98-49fe-86d4-0678d690243c",
   "metadata": {},
   "outputs": [],
   "source": [
    "# Normalize the data\n",
    "scaler = StandardScaler()\n",
    "x_train = scaler.fit_transform(x_train)\n",
    "x_test = scaler.transform(x_test)\n",
    "x_val = scaler.transform(x_val)\n",
    "x_train = np.expand_dims(x_train, axis=-1)\n",
    "x_test = np.expand_dims(x_test, axis=-1)\n",
    "x_val = np.expand_dims(x_val, axis=-1)"
   ]
  },
  {
   "cell_type": "code",
   "execution_count": 84,
   "id": "11c77837-cef0-4330-a490-5e45193a06d8",
   "metadata": {},
   "outputs": [
    {
     "name": "stderr",
     "output_type": "stream",
     "text": [
      "C:\\Users\\CJHx6\\anaconda3\\Lib\\site-packages\\keras\\src\\layers\\convolutional\\base_conv.py:107: UserWarning: Do not pass an `input_shape`/`input_dim` argument to a layer. When using Sequential models, prefer using an `Input(shape)` object as the first layer in the model instead.\n",
      "  super().__init__(activity_regularizer=activity_regularizer, **kwargs)\n"
     ]
    }
   ],
   "source": [
    "# Build and compile the CNN model\n",
    "model = Sequential()\n",
    "model.add(Conv1D(64, kernel_size=3, activation='relu', input_shape=(x_train.shape[1], 1)))\n",
    "model.add(MaxPooling1D(pool_size=2))\n",
    "model.add(Conv1D(128, kernel_size=3, activation='relu'))\n",
    "model.add(MaxPooling1D(pool_size=2))\n",
    "model.add(Conv1D(256, kernel_size=3, activation='relu'))\n",
    "model.add(MaxPooling1D(pool_size=2))\n",
    "model.add(Flatten())\n",
    "model.add(Dense(256, activation='relu'))\n",
    "model.add(Dropout(0.5))\n",
    "model.add(Dense(128, activation='relu'))\n",
    "model.add(Dropout(0.5))\n",
    "model.add(Dense(len(encoder.categories_[0]), activation='softmax'))\n",
    "model.compile(optimizer='adam', loss='categorical_crossentropy', metrics=['accuracy'])"
   ]
  },
  {
   "cell_type": "code",
   "execution_count": 85,
   "id": "7862e5e3-e3b3-4c04-89d1-f7ee57340b45",
   "metadata": {},
   "outputs": [
    {
     "name": "stdout",
     "output_type": "stream",
     "text": [
      "Epoch 1/80\n",
      "\u001b[1m29/29\u001b[0m \u001b[32m━━━━━━━━━━━━━━━━━━━━\u001b[0m\u001b[37m\u001b[0m \u001b[1m31s\u001b[0m 990ms/step - accuracy: 0.0452 - loss: 4.8263 - val_accuracy: 0.2574 - val_loss: 3.3296\n",
      "Epoch 2/80\n",
      "\u001b[1m29/29\u001b[0m \u001b[32m━━━━━━━━━━━━━━━━━━━━\u001b[0m\u001b[37m\u001b[0m \u001b[1m29s\u001b[0m 994ms/step - accuracy: 0.1807 - loss: 3.2740 - val_accuracy: 0.7132 - val_loss: 2.0009\n",
      "Epoch 3/80\n",
      "\u001b[1m29/29\u001b[0m \u001b[32m━━━━━━━━━━━━━━━━━━━━\u001b[0m\u001b[37m\u001b[0m \u001b[1m29s\u001b[0m 981ms/step - accuracy: 0.3863 - loss: 2.4174 - val_accuracy: 0.8456 - val_loss: 0.9769\n",
      "Epoch 4/80\n",
      "\u001b[1m29/29\u001b[0m \u001b[32m━━━━━━━━━━━━━━━━━━━━\u001b[0m\u001b[37m\u001b[0m \u001b[1m28s\u001b[0m 978ms/step - accuracy: 0.5607 - loss: 1.6446 - val_accuracy: 0.8824 - val_loss: 0.5601\n",
      "Epoch 5/80\n",
      "\u001b[1m29/29\u001b[0m \u001b[32m━━━━━━━━━━━━━━━━━━━━\u001b[0m\u001b[37m\u001b[0m \u001b[1m28s\u001b[0m 966ms/step - accuracy: 0.6381 - loss: 1.2209 - val_accuracy: 0.9485 - val_loss: 0.3533\n",
      "Epoch 6/80\n",
      "\u001b[1m29/29\u001b[0m \u001b[32m━━━━━━━━━━━━━━━━━━━━\u001b[0m\u001b[37m\u001b[0m \u001b[1m28s\u001b[0m 969ms/step - accuracy: 0.7557 - loss: 0.8981 - val_accuracy: 0.9559 - val_loss: 0.2243\n",
      "Epoch 7/80\n",
      "\u001b[1m29/29\u001b[0m \u001b[32m━━━━━━━━━━━━━━━━━━━━\u001b[0m\u001b[37m\u001b[0m \u001b[1m28s\u001b[0m 977ms/step - accuracy: 0.7892 - loss: 0.6767 - val_accuracy: 0.9706 - val_loss: 0.1719\n",
      "Epoch 8/80\n",
      "\u001b[1m29/29\u001b[0m \u001b[32m━━━━━━━━━━━━━━━━━━━━\u001b[0m\u001b[37m\u001b[0m \u001b[1m28s\u001b[0m 971ms/step - accuracy: 0.8537 - loss: 0.5859 - val_accuracy: 0.9559 - val_loss: 0.1433\n",
      "Epoch 9/80\n",
      "\u001b[1m29/29\u001b[0m \u001b[32m━━━━━━━━━━━━━━━━━━━━\u001b[0m\u001b[37m\u001b[0m \u001b[1m28s\u001b[0m 957ms/step - accuracy: 0.8503 - loss: 0.4940 - val_accuracy: 0.9706 - val_loss: 0.1120\n",
      "Epoch 10/80\n",
      "\u001b[1m29/29\u001b[0m \u001b[32m━━━━━━━━━━━━━━━━━━━━\u001b[0m\u001b[37m\u001b[0m \u001b[1m28s\u001b[0m 969ms/step - accuracy: 0.8915 - loss: 0.3664 - val_accuracy: 0.9706 - val_loss: 0.1297\n",
      "Epoch 11/80\n",
      "\u001b[1m29/29\u001b[0m \u001b[32m━━━━━━━━━━━━━━━━━━━━\u001b[0m\u001b[37m\u001b[0m \u001b[1m28s\u001b[0m 975ms/step - accuracy: 0.8906 - loss: 0.3548 - val_accuracy: 0.9485 - val_loss: 0.1481\n",
      "Epoch 12/80\n",
      "\u001b[1m29/29\u001b[0m \u001b[32m━━━━━━━━━━━━━━━━━━━━\u001b[0m\u001b[37m\u001b[0m \u001b[1m28s\u001b[0m 965ms/step - accuracy: 0.8987 - loss: 0.3355 - val_accuracy: 0.9485 - val_loss: 0.1505\n",
      "Epoch 13/80\n",
      "\u001b[1m29/29\u001b[0m \u001b[32m━━━━━━━━━━━━━━━━━━━━\u001b[0m\u001b[37m\u001b[0m \u001b[1m28s\u001b[0m 955ms/step - accuracy: 0.9156 - loss: 0.2937 - val_accuracy: 0.9706 - val_loss: 0.1040\n",
      "Epoch 14/80\n",
      "\u001b[1m29/29\u001b[0m \u001b[32m━━━━━━━━━━━━━━━━━━━━\u001b[0m\u001b[37m\u001b[0m \u001b[1m28s\u001b[0m 966ms/step - accuracy: 0.9167 - loss: 0.2522 - val_accuracy: 0.9706 - val_loss: 0.0854\n",
      "Epoch 15/80\n",
      "\u001b[1m29/29\u001b[0m \u001b[32m━━━━━━━━━━━━━━━━━━━━\u001b[0m\u001b[37m\u001b[0m \u001b[1m28s\u001b[0m 973ms/step - accuracy: 0.9385 - loss: 0.2018 - val_accuracy: 0.9779 - val_loss: 0.0736\n",
      "Epoch 16/80\n",
      "\u001b[1m29/29\u001b[0m \u001b[32m━━━━━━━━━━━━━━━━━━━━\u001b[0m\u001b[37m\u001b[0m \u001b[1m28s\u001b[0m 967ms/step - accuracy: 0.9342 - loss: 0.2305 - val_accuracy: 0.9706 - val_loss: 0.0958\n",
      "Epoch 17/80\n",
      "\u001b[1m29/29\u001b[0m \u001b[32m━━━━━━━━━━━━━━━━━━━━\u001b[0m\u001b[37m\u001b[0m \u001b[1m28s\u001b[0m 960ms/step - accuracy: 0.9431 - loss: 0.1937 - val_accuracy: 0.9779 - val_loss: 0.0804\n",
      "Epoch 18/80\n",
      "\u001b[1m29/29\u001b[0m \u001b[32m━━━━━━━━━━━━━━━━━━━━\u001b[0m\u001b[37m\u001b[0m \u001b[1m28s\u001b[0m 968ms/step - accuracy: 0.9471 - loss: 0.1668 - val_accuracy: 0.9779 - val_loss: 0.0676\n",
      "Epoch 19/80\n",
      "\u001b[1m29/29\u001b[0m \u001b[32m━━━━━━━━━━━━━━━━━━━━\u001b[0m\u001b[37m\u001b[0m \u001b[1m28s\u001b[0m 975ms/step - accuracy: 0.9504 - loss: 0.1598 - val_accuracy: 0.9853 - val_loss: 0.0622\n",
      "Epoch 20/80\n",
      "\u001b[1m29/29\u001b[0m \u001b[32m━━━━━━━━━━━━━━━━━━━━\u001b[0m\u001b[37m\u001b[0m \u001b[1m28s\u001b[0m 975ms/step - accuracy: 0.9400 - loss: 0.1782 - val_accuracy: 0.9706 - val_loss: 0.0851\n",
      "Epoch 21/80\n",
      "\u001b[1m29/29\u001b[0m \u001b[32m━━━━━━━━━━━━━━━━━━━━\u001b[0m\u001b[37m\u001b[0m \u001b[1m28s\u001b[0m 955ms/step - accuracy: 0.9550 - loss: 0.1511 - val_accuracy: 0.9632 - val_loss: 0.0987\n",
      "Epoch 22/80\n",
      "\u001b[1m29/29\u001b[0m \u001b[32m━━━━━━━━━━━━━━━━━━━━\u001b[0m\u001b[37m\u001b[0m \u001b[1m28s\u001b[0m 959ms/step - accuracy: 0.9585 - loss: 0.1385 - val_accuracy: 0.9779 - val_loss: 0.0829\n",
      "Epoch 23/80\n",
      "\u001b[1m29/29\u001b[0m \u001b[32m━━━━━━━━━━━━━━━━━━━━\u001b[0m\u001b[37m\u001b[0m \u001b[1m28s\u001b[0m 975ms/step - accuracy: 0.9503 - loss: 0.1501 - val_accuracy: 0.9779 - val_loss: 0.0627\n",
      "Epoch 24/80\n",
      "\u001b[1m29/29\u001b[0m \u001b[32m━━━━━━━━━━━━━━━━━━━━\u001b[0m\u001b[37m\u001b[0m \u001b[1m28s\u001b[0m 968ms/step - accuracy: 0.9535 - loss: 0.1597 - val_accuracy: 0.9706 - val_loss: 0.0640\n",
      "Epoch 25/80\n",
      "\u001b[1m29/29\u001b[0m \u001b[32m━━━━━━━━━━━━━━━━━━━━\u001b[0m\u001b[37m\u001b[0m \u001b[1m28s\u001b[0m 962ms/step - accuracy: 0.9689 - loss: 0.1118 - val_accuracy: 0.9779 - val_loss: 0.0512\n",
      "Epoch 26/80\n",
      "\u001b[1m29/29\u001b[0m \u001b[32m━━━━━━━━━━━━━━━━━━━━\u001b[0m\u001b[37m\u001b[0m \u001b[1m28s\u001b[0m 961ms/step - accuracy: 0.9662 - loss: 0.1078 - val_accuracy: 0.9779 - val_loss: 0.0451\n",
      "Epoch 27/80\n",
      "\u001b[1m29/29\u001b[0m \u001b[32m━━━━━━━━━━━━━━━━━━━━\u001b[0m\u001b[37m\u001b[0m \u001b[1m28s\u001b[0m 968ms/step - accuracy: 0.9619 - loss: 0.1067 - val_accuracy: 0.9779 - val_loss: 0.0713\n",
      "Epoch 28/80\n",
      "\u001b[1m29/29\u001b[0m \u001b[32m━━━━━━━━━━━━━━━━━━━━\u001b[0m\u001b[37m\u001b[0m \u001b[1m28s\u001b[0m 966ms/step - accuracy: 0.9618 - loss: 0.1032 - val_accuracy: 0.9779 - val_loss: 0.0635\n",
      "Epoch 29/80\n",
      "\u001b[1m29/29\u001b[0m \u001b[32m━━━━━━━━━━━━━━━━━━━━\u001b[0m\u001b[37m\u001b[0m \u001b[1m28s\u001b[0m 961ms/step - accuracy: 0.9745 - loss: 0.0894 - val_accuracy: 0.9706 - val_loss: 0.0716\n",
      "Epoch 30/80\n",
      "\u001b[1m29/29\u001b[0m \u001b[32m━━━━━━━━━━━━━━━━━━━━\u001b[0m\u001b[37m\u001b[0m \u001b[1m28s\u001b[0m 966ms/step - accuracy: 0.9609 - loss: 0.1151 - val_accuracy: 0.9853 - val_loss: 0.0641\n",
      "Epoch 31/80\n",
      "\u001b[1m29/29\u001b[0m \u001b[32m━━━━━━━━━━━━━━━━━━━━\u001b[0m\u001b[37m\u001b[0m \u001b[1m28s\u001b[0m 966ms/step - accuracy: 0.9735 - loss: 0.0691 - val_accuracy: 0.9853 - val_loss: 0.0685\n",
      "Epoch 32/80\n",
      "\u001b[1m29/29\u001b[0m \u001b[32m━━━━━━━━━━━━━━━━━━━━\u001b[0m\u001b[37m\u001b[0m \u001b[1m28s\u001b[0m 968ms/step - accuracy: 0.9690 - loss: 0.1003 - val_accuracy: 0.9779 - val_loss: 0.0591\n",
      "Epoch 33/80\n",
      "\u001b[1m29/29\u001b[0m \u001b[32m━━━━━━━━━━━━━━━━━━━━\u001b[0m\u001b[37m\u001b[0m \u001b[1m28s\u001b[0m 963ms/step - accuracy: 0.9791 - loss: 0.0711 - val_accuracy: 0.9779 - val_loss: 0.0754\n",
      "Epoch 34/80\n",
      "\u001b[1m29/29\u001b[0m \u001b[32m━━━━━━━━━━━━━━━━━━━━\u001b[0m\u001b[37m\u001b[0m \u001b[1m28s\u001b[0m 951ms/step - accuracy: 0.9754 - loss: 0.0762 - val_accuracy: 0.9779 - val_loss: 0.0698\n",
      "Epoch 35/80\n",
      "\u001b[1m29/29\u001b[0m \u001b[32m━━━━━━━━━━━━━━━━━━━━\u001b[0m\u001b[37m\u001b[0m \u001b[1m28s\u001b[0m 976ms/step - accuracy: 0.9763 - loss: 0.0969 - val_accuracy: 0.9779 - val_loss: 0.0657\n",
      "Epoch 36/80\n",
      "\u001b[1m29/29\u001b[0m \u001b[32m━━━━━━━━━━━━━━━━━━━━\u001b[0m\u001b[37m\u001b[0m \u001b[1m29s\u001b[0m 982ms/step - accuracy: 0.9753 - loss: 0.0818 - val_accuracy: 0.9853 - val_loss: 0.0565\n",
      "Epoch 37/80\n",
      "\u001b[1m29/29\u001b[0m \u001b[32m━━━━━━━━━━━━━━━━━━━━\u001b[0m\u001b[37m\u001b[0m \u001b[1m28s\u001b[0m 971ms/step - accuracy: 0.9742 - loss: 0.0918 - val_accuracy: 0.9632 - val_loss: 0.0941\n",
      "Epoch 38/80\n",
      "\u001b[1m29/29\u001b[0m \u001b[32m━━━━━━━━━━━━━━━━━━━━\u001b[0m\u001b[37m\u001b[0m \u001b[1m28s\u001b[0m 956ms/step - accuracy: 0.9718 - loss: 0.1015 - val_accuracy: 0.9779 - val_loss: 0.0586\n",
      "Epoch 39/80\n",
      "\u001b[1m29/29\u001b[0m \u001b[32m━━━━━━━━━━━━━━━━━━━━\u001b[0m\u001b[37m\u001b[0m \u001b[1m28s\u001b[0m 970ms/step - accuracy: 0.9775 - loss: 0.0676 - val_accuracy: 0.9853 - val_loss: 0.0446\n",
      "Epoch 40/80\n",
      "\u001b[1m29/29\u001b[0m \u001b[32m━━━━━━━━━━━━━━━━━━━━\u001b[0m\u001b[37m\u001b[0m \u001b[1m29s\u001b[0m 984ms/step - accuracy: 0.9683 - loss: 0.0996 - val_accuracy: 0.9706 - val_loss: 0.0775\n",
      "Epoch 41/80\n",
      "\u001b[1m29/29\u001b[0m \u001b[32m━━━━━━━━━━━━━━━━━━━━\u001b[0m\u001b[37m\u001b[0m \u001b[1m29s\u001b[0m 987ms/step - accuracy: 0.9785 - loss: 0.0645 - val_accuracy: 0.9779 - val_loss: 0.0726\n",
      "Epoch 42/80\n",
      "\u001b[1m29/29\u001b[0m \u001b[32m━━━━━━━━━━━━━━━━━━━━\u001b[0m\u001b[37m\u001b[0m \u001b[1m28s\u001b[0m 977ms/step - accuracy: 0.9796 - loss: 0.0649 - val_accuracy: 0.9853 - val_loss: 0.0575\n",
      "Epoch 43/80\n",
      "\u001b[1m29/29\u001b[0m \u001b[32m━━━━━━━━━━━━━━━━━━━━\u001b[0m\u001b[37m\u001b[0m \u001b[1m28s\u001b[0m 961ms/step - accuracy: 0.9885 - loss: 0.0401 - val_accuracy: 0.9926 - val_loss: 0.0436\n",
      "Epoch 44/80\n",
      "\u001b[1m29/29\u001b[0m \u001b[32m━━━━━━━━━━━━━━━━━━━━\u001b[0m\u001b[37m\u001b[0m \u001b[1m28s\u001b[0m 977ms/step - accuracy: 0.9888 - loss: 0.0327 - val_accuracy: 0.9853 - val_loss: 0.0525\n",
      "Epoch 45/80\n",
      "\u001b[1m29/29\u001b[0m \u001b[32m━━━━━━━━━━━━━━━━━━━━\u001b[0m\u001b[37m\u001b[0m \u001b[1m28s\u001b[0m 981ms/step - accuracy: 0.9774 - loss: 0.0829 - val_accuracy: 0.9779 - val_loss: 0.0578\n",
      "Epoch 46/80\n",
      "\u001b[1m29/29\u001b[0m \u001b[32m━━━━━━━━━━━━━━━━━━━━\u001b[0m\u001b[37m\u001b[0m \u001b[1m28s\u001b[0m 967ms/step - accuracy: 0.9818 - loss: 0.0628 - val_accuracy: 0.9706 - val_loss: 0.0592\n",
      "Epoch 47/80\n",
      "\u001b[1m29/29\u001b[0m \u001b[32m━━━━━━━━━━━━━━━━━━━━\u001b[0m\u001b[37m\u001b[0m \u001b[1m28s\u001b[0m 960ms/step - accuracy: 0.9735 - loss: 0.0890 - val_accuracy: 0.9853 - val_loss: 0.0649\n",
      "Epoch 48/80\n",
      "\u001b[1m29/29\u001b[0m \u001b[32m━━━━━━━━━━━━━━━━━━━━\u001b[0m\u001b[37m\u001b[0m \u001b[1m28s\u001b[0m 970ms/step - accuracy: 0.9861 - loss: 0.0493 - val_accuracy: 0.9779 - val_loss: 0.0550\n",
      "Epoch 49/80\n",
      "\u001b[1m29/29\u001b[0m \u001b[32m━━━━━━━━━━━━━━━━━━━━\u001b[0m\u001b[37m\u001b[0m \u001b[1m28s\u001b[0m 970ms/step - accuracy: 0.9869 - loss: 0.0392 - val_accuracy: 0.9779 - val_loss: 0.0573\n",
      "Epoch 50/80\n",
      "\u001b[1m29/29\u001b[0m \u001b[32m━━━━━━━━━━━━━━━━━━━━\u001b[0m\u001b[37m\u001b[0m \u001b[1m28s\u001b[0m 969ms/step - accuracy: 0.9878 - loss: 0.0419 - val_accuracy: 0.9779 - val_loss: 0.0541\n",
      "Epoch 51/80\n",
      "\u001b[1m29/29\u001b[0m \u001b[32m━━━━━━━━━━━━━━━━━━━━\u001b[0m\u001b[37m\u001b[0m \u001b[1m28s\u001b[0m 954ms/step - accuracy: 0.9844 - loss: 0.0471 - val_accuracy: 0.9853 - val_loss: 0.0572\n",
      "Epoch 52/80\n",
      "\u001b[1m29/29\u001b[0m \u001b[32m━━━━━━━━━━━━━━━━━━━━\u001b[0m\u001b[37m\u001b[0m \u001b[1m28s\u001b[0m 974ms/step - accuracy: 0.9803 - loss: 0.0539 - val_accuracy: 0.9853 - val_loss: 0.0489\n",
      "Epoch 53/80\n",
      "\u001b[1m29/29\u001b[0m \u001b[32m━━━━━━━━━━━━━━━━━━━━\u001b[0m\u001b[37m\u001b[0m \u001b[1m28s\u001b[0m 975ms/step - accuracy: 0.9886 - loss: 0.0440 - val_accuracy: 0.9926 - val_loss: 0.0434\n",
      "Epoch 54/80\n",
      "\u001b[1m29/29\u001b[0m \u001b[32m━━━━━━━━━━━━━━━━━━━━\u001b[0m\u001b[37m\u001b[0m \u001b[1m28s\u001b[0m 969ms/step - accuracy: 0.9906 - loss: 0.0330 - val_accuracy: 0.9853 - val_loss: 0.0641\n",
      "Epoch 55/80\n",
      "\u001b[1m29/29\u001b[0m \u001b[32m━━━━━━━━━━━━━━━━━━━━\u001b[0m\u001b[37m\u001b[0m \u001b[1m28s\u001b[0m 962ms/step - accuracy: 0.9878 - loss: 0.0570 - val_accuracy: 0.9853 - val_loss: 0.0493\n",
      "Epoch 56/80\n",
      "\u001b[1m29/29\u001b[0m \u001b[32m━━━━━━━━━━━━━━━━━━━━\u001b[0m\u001b[37m\u001b[0m \u001b[1m28s\u001b[0m 965ms/step - accuracy: 0.9812 - loss: 0.0518 - val_accuracy: 0.9779 - val_loss: 0.0556\n",
      "Epoch 57/80\n",
      "\u001b[1m29/29\u001b[0m \u001b[32m━━━━━━━━━━━━━━━━━━━━\u001b[0m\u001b[37m\u001b[0m \u001b[1m28s\u001b[0m 965ms/step - accuracy: 0.9868 - loss: 0.0448 - val_accuracy: 0.9779 - val_loss: 0.0890\n",
      "Epoch 58/80\n",
      "\u001b[1m29/29\u001b[0m \u001b[32m━━━━━━━━━━━━━━━━━━━━\u001b[0m\u001b[37m\u001b[0m \u001b[1m28s\u001b[0m 972ms/step - accuracy: 0.9849 - loss: 0.0434 - val_accuracy: 0.9779 - val_loss: 0.0615\n",
      "Epoch 59/80\n",
      "\u001b[1m29/29\u001b[0m \u001b[32m━━━━━━━━━━━━━━━━━━━━\u001b[0m\u001b[37m\u001b[0m \u001b[1m28s\u001b[0m 962ms/step - accuracy: 0.9849 - loss: 0.0464 - val_accuracy: 0.9926 - val_loss: 0.0452\n",
      "Epoch 60/80\n",
      "\u001b[1m29/29\u001b[0m \u001b[32m━━━━━━━━━━━━━━━━━━━━\u001b[0m\u001b[37m\u001b[0m \u001b[1m28s\u001b[0m 965ms/step - accuracy: 0.9859 - loss: 0.0437 - val_accuracy: 0.9926 - val_loss: 0.0550\n",
      "Epoch 61/80\n",
      "\u001b[1m29/29\u001b[0m \u001b[32m━━━━━━━━━━━━━━━━━━━━\u001b[0m\u001b[37m\u001b[0m \u001b[1m29s\u001b[0m 983ms/step - accuracy: 0.9904 - loss: 0.0405 - val_accuracy: 0.9853 - val_loss: 0.0472\n",
      "Epoch 62/80\n",
      "\u001b[1m29/29\u001b[0m \u001b[32m━━━━━━━━━━━━━━━━━━━━\u001b[0m\u001b[37m\u001b[0m \u001b[1m29s\u001b[0m 985ms/step - accuracy: 0.9836 - loss: 0.0496 - val_accuracy: 0.9926 - val_loss: 0.0535\n",
      "Epoch 63/80\n",
      "\u001b[1m29/29\u001b[0m \u001b[32m━━━━━━━━━━━━━━━━━━━━\u001b[0m\u001b[37m\u001b[0m \u001b[1m29s\u001b[0m 984ms/step - accuracy: 0.9810 - loss: 0.0609 - val_accuracy: 0.9779 - val_loss: 0.0852\n",
      "Epoch 64/80\n",
      "\u001b[1m29/29\u001b[0m \u001b[32m━━━━━━━━━━━━━━━━━━━━\u001b[0m\u001b[37m\u001b[0m \u001b[1m28s\u001b[0m 975ms/step - accuracy: 0.9925 - loss: 0.0292 - val_accuracy: 0.9853 - val_loss: 0.0722\n",
      "Epoch 65/80\n",
      "\u001b[1m29/29\u001b[0m \u001b[32m━━━━━━━━━━━━━━━━━━━━\u001b[0m\u001b[37m\u001b[0m \u001b[1m28s\u001b[0m 970ms/step - accuracy: 0.9873 - loss: 0.0384 - val_accuracy: 0.9926 - val_loss: 0.0895\n",
      "Epoch 66/80\n",
      "\u001b[1m29/29\u001b[0m \u001b[32m━━━━━━━━━━━━━━━━━━━━\u001b[0m\u001b[37m\u001b[0m \u001b[1m28s\u001b[0m 969ms/step - accuracy: 0.9910 - loss: 0.0339 - val_accuracy: 0.9706 - val_loss: 0.1002\n",
      "Epoch 67/80\n",
      "\u001b[1m29/29\u001b[0m \u001b[32m━━━━━━━━━━━━━━━━━━━━\u001b[0m\u001b[37m\u001b[0m \u001b[1m28s\u001b[0m 967ms/step - accuracy: 0.9830 - loss: 0.0554 - val_accuracy: 0.9706 - val_loss: 0.1139\n",
      "Epoch 68/80\n",
      "\u001b[1m29/29\u001b[0m \u001b[32m━━━━━━━━━━━━━━━━━━━━\u001b[0m\u001b[37m\u001b[0m \u001b[1m28s\u001b[0m 952ms/step - accuracy: 0.9802 - loss: 0.0608 - val_accuracy: 0.9779 - val_loss: 0.0688\n",
      "Epoch 69/80\n",
      "\u001b[1m29/29\u001b[0m \u001b[32m━━━━━━━━━━━━━━━━━━━━\u001b[0m\u001b[37m\u001b[0m \u001b[1m28s\u001b[0m 958ms/step - accuracy: 0.9860 - loss: 0.0460 - val_accuracy: 0.9779 - val_loss: 0.0635\n",
      "Epoch 70/80\n",
      "\u001b[1m29/29\u001b[0m \u001b[32m━━━━━━━━━━━━━━━━━━━━\u001b[0m\u001b[37m\u001b[0m \u001b[1m28s\u001b[0m 967ms/step - accuracy: 0.9883 - loss: 0.0430 - val_accuracy: 0.9779 - val_loss: 0.0696\n",
      "Epoch 71/80\n",
      "\u001b[1m29/29\u001b[0m \u001b[32m━━━━━━━━━━━━━━━━━━━━\u001b[0m\u001b[37m\u001b[0m \u001b[1m28s\u001b[0m 973ms/step - accuracy: 0.9885 - loss: 0.0310 - val_accuracy: 0.9853 - val_loss: 0.0665\n",
      "Epoch 72/80\n",
      "\u001b[1m29/29\u001b[0m \u001b[32m━━━━━━━━━━━━━━━━━━━━\u001b[0m\u001b[37m\u001b[0m \u001b[1m29s\u001b[0m 982ms/step - accuracy: 0.9816 - loss: 0.0471 - val_accuracy: 0.9779 - val_loss: 0.0643\n",
      "Epoch 73/80\n",
      "\u001b[1m29/29\u001b[0m \u001b[32m━━━━━━━━━━━━━━━━━━━━\u001b[0m\u001b[37m\u001b[0m \u001b[1m29s\u001b[0m 986ms/step - accuracy: 0.9925 - loss: 0.0381 - val_accuracy: 0.9853 - val_loss: 0.0598\n",
      "Epoch 74/80\n",
      "\u001b[1m29/29\u001b[0m \u001b[32m━━━━━━━━━━━━━━━━━━━━\u001b[0m\u001b[37m\u001b[0m \u001b[1m29s\u001b[0m 992ms/step - accuracy: 0.9909 - loss: 0.0338 - val_accuracy: 0.9779 - val_loss: 0.0705\n",
      "Epoch 75/80\n",
      "\u001b[1m29/29\u001b[0m \u001b[32m━━━━━━━━━━━━━━━━━━━━\u001b[0m\u001b[37m\u001b[0m \u001b[1m28s\u001b[0m 976ms/step - accuracy: 0.9916 - loss: 0.0263 - val_accuracy: 0.9853 - val_loss: 0.0720\n",
      "Epoch 76/80\n",
      "\u001b[1m29/29\u001b[0m \u001b[32m━━━━━━━━━━━━━━━━━━━━\u001b[0m\u001b[37m\u001b[0m \u001b[1m28s\u001b[0m 971ms/step - accuracy: 0.9926 - loss: 0.0311 - val_accuracy: 0.9779 - val_loss: 0.0559\n",
      "Epoch 77/80\n",
      "\u001b[1m29/29\u001b[0m \u001b[32m━━━━━━━━━━━━━━━━━━━━\u001b[0m\u001b[37m\u001b[0m \u001b[1m28s\u001b[0m 970ms/step - accuracy: 0.9904 - loss: 0.0353 - val_accuracy: 0.9853 - val_loss: 0.0583\n",
      "Epoch 78/80\n",
      "\u001b[1m29/29\u001b[0m \u001b[32m━━━━━━━━━━━━━━━━━━━━\u001b[0m\u001b[37m\u001b[0m \u001b[1m28s\u001b[0m 972ms/step - accuracy: 0.9885 - loss: 0.0386 - val_accuracy: 0.9853 - val_loss: 0.0704\n",
      "Epoch 79/80\n",
      "\u001b[1m29/29\u001b[0m \u001b[32m━━━━━━━━━━━━━━━━━━━━\u001b[0m\u001b[37m\u001b[0m \u001b[1m28s\u001b[0m 967ms/step - accuracy: 0.9870 - loss: 0.0444 - val_accuracy: 0.9926 - val_loss: 0.0645\n",
      "Epoch 80/80\n",
      "\u001b[1m29/29\u001b[0m \u001b[32m━━━━━━━━━━━━━━━━━━━━\u001b[0m\u001b[37m\u001b[0m \u001b[1m28s\u001b[0m 965ms/step - accuracy: 0.9846 - loss: 0.0677 - val_accuracy: 0.9853 - val_loss: 0.0566\n"
     ]
    }
   ],
   "source": [
    "# Train the model\n",
    "history = model.fit(x_train, y_train, epochs=80, batch_size=64, validation_data=(x_val, y_val), verbose=1)"
   ]
  },
  {
   "cell_type": "code",
   "execution_count": 90,
   "id": "6693a7e6-3cbd-4657-892e-08af16e195dc",
   "metadata": {},
   "outputs": [
    {
     "name": "stdout",
     "output_type": "stream",
     "text": [
      "\u001b[1m5/5\u001b[0m \u001b[32m━━━━━━━━━━━━━━━━━━━━\u001b[0m\u001b[37m\u001b[0m \u001b[1m0s\u001b[0m 81ms/step - accuracy: 0.9734 - loss: 0.1007\n",
      "Validation Loss: 0.057\n",
      "Validation Accuracy: 0.985\n"
     ]
    }
   ],
   "source": [
    "# Evaluate the model\n",
    "loss, accuracy = model.evaluate(x_val, y_val)\n",
    "print(f'Validation Loss: {loss:.3f}')\n",
    "print(f'Validation Accuracy: {accuracy:.3f}')"
   ]
  },
  {
   "cell_type": "code",
   "execution_count": 91,
   "id": "77e4a516-be5e-4bda-b917-08b551b8310a",
   "metadata": {},
   "outputs": [
    {
     "name": "stderr",
     "output_type": "stream",
     "text": [
      "WARNING:absl:You are saving your model as an HDF5 file via `model.save()` or `keras.saving.save_model(model)`. This file format is considered legacy. We recommend using instead the native Keras format, e.g. `model.save('my_model.keras')` or `keras.saving.save_model(model, 'my_model.keras')`. \n"
     ]
    },
    {
     "name": "stdout",
     "output_type": "stream",
     "text": [
      "Model saved successfully.\n"
     ]
    }
   ],
   "source": [
    "# Save the trained model\n",
    "model.save('guitar_chord_recognition_model.h5')\n",
    "print(\"Model saved successfully.\")"
   ]
  },
  {
   "cell_type": "code",
   "execution_count": 100,
   "id": "b6ee17b7-feed-4228-af09-a0b18f8e6971",
   "metadata": {},
   "outputs": [
    {
     "data": {
      "image/png": "[encoded data removed]",
      "text/plain": [
       "<Figure size 640x480 with 1 Axes>"
      ]
     },
     "metadata": {},
     "output_type": "display_data"
    }
   ],
   "source": [
    "# Plot the training history\n",
    "plt.plot(history.history['loss'])\n",
    "plt.plot(history.history['val_loss'])\n",
    "plt.title('Model Loss')\n",
    "plt.ylabel('Loss')\n",
    "plt.xlabel('Epoch')\n",
    "plt.legend(['Train', 'Validation'], loc='upper left')\n",
    "plt.show()"
   ]
  },
  {
   "cell_type": "code",
   "execution_count": 101,
   "id": "d84ecd2e-eaea-4e39-a98c-07beac4eb8c0",
   "metadata": {},
   "outputs": [
    {
     "name": "stderr",
     "output_type": "stream",
     "text": [
      "WARNING:absl:Compiled the loaded model, but the compiled metrics have yet to be built. `model.compile_metrics` will be empty until you train or evaluate the model.\n"
     ]
    }
   ],
   "source": [
    "# Load the trained model\n",
    "model = load_model('guitar_chord_recognition_model.h5')"
   ]
  },
  {
   "cell_type": "code",
   "execution_count": 102,
   "id": "fa25d195-eb5a-47c8-b9d6-33a0eaeafe7a",
   "metadata": {},
   "outputs": [],
   "source": [
    "# Function to predict chords in a new audio file\n",
    "def predict_chords(file_path, model, encoder, scaler, mfcc_len=100):\n",
    "    features, _ = extract_features(file_path, mfcc_len=mfcc_len)\n",
    "    features_flat = features.flatten().reshape(1, -1)\n",
    "    features_scaled = scaler.transform(features_flat)\n",
    "    features_scaled = np.expand_dims(features_scaled, axis=-1)\n",
    "    prediction = model.predict(features_scaled)\n",
    "    predicted_label_index = np.argmax(prediction)\n",
    "    predicted_label = encoder.inverse_transform(np.array([predicted_label_index]).reshape(-1, 1))\n",
    "    return predicted_label[0][0]"
   ]
  },
  {
   "cell_type": "code",
   "execution_count": 113,
   "id": "c5ab04e7-eb87-4f5f-b270-983bde251da7",
   "metadata": {},
   "outputs": [],
   "source": [
    "import soundfile as sf\n",
    "\n",
    "def convert_mp3_to_wav(mp3_file, wav_file):\n",
    "  \"\"\"Converts an MP3 file to WAV format.\n",
    "\n",
    "  Args:\n",
    "    mp3_file: Path to the input MP3 file.\n",
    "    wav_file: Path to the output WAV file.\n",
    "  \"\"\"\n",
    "\n",
    "  # Read the MP3 file\n",
    "  data, samplerate = sf.read(mp3_file)\n",
    "\n",
    "  # Write the data to a WAV file\n",
    "  sf.write(wav_file, data, samplerate)\n",
    "\n",
    "# Specify the input and output file paths\n",
    "mp3_file = 'other.mp3'\n",
    "wav_file = 'path_to_new_audio_file.wav'\n",
    "\n",
    "# Convert the MP3 to WAV\n",
    "convert_mp3_to_wav(mp3_file, wav_file)"
   ]
  },
  {
   "cell_type": "code",
   "execution_count": 115,
   "id": "159eb01b-ee99-42eb-b80b-09983a967db1",
   "metadata": {},
   "outputs": [
    {
     "ename": "IndexError",
     "evalue": "list index out of range",
     "output_type": "error",
     "traceback": [
      "\u001b[1;31m---------------------------------------------------------------------------\u001b[0m",
      "\u001b[1;31mIndexError\u001b[0m                                Traceback (most recent call last)",
      "Cell \u001b[1;32mIn[115], line 3\u001b[0m\n\u001b[0;32m      1\u001b[0m \u001b[38;5;66;03m# Example usage: predict chords for a new audio file\u001b[39;00m\n\u001b[0;32m      2\u001b[0m new_audio_file \u001b[38;5;241m=\u001b[39m \u001b[38;5;124m'\u001b[39m\u001b[38;5;124mpath_to_new_audio_file.wav\u001b[39m\u001b[38;5;124m'\u001b[39m\n\u001b[1;32m----> 3\u001b[0m predicted_chord \u001b[38;5;241m=\u001b[39m predict_chords(new_audio_file, model, encoder, scaler)\n\u001b[0;32m      4\u001b[0m \u001b[38;5;28mprint\u001b[39m(\u001b[38;5;124mf\u001b[39m\u001b[38;5;124m'\u001b[39m\u001b[38;5;124mPredicted Chord: \u001b[39m\u001b[38;5;132;01m{\u001b[39;00mpredicted_chord\u001b[38;5;132;01m}\u001b[39;00m\u001b[38;5;124m'\u001b[39m)\n",
      "Cell \u001b[1;32mIn[102], line 3\u001b[0m, in \u001b[0;36mpredict_chords\u001b[1;34m(file_path, model, encoder, scaler, mfcc_len)\u001b[0m\n\u001b[0;32m      2\u001b[0m \u001b[38;5;28;01mdef\u001b[39;00m \u001b[38;5;21mpredict_chords\u001b[39m(file_path, model, encoder, scaler, mfcc_len\u001b[38;5;241m=\u001b[39m\u001b[38;5;241m100\u001b[39m):\n\u001b[1;32m----> 3\u001b[0m     features, _ \u001b[38;5;241m=\u001b[39m extract_features(file_path, mfcc_len\u001b[38;5;241m=\u001b[39mmfcc_len)\n\u001b[0;32m      4\u001b[0m     features_flat \u001b[38;5;241m=\u001b[39m features\u001b[38;5;241m.\u001b[39mflatten()\u001b[38;5;241m.\u001b[39mreshape(\u001b[38;5;241m1\u001b[39m, \u001b[38;5;241m-\u001b[39m\u001b[38;5;241m1\u001b[39m)\n\u001b[0;32m      5\u001b[0m     features_scaled \u001b[38;5;241m=\u001b[39m scaler\u001b[38;5;241m.\u001b[39mtransform(features_flat)\n",
      "Cell \u001b[1;32mIn[76], line 26\u001b[0m, in \u001b[0;36mextract_features\u001b[1;34m(file_path, num_mfcc, n_fft, hop_length, mfcc_len)\u001b[0m\n\u001b[0;32m     23\u001b[0m     contrast \u001b[38;5;241m=\u001b[39m contrast[:, :mfcc_len]\n\u001b[0;32m     25\u001b[0m features \u001b[38;5;241m=\u001b[39m np\u001b[38;5;241m.\u001b[39mvstack((mfccs, mel_spectrogram, chroma, contrast))\n\u001b[1;32m---> 26\u001b[0m label \u001b[38;5;241m=\u001b[39m os\u001b[38;5;241m.\u001b[39mpath\u001b[38;5;241m.\u001b[39mbasename(os\u001b[38;5;241m.\u001b[39mpath\u001b[38;5;241m.\u001b[39mdirname(file_path))\u001b[38;5;241m.\u001b[39msplit(\u001b[38;5;124m'\u001b[39m\u001b[38;5;124m. \u001b[39m\u001b[38;5;124m'\u001b[39m)[\u001b[38;5;241m1\u001b[39m]\n\u001b[0;32m     28\u001b[0m \u001b[38;5;28;01mreturn\u001b[39;00m features, label\n",
      "\u001b[1;31mIndexError\u001b[0m: list index out of range"
     ]
    }
   ],
   "source": [
    "# Example usage: predict chords for a new audio file\n",
    "new_audio_file = 'path_to_new_audio_file.wav'\n",
    "predicted_chord = predict_chords(new_audio_file, model, encoder, scaler)\n",
    "print(f'Predicted Chord: {predicted_chord}')"
   ]
  },
  {
   "cell_type": "code",
   "execution_count": null,
   "id": "8ae7156e-9025-48f5-a68c-dea0d5165518",
   "metadata": {},
   "outputs": [],
   "source": [
    "# GENERATING SHEET MUSIC (USING music21)\n",
    "from music21 import stream, note, chord, duration\n",
    "\n",
    "def generate_sheet_music(chord_predictions, output_path=\"sheet_music.xml\"):\n",
    "    music_stream = stream.Stream()\n",
    "    for chord_name, start_time, end_time in chord_predictions:\n",
    "        n = note.TextChordSymbol()\n",
    "        n.addChordStep(chord_name)\n",
    "        n.quarterLength = (end_time - start_time) * 4  # Adjust based on your tempo\n",
    "        music_stream.append(n)\n",
    "    music_stream.write('musicxml', fp=output_path)"
   ]
  },
  {
   "cell_type": "code",
   "execution_count": null,
   "id": "a6f2f526-c724-45aa-a92b-4893e2349961",
   "metadata": {},
   "outputs": [],
   "source": [
    "# Example Usage\n",
    "# Assuming predict_chords returns a list of chords, one for each segment\n",
    "example_chords = [\"C\", \"G\", \"Am\", \"F\"]\n",
    "generate_sheet_music(example_chords)"
   ]
  },
  {
   "cell_type": "code",
   "execution_count": null,
   "id": "ff86d1e4-0adf-45ba-95f7-a2e670344d64",
   "metadata": {},
   "outputs": [],
   "source": [
    "# FUNCTION FOR LOADING SAVED MODEL\n",
    "def load_model():\n",
    "    return tf.keras.models.load_model(\"guitar_notes_model.h5\")"
   ]
  },
  {
   "cell_type": "code",
   "execution_count": null,
   "id": "ca6fddd4-3e97-4a1d-8a3b-cf092aa079b2",
   "metadata": {},
   "outputs": [],
   "source": [
    "# FUNCTION TO PROCESS NEW SONG\n",
    "def process_new_song(audio_path):\n",
    "    y, sr = librosa.load(audio_path)\n",
    "    # Extracting features (e.g., MFCCs, chroma)\n",
    "    mfccs = librosa.feature.mfcc(y=y, sr=sr, n_mfcc=13)\n",
    "    mfccs_mean = np.mean(mfccs.T, axis=0)\n",
    "    return mfccs_mean.reshape(1, -1)  # Reshape for prediction"
   ]
  },
  {
   "cell_type": "code",
   "execution_count": null,
   "id": "68e9891c-e434-4282-adfa-0c98d6da7538",
   "metadata": {},
   "outputs": [],
   "source": [
    "# FUNCTION TO PREDICT CHORDS\n",
    "def predict_chords(audio_path):\n",
    "    model = load_model()\n",
    "    features = process_new_song(audio_path)\n",
    "    prediction = model.predict(features)\n",
    "    predicted_label = encoder.inverse_transform([np.argmax(prediction)])\n",
    "    return predicted_label"
   ]
  },
  {
   "cell_type": "code",
   "execution_count": null,
   "id": "16d8949d-a52e-431a-b22e-2637e492b9ca",
   "metadata": {},
   "outputs": [],
   "source": [
    "# TESTING THE NEW SONG FUNCTION\n",
    "new_audio_path = \"path_to_new_song.wav\"\n",
    "print(\"Predicted chord for the new song:\", predict_chords(new_audio_path))\n"
   ]
  },
  {
   "cell_type": "code",
   "execution_count": null,
   "id": "92de1045-58a6-4f2c-b311-388e260fa56d",
   "metadata": {},
   "outputs": [],
   "source": [
    "# GENERATING SHEET MUSIC (USING music21)\n",
    "from music21 import stream, note, chord\n",
    "\n",
    "def generate_sheet_music(chord_predictions, output_path=\"sheet_music.xml\"):\n",
    "    music_stream = stream.Stream()\n",
    "    for chord_name in chord_predictions:\n",
    "        n = note.TextChordSymbol()\n",
    "        n.addChordStep(chord_name)\n",
    "        music_stream.append(n)\n",
    "    music_stream.write('musicxml', fp=output_path)\n",
    "    print(f\"Sheet music exported to {output_path}\")"
   ]
  },
  {
   "cell_type": "code",
   "execution_count": null,
   "id": "f7233719-bf31-45ff-b124-d7c7567e7ea9",
   "metadata": {},
   "outputs": [],
   "source": [
    "# Example Usage\n",
    "# Assuming predict_chords returns a list of chords, one for each segment\n",
    "example_chords = [\"C\", \"G\", \"Am\", \"F\"]\n",
    "generate_sheet_music(example_chords)"
   ]
  }
 ],
 "metadata": {
  "kernelspec": {
   "display_name": "Python 3 (ipykernel)",
   "language": "python",
   "name": "python3"
  },
  "language_info": {
   "codemirror_mode": {
    "name": "ipython",
    "version": 3
   },
   "file_extension": ".py",
   "mimetype": "text/x-python",
   "name": "python",
   "nbconvert_exporter": "python",
   "pygments_lexer": "ipython3",
   "version": "3.12.3"
  }
 },
 "nbformat": 4,
 "nbformat_minor": 5
}
