{
 "cells": [
  {
   "cell_type": "code",
   "execution_count": 2,
   "id": "6f25ed47-a472-4ef0-908a-82997d52084f",
   "metadata": {},
   "outputs": [
    {
     "name": "stdout",
     "output_type": "stream",
     "text": [
      "WARNING:tensorflow:From C:\\Users\\CJHx6\\anaconda3\\Lib\\site-packages\\tf_keras\\src\\losses.py:2976: The name tf.losses.sparse_softmax_cross_entropy is deprecated. Please use tf.compat.v1.losses.sparse_softmax_cross_entropy instead.\n",
      "\n"
     ]
    }
   ],
   "source": [
    "import librosa\n",
    "import librosa.display\n",
    "import tensorflow as tf\n",
    "from tensorflow.keras.layers import Dense, LSTM, Dropout\n",
    "import numpy as np\n",
    "import os\n",
    "import pandas as pd\n",
    "from sklearn.preprocessing import StandardScaler, LabelEncoder, OneHotEncoder\n",
    "from sklearn.model_selection import train_test_split\n",
    "import keras\n",
    "from keras.models import Sequential\n",
    "from keras.layers import Dense, Conv1D, MaxPooling1D, Flatten, Dropout, Activation\n",
    "from keras.optimizers import Adam\n",
    "import matplotlib.pyplot as plt\n",
    "from glob import glob\n",
    "from IPython.display import Audio, Javascript, display, HTML\n",
    "from scipy.io import wavfile\n",
    "from pydub import AudioSegment\n",
    "import json, random\n",
    "import statistics\n",
    "import math\n",
    "import music21\n",
    "import tensorflow_hub as hub\n",
    "color_pal = plt.rcParams[\"axes.prop_cycle\"].by_key()[\"color\"]"
   ]
  },
  {
   "cell_type": "code",
   "execution_count": 4,
   "id": "8c68cb70-f7a8-4f0d-b365-c45c368bf9a3",
   "metadata": {},
   "outputs": [],
   "source": [
    "# Load audio files and extract chroma features\n",
    "audio_files = glob(r'C:\\Users\\CJHx6\\OneDrive\\AI_Class\\GIT\\Group_3_Project\\Resources\\guitar-notes\\Notes Datasets\\*\\*.wav')\n"
   ]
  },
  {
   "cell_type": "code",
   "execution_count": 6,
   "id": "407b0874-ef27-4ba6-bdcb-822b293497ec",
   "metadata": {},
   "outputs": [],
   "source": [
    "# Preprocess the audio data\n",
    "def add_white_noise(data, noise_level=0.005):\n",
    "    max_amplitude = np.max(np.abs(data))\n",
    "    noise_amp = noise_level * max_amplitude\n",
    "    white_noise = noise_amp * np.random.normal(size=len(data))\n",
    "    noisy_data = data + white_noise\n",
    "    return noisy_data\n",
    "\n",
    "def time_stretch(data, rate=0.8):\n",
    "    return librosa.effects.time_stretch(data, rate=rate)\n",
    "\n",
    "def time_shift(data, max_shift_ms=50):\n",
    "    shift_range = int(np.random.uniform(low=-max_shift_ms, high=max_shift_ms) * 1000)\n",
    "    return np.roll(data, shift_range)\n",
    "\n",
    "def random_pitch_shift(data, sr, pitch_range=(-2, 2)):\n",
    "    pitch_shift_semitones = np.random.uniform(*pitch_range)\n",
    "    pitch_factor = 2 ** (pitch_shift_semitones / 12.0)\n",
    "    return librosa.effects.pitch_shift(data, sr=sr, n_steps=pitch_factor)"
   ]
  },
  {
   "cell_type": "code",
   "execution_count": 8,
   "id": "153b5aa7-9352-4735-afc6-a72c26f2763b",
   "metadata": {},
   "outputs": [],
   "source": [
    "# Extract features from audio\n",
    "def extract_features(file_path, num_mfcc=13, n_fft=2048, hop_length=512, mfcc_len=100):\n",
    "    audio, sr = librosa.load(file_path, sr=None)    \n",
    "    audio = add_white_noise(audio)\n",
    "    audio = time_stretch(audio)\n",
    "    audio = time_shift(audio)\n",
    "    audio = random_pitch_shift(audio, sr)\n",
    "    \n",
    "    mfccs = librosa.feature.mfcc(y=audio, sr=sr, n_mfcc=num_mfcc, n_fft=n_fft, hop_length=hop_length)\n",
    "    mel_spectrogram = librosa.feature.melspectrogram(y=audio, sr=sr, n_fft=n_fft, hop_length=hop_length)\n",
    "    chroma = librosa.feature.chroma_stft(y=audio, sr=sr, n_fft=n_fft, hop_length=hop_length)\n",
    "    contrast = librosa.feature.spectral_contrast(y=audio, sr=sr, n_fft=n_fft, hop_length=hop_length)\n",
    "    \n",
    "    if mfccs.shape[1] < mfcc_len:\n",
    "        mfccs = np.pad(mfccs, ((0, 0), (0, mfcc_len - mfccs.shape[1])), mode='constant')\n",
    "        mel_spectrogram = np.pad(mel_spectrogram, ((0, 0), (0, mfcc_len - mel_spectrogram.shape[1])), mode='constant')\n",
    "        chroma = np.pad(chroma, ((0, 0), (0, mfcc_len - chroma.shape[1])), mode='constant')\n",
    "        contrast = np.pad(contrast, ((0, 0), (0, mfcc_len - contrast.shape[1])), mode='constant')\n",
    "    else:\n",
    "        mfccs = mfccs[:, :mfcc_len]\n",
    "        mel_spectrogram = mel_spectrogram[:, :mfcc_len]\n",
    "        chroma = chroma[:, :mfcc_len]\n",
    "        contrast = contrast[:, :mfcc_len]\n",
    "    \n",
    "    features = np.vstack((mfccs, mel_spectrogram, chroma, contrast))\n",
    "    label = os.path.basename(os.path.dirname(file_path)).split('. ')[1]\n",
    "    \n",
    "    return features, label"
   ]
  },
  {
   "cell_type": "code",
   "execution_count": 10,
   "id": "812c7ce3-78cc-4c29-98c6-675b47318697",
   "metadata": {},
   "outputs": [],
   "source": [
    "# Function to process the entire dataset\n",
    "def process_dataset(dataset_path, mfcc_len=100):\n",
    "    data = []\n",
    "    labels = []\n",
    "    for root, dirs, files in os.walk(dataset_path):\n",
    "        for file in files:\n",
    "            if file.endswith('.wav'):\n",
    "                file_path = os.path.join(root, file)\n",
    "                features, label = extract_features(file_path, mfcc_len=mfcc_len)\n",
    "                data.append(features)\n",
    "                labels.append(label)\n",
    "    return data, labels"
   ]
  },
  {
   "cell_type": "code",
   "execution_count": 12,
   "id": "52c284fb-101d-41c2-9bae-59d6b50cecb6",
   "metadata": {},
   "outputs": [
    {
     "name": "stderr",
     "output_type": "stream",
     "text": [
      "C:\\Users\\CJHx6\\anaconda3\\Lib\\site-packages\\librosa\\core\\pitch.py:101: UserWarning: Trying to estimate tuning from empty frequency set.\n",
      "  return pitch_tuning(\n"
     ]
    }
   ],
   "source": [
    "# Process the entire dataset\n",
    "dataset_path = r'C:\\Users\\CJHx6\\OneDrive\\AI_Class\\GIT\\Group_3_Project\\Resources\\guitar-notes\\Notes Datasets'\n",
    "data, labels = process_dataset(dataset_path)"
   ]
  },
  {
   "cell_type": "code",
   "execution_count": 13,
   "id": "4bcff7a7-286f-4f22-9ac9-712b7d653d3c",
   "metadata": {},
   "outputs": [],
   "source": [
    "# Converting data to a DataFrame\n",
    "data = np.array(data)\n",
    "data_flat = np.array([d.flatten() for d in data])\n",
    "df = pd.DataFrame(data_flat)\n",
    "df['label'] = labels\n",
    "df = df.sample(frac=1).reset_index(drop=True)"
   ]
  },
  {
   "cell_type": "code",
   "execution_count": 14,
   "id": "022d5076-1140-4ba9-86a7-01332147c0cc",
   "metadata": {},
   "outputs": [],
   "source": [
    "# Split the data into training, validation, and testing sets\n",
    "X = df.iloc[: ,:-1].values\n",
    "Y = df['label'].values\n",
    "encoder = OneHotEncoder()\n",
    "Y = encoder.fit_transform(np.array(Y).reshape(-1,1)).toarray()\n",
    "\n",
    "x_train, x_test, y_train, y_test = train_test_split(X, Y, test_size=0.2, random_state=42, shuffle=True)\n",
    "x_val, x_test, y_val, y_test = train_test_split(x_test, y_test, test_size=0.7, random_state=42, shuffle=True)"
   ]
  },
  {
   "cell_type": "code",
   "execution_count": 15,
   "id": "25a2ee15-263d-47af-bb41-984dc25c464a",
   "metadata": {},
   "outputs": [],
   "source": [
    "# Normalize the data\n",
    "scaler = StandardScaler()\n",
    "x_train = scaler.fit_transform(x_train)\n",
    "x_test = scaler.transform(x_test)\n",
    "x_val = scaler.transform(x_val)\n",
    "x_train = np.expand_dims(x_train, axis=-1)\n",
    "x_test = np.expand_dims(x_test, axis=-1)\n",
    "x_val = np.expand_dims(x_val, axis=-1)"
   ]
  },
  {
   "cell_type": "code",
   "execution_count": 16,
   "id": "d1cd5ab1-6356-4a39-a818-da289c448552",
   "metadata": {},
   "outputs": [
    {
     "name": "stderr",
     "output_type": "stream",
     "text": [
      "C:\\Users\\CJHx6\\anaconda3\\Lib\\site-packages\\keras\\src\\layers\\convolutional\\base_conv.py:107: UserWarning: Do not pass an `input_shape`/`input_dim` argument to a layer. When using Sequential models, prefer using an `Input(shape)` object as the first layer in the model instead.\n",
      "  super().__init__(activity_regularizer=activity_regularizer, **kwargs)\n"
     ]
    }
   ],
   "source": [
    "# Build and compile the CNN model\n",
    "model = Sequential()\n",
    "model.add(Conv1D(64, kernel_size=3, activation='relu', input_shape=(x_train.shape[1], 1)))\n",
    "model.add(MaxPooling1D(pool_size=2))\n",
    "model.add(Conv1D(128, kernel_size=3, activation='relu'))\n",
    "model.add(MaxPooling1D(pool_size=2))\n",
    "model.add(Conv1D(256, kernel_size=3, activation='relu'))\n",
    "model.add(MaxPooling1D(pool_size=2))\n",
    "model.add(Flatten())\n",
    "model.add(Dense(256, activation='relu'))\n",
    "model.add(Dropout(0.5))\n",
    "model.add(Dense(128, activation='relu'))\n",
    "model.add(Dropout(0.5))\n",
    "model.add(Dense(len(encoder.categories_[0]), activation='softmax'))\n",
    "model.compile(optimizer='adam', loss='categorical_crossentropy', metrics=['accuracy'])"
   ]
  },
  {
   "cell_type": "code",
   "execution_count": 17,
   "id": "e8a8c20f-e2bd-4702-8f0d-7ec49ed9b40c",
   "metadata": {},
   "outputs": [
    {
     "name": "stdout",
     "output_type": "stream",
     "text": [
      "Epoch 1/80\n",
      "\u001b[1m29/29\u001b[0m \u001b[32m━━━━━━━━━━━━━━━━━━━━\u001b[0m\u001b[37m\u001b[0m \u001b[1m29s\u001b[0m 953ms/step - accuracy: 0.0462 - loss: 4.4094 - val_accuracy: 0.1838 - val_loss: 3.4524\n",
      "Epoch 2/80\n",
      "\u001b[1m29/29\u001b[0m \u001b[32m━━━━━━━━━━━━━━━━━━━━\u001b[0m\u001b[37m\u001b[0m \u001b[1m27s\u001b[0m 946ms/step - accuracy: 0.1729 - loss: 3.2202 - val_accuracy: 0.6765 - val_loss: 2.2525\n",
      "Epoch 3/80\n",
      "\u001b[1m29/29\u001b[0m \u001b[32m━━━━━━━━━━━━━━━━━━━━\u001b[0m\u001b[37m\u001b[0m \u001b[1m28s\u001b[0m 969ms/step - accuracy: 0.4037 - loss: 2.2533 - val_accuracy: 0.8235 - val_loss: 1.0113\n",
      "Epoch 4/80\n",
      "\u001b[1m29/29\u001b[0m \u001b[32m━━━━━━━━━━━━━━━━━━━━\u001b[0m\u001b[37m\u001b[0m \u001b[1m28s\u001b[0m 949ms/step - accuracy: 0.5601 - loss: 1.5853 - val_accuracy: 0.8971 - val_loss: 0.6456\n",
      "Epoch 5/80\n",
      "\u001b[1m29/29\u001b[0m \u001b[32m━━━━━━━━━━━━━━━━━━━━\u001b[0m\u001b[37m\u001b[0m \u001b[1m28s\u001b[0m 950ms/step - accuracy: 0.6985 - loss: 1.0493 - val_accuracy: 0.9118 - val_loss: 0.2922\n",
      "Epoch 6/80\n",
      "\u001b[1m29/29\u001b[0m \u001b[32m━━━━━━━━━━━━━━━━━━━━\u001b[0m\u001b[37m\u001b[0m \u001b[1m28s\u001b[0m 962ms/step - accuracy: 0.7655 - loss: 0.8279 - val_accuracy: 0.9412 - val_loss: 0.1674\n",
      "Epoch 7/80\n",
      "\u001b[1m29/29\u001b[0m \u001b[32m━━━━━━━━━━━━━━━━━━━━\u001b[0m\u001b[37m\u001b[0m \u001b[1m28s\u001b[0m 973ms/step - accuracy: 0.7881 - loss: 0.6911 - val_accuracy: 0.9485 - val_loss: 0.1594\n",
      "Epoch 8/80\n",
      "\u001b[1m29/29\u001b[0m \u001b[32m━━━━━━━━━━━━━━━━━━━━\u001b[0m\u001b[37m\u001b[0m \u001b[1m28s\u001b[0m 960ms/step - accuracy: 0.8503 - loss: 0.5058 - val_accuracy: 0.9632 - val_loss: 0.1373\n",
      "Epoch 9/80\n",
      "\u001b[1m29/29\u001b[0m \u001b[32m━━━━━━━━━━━━━━━━━━━━\u001b[0m\u001b[37m\u001b[0m \u001b[1m27s\u001b[0m 945ms/step - accuracy: 0.8509 - loss: 0.4770 - val_accuracy: 0.9559 - val_loss: 0.1719\n",
      "Epoch 10/80\n",
      "\u001b[1m29/29\u001b[0m \u001b[32m━━━━━━━━━━━━━━━━━━━━\u001b[0m\u001b[37m\u001b[0m \u001b[1m28s\u001b[0m 963ms/step - accuracy: 0.8915 - loss: 0.3476 - val_accuracy: 0.9485 - val_loss: 0.1627\n",
      "Epoch 11/80\n",
      "\u001b[1m29/29\u001b[0m \u001b[32m━━━━━━━━━━━━━━━━━━━━\u001b[0m\u001b[37m\u001b[0m \u001b[1m28s\u001b[0m 974ms/step - accuracy: 0.9040 - loss: 0.3307 - val_accuracy: 0.9559 - val_loss: 0.1172\n",
      "Epoch 12/80\n",
      "\u001b[1m29/29\u001b[0m \u001b[32m━━━━━━━━━━━━━━━━━━━━\u001b[0m\u001b[37m\u001b[0m \u001b[1m28s\u001b[0m 973ms/step - accuracy: 0.9182 - loss: 0.2691 - val_accuracy: 0.9779 - val_loss: 0.0752\n",
      "Epoch 13/80\n",
      "\u001b[1m29/29\u001b[0m \u001b[32m━━━━━━━━━━━━━━━━━━━━\u001b[0m\u001b[37m\u001b[0m \u001b[1m28s\u001b[0m 950ms/step - accuracy: 0.9173 - loss: 0.2693 - val_accuracy: 0.9706 - val_loss: 0.0897\n",
      "Epoch 14/80\n",
      "\u001b[1m29/29\u001b[0m \u001b[32m━━━━━━━━━━━━━━━━━━━━\u001b[0m\u001b[37m\u001b[0m \u001b[1m28s\u001b[0m 956ms/step - accuracy: 0.9302 - loss: 0.2146 - val_accuracy: 0.9706 - val_loss: 0.0794\n",
      "Epoch 15/80\n",
      "\u001b[1m29/29\u001b[0m \u001b[32m━━━━━━━━━━━━━━━━━━━━\u001b[0m\u001b[37m\u001b[0m \u001b[1m28s\u001b[0m 966ms/step - accuracy: 0.9404 - loss: 0.1778 - val_accuracy: 0.9779 - val_loss: 0.0849\n",
      "Epoch 16/80\n",
      "\u001b[1m29/29\u001b[0m \u001b[32m━━━━━━━━━━━━━━━━━━━━\u001b[0m\u001b[37m\u001b[0m \u001b[1m28s\u001b[0m 966ms/step - accuracy: 0.9484 - loss: 0.1927 - val_accuracy: 0.9706 - val_loss: 0.0631\n",
      "Epoch 17/80\n",
      "\u001b[1m29/29\u001b[0m \u001b[32m━━━━━━━━━━━━━━━━━━━━\u001b[0m\u001b[37m\u001b[0m \u001b[1m28s\u001b[0m 952ms/step - accuracy: 0.9451 - loss: 0.1654 - val_accuracy: 0.9706 - val_loss: 0.1085\n",
      "Epoch 18/80\n",
      "\u001b[1m29/29\u001b[0m \u001b[32m━━━━━━━━━━━━━━━━━━━━\u001b[0m\u001b[37m\u001b[0m \u001b[1m28s\u001b[0m 953ms/step - accuracy: 0.9518 - loss: 0.1635 - val_accuracy: 0.9706 - val_loss: 0.1625\n",
      "Epoch 19/80\n",
      "\u001b[1m29/29\u001b[0m \u001b[32m━━━━━━━━━━━━━━━━━━━━\u001b[0m\u001b[37m\u001b[0m \u001b[1m28s\u001b[0m 953ms/step - accuracy: 0.9606 - loss: 0.1487 - val_accuracy: 0.9706 - val_loss: 0.0733\n",
      "Epoch 20/80\n",
      "\u001b[1m29/29\u001b[0m \u001b[32m━━━━━━━━━━━━━━━━━━━━\u001b[0m\u001b[37m\u001b[0m \u001b[1m28s\u001b[0m 965ms/step - accuracy: 0.9649 - loss: 0.1258 - val_accuracy: 0.9853 - val_loss: 0.0540\n",
      "Epoch 21/80\n",
      "\u001b[1m29/29\u001b[0m \u001b[32m━━━━━━━━━━━━━━━━━━━━\u001b[0m\u001b[37m\u001b[0m \u001b[1m28s\u001b[0m 956ms/step - accuracy: 0.9556 - loss: 0.1308 - val_accuracy: 0.9706 - val_loss: 0.0553\n",
      "Epoch 22/80\n",
      "\u001b[1m29/29\u001b[0m \u001b[32m━━━━━━━━━━━━━━━━━━━━\u001b[0m\u001b[37m\u001b[0m \u001b[1m28s\u001b[0m 946ms/step - accuracy: 0.9741 - loss: 0.1009 - val_accuracy: 0.9632 - val_loss: 0.0902\n",
      "Epoch 23/80\n",
      "\u001b[1m29/29\u001b[0m \u001b[32m━━━━━━━━━━━━━━━━━━━━\u001b[0m\u001b[37m\u001b[0m \u001b[1m27s\u001b[0m 947ms/step - accuracy: 0.9713 - loss: 0.0973 - val_accuracy: 0.9632 - val_loss: 0.1167\n",
      "Epoch 24/80\n",
      "\u001b[1m29/29\u001b[0m \u001b[32m━━━━━━━━━━━━━━━━━━━━\u001b[0m\u001b[37m\u001b[0m \u001b[1m28s\u001b[0m 961ms/step - accuracy: 0.9603 - loss: 0.1194 - val_accuracy: 0.9779 - val_loss: 0.0569\n",
      "Epoch 25/80\n",
      "\u001b[1m29/29\u001b[0m \u001b[32m━━━━━━━━━━━━━━━━━━━━\u001b[0m\u001b[37m\u001b[0m \u001b[1m28s\u001b[0m 974ms/step - accuracy: 0.9697 - loss: 0.1018 - val_accuracy: 0.9632 - val_loss: 0.1411\n",
      "Epoch 26/80\n",
      "\u001b[1m29/29\u001b[0m \u001b[32m━━━━━━━━━━━━━━━━━━━━\u001b[0m\u001b[37m\u001b[0m \u001b[1m28s\u001b[0m 981ms/step - accuracy: 0.9634 - loss: 0.1293 - val_accuracy: 0.9779 - val_loss: 0.0726\n",
      "Epoch 27/80\n",
      "\u001b[1m29/29\u001b[0m \u001b[32m━━━━━━━━━━━━━━━━━━━━\u001b[0m\u001b[37m\u001b[0m \u001b[1m28s\u001b[0m 968ms/step - accuracy: 0.9707 - loss: 0.0893 - val_accuracy: 0.9779 - val_loss: 0.0908\n",
      "Epoch 28/80\n",
      "\u001b[1m29/29\u001b[0m \u001b[32m━━━━━━━━━━━━━━━━━━━━\u001b[0m\u001b[37m\u001b[0m \u001b[1m28s\u001b[0m 978ms/step - accuracy: 0.9765 - loss: 0.0870 - val_accuracy: 0.9853 - val_loss: 0.0472\n",
      "Epoch 29/80\n",
      "\u001b[1m29/29\u001b[0m \u001b[32m━━━━━━━━━━━━━━━━━━━━\u001b[0m\u001b[37m\u001b[0m \u001b[1m28s\u001b[0m 963ms/step - accuracy: 0.9669 - loss: 0.0963 - val_accuracy: 0.9706 - val_loss: 0.0985\n",
      "Epoch 30/80\n",
      "\u001b[1m29/29\u001b[0m \u001b[32m━━━━━━━━━━━━━━━━━━━━\u001b[0m\u001b[37m\u001b[0m \u001b[1m28s\u001b[0m 959ms/step - accuracy: 0.9746 - loss: 0.1129 - val_accuracy: 0.9779 - val_loss: 0.1044\n",
      "Epoch 31/80\n",
      "\u001b[1m29/29\u001b[0m \u001b[32m━━━━━━━━━━━━━━━━━━━━\u001b[0m\u001b[37m\u001b[0m \u001b[1m28s\u001b[0m 957ms/step - accuracy: 0.9785 - loss: 0.0626 - val_accuracy: 0.9779 - val_loss: 0.0528\n",
      "Epoch 32/80\n",
      "\u001b[1m29/29\u001b[0m \u001b[32m━━━━━━━━━━━━━━━━━━━━\u001b[0m\u001b[37m\u001b[0m \u001b[1m28s\u001b[0m 950ms/step - accuracy: 0.9696 - loss: 0.0794 - val_accuracy: 0.9706 - val_loss: 0.0732\n",
      "Epoch 33/80\n",
      "\u001b[1m29/29\u001b[0m \u001b[32m━━━━━━━━━━━━━━━━━━━━\u001b[0m\u001b[37m\u001b[0m \u001b[1m28s\u001b[0m 962ms/step - accuracy: 0.9716 - loss: 0.0765 - val_accuracy: 0.9632 - val_loss: 0.1112\n",
      "Epoch 34/80\n",
      "\u001b[1m29/29\u001b[0m \u001b[32m━━━━━━━━━━━━━━━━━━━━\u001b[0m\u001b[37m\u001b[0m \u001b[1m28s\u001b[0m 958ms/step - accuracy: 0.9736 - loss: 0.0851 - val_accuracy: 0.9632 - val_loss: 0.1024\n",
      "Epoch 35/80\n",
      "\u001b[1m29/29\u001b[0m \u001b[32m━━━━━━━━━━━━━━━━━━━━\u001b[0m\u001b[37m\u001b[0m \u001b[1m28s\u001b[0m 955ms/step - accuracy: 0.9843 - loss: 0.0578 - val_accuracy: 0.9706 - val_loss: 0.0448\n",
      "Epoch 36/80\n",
      "\u001b[1m29/29\u001b[0m \u001b[32m━━━━━━━━━━━━━━━━━━━━\u001b[0m\u001b[37m\u001b[0m \u001b[1m28s\u001b[0m 949ms/step - accuracy: 0.9815 - loss: 0.0543 - val_accuracy: 0.9632 - val_loss: 0.0799\n",
      "Epoch 37/80\n",
      "\u001b[1m29/29\u001b[0m \u001b[32m━━━━━━━━━━━━━━━━━━━━\u001b[0m\u001b[37m\u001b[0m \u001b[1m28s\u001b[0m 967ms/step - accuracy: 0.9830 - loss: 0.0559 - val_accuracy: 0.9485 - val_loss: 0.0962\n",
      "Epoch 38/80\n",
      "\u001b[1m29/29\u001b[0m \u001b[32m━━━━━━━━━━━━━━━━━━━━\u001b[0m\u001b[37m\u001b[0m \u001b[1m28s\u001b[0m 958ms/step - accuracy: 0.9843 - loss: 0.0722 - val_accuracy: 0.9632 - val_loss: 0.0991\n",
      "Epoch 39/80\n",
      "\u001b[1m29/29\u001b[0m \u001b[32m━━━━━━━━━━━━━━━━━━━━\u001b[0m\u001b[37m\u001b[0m \u001b[1m28s\u001b[0m 959ms/step - accuracy: 0.9865 - loss: 0.0459 - val_accuracy: 0.9779 - val_loss: 0.0510\n",
      "Epoch 40/80\n",
      "\u001b[1m29/29\u001b[0m \u001b[32m━━━━━━━━━━━━━━━━━━━━\u001b[0m\u001b[37m\u001b[0m \u001b[1m28s\u001b[0m 956ms/step - accuracy: 0.9782 - loss: 0.0740 - val_accuracy: 0.9779 - val_loss: 0.0804\n",
      "Epoch 41/80\n",
      "\u001b[1m29/29\u001b[0m \u001b[32m━━━━━━━━━━━━━━━━━━━━\u001b[0m\u001b[37m\u001b[0m \u001b[1m28s\u001b[0m 961ms/step - accuracy: 0.9811 - loss: 0.0682 - val_accuracy: 0.9632 - val_loss: 0.0959\n",
      "Epoch 42/80\n",
      "\u001b[1m29/29\u001b[0m \u001b[32m━━━━━━━━━━━━━━━━━━━━\u001b[0m\u001b[37m\u001b[0m \u001b[1m28s\u001b[0m 969ms/step - accuracy: 0.9848 - loss: 0.0438 - val_accuracy: 0.9706 - val_loss: 0.0594\n",
      "Epoch 43/80\n",
      "\u001b[1m29/29\u001b[0m \u001b[32m━━━━━━━━━━━━━━━━━━━━\u001b[0m\u001b[37m\u001b[0m \u001b[1m27s\u001b[0m 942ms/step - accuracy: 0.9815 - loss: 0.0496 - val_accuracy: 0.9559 - val_loss: 0.0871\n",
      "Epoch 44/80\n",
      "\u001b[1m29/29\u001b[0m \u001b[32m━━━━━━━━━━━━━━━━━━━━\u001b[0m\u001b[37m\u001b[0m \u001b[1m28s\u001b[0m 953ms/step - accuracy: 0.9913 - loss: 0.0385 - val_accuracy: 0.9559 - val_loss: 0.0967\n",
      "Epoch 45/80\n",
      "\u001b[1m29/29\u001b[0m \u001b[32m━━━━━━━━━━━━━━━━━━━━\u001b[0m\u001b[37m\u001b[0m \u001b[1m28s\u001b[0m 964ms/step - accuracy: 0.9862 - loss: 0.0485 - val_accuracy: 0.9485 - val_loss: 0.1194\n",
      "Epoch 46/80\n",
      "\u001b[1m29/29\u001b[0m \u001b[32m━━━━━━━━━━━━━━━━━━━━\u001b[0m\u001b[37m\u001b[0m \u001b[1m28s\u001b[0m 968ms/step - accuracy: 0.9884 - loss: 0.0481 - val_accuracy: 0.9485 - val_loss: 0.1126\n",
      "Epoch 47/80\n",
      "\u001b[1m29/29\u001b[0m \u001b[32m━━━━━━━━━━━━━━━━━━━━\u001b[0m\u001b[37m\u001b[0m \u001b[1m28s\u001b[0m 952ms/step - accuracy: 0.9885 - loss: 0.0591 - val_accuracy: 0.9779 - val_loss: 0.0732\n",
      "Epoch 48/80\n",
      "\u001b[1m29/29\u001b[0m \u001b[32m━━━━━━━━━━━━━━━━━━━━\u001b[0m\u001b[37m\u001b[0m \u001b[1m28s\u001b[0m 958ms/step - accuracy: 0.9812 - loss: 0.0721 - val_accuracy: 0.9853 - val_loss: 0.0543\n",
      "Epoch 49/80\n",
      "\u001b[1m29/29\u001b[0m \u001b[32m━━━━━━━━━━━━━━━━━━━━\u001b[0m\u001b[37m\u001b[0m \u001b[1m28s\u001b[0m 969ms/step - accuracy: 0.9816 - loss: 0.0628 - val_accuracy: 0.9632 - val_loss: 0.1239\n",
      "Epoch 50/80\n",
      "\u001b[1m29/29\u001b[0m \u001b[32m━━━━━━━━━━━━━━━━━━━━\u001b[0m\u001b[37m\u001b[0m \u001b[1m28s\u001b[0m 976ms/step - accuracy: 0.9793 - loss: 0.0462 - val_accuracy: 0.9632 - val_loss: 0.1785\n",
      "Epoch 51/80\n",
      "\u001b[1m29/29\u001b[0m \u001b[32m━━━━━━━━━━━━━━━━━━━━\u001b[0m\u001b[37m\u001b[0m \u001b[1m28s\u001b[0m 967ms/step - accuracy: 0.9809 - loss: 0.0613 - val_accuracy: 0.9779 - val_loss: 0.0875\n",
      "Epoch 52/80\n",
      "\u001b[1m29/29\u001b[0m \u001b[32m━━━━━━━━━━━━━━━━━━━━\u001b[0m\u001b[37m\u001b[0m \u001b[1m28s\u001b[0m 962ms/step - accuracy: 0.9838 - loss: 0.0544 - val_accuracy: 0.9559 - val_loss: 0.0949\n",
      "Epoch 53/80\n",
      "\u001b[1m29/29\u001b[0m \u001b[32m━━━━━━━━━━━━━━━━━━━━\u001b[0m\u001b[37m\u001b[0m \u001b[1m28s\u001b[0m 958ms/step - accuracy: 0.9868 - loss: 0.0420 - val_accuracy: 0.9485 - val_loss: 0.1341\n",
      "Epoch 54/80\n",
      "\u001b[1m29/29\u001b[0m \u001b[32m━━━━━━━━━━━━━━━━━━━━\u001b[0m\u001b[37m\u001b[0m \u001b[1m28s\u001b[0m 966ms/step - accuracy: 0.9704 - loss: 0.0930 - val_accuracy: 0.9632 - val_loss: 0.1151\n",
      "Epoch 55/80\n",
      "\u001b[1m29/29\u001b[0m \u001b[32m━━━━━━━━━━━━━━━━━━━━\u001b[0m\u001b[37m\u001b[0m \u001b[1m28s\u001b[0m 976ms/step - accuracy: 0.9931 - loss: 0.0347 - val_accuracy: 0.9779 - val_loss: 0.1128\n",
      "Epoch 56/80\n",
      "\u001b[1m29/29\u001b[0m \u001b[32m━━━━━━━━━━━━━━━━━━━━\u001b[0m\u001b[37m\u001b[0m \u001b[1m28s\u001b[0m 972ms/step - accuracy: 0.9860 - loss: 0.0411 - val_accuracy: 0.9632 - val_loss: 0.0986\n",
      "Epoch 57/80\n",
      "\u001b[1m29/29\u001b[0m \u001b[32m━━━━━━━━━━━━━━━━━━━━\u001b[0m\u001b[37m\u001b[0m \u001b[1m28s\u001b[0m 956ms/step - accuracy: 0.9930 - loss: 0.0271 - val_accuracy: 0.9632 - val_loss: 0.1588\n",
      "Epoch 58/80\n",
      "\u001b[1m29/29\u001b[0m \u001b[32m━━━━━━━━━━━━━━━━━━━━\u001b[0m\u001b[37m\u001b[0m \u001b[1m28s\u001b[0m 980ms/step - accuracy: 0.9871 - loss: 0.0454 - val_accuracy: 0.9559 - val_loss: 0.1056\n",
      "Epoch 59/80\n",
      "\u001b[1m29/29\u001b[0m \u001b[32m━━━━━━━━━━━━━━━━━━━━\u001b[0m\u001b[37m\u001b[0m \u001b[1m28s\u001b[0m 978ms/step - accuracy: 0.9812 - loss: 0.0558 - val_accuracy: 0.9706 - val_loss: 0.0890\n",
      "Epoch 60/80\n",
      "\u001b[1m29/29\u001b[0m \u001b[32m━━━━━━━━━━━━━━━━━━━━\u001b[0m\u001b[37m\u001b[0m \u001b[1m28s\u001b[0m 960ms/step - accuracy: 0.9857 - loss: 0.0519 - val_accuracy: 0.9779 - val_loss: 0.0617\n",
      "Epoch 61/80\n",
      "\u001b[1m29/29\u001b[0m \u001b[32m━━━━━━━━━━━━━━━━━━━━\u001b[0m\u001b[37m\u001b[0m \u001b[1m29s\u001b[0m 1s/step - accuracy: 0.9880 - loss: 0.0423 - val_accuracy: 0.9706 - val_loss: 0.1083\n",
      "Epoch 62/80\n",
      "\u001b[1m29/29\u001b[0m \u001b[32m━━━━━━━━━━━━━━━━━━━━\u001b[0m\u001b[37m\u001b[0m \u001b[1m29s\u001b[0m 1s/step - accuracy: 0.9829 - loss: 0.0502 - val_accuracy: 0.9779 - val_loss: 0.0932\n",
      "Epoch 63/80\n",
      "\u001b[1m29/29\u001b[0m \u001b[32m━━━━━━━━━━━━━━━━━━━━\u001b[0m\u001b[37m\u001b[0m \u001b[1m29s\u001b[0m 995ms/step - accuracy: 0.9812 - loss: 0.0468 - val_accuracy: 0.9632 - val_loss: 0.1096\n",
      "Epoch 64/80\n",
      "\u001b[1m29/29\u001b[0m \u001b[32m━━━━━━━━━━━━━━━━━━━━\u001b[0m\u001b[37m\u001b[0m \u001b[1m29s\u001b[0m 984ms/step - accuracy: 0.9880 - loss: 0.0455 - val_accuracy: 0.9779 - val_loss: 0.0480\n",
      "Epoch 65/80\n",
      "\u001b[1m29/29\u001b[0m \u001b[32m━━━━━━━━━━━━━━━━━━━━\u001b[0m\u001b[37m\u001b[0m \u001b[1m28s\u001b[0m 974ms/step - accuracy: 0.9934 - loss: 0.0234 - val_accuracy: 0.9632 - val_loss: 0.0859\n",
      "Epoch 66/80\n",
      "\u001b[1m29/29\u001b[0m \u001b[32m━━━━━━━━━━━━━━━━━━━━\u001b[0m\u001b[37m\u001b[0m \u001b[1m28s\u001b[0m 981ms/step - accuracy: 0.9924 - loss: 0.0432 - val_accuracy: 0.9485 - val_loss: 0.1226\n",
      "Epoch 67/80\n",
      "\u001b[1m29/29\u001b[0m \u001b[32m━━━━━━━━━━━━━━━━━━━━\u001b[0m\u001b[37m\u001b[0m \u001b[1m29s\u001b[0m 992ms/step - accuracy: 0.9893 - loss: 0.0307 - val_accuracy: 0.9559 - val_loss: 0.1744\n",
      "Epoch 68/80\n",
      "\u001b[1m29/29\u001b[0m \u001b[32m━━━━━━━━━━━━━━━━━━━━\u001b[0m\u001b[37m\u001b[0m \u001b[1m29s\u001b[0m 1s/step - accuracy: 0.9886 - loss: 0.0590 - val_accuracy: 0.9632 - val_loss: 0.2398\n",
      "Epoch 69/80\n",
      "\u001b[1m29/29\u001b[0m \u001b[32m━━━━━━━━━━━━━━━━━━━━\u001b[0m\u001b[37m\u001b[0m \u001b[1m29s\u001b[0m 987ms/step - accuracy: 0.9848 - loss: 0.0426 - val_accuracy: 0.9485 - val_loss: 0.1730\n",
      "Epoch 70/80\n",
      "\u001b[1m29/29\u001b[0m \u001b[32m━━━━━━━━━━━━━━━━━━━━\u001b[0m\u001b[37m\u001b[0m \u001b[1m29s\u001b[0m 1s/step - accuracy: 0.9874 - loss: 0.0374 - val_accuracy: 0.9632 - val_loss: 0.0858\n",
      "Epoch 71/80\n",
      "\u001b[1m29/29\u001b[0m \u001b[32m━━━━━━━━━━━━━━━━━━━━\u001b[0m\u001b[37m\u001b[0m \u001b[1m29s\u001b[0m 1s/step - accuracy: 0.9943 - loss: 0.0234 - val_accuracy: 0.9706 - val_loss: 0.0950\n",
      "Epoch 72/80\n",
      "\u001b[1m29/29\u001b[0m \u001b[32m━━━━━━━━━━━━━━━━━━━━\u001b[0m\u001b[37m\u001b[0m \u001b[1m29s\u001b[0m 996ms/step - accuracy: 0.9921 - loss: 0.0192 - val_accuracy: 0.9706 - val_loss: 0.1353\n",
      "Epoch 73/80\n",
      "\u001b[1m29/29\u001b[0m \u001b[32m━━━━━━━━━━━━━━━━━━━━\u001b[0m\u001b[37m\u001b[0m \u001b[1m29s\u001b[0m 1s/step - accuracy: 0.9908 - loss: 0.0308 - val_accuracy: 0.9779 - val_loss: 0.0802\n",
      "Epoch 74/80\n",
      "\u001b[1m29/29\u001b[0m \u001b[32m━━━━━━━━━━━━━━━━━━━━\u001b[0m\u001b[37m\u001b[0m \u001b[1m30s\u001b[0m 1s/step - accuracy: 0.9910 - loss: 0.0229 - val_accuracy: 0.9706 - val_loss: 0.0806\n",
      "Epoch 75/80\n",
      "\u001b[1m29/29\u001b[0m \u001b[32m━━━━━━━━━━━━━━━━━━━━\u001b[0m\u001b[37m\u001b[0m \u001b[1m29s\u001b[0m 1s/step - accuracy: 0.9923 - loss: 0.0298 - val_accuracy: 0.9632 - val_loss: 0.1589\n",
      "Epoch 76/80\n",
      "\u001b[1m29/29\u001b[0m \u001b[32m━━━━━━━━━━━━━━━━━━━━\u001b[0m\u001b[37m\u001b[0m \u001b[1m29s\u001b[0m 1s/step - accuracy: 0.9899 - loss: 0.0311 - val_accuracy: 0.9779 - val_loss: 0.0774\n",
      "Epoch 77/80\n",
      "\u001b[1m29/29\u001b[0m \u001b[32m━━━━━━━━━━━━━━━━━━━━\u001b[0m\u001b[37m\u001b[0m \u001b[1m29s\u001b[0m 1s/step - accuracy: 0.9859 - loss: 0.0587 - val_accuracy: 0.9559 - val_loss: 0.0967\n",
      "Epoch 78/80\n",
      "\u001b[1m29/29\u001b[0m \u001b[32m━━━━━━━━━━━━━━━━━━━━\u001b[0m\u001b[37m\u001b[0m \u001b[1m29s\u001b[0m 1s/step - accuracy: 0.9850 - loss: 0.0452 - val_accuracy: 0.9632 - val_loss: 0.2083\n",
      "Epoch 79/80\n",
      "\u001b[1m29/29\u001b[0m \u001b[32m━━━━━━━━━━━━━━━━━━━━\u001b[0m\u001b[37m\u001b[0m \u001b[1m29s\u001b[0m 1s/step - accuracy: 0.9790 - loss: 0.0507 - val_accuracy: 0.9559 - val_loss: 0.0782\n",
      "Epoch 80/80\n",
      "\u001b[1m29/29\u001b[0m \u001b[32m━━━━━━━━━━━━━━━━━━━━\u001b[0m\u001b[37m\u001b[0m \u001b[1m29s\u001b[0m 996ms/step - accuracy: 0.9854 - loss: 0.0416 - val_accuracy: 0.9485 - val_loss: 0.3310\n"
     ]
    }
   ],
   "source": [
    "# Train the model\n",
    "history = model.fit(x_train, y_train, epochs=80, batch_size=64, validation_data=(x_val, y_val), verbose=1)"
   ]
  },
  {
   "cell_type": "code",
   "execution_count": 18,
   "id": "95cc1b1f-b3b4-442a-b333-62c313112ab9",
   "metadata": {},
   "outputs": [
    {
     "name": "stdout",
     "output_type": "stream",
     "text": [
      "\u001b[1m5/5\u001b[0m \u001b[32m━━━━━━━━━━━━━━━━━━━━\u001b[0m\u001b[37m\u001b[0m \u001b[1m0s\u001b[0m 82ms/step - accuracy: 0.9477 - loss: 0.3138\n",
      "Validation Loss: 0.331\n",
      "Validation Accuracy: 0.949\n"
     ]
    }
   ],
   "source": [
    "# Evaluate the model\n",
    "loss, accuracy = model.evaluate(x_val, y_val)\n",
    "print(f'Validation Loss: {loss:.3f}')\n",
    "print(f'Validation Accuracy: {accuracy:.3f}')"
   ]
  },
  {
   "cell_type": "code",
   "execution_count": 19,
   "id": "fb05c795-f7bf-40fd-8b86-44b7f55ad35d",
   "metadata": {},
   "outputs": [
    {
     "name": "stderr",
     "output_type": "stream",
     "text": [
      "WARNING:absl:You are saving your model as an HDF5 file via `model.save()` or `keras.saving.save_model(model)`. This file format is considered legacy. We recommend using instead the native Keras format, e.g. `model.save('my_model.keras')` or `keras.saving.save_model(model, 'my_model.keras')`. \n"
     ]
    },
    {
     "name": "stdout",
     "output_type": "stream",
     "text": [
      "Model saved successfully.\n"
     ]
    }
   ],
   "source": [
    "# Save the trained model\n",
    "model.save('guitar_chord_recognition_model.h5')\n",
    "print(\"Model saved successfully.\")"
   ]
  },
  {
   "cell_type": "code",
   "execution_count": 20,
   "id": "39028ec9-582d-4238-94d9-f578fd77b380",
   "metadata": {},
   "outputs": [
    {
     "data": {
      "image/png": "[encoded data removed]",
      "text/plain": [
       "<Figure size 640x480 with 1 Axes>"
      ]
     },
     "metadata": {
      "image/png": {
       "height": 454,
       "width": 567
      }
     },
     "output_type": "display_data"
    }
   ],
   "source": [
    "# Plot the training history\n",
    "plt.plot(history.history['loss'])\n",
    "plt.plot(history.history['val_loss'])\n",
    "plt.title('Model Loss')\n",
    "plt.ylabel('Loss')\n",
    "plt.xlabel('Epoch')\n",
    "plt.legend(['Train', 'Validation'], loc='upper left')\n",
    "plt.show()"
   ]
  },
  {
   "cell_type": "code",
   "execution_count": 21,
   "id": "67d09700-1361-4e70-bf1f-019351f49b58",
   "metadata": {},
   "outputs": [
    {
     "ename": "NameError",
     "evalue": "name 'load_model' is not defined",
     "output_type": "error",
     "traceback": [
      "\u001b[1;31m---------------------------------------------------------------------------\u001b[0m",
      "\u001b[1;31mNameError\u001b[0m                                 Traceback (most recent call last)",
      "Cell \u001b[1;32mIn[21], line 2\u001b[0m\n\u001b[0;32m      1\u001b[0m \u001b[38;5;66;03m# Load the trained model\u001b[39;00m\n\u001b[1;32m----> 2\u001b[0m model \u001b[38;5;241m=\u001b[39m load_model(\u001b[38;5;124m'\u001b[39m\u001b[38;5;124mguitar_chord_recognition_model.h5\u001b[39m\u001b[38;5;124m'\u001b[39m)\n",
      "\u001b[1;31mNameError\u001b[0m: name 'load_model' is not defined"
     ]
    }
   ],
   "source": [
    "# Load the trained model\n",
    "model = load_model('guitar_chord_recognition_model.h5')"
   ]
  },
  {
   "cell_type": "code",
   "execution_count": null,
   "id": "ab78eb58-6eed-41d6-9e54-f6e2d05af15b",
   "metadata": {},
   "outputs": [],
   "source": [
    "# Function to predict chords in a new audio file\n",
    "def predict_chords(file_path, model, encoder, scaler, mfcc_len=100):\n",
    "    features, _ = extract_features(file_path, mfcc_len=mfcc_len)\n",
    "    features_flat = features.flatten().reshape(1, -1)\n",
    "    features_scaled = scaler.transform(features_flat)\n",
    "    features_scaled = np.expand_dims(features_scaled, axis=-1)\n",
    "    prediction = model.predict(features_scaled)\n",
    "    predicted_label_index = np.argmax(prediction)\n",
    "    predicted_label = encoder.inverse_transform(np.array([predicted_label_index]).reshape(-1, 1))\n",
    "    return predicted_label[0][0]"
   ]
  },
  {
   "cell_type": "code",
   "execution_count": null,
   "id": "5bb12325-da8a-4df2-8bbf-6d9d5399ee95",
   "metadata": {},
   "outputs": [],
   "source": [
    "# Example usage: predict chords for a new audio file\n",
    "def convert_audio_for_model(user_file, output_file='converted_audio_file.wav'):\n"
   ]
  },
  {
   "cell_type": "code",
   "execution_count": null,
   "id": "f65644f3-01f5-4a19-a1a2-85e23a3c7319",
   "metadata": {},
   "outputs": [],
   "source": []
  }
 ],
 "metadata": {
  "kernelspec": {
   "display_name": "Python 3 (ipykernel)",
   "language": "python",
   "name": "python3"
  },
  "language_info": {
   "codemirror_mode": {
    "name": "ipython",
    "version": 3
   },
   "file_extension": ".py",
   "mimetype": "text/x-python",
   "name": "python",
   "nbconvert_exporter": "python",
   "pygments_lexer": "ipython3",
   "version": "3.12.3"
  }
 },
 "nbformat": 4,
 "nbformat_minor": 5
}
