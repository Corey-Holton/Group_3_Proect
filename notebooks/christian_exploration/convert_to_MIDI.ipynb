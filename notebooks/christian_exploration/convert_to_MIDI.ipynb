{
 "cells": [
  {
   "cell_type": "code",
   "execution_count": 1,
   "metadata": {},
   "outputs": [
    {
     "ename": "ModuleNotFoundError",
     "evalue": "No module named 'coremltools'",
     "output_type": "error",
     "traceback": [
      "\u001b[1;31m---------------------------------------------------------------------------\u001b[0m",
      "\u001b[1;31mModuleNotFoundError\u001b[0m                       Traceback (most recent call last)",
      "Cell \u001b[1;32mIn[1], line 1\u001b[0m\n\u001b[1;32m----> 1\u001b[0m \u001b[38;5;28;01mimport\u001b[39;00m \u001b[38;5;21;01mcoremltools\u001b[39;00m\n\u001b[0;32m      2\u001b[0m \u001b[38;5;28;01mimport\u001b[39;00m \u001b[38;5;21;01msklearn\u001b[39;00m\n\u001b[0;32m      3\u001b[0m \u001b[38;5;28;01mimport\u001b[39;00m \u001b[38;5;21;01mtensorflow\u001b[39;00m \u001b[38;5;28;01mas\u001b[39;00m \u001b[38;5;21;01mtf\u001b[39;00m\n",
      "\u001b[1;31mModuleNotFoundError\u001b[0m: No module named 'coremltools'"
     ]
    }
   ],
   "source": [
    "import coremltools\n",
    "import sklearn\n",
    "import tensorflow as tf\n",
    "import torch"
   ]
  },
  {
   "cell_type": "code",
   "execution_count": 2,
   "metadata": {},
   "outputs": [
    {
     "ename": "ModuleNotFoundError",
     "evalue": "No module named 'coremltools'",
     "output_type": "error",
     "traceback": [
      "\u001b[1;31m---------------------------------------------------------------------------\u001b[0m",
      "\u001b[1;31mModuleNotFoundError\u001b[0m                       Traceback (most recent call last)",
      "Cell \u001b[1;32mIn[2], line 1\u001b[0m\n\u001b[1;32m----> 1\u001b[0m \u001b[38;5;28;01mimport\u001b[39;00m \u001b[38;5;21;01mcoremltools\u001b[39;00m\n\u001b[0;32m      2\u001b[0m \u001b[38;5;28;01mimport\u001b[39;00m \u001b[38;5;21;01msklearn\u001b[39;00m\n\u001b[0;32m      3\u001b[0m \u001b[38;5;28;01mimport\u001b[39;00m \u001b[38;5;21;01mtensorflow\u001b[39;00m \u001b[38;5;28;01mas\u001b[39;00m \u001b[38;5;21;01mtf\u001b[39;00m\n",
      "\u001b[1;31mModuleNotFoundError\u001b[0m: No module named 'coremltools'"
     ]
    }
   ],
   "source": [
    "import coremltools\n",
    "import sklearn\n",
    "import tensorflow as tf\n",
    "import torch\n",
    "import tensorflow as tf\n",
    "\n",
    "from basic_pitch.inference import predict, Model\n",
    "from basic_pitch import ICASSP_2022_MODEL_PATH"
   ]
  },
  {
   "cell_type": "code",
   "execution_count": 3,
   "metadata": {},
   "outputs": [],
   "source": [
    "from pathlib import Path"
   ]
  },
  {
   "cell_type": "code",
   "execution_count": null,
   "metadata": {},
   "outputs": [],
   "source": [
    "basic_pitch_model = Model(ICASSP_2022_MODEL_PATH)\n",
    "\n",
    "\"\"\"\n",
    "    Args:\n",
    "        audio_path: File path for the audio to run inference on.\n",
    "        model_or_model_path: A loaded Model or path to a serialized model to load.\n",
    "        onset_threshold: Minimum energy required for an onset to be considered present.\n",
    "        frame_threshold: Minimum energy requirement for a frame to be considered present.\n",
    "        minimum_note_length: The minimum allowed note length in milliseconds.\n",
    "        minimum_freq: Minimum allowed output frequency, in Hz. If None, all frequencies are used.\n",
    "        maximum_freq: Maximum allowed output frequency, in Hz. If None, all frequencies are used.\n",
    "        multiple_pitch_bends: If True, allow overlapping notes in midi file to have pitch bends.\n",
    "        melodia_trick: Use the melodia post-processing step.\n",
    "        debug_file: An optional path to output debug data to. Useful for testing/verification.\n",
    "    Returns:\n",
    "        The model output, midi data and note events from a single prediction\n",
    "\"\"\"\n",
    "\n",
    "song = Path(\"./input_audio/input_1.mp3\")\n",
    "\n",
    "\n",
    "model_output, midi_data, note_events = predict(\n",
    "    audio_path = song,\n",
    "    model_or_model_path = basic_pitch_model,\n",
    ")"
   ]
  },
  {
   "cell_type": "code",
   "execution_count": null,
   "metadata": {},
   "outputs": [],
   "source": [
    "model_output"
   ]
  },
  {
   "cell_type": "code",
   "execution_count": null,
   "metadata": {},
   "outputs": [],
   "source": [
    "midi_data"
   ]
  },
  {
   "cell_type": "code",
   "execution_count": null,
   "metadata": {},
   "outputs": [],
   "source": [
    "note_events"
   ]
  },
  {
   "cell_type": "code",
   "execution_count": 4,
   "metadata": {},
   "outputs": [
    {
     "name": "stdout",
     "output_type": "stream",
     "text": [
      "\n",
      "Predicting MIDI for input_audio\\input_1.mp3...\n",
      "\n",
      "\n",
      "  Creating model output npz...\n",
      "  💁‍♀️ Saved to input_1_basic_pitch.npz\n",
      "\n",
      "\n",
      "  Creating midi...\n",
      "  💅 Saved to input_1_basic_pitch.mid\n",
      "\n",
      "\n",
      "  Creating midi sonification...\n",
      "  🎧 Saved to input_1_basic_pitch.wav\n",
      "\n",
      "\n",
      "  Creating note events...\n",
      "  🌸 Saved to input_1_basic_pitch.csv\n"
     ]
    }
   ],
   "source": [
    "basic_pitch_model = Model(ICASSP_2022_MODEL_PATH)\n",
    "\n",
    "\n",
    "from basic_pitch.inference import predict_and_save\n",
    "\n",
    "\"\"\" \n",
    "def predict_and_save(\n",
    "    audio_path_list: Sequence[Union[pathlib.Path, str]],\n",
    "    output_directory: Union[pathlib.Path, str],\n",
    "    save_midi: bool,\n",
    "    sonify_midi: bool,\n",
    "    save_model_outputs: bool,\n",
    "    save_notes: bool,\n",
    "    model_or_model_path: Union[Model, str, pathlib.Path],\n",
    "    onset_threshold: float = 0.5,\n",
    "    frame_threshold: float = 0.3,\n",
    "    minimum_note_length: float = 127.70,\n",
    "    minimum_frequency: Optional[float] = None,\n",
    "    maximum_frequency: Optional[float] = None,\n",
    "    multiple_pitch_bends: bool = False,\n",
    "    melodia_trick: bool = True,\n",
    "    debug_file: Optional[pathlib.Path] = None,\n",
    "    sonification_samplerate: int = 44100,\n",
    "    midi_tempo: float = 120,\n",
    ") -> None:\n",
    "\"\"\"\n",
    "\n",
    "song = Path(\"./input_audio/input_1.mp3\")\n",
    "output_path = Path(\"./output_midi\")\n",
    "\n",
    "predict_and_save(\n",
    "    audio_path_list = [song],\n",
    "    output_directory = \"\",\n",
    "    save_midi = True,\n",
    "    sonify_midi = True,\n",
    "    save_model_outputs = True,\n",
    "    save_notes = True,\n",
    "    model_or_model_path = basic_pitch_model,\n",
    "    onset_threshold = 0.5,\n",
    "    frame_threshold = 0.3,\n",
    "    minimum_note_length = 127.70,\n",
    "    minimum_frequency = None,\n",
    "    maximum_frequency = None,\n",
    "    multiple_pitch_bends = False,\n",
    "    melodia_trick = True,\n",
    "    debug_file = None,\n",
    "    sonification_samplerate = 44100,\n",
    "    midi_tempo = 120,\n",
    ")\n"
   ]
  },
  {
   "cell_type": "code",
   "execution_count": null,
   "metadata": {},
   "outputs": [],
   "source": [
    "import pygame\n",
    "\n",
    "# Initialize pygame\n",
    "pygame.init()\n",
    "\n",
    "# Load the MIDI file\n",
    "pygame.mixer.music.load(midi_file_path)\n",
    "\n",
    "# Play the MIDI file\n",
    "pygame.mixer.music.play()\n",
    "\n",
    "# Keep the script running until the music stops\n",
    "while pygame.mixer.music.get_busy():\n",
    "    pygame.time.Clock().tick(10)\n",
    "\n",
    "print(\"MIDI playback finished\")"
   ]
  }
 ],
 "metadata": {
  "kernelspec": {
   "display_name": "audio_env",
   "language": "python",
   "name": "python3"
  },
  "language_info": {
   "codemirror_mode": {
    "name": "ipython",
    "version": 3
   },
   "file_extension": ".py",
   "mimetype": "text/x-python",
   "name": "python",
   "nbconvert_exporter": "python",
   "pygments_lexer": "ipython3",
   "version": "3.10.16"
  }
 },
 "nbformat": 4,
 "nbformat_minor": 2
}
