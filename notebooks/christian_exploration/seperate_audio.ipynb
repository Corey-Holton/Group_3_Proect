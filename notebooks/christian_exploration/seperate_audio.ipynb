{
 "cells": [
  {
   "cell_type": "markdown",
   "metadata": {},
   "source": [
    "___\n",
    "**Note: Code has been modified and repurposed to work locally and with local hardware and computer.**  \n",
    "**Original code obtained from [Hybrid Demucs from Colab](https://colab.research.google.com/drive/1dC9nVxk3V_VPjUADsnFu8EiT-xnU1tGH?usp=sharing#scrollTo=79JbZGcAqX3p)**  \n",
    "**Reference Model Source from GitHub [Demucs Music Source Separation](https://github.com/facebookresearch/demucs)**\n",
    "___"
   ]
  },
  {
   "cell_type": "markdown",
   "metadata": {},
   "source": [
    "# Import Required Libraries\n",
    "___"
   ]
  },
  {
   "cell_type": "code",
   "execution_count": 1,
   "metadata": {},
   "outputs": [],
   "source": [
    "# Torch for deep learning models\n",
    "import torch\n",
    "\n",
    "# File and directory handling\n",
    "from pathlib import Path\n",
    "from shutil import rmtree\n",
    "\n",
    "# Subprocess for running shell commands\n",
    "import subprocess as sp\n",
    "\n",
    "# System-specific parameters and functions\n",
    "import sys\n",
    "\n",
    "# Check if CUDA (GPU) is available, otherwise fallback to CPU\n",
    "device = torch.device(f\"cuda:{torch.cuda.current_device()}\" if torch.cuda.is_available() else \"cpu\")"
   ]
  },
  {
   "cell_type": "markdown",
   "metadata": {},
   "source": [
    "#### Model and File Type Options"
   ]
  },
  {
   "cell_type": "markdown",
   "metadata": {},
   "source": [
    "- `model`:\n",
    "    - `\"htdemucs` is a pre-trained model for separating different sources (like vocals, drums, other, bass) from a mixture.   \n",
    "    - You can change this to another model if you want to experiment with different separation models, such as \"demucs\" or any other available model.  \n",
    "    - List of models can be found here: [MODEL LIST HERE](https://github.com/facebookresearch/demucs/tree/main/demucs/remote)\n",
    "\n",
    "- `extensions`: \n",
    "    - This is a list of audio file types the script will recognize and process.\n",
    "    - You can add or remove file types based on your needs.\n",
    "\n",
    "- `two_stems`: Stem(s) to seperate\n",
    "    - You can set this to a specific stem like \"vocals\", \"drums\", or any other stem if you want to separate just one.\n",
    "    - If left as None, it will separate all stems (e.g., vocals, drums, bass, etc.)"
   ]
  },
  {
   "cell_type": "code",
   "execution_count": 2,
   "metadata": {},
   "outputs": [],
   "source": [
    "# Define the model to be used for separation\n",
    "model = \"htdemucs_ft\"\n",
    "\n",
    "# Define which audio file extensions to look for\n",
    "extensions = [\"mp3\", \"wav\", \"ogg\", \"flac\"]  \n",
    "\n",
    "# Define which stem(s) to separatee\n",
    "two_stems = None "
   ]
  },
  {
   "cell_type": "markdown",
   "metadata": {},
   "source": [
    "#### Output Audio and File Paths Options"
   ]
  },
  {
   "cell_type": "markdown",
   "metadata": {},
   "source": [
    "- `mp3`: \n",
    "  - This flag controls whether the output is in mp3 format or not.\n",
    "  - If True, the output will be in mp3 format (as specified below).\n",
    "  - If False, the output will be in a different format (e.g., wav).\n",
    "\n",
    "- `mp3_rate`: \n",
    "  - This defines the bitrate for the mp3 output.\n",
    "  - It's measured in kilobits per second (kbps).\n",
    "  - Higher values generally result in better audio quality but larger file sizes.\n",
    "  - 320 kbps is considered high-quality for mp3 audio.\n",
    "\n",
    "- `float32`: \n",
    "  - This flag controls whether the output should be in 32-bit float format.\n",
    "  - This is generally used for high-quality audio but results in larger file sizes.\n",
    "  - If mp3 is True, this option is ignored.\n",
    "\n",
    "- `int24`: \n",
    "  - Similar to float32, this flag controls whether the output is in 24-bit integer format.\n",
    "  - It provides high-quality audio but is also larger in size compared to lower bit depths (e.g., 16-bit).\n",
    "\n",
    "- `in_path`: \n",
    "  - This is the path where your input audio files are stored.\n",
    "  - You can change the path to any directory on your system that contains the files you want to process.\n",
    "\n",
    "- `out_path`: \n",
    "  - This is the path where the separated audio files will be saved after processing.\n",
    "  - You can change this to any directory on your system where you want to store the output."
   ]
  },
  {
   "cell_type": "code",
   "execution_count": 3,
   "metadata": {},
   "outputs": [],
   "source": [
    "# Define options for the output audio\n",
    "mp3 = True\n",
    "mp3_rate = 320\n",
    "float32 = False  # output as float 32 wavs, unused if 'mp3' is True.\n",
    "int24 = False    # output as int24 wavs, unused if 'mp3' is True.\n",
    "\n",
    "# Set your input and output paths for local files\n",
    "in_path = Path('./input_audio/')  # replace with your input folder\n",
    "out_path = Path('./output_audio/')  # replace with your output folder\n"
   ]
  },
  {
   "cell_type": "markdown",
   "metadata": {},
   "source": [
    "# Audio Handling\n",
    "___"
   ]
  },
  {
   "cell_type": "markdown",
   "metadata": {},
   "source": [
    "#### Finding Audio Files in the Input Directory"
   ]
  },
  {
   "cell_type": "markdown",
   "metadata": {},
   "source": [
    "- `find_files(input_directory)`:\n",
    "  - This function searches for audio files in the specified input directory.\n",
    "\n",
    "  - **Parameters**:\n",
    "    - `input_directory`: The directory where the function will look for audio files.\n",
    "\n",
    "  - **Process**:\n",
    "    - Iterates over all files in the directory specified by `input_directory`.\n",
    "    - Checks if the file extension is in the list of extensions we want to process.\n",
    "    - Adds the file to the list if it matches the desired extensions.\n",
    "    \n",
    "  - **Returns**:\n",
    "    - A list of audio files found in the input directory."
   ]
  },
  {
   "cell_type": "code",
   "execution_count": 4,
   "metadata": {},
   "outputs": [],
   "source": [
    "from pathlib import Path\n",
    "\n",
    "# Define the find_files function to find audio files in the input directory\n",
    "def find_files(input_directory):\n",
    "    audio_files = []\n",
    "\n",
    "    # Path(in_path).iterdir() iterates over all files in the directory specified by in_path\n",
    "    for file in Path(input_directory).iterdir():\n",
    "\n",
    "        # Check if the file extension is in the list of extensions we want to process\n",
    "        if file.suffix.lower().lstrip(\".\") in extensions:\n",
    "            audio_files.append(file)\n",
    "    return audio_files"
   ]
  },
  {
   "cell_type": "markdown",
   "metadata": {},
   "source": [
    "#### Handling Subprocess Output Streams"
   ]
  },
  {
   "cell_type": "markdown",
   "metadata": {},
   "source": [
    "- `copy_process_streams(process)`:\n",
    "  - This function handles the output and error streams of a subprocess.\n",
    "\n",
    "  - **Parameters**:\n",
    "    - `process`: The subprocess whose streams are to be handled.\n",
    "\n",
    "  - **Process**:\n",
    "    - Uses `communicate()` to capture `stdout` (standard output) and `stderr` (standard error) of the process.\n",
    "    - Prints the captured outputs to the console.\n",
    "    \n",
    "  - **Output**:\n",
    "    - Writes the standard output and error messages to the console."
   ]
  },
  {
   "cell_type": "code",
   "execution_count": 5,
   "metadata": {},
   "outputs": [],
   "source": [
    "import sys\n",
    "\n",
    "# Define the copy_process_streams function\n",
    "def copy_process_streams(process: sp.Popen):\n",
    "    # communicate() handles the I/O streams of the process, capturing stdout and stderr\n",
    "    #  stdout means standard output, which is the console output of the process\n",
    "    #  stderr means standard error, which is the error output of the process\n",
    "    stdout, stderr = process.communicate()\n",
    "\n",
    "    # Print the outputs to the console\n",
    "    if stdout:\n",
    "        # Write standard output (stdout) to the console\n",
    "        sys.stdout.write(stdout.decode())\n",
    "    if stderr:\n",
    "        # Write errors (stderr) to the console\n",
    "        sys.stderr.write(stderr.decode())"
   ]
  },
  {
   "cell_type": "markdown",
   "metadata": {},
   "source": [
    "#### Main Separation Function"
   ]
  },
  {
   "cell_type": "markdown",
   "metadata": {},
   "source": [
    "- `separate(inp=None, outp=None)`:\n",
    "  - This function separates audio files using the Demucs model.\n",
    "\n",
    "  - **Parameters**:\n",
    "    - `inp`: The input directory containing audio files (default is `in_path`).\n",
    "    - `outp`: The output directory where separated files will be saved (default is `out_path`).\n",
    "\n",
    "  - **Process**:\n",
    "    - Constructs the command to execute the Demucs model for separation.\n",
    "    - Adds options to the command based on specified conditions.\n",
    "    - Finds all audio files in the input directory.\n",
    "    - Prints the list of files to be processed and the full command being executed.\n",
    "    - Executes the separation command using `subprocess`.\n",
    "    - Handles the process output (stdout, stderr) and waits for the process to finish.\n",
    "    - Checks the return code to see if the command ran successfully."
   ]
  },
  {
   "cell_type": "code",
   "execution_count": 6,
   "metadata": {},
   "outputs": [],
   "source": [
    "import subprocess as sp\n",
    "\n",
    "# The main separation function to separate audio files\n",
    "def separate(inp=None, outp=None):\n",
    "    inp = inp or in_path  # Use the input path or default to 'in_path'\n",
    "    outp = outp or out_path  # Use the output path or default to 'out_path'\n",
    "\n",
    "    # Create the command that will execute the Demucs model for separation\n",
    "    cmd = [\"python\", \"-m\", \"demucs.separate\", \"-o\", str(outp), \"-n\", model, \"--device\", f\"{device}\"]\n",
    "    if mp3:\n",
    "        cmd += [\"--mp3\", f\"--mp3-bitrate={mp3_rate}\"]\n",
    "    if float32:\n",
    "        cmd += [\"--float32\"]\n",
    "    if int24:\n",
    "        cmd += [\"--int24\"]\n",
    "    if two_stems is not None:\n",
    "        cmd += [f\"--two-stems={two_stems}\"]\n",
    "    \n",
    "    # Find all the audio files in the input directory\n",
    "    files = [str(f) for f in find_files(inp)]\n",
    "\n",
    "    if not files:\n",
    "        print(f\"[ERROR] No valid audio files in {in_path}\")\n",
    "        return\n",
    "    \n",
    "    # Print the list of files that will be processed\n",
    "    print(\"[INFO] \\n\\tGoing to separate the files:\")\n",
    "    for idx, file in enumerate(files, start=1):\n",
    "        print(f\"\\t\\t{idx}. {file}\")\n",
    "    print(\"═\" * 90)                       \n",
    "    \n",
    "    # Print the full command being executed\n",
    "    print(f\"[CMD] \\n\\t`{' '.join(cmd)}`\")\n",
    "    print(\"═\" * 90)\n",
    "\n",
    "    # Execute the separation command using subprocess\n",
    "    p = sp.Popen(cmd + files, stdout=sp.PIPE, stderr=sp.PIPE)\n",
    "\n",
    "    # Handle the process output (stdout, stderr)\n",
    "    copy_process_streams(p)\n",
    "\n",
    "    # Wait for the process to finish\n",
    "    p.wait()\n",
    "\n",
    "    # Check the return code to see if the command ran successfully\n",
    "    if p.returncode != 0:\n",
    "        print(f\"[ERROR] Command failed, something went wrong.\")"
   ]
  },
  {
   "cell_type": "markdown",
   "metadata": {},
   "source": [
    "#### Handling File Uploads"
   ]
  },
  {
   "cell_type": "markdown",
   "metadata": {},
   "source": [
    "- `from_upload()`:\n",
    "  - This function handles file uploads for local systems or web interfaces.\n",
    "\n",
    "  - **Process**:\n",
    "    - Sets the input and output directories.\n",
    "    - Removes and recreates the input and output directories if they already exist.\n",
    "    - Calls the `separate` function to process the audio files."
   ]
  },
  {
   "cell_type": "code",
   "execution_count": 7,
   "metadata": {},
   "outputs": [
    {
     "data": {
      "text/plain": [
       "\"\\nfrom pathlib import Path\\n\\n# Function to handle file upload for local system or web interface\\ndef from_upload():\\n    out_path = Path('separated')\\n    in_path = Path('tmp_in')\\n    \\n    if in_path.exists():\\n        # Remove the input directory if it already exists\\n        rmtree(in_path)\\n    # Create the input directory\\n    in_path.mkdir()\\n    \\n    if out_path.exists():\\n        # Remove the output directory if it already exists\\n        rmtree(out_path)\\n    # Create the output directory\\n    out_path.mkdir()\\n    \\n    # # Your local files will already be present, so we don't need to upload files.\\n    separate(in_path, out_path)\\n\""
      ]
     },
     "execution_count": 7,
     "metadata": {},
     "output_type": "execute_result"
    }
   ],
   "source": [
    "\"\"\"\n",
    "from pathlib import Path\n",
    "\n",
    "# Function to handle file upload for local system or web interface\n",
    "def from_upload():\n",
    "    out_path = Path('separated')\n",
    "    in_path = Path('tmp_in')\n",
    "    \n",
    "    if in_path.exists():\n",
    "        # Remove the input directory if it already exists\n",
    "        rmtree(in_path)\n",
    "    # Create the input directory\n",
    "    in_path.mkdir()\n",
    "    \n",
    "    if out_path.exists():\n",
    "        # Remove the output directory if it already exists\n",
    "        rmtree(out_path)\n",
    "    # Create the output directory\n",
    "    out_path.mkdir()\n",
    "    \n",
    "    # # Your local files will already be present, so we don't need to upload files.\n",
    "    separate(in_path, out_path)\n",
    "\"\"\""
   ]
  },
  {
   "cell_type": "markdown",
   "metadata": {},
   "source": [
    "# Audio Processing\n",
    "___"
   ]
  },
  {
   "cell_type": "markdown",
   "metadata": {},
   "source": [
    "#### Calling the Separation Function"
   ]
  },
  {
   "cell_type": "markdown",
   "metadata": {},
   "source": [
    "- `separate()`:\n",
    "  - This call initiates the separation process for all audio files in the input directory.\n",
    "  \n",
    "  - **Output**:\n",
    "    - Prints the progress and results of the separation process, including the list of files being processed and the command being executed."
   ]
  },
  {
   "cell_type": "code",
   "execution_count": 8,
   "metadata": {},
   "outputs": [
    {
     "name": "stdout",
     "output_type": "stream",
     "text": [
      "[INFO] \n",
      "\tGoing to separate the files:\n",
      "\t\t1. input_audio\\input_4.mp3\n",
      "══════════════════════════════════════════════════════════════════════════════════════════\n",
      "[CMD] \n",
      "\t`python -m demucs.separate -o output_audio -n htdemucs_ft --device cuda:0 --mp3 --mp3-bitrate=320`\n",
      "══════════════════════════════════════════════════════════════════════════════════════════\n",
      "Selected model is a bag of 4 models. You will see that many progress bars per track.\n",
      "Separated tracks will be stored in C:\\Users\\chris\\Code\\AI-UTSA-2024\\Projects\\Group_3_Project\\notebooks\\christian_exploration\\output_audio\\htdemucs_ft\n",
      "Separating track input_audio\\input_4.mp3\n"
     ]
    },
    {
     "name": "stderr",
     "output_type": "stream",
     "text": [
      "100%|██████████████████████████████████████████████████████████████████████| 274.95/274.95 [00:09<00:00, 28.54seconds/s]\n",
      "100%|██████████████████████████████████████████████████████████████████████| 274.95/274.95 [00:07<00:00, 36.33seconds/s]\n",
      "100%|██████████████████████████████████████████████████████████████████████| 274.95/274.95 [00:07<00:00, 36.06seconds/s]\n",
      "100%|██████████████████████████████████████████████████████████████████████| 274.95/274.95 [00:07<00:00, 34.89seconds/s]\n"
     ]
    }
   ],
   "source": [
    "# Call the separate function to process all audio files in your input directory\n",
    "separate()"
   ]
  }
 ],
 "metadata": {
  "kernelspec": {
   "display_name": "audio_env",
   "language": "python",
   "name": "python3"
  },
  "language_info": {
   "codemirror_mode": {
    "name": "ipython",
    "version": 3
   },
   "file_extension": ".py",
   "mimetype": "text/x-python",
   "name": "python",
   "nbconvert_exporter": "python",
   "pygments_lexer": "ipython3",
   "version": "3.10.16"
  }
 },
 "nbformat": 4,
 "nbformat_minor": 2
}
