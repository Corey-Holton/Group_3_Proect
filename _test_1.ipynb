{
 "cells": [
  {
   "cell_type": "code",
   "execution_count": 1,
   "metadata": {},
   "outputs": [
    {
     "name": "stderr",
     "output_type": "stream",
     "text": [
      "c:\\Users\\chris\\anaconda3\\envs\\audio_app\\lib\\site-packages\\tqdm\\auto.py:21: TqdmWarning: IProgress not found. Please update jupyter and ipywidgets. See https://ipywidgets.readthedocs.io/en/stable/user_install.html\n",
      "  from .autonotebook import tqdm as notebook_tqdm\n",
      "WARNING:root:Coremltools is not installed. If you plan to use a CoreML Saved Model, reinstall basic-pitch with `pip install 'basic-pitch[coreml]'`\n",
      "WARNING:root:tflite-runtime is not installed. If you plan to use a TFLite Model, reinstall basic-pitch with `pip install 'basic-pitch tflite-runtime'` or `pip install 'basic-pitch[tf]'\n",
      "WARNING:root:Tensorflow is not installed. If you plan to use a TF Saved Model, reinstall basic-pitch with `pip install 'basic-pitch[tf]'`\n"
     ]
    }
   ],
   "source": [
    "import gradio as gr\n",
    "from pydub import AudioSegment\n",
    "from utilities import get_available_languages, process_audio_lyric_extraction, process_audio_lyric_translation"
   ]
  },
  {
   "cell_type": "code",
   "execution_count": 2,
   "metadata": {},
   "outputs": [
    {
     "name": "stdout",
     "output_type": "stream",
     "text": [
      "* Running on local URL:  http://127.0.0.1:7860\n",
      "\n",
      "To create a public link, set `share=True` in `launch()`.\n"
     ]
    },
    {
     "data": {
      "text/html": [
       "<div><iframe src=\"http://127.0.0.1:7860/\" width=\"100%\" height=\"500\" allow=\"autoplay; camera; microphone; clipboard-read; clipboard-write;\" frameborder=\"0\" allowfullscreen></iframe></div>"
      ],
      "text/plain": [
       "<IPython.core.display.HTML object>"
      ]
     },
     "metadata": {},
     "output_type": "display_data"
    },
    {
     "data": {
      "text/plain": []
     },
     "execution_count": 2,
     "metadata": {},
     "output_type": "execute_result"
    }
   ],
   "source": [
    "# ════════════════════════════════════════════════════════════\n",
    "# Function to Fuse Bass, Drums, and Other Stems\n",
    "# ════════════════════════════════════════════════════════════\n",
    "def fuse_audio_stems(bass_file, drums_file, other_file, output_format=\"mp3\"):\n",
    "    \"\"\"\n",
    "    Fuse the bass, drums, and other stems into one audio file without vocals.\n",
    "    \n",
    "    Args:\n",
    "        bass_file (str): Path to the bass stem audio file.\n",
    "        drums_file (str): Path to the drums stem audio file.\n",
    "        other_file (str): Path to the other stem audio file.\n",
    "        output_format (str): Desired output format, e.g., 'mp3' or 'wav'.\n",
    "\n",
    "    Returns:\n",
    "        str: Path to the fused audio file.\n",
    "    \"\"\"\n",
    "    if not bass_file or not drums_file or not other_file:\n",
    "        return None\n",
    "\n",
    "    # Load the audio stems\n",
    "    bass = AudioSegment.from_file(bass_file)\n",
    "    drums = AudioSegment.from_file(drums_file)\n",
    "    other = AudioSegment.from_file(other_file)\n",
    "\n",
    "    # Fuse the audio stems by overlaying them\n",
    "    fused_audio = bass.overlay(drums).overlay(other)\n",
    "\n",
    "    # Export the fused audio to a temporary file\n",
    "    output_path = f\"fused_audio.{output_format}\"\n",
    "    fused_audio.export(output_path, format=output_format)\n",
    "\n",
    "    return output_path\n",
    "\n",
    "# ════════════════════════════════════════════════════════════\n",
    "# Update Gradio Interface for Lyric Extraction and Stem Fusion\n",
    "# ════════════════════════════════════════════════════════════\n",
    "def create_lyrics_interface():\n",
    "    with gr.Blocks() as interface:\n",
    "        with gr.Row():\n",
    "            with gr.Column(scale=1):\n",
    "                gr.Markdown(\"### Audio Input\")\n",
    "                audio_input = gr.Audio(type=\"filepath\", label=\"Upload Audio File\", sources=\"upload\")\n",
    "                extract_button = gr.Button(\"Extract Lyrics\")\n",
    "\n",
    "            with gr.Column(scale=1):\n",
    "                gr.Markdown(\"### Lyrics Output\")\n",
    "                lyrics_output = gr.Textbox(label=\"Lyrics\")\n",
    "\n",
    "                gr.Markdown(\"### Translate Lyrics\")\n",
    "                language_code = gr.Dropdown(choices=get_available_languages(), label=\"Language\", interactive=True)\n",
    "                translated_output = gr.Textbox(label=\"Translated Lyrics\")\n",
    "                translate_button = gr.Button(\"Translate\")\n",
    "\n",
    "        # New Row for Fusing Audio Stems\n",
    "        with gr.Row():\n",
    "            with gr.Column(scale=1):\n",
    "                gr.Markdown(\"### Fuse Bass, Drums, and Other Stems\")\n",
    "                bass_input = gr.Audio(type=\"filepath\", label=\"Bass Stem\", sources=\"upload\")\n",
    "                drums_input = gr.Audio(type=\"filepath\", label=\"Drums Stem\", sources=\"upload\")\n",
    "                other_input = gr.Audio(type=\"filepath\", label=\"Other Stem\", sources=\"upload\")\n",
    "                fuse_button = gr.Button(\"Fuse Stems\")\n",
    "\n",
    "            with gr.Column(scale=1):\n",
    "                gr.Markdown(\"### Fused Output\")\n",
    "                fused_output = gr.Audio(label=\"Fused Audio\")\n",
    "\n",
    "        # Link buttons to functions\n",
    "        extract_button.click(\n",
    "            process_audio_lyric_extraction,\n",
    "            inputs=[audio_input],\n",
    "            outputs=[lyrics_output],\n",
    "        )\n",
    "\n",
    "        translate_button.click(\n",
    "            process_audio_lyric_translation,\n",
    "            inputs=[lyrics_output, language_code],\n",
    "            outputs=[translated_output],\n",
    "        )\n",
    "\n",
    "        fuse_button.click(\n",
    "            fuse_audio_stems,\n",
    "            inputs=[bass_input, drums_input, other_input],\n",
    "            outputs=[fused_output],\n",
    "        )\n",
    "\n",
    "    return interface\n",
    "\n",
    "# Render the Gradio interface\n",
    "interface = create_lyrics_interface()\n",
    "\n",
    "# Launch the Gradio interface\n",
    "interface.launch()\n"
   ]
  },
  {
   "cell_type": "code",
   "execution_count": 5,
   "metadata": {},
   "outputs": [],
   "source": [
    "\n",
    "from mido import MidiFile"
   ]
  },
  {
   "cell_type": "code",
   "execution_count": null,
   "metadata": {},
   "outputs": [],
   "source": []
  }
 ],
 "metadata": {
  "kernelspec": {
   "display_name": "audio_app",
   "language": "python",
   "name": "python3"
  },
  "language_info": {
   "codemirror_mode": {
    "name": "ipython",
    "version": 3
   },
   "file_extension": ".py",
   "mimetype": "text/x-python",
   "name": "python",
   "nbconvert_exporter": "python",
   "pygments_lexer": "ipython3",
   "version": "3.10.16"
  }
 },
 "nbformat": 4,
 "nbformat_minor": 2
}
