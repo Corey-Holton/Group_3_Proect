{
  "nbformat": 4,
  "nbformat_minor": 0,
  "metadata": {
    "colab": {
      "provenance": [],
      "authorship_tag": "ABX9TyOfuMbSNfpEao7Fq/+YOW0K",
      "include_colab_link": true
    },
    "kernelspec": {
      "name": "python3",
      "display_name": "Python 3"
    },
    "language_info": {
      "name": "python"
    }
  },
  "cells": [
    {
      "cell_type": "markdown",
      "metadata": {
        "id": "view-in-github",
        "colab_type": "text"
      },
      "source": [
        "<a href=\"https://colab.research.google.com/github/Corey-Holton/Group_3_Project/blob/main/Approach_v4_Simple.ipynb\" target=\"_parent\"><img src=\"https://colab.research.google.com/assets/colab-badge.svg\" alt=\"Open In Colab\"/></a>"
      ]
    },
    {
      "cell_type": "code",
      "execution_count": 1,
      "metadata": {
        "colab": {
          "base_uri": "https://localhost:8080/"
        },
        "id": "zu9AFtURu4vQ",
        "outputId": "f9162bfc-2695-4e38-a325-265e81418ceb"
      },
      "outputs": [
        {
          "output_type": "stream",
          "name": "stdout",
          "text": [
            "Requirement already satisfied: mido in /usr/local/lib/python3.10/dist-packages (1.3.3)\n",
            "Requirement already satisfied: pretty_midi in /usr/local/lib/python3.10/dist-packages (0.2.10)\n",
            "Requirement already satisfied: packaging in /usr/local/lib/python3.10/dist-packages (from mido) (24.2)\n",
            "Requirement already satisfied: numpy>=1.7.0 in /usr/local/lib/python3.10/dist-packages (from pretty_midi) (1.26.4)\n",
            "Requirement already satisfied: six in /usr/local/lib/python3.10/dist-packages (from pretty_midi) (1.17.0)\n"
          ]
        }
      ],
      "source": [
        "!pip install mido pretty_midi"
      ]
    },
    {
      "cell_type": "code",
      "source": [
        "import pretty_midi\n",
        "import os"
      ],
      "metadata": {
        "id": "SlN5oZTQvHxS"
      },
      "execution_count": 2,
      "outputs": []
    },
    {
      "cell_type": "code",
      "source": [
        "# Moount Google Drive\n",
        "from google.colab import drive\n",
        "drive.mount('/content/drive')"
      ],
      "metadata": {
        "colab": {
          "base_uri": "https://localhost:8080/"
        },
        "id": "xBHXsoSfykxs",
        "outputId": "5bb93661-4ff0-4472-9fb3-46e5f1115b61"
      },
      "execution_count": 3,
      "outputs": [
        {
          "output_type": "stream",
          "name": "stdout",
          "text": [
            "Drive already mounted at /content/drive; to attempt to forcibly remount, call drive.mount(\"/content/drive\", force_remount=True).\n"
          ]
        }
      ]
    },
    {
      "cell_type": "code",
      "source": [
        "# Define the input directory\n",
        "input_midi_dir = '/content/drive/MyDrive/MIDI_Dataset/Single_File_Pop'\n",
        "\n"
      ],
      "metadata": {
        "id": "_IcQe6lrvK3Y"
      },
      "execution_count": 4,
      "outputs": []
    },
    {
      "cell_type": "code",
      "source": [
        "# Choose a specific MIDI file from the directory - replace 'your_midi_file.mid' with the actual file name\n",
        "input_midi_file = os.path.join(input_midi_dir, 'ABBA_-_Dancing_Queen(single_edition).mid')"
      ],
      "metadata": {
        "id": "z8XXnCkOvN3L"
      },
      "execution_count": 5,
      "outputs": []
    },
    {
      "cell_type": "code",
      "source": [
        "midi_data = pretty_midi.PrettyMIDI(input_midi_file)"
      ],
      "metadata": {
        "id": "quFxhh4UvQLr"
      },
      "execution_count": 6,
      "outputs": []
    },
    {
      "cell_type": "code",
      "source": [
        "# Define a dictionary mapping instrument names to program numbers\n",
        "instrument_map = {\n",
        "    'Acoustic Grand Piano': 1,\n",
        "    'Electric Grand Piano': 25,\n",
        "    'Acoustic Guitar (nylon)': 26,\n",
        "    'Acoustic Guitar (steel)': 27,\n",
        "    'Electric Guitar (jazz)': 28,\n",
        "\n",
        "}\n",
        "\n",
        "# Prompt user to select an instrument\n",
        "print(\"Available instruments:\")\n",
        "for instrument, program in instrument_map.items():\n",
        "  print(f\"{instrument} (Program number: {program})\")\n",
        "\n",
        "selected_instrument = input(\"Please select an instrument: \")"
      ],
      "metadata": {
        "colab": {
          "base_uri": "https://localhost:8080/"
        },
        "id": "LOFRLLn22XAX",
        "outputId": "8940cb2d-d988-48a0-c6b6-1e940c3ac634"
      },
      "execution_count": 13,
      "outputs": [
        {
          "name": "stdout",
          "output_type": "stream",
          "text": [
            "Available instruments:\n",
            "Acoustic Grand Piano (Program number: 1)\n",
            "Electric Grand Piano (Program number: 25)\n",
            "Acoustic Guitar (nylon) (Program number: 26)\n",
            "Acoustic Guitar (steel) (Program number: 27)\n",
            "Electric Guitar (jazz) (Program number: 28)\n",
            "Please select an instrument: 28\n"
          ]
        }
      ]
    },
    {
      "cell_type": "code",
      "source": [
        "# Get the program number for the selected instrument\n",
        "new_instrument_program = instrument_map.get(selected_instrument)\n",
        "print(new_instrument_program)"
      ],
      "metadata": {
        "colab": {
          "base_uri": "https://localhost:8080/"
        },
        "id": "0J_PPsP63BCm",
        "outputId": "9b0606c6-def0-4af7-d48a-77d943d28235"
      },
      "execution_count": 14,
      "outputs": [
        {
          "output_type": "stream",
          "name": "stdout",
          "text": [
            "None\n"
          ]
        }
      ]
    },
    {
      "cell_type": "code",
      "source": [
        "# Define the desired instrument program number (e.g., 0 for Acoustic Grand Piano, 40 for Violin)\n",
        "new_instrument_program = 40  # Violin\n",
        "\n",
        "\n",
        "for instrument in midi_data.instruments:\n",
        "    instrument.program = new_instrument_program\n"
      ],
      "metadata": {
        "id": "iyyJDi2jy0XX"
      },
      "execution_count": 7,
      "outputs": []
    },
    {
      "cell_type": "code",
      "source": [
        "\n",
        "# Define the output directory (modify as needed)\n",
        "output_midi_dir = '/content/drive/MyDrive/MIDI_Dataset/Output_Files'\n",
        "\n",
        "# Create the output directory if it doesn't exist\n",
        "os.makedirs(output_midi_dir, exist_ok=True)\n"
      ],
      "metadata": {
        "id": "ljeBM8tRyC_h"
      },
      "execution_count": 15,
      "outputs": []
    },
    {
      "cell_type": "code",
      "source": [
        "# Define the output file name\n",
        "output_midi_file = os.path.join(output_midi_dir, 'output_midi_file.mid')\n",
        "\n",
        "# Write the modified MIDI data to the new file\n",
        "midi_data.write(output_midi_file)\n",
        "\n",
        "print(f\"Modified MIDI file saved to: {output_midi_file}\")"
      ],
      "metadata": {
        "colab": {
          "base_uri": "https://localhost:8080/"
        },
        "id": "Uu6hfeBuzPpK",
        "outputId": "446c6a70-6091-42e4-c9f7-bf9f78367b07"
      },
      "execution_count": 16,
      "outputs": [
        {
          "output_type": "stream",
          "name": "stdout",
          "text": [
            "Modified MIDI file saved to: /content/drive/MyDrive/MIDI_Dataset/Output_Files/output_midi_file.mid\n"
          ]
        }
      ]
    }
  ]
}