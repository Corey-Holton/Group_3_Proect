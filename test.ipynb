{
 "cells": [
  {
   "cell_type": "code",
   "execution_count": 26,
   "metadata": {},
   "outputs": [],
   "source": [
    "from pathlib import Path\n",
    "import pretty_midi\n",
    "import os \n",
    "\n",
    "from utilities import (execute_query, modify_midi)"
   ]
  },
  {
   "cell_type": "code",
   "execution_count": 27,
   "metadata": {},
   "outputs": [],
   "source": [
    "query = \"Make this song sound like a christmas styled song.\""
   ]
  },
  {
   "cell_type": "code",
   "execution_count": 28,
   "metadata": {},
   "outputs": [
    {
     "name": "stdout",
     "output_type": "stream",
     "text": [
      "{'instruments': {'0': 'Acoustic Grand Piano', '1': 'Celesta', '2': 'Synth Strings 1', '3': 'Glockenspiel'}, 'scale': 'C4_major', 'tempo': 120.0, 'transpose': 0, 'duration_factor': 1.0, 'swing': False, 'velocity_factor': 1.1, 'arpeggiate': False, 'harmony': True, 'humanize': True, 'volume_effect': {'value': 100, 'time': 2.0}}\n"
     ]
    }
   ],
   "source": [
    "response = execute_query(query)\n",
    "\n",
    "print(response)"
   ]
  },
  {
   "cell_type": "code",
   "execution_count": 29,
   "metadata": {},
   "outputs": [
    {
     "name": "stdout",
     "output_type": "stream",
     "text": [
      "{'arpeggiate': False,\n",
      " 'duration_factor': 1.0,\n",
      " 'harmony': True,\n",
      " 'humanize': True,\n",
      " 'instruments': {'0': 'Acoustic Grand Piano',\n",
      "                 '1': 'Celesta',\n",
      "                 '2': 'Synth Strings 1',\n",
      "                 '3': 'Glockenspiel'},\n",
      " 'scale': 'C4_major',\n",
      " 'swing': False,\n",
      " 'tempo': 120.0,\n",
      " 'transpose': 0,\n",
      " 'velocity_factor': 1.1,\n",
      " 'volume_effect': {'time': 2.0, 'value': 100}}\n"
     ]
    }
   ],
   "source": [
    "from pprint import pprint\n",
    "\n",
    "pprint(response)"
   ]
  },
  {
   "cell_type": "code",
   "execution_count": 30,
   "metadata": {},
   "outputs": [],
   "source": [
    "midi_file = Path('./audio_processing/output_midi/input_5/other_basic_pitch.mid')\n",
    "\n",
    "# Confirm file exists\n",
    "if not midi_file.exists():\n",
    "    print(f\"File {midi_file} does not exist\")\n",
    "    exit()\n",
    "    \n",
    "input_midi_file = os.path.abspath(midi_file)\n",
    "midi_data = pretty_midi.PrettyMIDI(input_midi_file)\n",
    "\n",
    "response['instruments'] = {int(k): v for k, v in response['instruments'].items()}\n",
    "\n",
    "modify_midi(\n",
    "    input_midi_file=midi_data,\n",
    "    output_midi_file=\"output.mid\",\n",
    "    **response\n",
    ")"
   ]
  },
  {
   "cell_type": "code",
   "execution_count": null,
   "metadata": {},
   "outputs": [],
   "source": []
  }
 ],
 "metadata": {
  "kernelspec": {
   "display_name": "audio_env",
   "language": "python",
   "name": "python3"
  },
  "language_info": {
   "codemirror_mode": {
    "name": "ipython",
    "version": 3
   },
   "file_extension": ".py",
   "mimetype": "text/x-python",
   "name": "python",
   "nbconvert_exporter": "python",
   "pygments_lexer": "ipython3",
   "version": "3.10.16"
  }
 },
 "nbformat": 4,
 "nbformat_minor": 2
}
